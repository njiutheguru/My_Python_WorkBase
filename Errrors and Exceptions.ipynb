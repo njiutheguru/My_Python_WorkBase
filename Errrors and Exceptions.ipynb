{
 "cells": [
  {
   "cell_type": "code",
   "execution_count": 1,
   "id": "a5f1be76",
   "metadata": {},
   "outputs": [],
   "source": [
    "# Syntax  Errors"
   ]
  },
  {
   "cell_type": "code",
   "execution_count": 2,
   "id": "759730bb",
   "metadata": {},
   "outputs": [
    {
     "name": "stdout",
     "output_type": "stream",
     "text": [
      "hi\n"
     ]
    }
   ],
   "source": [
    "if 5>3:  # here a colon was missing at the end..\n",
    "    print(\"hi\")"
   ]
  },
  {
   "cell_type": "code",
   "execution_count": 3,
   "id": "b4b1f152",
   "metadata": {},
   "outputs": [],
   "source": [
    "# Logical errors or exceptions..."
   ]
  },
  {
   "cell_type": "code",
   "execution_count": 4,
   "id": "a0bcdfa0",
   "metadata": {},
   "outputs": [],
   "source": [
    "def divider(x,y):\n",
    "    return x/y"
   ]
  },
  {
   "cell_type": "code",
   "execution_count": 5,
   "id": "f0d32be1",
   "metadata": {},
   "outputs": [
    {
     "data": {
      "text/plain": [
       "6.8"
      ]
     },
     "execution_count": 5,
     "metadata": {},
     "output_type": "execute_result"
    }
   ],
   "source": [
    "divider(20.4,3) # works eror"
   ]
  },
  {
   "cell_type": "code",
   "execution_count": 6,
   "id": "007ea795",
   "metadata": {},
   "outputs": [
    {
     "ename": "ZeroDivisionError",
     "evalue": "division by zero",
     "output_type": "error",
     "traceback": [
      "\u001b[1;31m---------------------------------------------------------------------------\u001b[0m",
      "\u001b[1;31mZeroDivisionError\u001b[0m                         Traceback (most recent call last)",
      "Cell \u001b[1;32mIn[6], line 1\u001b[0m\n\u001b[1;32m----> 1\u001b[0m \u001b[43mdivider\u001b[49m\u001b[43m(\u001b[49m\u001b[38;5;241;43m10\u001b[39;49m\u001b[43m,\u001b[49m\u001b[38;5;241;43m0\u001b[39;49m\u001b[43m)\u001b[49m\n",
      "Cell \u001b[1;32mIn[4], line 2\u001b[0m, in \u001b[0;36mdivider\u001b[1;34m(x, y)\u001b[0m\n\u001b[0;32m      1\u001b[0m \u001b[38;5;28;01mdef\u001b[39;00m \u001b[38;5;21mdivider\u001b[39m(x,y):\n\u001b[1;32m----> 2\u001b[0m     \u001b[38;5;28;01mreturn\u001b[39;00m \u001b[43mx\u001b[49m\u001b[38;5;241;43m/\u001b[39;49m\u001b[43my\u001b[49m\n",
      "\u001b[1;31mZeroDivisionError\u001b[0m: division by zero"
     ]
    }
   ],
   "source": [
    "divider(10,0) # zero division error..."
   ]
  },
  {
   "cell_type": "code",
   "execution_count": null,
   "id": "84ff5ae0",
   "metadata": {},
   "outputs": [],
   "source": []
  },
  {
   "cell_type": "code",
   "execution_count": null,
   "id": "c29aa487",
   "metadata": {},
   "outputs": [],
   "source": [
    "divider(20,'3') # \"3 is a string \""
   ]
  },
  {
   "cell_type": "code",
   "execution_count": null,
   "id": "33923625",
   "metadata": {},
   "outputs": [],
   "source": [
    " my_list=[2,4,55,66,77,44]"
   ]
  },
  {
   "cell_type": "code",
   "execution_count": null,
   "id": "807f6a39",
   "metadata": {},
   "outputs": [],
   "source": [
    "my_list[6] # unfound index"
   ]
  },
  {
   "cell_type": "code",
   "execution_count": null,
   "id": "358a05bc",
   "metadata": {},
   "outputs": [],
   "source": [
    "try:\n",
    "    result=divider(10,'2')\n",
    "except ZeroDivisionError:\n",
    "    print(\" You can't divide by a zero\")\n",
    "    \n",
    "except:\n",
    "    print(\"Are you sure you are inputting two numbers?\")\n",
    "    \n",
    "else:\n",
    "    print(\"Everything run smoothly...\")\n",
    "    print (round(result,2))\n",
    "    \n",
    "finally:\n",
    "    print(\"I always run!\")\n",
    "    \n"
   ]
  },
  {
   "cell_type": "code",
   "execution_count": null,
   "id": "0286683f",
   "metadata": {},
   "outputs": [],
   "source": [
    "def enter_a_number():\n",
    "    while True:\n",
    "        try:\n",
    "            num=int(input(\"Enter a number: \"))\n",
    "            \n",
    "        except:\n",
    "            print(\"That is not a number. Try Again..\")\n",
    "            continue\n",
    "        else:\n",
    "            print(\"Good choice!\")\n",
    "            break\n",
    "    return num"
   ]
  },
  {
   "cell_type": "code",
   "execution_count": null,
   "id": "28247a27",
   "metadata": {},
   "outputs": [],
   "source": [
    "enter_a_number()"
   ]
  },
  {
   "cell_type": "code",
   "execution_count": null,
   "id": "55a4ca1e",
   "metadata": {},
   "outputs": [],
   "source": [
    "# User defined Exceptions...\n"
   ]
  },
  {
   "cell_type": "code",
   "execution_count": null,
   "id": "3d8a665f",
   "metadata": {},
   "outputs": [],
   "source": [
    "age='thirty'\n",
    "\n",
    "if not type(age) is int:\n",
    "    raise TypeError(\"Sorry, only integers are allowed!\")"
   ]
  },
  {
   "cell_type": "code",
   "execution_count": null,
   "id": "60c04709",
   "metadata": {},
   "outputs": [],
   "source": [
    "def play_again():\n",
    "    replay=input(\"Do you want to play again?: \")\n",
    "    \n",
    "    if replay.lower() not in ['yes','no']:\n",
    "        raise ValueError('Enter yes or no only!')"
   ]
  },
  {
   "cell_type": "code",
   "execution_count": null,
   "id": "d943935a",
   "metadata": {},
   "outputs": [],
   "source": [
    "play_again()"
   ]
  },
  {
   "cell_type": "code",
   "execution_count": null,
   "id": "2abac7c3",
   "metadata": {},
   "outputs": [],
   "source": [
    "play_again()"
   ]
  },
  {
   "cell_type": "code",
   "execution_count": null,
   "id": "4e8bf853",
   "metadata": {},
   "outputs": [],
   "source": [
    "while True:\n",
    "    \n",
    "    try:\n",
    "        play_again()\n",
    "    except ValueError:\n",
    "        print(\"You should only enter yes or no in the input box, pleasae try again..\")\n",
    "        continue\n",
    "        \n",
    "    else:\n",
    "        print(\"Successfully completed the operation!\")\n",
    "        break"
   ]
  },
  {
   "cell_type": "code",
   "execution_count": null,
   "id": "563a8b0b",
   "metadata": {},
   "outputs": [],
   "source": [
    "# ValueError and TypeError are built-in exceptions"
   ]
  },
  {
   "cell_type": "code",
   "execution_count": null,
   "id": "df0d5b6f",
   "metadata": {},
   "outputs": [],
   "source": [
    "# built-in exceptions...\n"
   ]
  },
  {
   "cell_type": "code",
   "execution_count": 9,
   "id": "b98d1b18",
   "metadata": {},
   "outputs": [],
   "source": [
    "class UserDefinedException(Exception): # inheriting from the exception built_in class\n",
    "    \n",
    "    def __init__(self,message):\n",
    "        self.message=message\n",
    "        "
   ]
  },
  {
   "cell_type": "code",
   "execution_count": 10,
   "id": "41268044",
   "metadata": {},
   "outputs": [
    {
     "name": "stdout",
     "output_type": "stream",
     "text": [
      "YOur marks are: 35\n"
     ]
    },
    {
     "ename": "UserDefinedException",
     "evalue": "You didn't get enough marks!",
     "output_type": "error",
     "traceback": [
      "\u001b[1;31m---------------------------------------------------------------------------\u001b[0m",
      "\u001b[1;31mUserDefinedException\u001b[0m                      Traceback (most recent call last)",
      "Cell \u001b[1;32mIn[10], line 5\u001b[0m\n\u001b[0;32m      2\u001b[0m \u001b[38;5;28mprint\u001b[39m(\u001b[38;5;124m\"\u001b[39m\u001b[38;5;124mYOur marks are: \u001b[39m\u001b[38;5;124m\"\u001b[39m\u001b[38;5;241m+\u001b[39m \u001b[38;5;28mstr\u001b[39m(marks))\n\u001b[0;32m      4\u001b[0m \u001b[38;5;28;01mif\u001b[39;00m marks\u001b[38;5;241m<\u001b[39m\u001b[38;5;241m36\u001b[39m:\n\u001b[1;32m----> 5\u001b[0m     \u001b[38;5;28;01mraise\u001b[39;00m UserDefinedException(\u001b[38;5;124m\"\u001b[39m\u001b[38;5;124mYou didn\u001b[39m\u001b[38;5;124m'\u001b[39m\u001b[38;5;124mt get enough marks!\u001b[39m\u001b[38;5;124m\"\u001b[39m)\n",
      "\u001b[1;31mUserDefinedException\u001b[0m: You didn't get enough marks!"
     ]
    }
   ],
   "source": [
    "marks=35\n",
    "print(\"YOur marks are: \"+ str(marks))\n",
    "\n",
    "if marks<36:\n",
    "    raise UserDefinedException(\"You didn't get enough marks!\")"
   ]
  },
  {
   "cell_type": "code",
   "execution_count": 15,
   "id": "fba55455",
   "metadata": {},
   "outputs": [
    {
     "name": "stdout",
     "output_type": "stream",
     "text": [
      "How many marks did you get?:50\n",
      "You scored 50marks\n",
      "congratulations! You passed the exam\n"
     ]
    }
   ],
   "source": [
    "try:\n",
    "    marks=int(input(\"How many marks did you get?:\"))\n",
    "    print(\"You scored \"+ str(marks)+ \"marks\")\n",
    "    \n",
    "    if marks < 36:\n",
    "        raise UserDefinedException(\"You didn't get enough marks!\")\n",
    "        \n",
    "except UserDefinedException as err:\n",
    "    print(err.message)\n",
    "else:\n",
    "    print(\"congratulations! You passed the exam\")"
   ]
  },
  {
   "cell_type": "code",
   "execution_count": 17,
   "id": "15197c5d",
   "metadata": {},
   "outputs": [],
   "source": [
    "class ScoreChecker(Exception):\n",
    "    def __init__(self,score,message='You lost the game!'):\n",
    "        self.score=score\n",
    "        self.message=message\n",
    "    \n",
    "    def __str__(self):\n",
    "        return \"You scored {}! {}\".format(self.score,self.message)"
   ]
  },
  {
   "cell_type": "code",
   "execution_count": 19,
   "id": "2a0140a2",
   "metadata": {},
   "outputs": [
    {
     "name": "stdout",
     "output_type": "stream",
     "text": [
      "Enter your score: 22\n"
     ]
    },
    {
     "ename": "ScoreChecker",
     "evalue": "You scored 22! You lost the game!",
     "output_type": "error",
     "traceback": [
      "\u001b[1;31m---------------------------------------------------------------------------\u001b[0m",
      "\u001b[1;31mScoreChecker\u001b[0m                              Traceback (most recent call last)",
      "Cell \u001b[1;32mIn[19], line 3\u001b[0m\n\u001b[0;32m      1\u001b[0m score\u001b[38;5;241m=\u001b[39m\u001b[38;5;28mint\u001b[39m(\u001b[38;5;28minput\u001b[39m(\u001b[38;5;124m\"\u001b[39m\u001b[38;5;124mEnter your score: \u001b[39m\u001b[38;5;124m\"\u001b[39m))\n\u001b[0;32m      2\u001b[0m \u001b[38;5;28;01mif\u001b[39;00m \u001b[38;5;129;01mnot\u001b[39;00m score \u001b[38;5;241m>\u001b[39m \u001b[38;5;241m36\u001b[39m:\n\u001b[1;32m----> 3\u001b[0m     \u001b[38;5;28;01mraise\u001b[39;00m ScoreChecker(score)\n",
      "\u001b[1;31mScoreChecker\u001b[0m: You scored 22! You lost the game!"
     ]
    }
   ],
   "source": [
    "score=int(input(\"Enter your score: \"))\n",
    "if not score > 36:\n",
    "    raise ScoreChecker(score)"
   ]
  },
  {
   "cell_type": "code",
   "execution_count": 20,
   "id": "8acf2fee",
   "metadata": {},
   "outputs": [],
   "source": [
    "# We are following the PEP 8 for python...\n",
    "# Introducing pylint..."
   ]
  },
  {
   "cell_type": "code",
   "execution_count": null,
   "id": "54643a33",
   "metadata": {},
   "outputs": [],
   "source": []
  }
 ],
 "metadata": {
  "kernelspec": {
   "display_name": "Python 3 (ipykernel)",
   "language": "python",
   "name": "python3"
  },
  "language_info": {
   "codemirror_mode": {
    "name": "ipython",
    "version": 3
   },
   "file_extension": ".py",
   "mimetype": "text/x-python",
   "name": "python",
   "nbconvert_exporter": "python",
   "pygments_lexer": "ipython3",
   "version": "3.10.9"
  }
 },
 "nbformat": 4,
 "nbformat_minor": 5
}

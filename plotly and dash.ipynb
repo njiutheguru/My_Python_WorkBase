{
 "cells": [
  {
   "cell_type": "markdown",
   "id": "2b4333b0",
   "metadata": {},
   "source": [
    "Dash is formed of a few key packages:\n",
    "1. Dash\n",
    "2. Dash Core components\n",
    "3. Dash HTML Components\n",
    "4. Dash Bootstrap Components\n"
   ]
  },
  {
   "cell_type": "code",
   "execution_count": 1,
   "id": "c6611e92",
   "metadata": {},
   "outputs": [
    {
     "name": "stdout",
     "output_type": "stream",
     "text": [
      "Defaulting to user installation because normal site-packages is not writeable\n"
     ]
    },
    {
     "name": "stderr",
     "output_type": "stream",
     "text": [
      "WARNING: Retrying (Retry(total=4, connect=None, read=None, redirect=None, status=None)) after connection broken by 'NewConnectionError('<pip._vendor.urllib3.connection.HTTPSConnection object at 0x00000238BF096110>: Failed to establish a new connection: [Errno 11001] getaddrinfo failed')': /simple/dash/\n",
      "WARNING: Retrying (Retry(total=3, connect=None, read=None, redirect=None, status=None)) after connection broken by 'NewConnectionError('<pip._vendor.urllib3.connection.HTTPSConnection object at 0x00000238BF096410>: Failed to establish a new connection: [Errno 11001] getaddrinfo failed')': /simple/dash/\n",
      "WARNING: Retrying (Retry(total=2, connect=None, read=None, redirect=None, status=None)) after connection broken by 'NewConnectionError('<pip._vendor.urllib3.connection.HTTPSConnection object at 0x00000238BF0965C0>: Failed to establish a new connection: [Errno 11001] getaddrinfo failed')': /simple/dash/\n",
      "WARNING: Retrying (Retry(total=1, connect=None, read=None, redirect=None, status=None)) after connection broken by 'NewConnectionError('<pip._vendor.urllib3.connection.HTTPSConnection object at 0x00000238BF096770>: Failed to establish a new connection: [Errno 11001] getaddrinfo failed')': /simple/dash/\n",
      "WARNING: Retrying (Retry(total=0, connect=None, read=None, redirect=None, status=None)) after connection broken by 'NewConnectionError('<pip._vendor.urllib3.connection.HTTPSConnection object at 0x00000238BF096920>: Failed to establish a new connection: [Errno 11001] getaddrinfo failed')': /simple/dash/\n",
      "ERROR: Could not find a version that satisfies the requirement dash (from versions: none)\n",
      "ERROR: No matching distribution found for dash\n"
     ]
    }
   ],
   "source": [
    "#! pip  install dash"
   ]
  },
  {
   "cell_type": "code",
   "execution_count": 2,
   "id": "7ce94e8b",
   "metadata": {},
   "outputs": [],
   "source": [
    "#Dash Skeleton Structure"
   ]
  },
  {
   "cell_type": "code",
   "execution_count": 3,
   "id": "ee04f482",
   "metadata": {},
   "outputs": [
    {
     "ename": "ModuleNotFoundError",
     "evalue": "No module named 'dash'",
     "output_type": "error",
     "traceback": [
      "\u001b[1;31m---------------------------------------------------------------------------\u001b[0m",
      "\u001b[1;31mModuleNotFoundError\u001b[0m                       Traceback (most recent call last)",
      "Cell \u001b[1;32mIn[3], line 1\u001b[0m\n\u001b[1;32m----> 1\u001b[0m \u001b[38;5;28;01mimport\u001b[39;00m \u001b[38;5;21;01mdash\u001b[39;00m\n\u001b[0;32m      2\u001b[0m \u001b[38;5;28;01mimport\u001b[39;00m \u001b[38;5;21;01mdash_html_components\u001b[39;00m \u001b[38;5;28;01mas\u001b[39;00m \u001b[38;5;21;01mhtml\u001b[39;00m\n\u001b[0;32m      3\u001b[0m \u001b[38;5;28;01mimport\u001b[39;00m \u001b[38;5;21;01mdash_core_components\u001b[39;00m \u001b[38;5;28;01mas\u001b[39;00m \u001b[38;5;21;01mdcc\u001b[39;00m\n",
      "\u001b[1;31mModuleNotFoundError\u001b[0m: No module named 'dash'"
     ]
    }
   ],
   "source": [
    "import dash\n",
    "import dash_html_components as html\n",
    "import dash_core_components as dcc"
   ]
  },
  {
   "cell_type": "code",
   "execution_count": null,
   "id": "d582428f",
   "metadata": {},
   "outputs": [],
   "source": []
  }
 ],
 "metadata": {
  "kernelspec": {
   "display_name": "Python 3 (ipykernel)",
   "language": "python",
   "name": "python3"
  },
  "language_info": {
   "codemirror_mode": {
    "name": "ipython",
    "version": 3
   },
   "file_extension": ".py",
   "mimetype": "text/x-python",
   "name": "python",
   "nbconvert_exporter": "python",
   "pygments_lexer": "ipython3",
   "version": "3.10.9"
  }
 },
 "nbformat": 4,
 "nbformat_minor": 5
}

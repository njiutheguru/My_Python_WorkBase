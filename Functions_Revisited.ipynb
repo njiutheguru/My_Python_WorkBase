{
 "cells": [
  {
   "cell_type": "code",
   "execution_count": 1,
   "id": "d1c79da0",
   "metadata": {},
   "outputs": [],
   "source": [
    "# Introduction to Functions.."
   ]
  },
  {
   "cell_type": "code",
   "execution_count": 49,
   "id": "b6a2c7bd",
   "metadata": {},
   "outputs": [],
   "source": [
    "#defining a function...\n",
    "def welcome(first_name):\n",
    "    '''This function will welcome the user ans asks them how they are doing'''\n",
    "    # Must include a function implementation or the pass keyword must be included\n",
    "    print(\"Hello {} and welcome. How are you?\".format(first_name))\n",
    "  "
   ]
  },
  {
   "cell_type": "code",
   "execution_count": 50,
   "id": "2438f774",
   "metadata": {},
   "outputs": [
    {
     "data": {
      "text/plain": [
       "function"
      ]
     },
     "execution_count": 50,
     "metadata": {},
     "output_type": "execute_result"
    }
   ],
   "source": [
    "type(welcome)"
   ]
  },
  {
   "cell_type": "code",
   "execution_count": 51,
   "id": "a8147dcb",
   "metadata": {},
   "outputs": [],
   "source": [
    "# The function definition must be present before trying to call the respective functions for implementation"
   ]
  },
  {
   "cell_type": "code",
   "execution_count": 52,
   "id": "c7b53755",
   "metadata": {},
   "outputs": [
    {
     "name": "stdout",
     "output_type": "stream",
     "text": [
      "This function will welcome the user ans asks them how they are doing\n"
     ]
    }
   ],
   "source": [
    "#docstring for function documentation\n",
    "print(welcome.__doc__)"
   ]
  },
  {
   "cell_type": "code",
   "execution_count": 53,
   "id": "83dc06f2",
   "metadata": {},
   "outputs": [],
   "source": [
    "#documentation of []"
   ]
  },
  {
   "cell_type": "code",
   "execution_count": 54,
   "id": "87b30d2c",
   "metadata": {},
   "outputs": [
    {
     "name": "stdout",
     "output_type": "stream",
     "text": [
      "Built-in mutable sequence.\n",
      "\n",
      "If no argument is given, the constructor creates a new empty list.\n",
      "The argument must be an iterable if specified.\n"
     ]
    }
   ],
   "source": [
    "print([].__doc__)"
   ]
  },
  {
   "cell_type": "code",
   "execution_count": 55,
   "id": "7602708f",
   "metadata": {},
   "outputs": [
    {
     "name": "stdout",
     "output_type": "stream",
     "text": [
      "77745\n"
     ]
    }
   ],
   "source": [
    "number=54777;\n",
    "number1=str(number)\n",
    "num=number1[::-1] #uses negative indexing\n",
    "print(num)\n"
   ]
  },
  {
   "cell_type": "code",
   "execution_count": 56,
   "id": "7795e173",
   "metadata": {},
   "outputs": [
    {
     "data": {
      "text/plain": [
       "int"
      ]
     },
     "execution_count": 56,
     "metadata": {},
     "output_type": "execute_result"
    }
   ],
   "source": [
    "type(number)"
   ]
  },
  {
   "cell_type": "code",
   "execution_count": 57,
   "id": "a1e17e8c",
   "metadata": {},
   "outputs": [
    {
     "name": "stdout",
     "output_type": "stream",
     "text": [
      "elgooG\n"
     ]
    }
   ],
   "source": [
    "#reverse the word google\n",
    "name='Google'\n",
    "print(name[::-1])"
   ]
  },
  {
   "cell_type": "code",
   "execution_count": 59,
   "id": "2731e571",
   "metadata": {},
   "outputs": [
    {
     "name": "stdout",
     "output_type": "stream",
     "text": [
      "Hello first_name and welcome. How are you?\n"
     ]
    }
   ],
   "source": [
    "# Parameters and Arguments..\n",
    "welcome('first_name')"
   ]
  },
  {
   "cell_type": "code",
   "execution_count": 71,
   "id": "5d12d0a0",
   "metadata": {},
   "outputs": [],
   "source": [
    "def welcomee(first,second):\n",
    "    print(\"Hello {} {}. How are you doing?\".format(first,second))"
   ]
  },
  {
   "cell_type": "code",
   "execution_count": 72,
   "id": "992a3a3e",
   "metadata": {},
   "outputs": [
    {
     "name": "stdout",
     "output_type": "stream",
     "text": [
      "Hello Ann Njeri. How are you doing?\n"
     ]
    }
   ],
   "source": [
    "welcomee('Ann','Njeri')"
   ]
  },
  {
   "cell_type": "code",
   "execution_count": 77,
   "id": "44e4399b",
   "metadata": {},
   "outputs": [
    {
     "name": "stdout",
     "output_type": "stream",
     "text": [
      "Hello Njiu Stephen. How are you doing?\n"
     ]
    }
   ],
   "source": [
    "welcomee(second=\"Stephen\",first='Njiu')# No need \n",
    "#need to be defined in the order to be called"
   ]
  },
  {
   "cell_type": "code",
   "execution_count": null,
   "id": "63b8071f",
   "metadata": {},
   "outputs": [],
   "source": [
    "welcome(first_name )"
   ]
  },
  {
   "cell_type": "code",
   "execution_count": 79,
   "id": "f4ac0df2",
   "metadata": {},
   "outputs": [
    {
     "name": "stdout",
     "output_type": "stream",
     "text": [
      "Hello dean Taylor. How are you doing?\n"
     ]
    }
   ],
   "source": [
    "welcomee('dean',second='Taylor')"
   ]
  },
  {
   "cell_type": "code",
   "execution_count": 85,
   "id": "0e49b92a",
   "metadata": {},
   "outputs": [],
   "source": [
    "# Introducing Args and Kwargs\n",
    "def game_players(*names):\n",
    "    for name in names:\n",
    "        print(\"hello \" +name)"
   ]
  },
  {
   "cell_type": "code",
   "execution_count": 88,
   "id": "9a60f3d0",
   "metadata": {},
   "outputs": [
    {
     "name": "stdout",
     "output_type": "stream",
     "text": [
      "hello sally\n",
      "hello james\n",
      "hello kamau\n",
      "hello wanjiru\n"
     ]
    }
   ],
   "source": [
    "game_players(\"sally\",\"james\",'kamau','wanjiru')"
   ]
  },
  {
   "cell_type": "code",
   "execution_count": 1,
   "id": "e13e1d54",
   "metadata": {},
   "outputs": [],
   "source": [
    "def addMachines(*machine):\n",
    "    total=0\n",
    "    for name in machine:\n",
    "        total+=name\n",
    "    return total"
   ]
  },
  {
   "cell_type": "code",
   "execution_count": 2,
   "id": "7ad007a7",
   "metadata": {},
   "outputs": [
    {
     "data": {
      "text/plain": [
       "36"
      ]
     },
     "execution_count": 2,
     "metadata": {},
     "output_type": "execute_result"
    }
   ],
   "source": [
    "addMachines(2,4,6,7,8,9)"
   ]
  },
  {
   "cell_type": "code",
   "execution_count": 3,
   "id": "71e44564",
   "metadata": {},
   "outputs": [],
   "source": [
    "#using Kwargs\n"
   ]
  },
  {
   "cell_type": "code",
   "execution_count": 4,
   "id": "b14256bc",
   "metadata": {},
   "outputs": [],
   "source": [
    "def personal_info(**info):\n",
    "    print(type(info)) #Dictionary Type\n",
    "    \n",
    "    for key, value in info.items():\n",
    "        print(\"The key {} has a value {}\".format(key,value))"
   ]
  },
  {
   "cell_type": "code",
   "execution_count": 5,
   "id": "d0fddb69",
   "metadata": {},
   "outputs": [
    {
     "name": "stdout",
     "output_type": "stream",
     "text": [
      "<class 'dict'>\n",
      "The key first_name has a value Dominic\n",
      "The key last_name has a value Karanja\n",
      "The key age has a value 35\n",
      "The key hobby has a value Gym\n"
     ]
    }
   ],
   "source": [
    "personal_info(first_name='Dominic',last_name='Karanja',age=35,hobby='Gym')"
   ]
  },
  {
   "cell_type": "code",
   "execution_count": 6,
   "id": "cdefe4df",
   "metadata": {},
   "outputs": [
    {
     "name": "stdout",
     "output_type": "stream",
     "text": [
      "<class 'dict'>\n",
      "The key first_name has a value Dominic\n",
      "The key last_name has a value Karanja\n",
      "The key age has a value 35\n",
      "The key hobby has a value Gym\n",
      "The key email_address has a value dominickaranja@gmail.com\n",
      "The key fav_color has a value Pink\n"
     ]
    }
   ],
   "source": [
    "personal_info(first_name='Dominic',last_name='Karanja',age=35,hobby='Gym',email_address='dominickaranja@gmail.com',fav_color='Pink')"
   ]
  },
  {
   "cell_type": "code",
   "execution_count": 7,
   "id": "4e3cab51",
   "metadata": {},
   "outputs": [],
   "source": [
    "# Lambda functions =Higher Order Functions...(filters and maps)"
   ]
  },
  {
   "cell_type": "code",
   "execution_count": 8,
   "id": "155a2403",
   "metadata": {},
   "outputs": [],
   "source": [
    "# An anonymous function defined without a name"
   ]
  },
  {
   "cell_type": "code",
   "execution_count": 11,
   "id": "6aab675d",
   "metadata": {},
   "outputs": [],
   "source": [
    "double=lambda num: num * 2\n"
   ]
  },
  {
   "cell_type": "code",
   "execution_count": 12,
   "id": "be863f5a",
   "metadata": {},
   "outputs": [
    {
     "data": {
      "text/plain": [
       "66"
      ]
     },
     "execution_count": 12,
     "metadata": {},
     "output_type": "execute_result"
    }
   ],
   "source": [
    "double(33)"
   ]
  },
  {
   "cell_type": "code",
   "execution_count": 13,
   "id": "e9019b09",
   "metadata": {},
   "outputs": [],
   "source": [
    "product=lambda a,b: a*b"
   ]
  },
  {
   "cell_type": "code",
   "execution_count": 14,
   "id": "a4f387b3",
   "metadata": {},
   "outputs": [
    {
     "data": {
      "text/plain": [
       "1815"
      ]
     },
     "execution_count": 14,
     "metadata": {},
     "output_type": "execute_result"
    }
   ],
   "source": [
    "product(33,55)"
   ]
  },
  {
   "cell_type": "code",
   "execution_count": null,
   "id": "3346d633",
   "metadata": {},
   "outputs": [],
   "source": [
    "  \n",
    "\n"
   ]
  },
  {
   "cell_type": "code",
   "execution_count": 22,
   "id": "67e5c5cd",
   "metadata": {},
   "outputs": [],
   "source": [
    "# Filter() and map() functions in arguments"
   ]
  },
  {
   "cell_type": "code",
   "execution_count": 30,
   "id": "a5fa093a",
   "metadata": {},
   "outputs": [],
   "source": [
    "# filter(function, iterable)-- The syntax of the function"
   ]
  },
  {
   "cell_type": "code",
   "execution_count": 31,
   "id": "94670d05",
   "metadata": {},
   "outputs": [],
   "source": [
    "num_list=[1,2,3,4,5,6,7,8,9,10]"
   ]
  },
  {
   "cell_type": "code",
   "execution_count": 32,
   "id": "bbe75a99",
   "metadata": {},
   "outputs": [
    {
     "data": {
      "text/plain": [
       "<function __main__.<lambda>(num)>"
      ]
     },
     "execution_count": 32,
     "metadata": {},
     "output_type": "execute_result"
    }
   ],
   "source": [
    "lambda num: (num%2==0)"
   ]
  },
  {
   "cell_type": "code",
   "execution_count": 33,
   "id": "7f4e4964",
   "metadata": {},
   "outputs": [],
   "source": [
    "even_nums=list(filter(lambda num: (num%2==0),num_list))"
   ]
  },
  {
   "cell_type": "code",
   "execution_count": 34,
   "id": "17c68506",
   "metadata": {},
   "outputs": [
    {
     "data": {
      "text/plain": [
       "[2, 4, 6, 8, 10]"
      ]
     },
     "execution_count": 34,
     "metadata": {},
     "output_type": "execute_result"
    }
   ],
   "source": [
    "even_nums"
   ]
  },
  {
   "cell_type": "code",
   "execution_count": 35,
   "id": "532cbeae",
   "metadata": {},
   "outputs": [],
   "source": [
    "# The map function"
   ]
  },
  {
   "cell_type": "code",
   "execution_count": 38,
   "id": "c7f8b6d7",
   "metadata": {},
   "outputs": [],
   "source": [
    "odds_nums=list(range(1,16))"
   ]
  },
  {
   "cell_type": "code",
   "execution_count": 39,
   "id": "1b8319a8",
   "metadata": {},
   "outputs": [
    {
     "data": {
      "text/plain": [
       "[1, 2, 3, 4, 5, 6, 7, 8, 9, 10, 11, 12, 13, 14, 15]"
      ]
     },
     "execution_count": 39,
     "metadata": {},
     "output_type": "execute_result"
    }
   ],
   "source": [
    "odds_nums"
   ]
  },
  {
   "cell_type": "code",
   "execution_count": 40,
   "id": "f5339543",
   "metadata": {},
   "outputs": [],
   "source": [
    "odds_nums=list(filter(lambda num: (num%2 !=0),odds_nums))"
   ]
  },
  {
   "cell_type": "code",
   "execution_count": 41,
   "id": "c79d48d6",
   "metadata": {},
   "outputs": [
    {
     "data": {
      "text/plain": [
       "[1, 3, 5, 7, 9, 11, 13, 15]"
      ]
     },
     "execution_count": 41,
     "metadata": {},
     "output_type": "execute_result"
    }
   ],
   "source": [
    "odds_nums"
   ]
  },
  {
   "cell_type": "code",
   "execution_count": 43,
   "id": "d80ca463",
   "metadata": {},
   "outputs": [
    {
     "data": {
      "text/plain": [
       "<function __main__.<lambda>(num)>"
      ]
     },
     "execution_count": 43,
     "metadata": {},
     "output_type": "execute_result"
    }
   ],
   "source": [
    "lambda num: num*2\n",
    "    "
   ]
  },
  {
   "cell_type": "code",
   "execution_count": 45,
   "id": "1216ebb9",
   "metadata": {},
   "outputs": [
    {
     "data": {
      "text/plain": [
       "[2, 6, 10, 14, 18, 22, 26, 30]"
      ]
     },
     "execution_count": 45,
     "metadata": {},
     "output_type": "execute_result"
    }
   ],
   "source": [
    "list(map(lambda num: num*2,odds_nums))"
   ]
  },
  {
   "cell_type": "code",
   "execution_count": 46,
   "id": "80d57398",
   "metadata": {},
   "outputs": [],
   "source": [
    "# siimpler way"
   ]
  },
  {
   "cell_type": "code",
   "execution_count": 47,
   "id": "319dbc6b",
   "metadata": {},
   "outputs": [],
   "source": [
    "double=lambda num: num *2"
   ]
  },
  {
   "cell_type": "code",
   "execution_count": 50,
   "id": "5e26d209",
   "metadata": {},
   "outputs": [
    {
     "data": {
      "text/plain": [
       "[2, 6, 10, 14, 18, 22, 26, 30]"
      ]
     },
     "execution_count": 50,
     "metadata": {},
     "output_type": "execute_result"
    }
   ],
   "source": [
    "cl=list(map(double,odds_nums))\n",
    "cl"
   ]
  },
  {
   "cell_type": "code",
   "execution_count": 51,
   "id": "ea0debc2",
   "metadata": {},
   "outputs": [
    {
     "data": {
      "text/plain": [
       "[2, 6, 10, 14, 18, 22, 26, 30]"
      ]
     },
     "execution_count": 51,
     "metadata": {},
     "output_type": "execute_result"
    }
   ],
   "source": [
    "cl"
   ]
  },
  {
   "cell_type": "code",
   "execution_count": 52,
   "id": "2aee18e5",
   "metadata": {},
   "outputs": [],
   "source": [
    "# Scope and the LEGB rule"
   ]
  },
  {
   "cell_type": "code",
   "execution_count": 53,
   "id": "efe3b24c",
   "metadata": {},
   "outputs": [],
   "source": [
    "num=35\n"
   ]
  },
  {
   "cell_type": "code",
   "execution_count": 54,
   "id": "8ee9a25d",
   "metadata": {},
   "outputs": [],
   "source": [
    "def func():\n",
    "    num=100\n",
    "    return num"
   ]
  },
  {
   "cell_type": "code",
   "execution_count": 55,
   "id": "f18f6ecb",
   "metadata": {},
   "outputs": [
    {
     "data": {
      "text/plain": [
       "35"
      ]
     },
     "execution_count": 55,
     "metadata": {},
     "output_type": "execute_result"
    }
   ],
   "source": [
    "num"
   ]
  },
  {
   "cell_type": "code",
   "execution_count": 56,
   "id": "7ec63295",
   "metadata": {},
   "outputs": [
    {
     "data": {
      "text/plain": [
       "100"
      ]
     },
     "execution_count": 56,
     "metadata": {},
     "output_type": "execute_result"
    }
   ],
   "source": [
    "func()"
   ]
  },
  {
   "cell_type": "code",
   "execution_count": 57,
   "id": "f966486e",
   "metadata": {},
   "outputs": [],
   "source": [
    "# LEGB\n",
    "# L=LOCAL\n",
    "# E=ENCLOSING\n",
    "# G=GLOBAL\n",
    "# B=BUILT-IN"
   ]
  },
  {
   "cell_type": "code",
   "execution_count": 63,
   "id": "710f2ce3",
   "metadata": {},
   "outputs": [],
   "source": [
    "word='Global'\n",
    "\n",
    "def space():\n",
    "    #word='Enclosing'\n",
    "    \n",
    "    def nested_space():\n",
    "        #word='local'\n",
    "        print(\" I came from \" + word)\n",
    "    nested_space()"
   ]
  },
  {
   "cell_type": "code",
   "execution_count": 64,
   "id": "4909005b",
   "metadata": {},
   "outputs": [
    {
     "name": "stdout",
     "output_type": "stream",
     "text": [
      " I came from Global\n"
     ]
    }
   ],
   "source": [
    "space()"
   ]
  },
  {
   "cell_type": "code",
   "execution_count": 65,
   "id": "67f8a2d4",
   "metadata": {},
   "outputs": [],
   "source": [
    "# The Global keyword enables one to modify variable from the outside "
   ]
  },
  {
   "cell_type": "code",
   "execution_count": 66,
   "id": "da9b9206",
   "metadata": {},
   "outputs": [
    {
     "data": {
      "text/plain": [
       "3"
      ]
     },
     "execution_count": 66,
     "metadata": {},
     "output_type": "execute_result"
    }
   ],
   "source": [
    "x=3\n",
    "x\n"
   ]
  },
  {
   "cell_type": "code",
   "execution_count": 67,
   "id": "8a4a30f7",
   "metadata": {},
   "outputs": [
    {
     "data": {
      "text/plain": [
       "39"
      ]
     },
     "execution_count": 67,
     "metadata": {},
     "output_type": "execute_result"
    }
   ],
   "source": [
    "x=39\n",
    "x"
   ]
  },
  {
   "cell_type": "code",
   "execution_count": 91,
   "id": "65463a2b",
   "metadata": {},
   "outputs": [],
   "source": [
    "x=100\n",
    "def func():\n",
    "    global x\n",
    "    \n",
    "    print(\" x is originally {}\".format(x))\n",
    "    x=200\n",
    "    \n",
    "    print(\"function changed x to be {}\".format(x))"
   ]
  },
  {
   "cell_type": "code",
   "execution_count": 92,
   "id": "0457cf95",
   "metadata": {},
   "outputs": [
    {
     "data": {
      "text/plain": [
       "100"
      ]
     },
     "execution_count": 92,
     "metadata": {},
     "output_type": "execute_result"
    }
   ],
   "source": [
    "x"
   ]
  },
  {
   "cell_type": "code",
   "execution_count": 93,
   "id": "e58fdaa4",
   "metadata": {},
   "outputs": [
    {
     "name": "stdout",
     "output_type": "stream",
     "text": [
      " x is originally 100\n",
      "function changed x to be 200\n"
     ]
    }
   ],
   "source": [
    "func()"
   ]
  },
  {
   "cell_type": "code",
   "execution_count": 94,
   "id": "cccd3cd7",
   "metadata": {},
   "outputs": [
    {
     "data": {
      "text/plain": [
       "200"
      ]
     },
     "execution_count": 94,
     "metadata": {},
     "output_type": "execute_result"
    }
   ],
   "source": [
    "x"
   ]
  },
  {
   "cell_type": "code",
   "execution_count": 95,
   "id": "dfc67725",
   "metadata": {},
   "outputs": [],
   "source": [
    "x=100\n",
    "def func():\n",
    "    global x\n",
    "    print(\" x is originally {}\".format(x))\n",
    "    x=200\n",
    "    print(\"function changed x to be {}\".format(x))\n",
    "    "
   ]
  },
  {
   "cell_type": "code",
   "execution_count": 96,
   "id": "ba2c145d",
   "metadata": {},
   "outputs": [
    {
     "data": {
      "text/plain": [
       "100"
      ]
     },
     "execution_count": 96,
     "metadata": {},
     "output_type": "execute_result"
    }
   ],
   "source": [
    "x"
   ]
  },
  {
   "cell_type": "code",
   "execution_count": 97,
   "id": "1cad080b",
   "metadata": {},
   "outputs": [
    {
     "name": "stdout",
     "output_type": "stream",
     "text": [
      " x is originally 100\n",
      "function changed x to be 200\n"
     ]
    }
   ],
   "source": [
    "func()"
   ]
  },
  {
   "cell_type": "code",
   "execution_count": 98,
   "id": "98cba102",
   "metadata": {},
   "outputs": [
    {
     "data": {
      "text/plain": [
       "200"
      ]
     },
     "execution_count": 98,
     "metadata": {},
     "output_type": "execute_result"
    }
   ],
   "source": [
    "x"
   ]
  },
  {
   "cell_type": "code",
   "execution_count": null,
   "id": "ae2a6aff",
   "metadata": {},
   "outputs": [],
   "source": []
  }
 ],
 "metadata": {
  "kernelspec": {
   "display_name": "Python 3 (ipykernel)",
   "language": "python",
   "name": "python3"
  },
  "language_info": {
   "codemirror_mode": {
    "name": "ipython",
    "version": 3
   },
   "file_extension": ".py",
   "mimetype": "text/x-python",
   "name": "python",
   "nbconvert_exporter": "python",
   "pygments_lexer": "ipython3",
   "version": "3.10.9"
  }
 },
 "nbformat": 4,
 "nbformat_minor": 5
}

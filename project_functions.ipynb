{
 "cells": [
  {
   "cell_type": "code",
   "execution_count": 1,
   "id": "7ce48087",
   "metadata": {},
   "outputs": [],
   "source": [
    "#helpful project functions"
   ]
  },
  {
   "cell_type": "code",
   "execution_count": 2,
   "id": "eb280986",
   "metadata": {},
   "outputs": [],
   "source": [
    "from IPython.display import clear_output"
   ]
  },
  {
   "cell_type": "code",
   "execution_count": 7,
   "id": "a03bbdf1",
   "metadata": {},
   "outputs": [
    {
     "name": "stdout",
     "output_type": "stream",
     "text": [
      "Helo\n",
      "bye\n",
      " yes\n",
      "coding\n"
     ]
    }
   ],
   "source": [
    "clear_output()\n",
    "print(\"Helo\")\n",
    "print(\"bye\")\n",
    "print(\" yes\")\n",
    "print(\"coding\")\n"
   ]
  },
  {
   "cell_type": "code",
   "execution_count": 8,
   "id": "66cd3f05",
   "metadata": {},
   "outputs": [],
   "source": [
    "# Introducing Randomness in coding "
   ]
  },
  {
   "cell_type": "code",
   "execution_count": 81,
   "id": "005215ac",
   "metadata": {},
   "outputs": [
    {
     "data": {
      "text/plain": [
       "76"
      ]
     },
     "execution_count": 81,
     "metadata": {},
     "output_type": "execute_result"
    }
   ],
   "source": [
    "import random\n",
    "random.randint(0,100)"
   ]
  },
  {
   "cell_type": "code",
   "execution_count": 131,
   "id": "3fd61e60",
   "metadata": {},
   "outputs": [
    {
     "data": {
      "text/plain": [
       "'rock'"
      ]
     },
     "execution_count": 131,
     "metadata": {},
     "output_type": "execute_result"
    }
   ],
   "source": [
    "random.choice(['a','b','c',3,55.5,'rock','paper','scissors'])"
   ]
  },
  {
   "cell_type": "code",
   "execution_count": 132,
   "id": "11ed2d1a",
   "metadata": {},
   "outputs": [],
   "source": [
    "# Note that the random.choice function does work by choosing a random option from the provided option in the list"
   ]
  },
  {
   "cell_type": "code",
   "execution_count": null,
   "id": "70b66c57",
   "metadata": {},
   "outputs": [],
   "source": []
  }
 ],
 "metadata": {
  "kernelspec": {
   "display_name": "Python 3 (ipykernel)",
   "language": "python",
   "name": "python3"
  },
  "language_info": {
   "codemirror_mode": {
    "name": "ipython",
    "version": 3
   },
   "file_extension": ".py",
   "mimetype": "text/x-python",
   "name": "python",
   "nbconvert_exporter": "python",
   "pygments_lexer": "ipython3",
   "version": "3.10.9"
  }
 },
 "nbformat": 4,
 "nbformat_minor": 5
}

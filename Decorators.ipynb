{
 "cells": [
  {
   "cell_type": "code",
   "execution_count": 1,
   "id": "b1e5fa6c",
   "metadata": {},
   "outputs": [],
   "source": [
    "# Introduction to decorators"
   ]
  },
  {
   "cell_type": "code",
   "execution_count": 2,
   "id": "1fd1702b",
   "metadata": {},
   "outputs": [],
   "source": [
    "# Meta - Programming"
   ]
  },
  {
   "cell_type": "markdown",
   "id": "7f4833e6",
   "metadata": {},
   "source": [
    "Decorators"
   ]
  },
  {
   "cell_type": "code",
   "execution_count": 3,
   "id": "b330b926",
   "metadata": {},
   "outputs": [],
   "source": [
    "# Higher ordered functins"
   ]
  },
  {
   "cell_type": "code",
   "execution_count": 5,
   "id": "3afc362a",
   "metadata": {},
   "outputs": [],
   "source": [
    "def increase(x):\n",
    "    return x+1\n",
    "\n",
    "def decrease(x):\n",
    "    return x-1"
   ]
  },
  {
   "cell_type": "code",
   "execution_count": 6,
   "id": "4519a3c7",
   "metadata": {},
   "outputs": [],
   "source": [
    "def the_operation(func, x):\n",
    "    result =func(x)\n",
    "    return result"
   ]
  },
  {
   "cell_type": "code",
   "execution_count": 7,
   "id": "4815ef2b",
   "metadata": {},
   "outputs": [
    {
     "data": {
      "text/plain": [
       "6"
      ]
     },
     "execution_count": 7,
     "metadata": {},
     "output_type": "execute_result"
    }
   ],
   "source": [
    "the_operation(increase, 5)"
   ]
  },
  {
   "cell_type": "code",
   "execution_count": 8,
   "id": "9d5fbdc7",
   "metadata": {},
   "outputs": [
    {
     "data": {
      "text/plain": [
       "84"
      ]
     },
     "execution_count": 8,
     "metadata": {},
     "output_type": "execute_result"
    }
   ],
   "source": [
    "the_operation(decrease,85)"
   ]
  },
  {
   "cell_type": "code",
   "execution_count": 9,
   "id": "38a25e75",
   "metadata": {},
   "outputs": [],
   "source": [
    "# Going one step further..."
   ]
  },
  {
   "cell_type": "code",
   "execution_count": 10,
   "id": "f72e2003",
   "metadata": {},
   "outputs": [],
   "source": [
    "def im_being_called():\n",
    "    def im_being_returned():\n",
    "        print(\"HI\")\n",
    "    return im_being_returned"
   ]
  },
  {
   "cell_type": "code",
   "execution_count": 11,
   "id": "8c831b67",
   "metadata": {},
   "outputs": [],
   "source": [
    "new_name=im_being_called()"
   ]
  },
  {
   "cell_type": "code",
   "execution_count": 12,
   "id": "e62906a8",
   "metadata": {},
   "outputs": [
    {
     "data": {
      "text/plain": [
       "function"
      ]
     },
     "execution_count": 12,
     "metadata": {},
     "output_type": "execute_result"
    }
   ],
   "source": [
    "type(new_name)"
   ]
  },
  {
   "cell_type": "code",
   "execution_count": 13,
   "id": "c28f1c58",
   "metadata": {},
   "outputs": [
    {
     "name": "stdout",
     "output_type": "stream",
     "text": [
      "HI\n"
     ]
    }
   ],
   "source": [
    "new_name()"
   ]
  },
  {
   "cell_type": "code",
   "execution_count": 14,
   "id": "41a26561",
   "metadata": {},
   "outputs": [],
   "source": [
    "# CLOSURES"
   ]
  },
  {
   "cell_type": "code",
   "execution_count": 26,
   "id": "c8f33db9",
   "metadata": {},
   "outputs": [],
   "source": [
    "def greeting(message):\n",
    "    def welcome():\n",
    "        print(message)\n",
    "    return welcome"
   ]
  },
  {
   "cell_type": "code",
   "execution_count": 27,
   "id": "5b6eb7ef",
   "metadata": {},
   "outputs": [
    {
     "data": {
      "text/plain": [
       "<function __main__.greeting.<locals>.welcome()>"
      ]
     },
     "execution_count": 27,
     "metadata": {},
     "output_type": "execute_result"
    }
   ],
   "source": [
    "greeting(\"Hello\")"
   ]
  },
  {
   "cell_type": "code",
   "execution_count": 28,
   "id": "f1269ee8",
   "metadata": {},
   "outputs": [],
   "source": [
    "new_names=greeting('hello')"
   ]
  },
  {
   "cell_type": "code",
   "execution_count": 29,
   "id": "981c1901",
   "metadata": {},
   "outputs": [
    {
     "data": {
      "text/plain": [
       "function"
      ]
     },
     "execution_count": 29,
     "metadata": {},
     "output_type": "execute_result"
    }
   ],
   "source": [
    "type(new_names)"
   ]
  },
  {
   "cell_type": "code",
   "execution_count": 31,
   "id": "a6bcbd6c",
   "metadata": {},
   "outputs": [
    {
     "name": "stdout",
     "output_type": "stream",
     "text": [
      "hello\n"
     ]
    }
   ],
   "source": [
    "new_names()"
   ]
  },
  {
   "cell_type": "code",
   "execution_count": 32,
   "id": "2715eebf",
   "metadata": {},
   "outputs": [
    {
     "data": {
      "text/plain": [
       "<function __main__.greeting.<locals>.welcome()>"
      ]
     },
     "execution_count": 32,
     "metadata": {},
     "output_type": "execute_result"
    }
   ],
   "source": [
    "greeting(\"hi\")"
   ]
  },
  {
   "cell_type": "code",
   "execution_count": 33,
   "id": "53466375",
   "metadata": {},
   "outputs": [],
   "source": [
    "del greeting"
   ]
  },
  {
   "cell_type": "code",
   "execution_count": 35,
   "id": "42b7373c",
   "metadata": {},
   "outputs": [],
   "source": [
    "#greeting(\"hello\")"
   ]
  },
  {
   "cell_type": "code",
   "execution_count": 36,
   "id": "fa948991",
   "metadata": {},
   "outputs": [],
   "source": [
    "def base_multiple(base):\n",
    "    def multiply_by(x):\n",
    "        return base*x\n",
    "    return multiply_by"
   ]
  },
  {
   "cell_type": "code",
   "execution_count": 37,
   "id": "eb12120a",
   "metadata": {},
   "outputs": [],
   "source": [
    "multiply_by_8= base_multiple(8)"
   ]
  },
  {
   "cell_type": "code",
   "execution_count": 39,
   "id": "31c06306",
   "metadata": {},
   "outputs": [
    {
     "name": "stdout",
     "output_type": "stream",
     "text": [
      "80\n"
     ]
    }
   ],
   "source": [
    "print(multiply_by_8(10))"
   ]
  },
  {
   "cell_type": "code",
   "execution_count": 40,
   "id": "11270ccd",
   "metadata": {},
   "outputs": [
    {
     "name": "stdout",
     "output_type": "stream",
     "text": [
      "1064\n"
     ]
    }
   ],
   "source": [
    "print(multiply_by_8(133))"
   ]
  },
  {
   "cell_type": "code",
   "execution_count": 41,
   "id": "21b80d50",
   "metadata": {},
   "outputs": [
    {
     "name": "stdout",
     "output_type": "stream",
     "text": [
      "160\n"
     ]
    }
   ],
   "source": [
    "print(multiply_by_8(20))"
   ]
  },
  {
   "cell_type": "code",
   "execution_count": 42,
   "id": "882b7b94",
   "metadata": {},
   "outputs": [],
   "source": [
    "multiply_by_15=base_multiple(15)"
   ]
  },
  {
   "cell_type": "code",
   "execution_count": 43,
   "id": "8ba60851",
   "metadata": {},
   "outputs": [
    {
     "name": "stdout",
     "output_type": "stream",
     "text": [
      "225\n"
     ]
    }
   ],
   "source": [
    "print(multiply_by_15(15))"
   ]
  },
  {
   "cell_type": "code",
   "execution_count": 44,
   "id": "86ff99df",
   "metadata": {},
   "outputs": [],
   "source": [
    "# A simple decorator example..."
   ]
  },
  {
   "cell_type": "code",
   "execution_count": 45,
   "id": "dcdf3515",
   "metadata": {},
   "outputs": [],
   "source": [
    "# A decorator is a callable that returns a callable"
   ]
  },
  {
   "cell_type": "code",
   "execution_count": 46,
   "id": "f359fd54",
   "metadata": {},
   "outputs": [],
   "source": [
    "def original_func():\n",
    "    print(\"I am the original function\")\n",
    "    \n",
    "def jazz_up_the_function(func):\n",
    "    def inner():\n",
    "        print(\"I'm adding this first\")\n",
    "        func()\n",
    "        print(\"I will finish with this\")\n",
    "    return inner"
   ]
  },
  {
   "cell_type": "code",
   "execution_count": 47,
   "id": "4ed10716",
   "metadata": {},
   "outputs": [
    {
     "name": "stdout",
     "output_type": "stream",
     "text": [
      "I am the original function\n"
     ]
    }
   ],
   "source": [
    "original_func()"
   ]
  },
  {
   "cell_type": "code",
   "execution_count": 48,
   "id": "11400b08",
   "metadata": {},
   "outputs": [],
   "source": [
    "jazzed_up = jazz_up_the_function(original_func)"
   ]
  },
  {
   "cell_type": "code",
   "execution_count": 49,
   "id": "b4bb6a50",
   "metadata": {},
   "outputs": [
    {
     "data": {
      "text/plain": [
       "function"
      ]
     },
     "execution_count": 49,
     "metadata": {},
     "output_type": "execute_result"
    }
   ],
   "source": [
    "type(jazzed_up)"
   ]
  },
  {
   "cell_type": "code",
   "execution_count": 50,
   "id": "1fc71cb6",
   "metadata": {},
   "outputs": [
    {
     "name": "stdout",
     "output_type": "stream",
     "text": [
      "I'm adding this first\n",
      "I am the original function\n",
      "I will finish with this\n"
     ]
    }
   ],
   "source": [
    "jazzed_up()"
   ]
  },
  {
   "cell_type": "code",
   "execution_count": 51,
   "id": "ba6bc591",
   "metadata": {},
   "outputs": [
    {
     "name": "stdout",
     "output_type": "stream",
     "text": [
      "I am the original function\n"
     ]
    }
   ],
   "source": [
    "original_func()"
   ]
  },
  {
   "cell_type": "code",
   "execution_count": 52,
   "id": "545dc5e4",
   "metadata": {},
   "outputs": [],
   "source": [
    "# The original function does not change.."
   ]
  },
  {
   "cell_type": "code",
   "execution_count": 56,
   "id": "50cb0be4",
   "metadata": {},
   "outputs": [],
   "source": [
    "@jazz_up_the_function\n",
    "def original_func():\n",
    "    print(\"I am the original function\")\n",
    "    \n"
   ]
  },
  {
   "cell_type": "code",
   "execution_count": 58,
   "id": "3026e7b5",
   "metadata": {},
   "outputs": [
    {
     "name": "stdout",
     "output_type": "stream",
     "text": [
      "I'm adding this first\n",
      "I am the original function\n",
      "I will finish with this\n"
     ]
    }
   ],
   "source": [
    "original_func()"
   ]
  },
  {
   "cell_type": "code",
   "execution_count": null,
   "id": "b36d18a1",
   "metadata": {},
   "outputs": [],
   "source": []
  },
  {
   "cell_type": "code",
   "execution_count": 59,
   "id": "8f9a3d36",
   "metadata": {},
   "outputs": [],
   "source": [
    "# Decorating functions with parameters.."
   ]
  },
  {
   "cell_type": "code",
   "execution_count": 60,
   "id": "3d74969d",
   "metadata": {},
   "outputs": [],
   "source": [
    "def divider(a, b):\n",
    "    return a/b"
   ]
  },
  {
   "cell_type": "code",
   "execution_count": 61,
   "id": "1dd3231a",
   "metadata": {},
   "outputs": [
    {
     "data": {
      "text/plain": [
       "5.0"
      ]
     },
     "execution_count": 61,
     "metadata": {},
     "output_type": "execute_result"
    }
   ],
   "source": [
    "divider(10,2)"
   ]
  },
  {
   "cell_type": "code",
   "execution_count": 62,
   "id": "7d81c6f7",
   "metadata": {},
   "outputs": [],
   "source": [
    "def divider_v2(func):\n",
    "    def inner(a,b):\n",
    "        print('I am trying to divide', a, 'and',b)\n",
    "        if b==0:\n",
    "            print(\"Stop right there! YOu can't divide by zero!\")\n",
    "            return\n",
    "        return func(a,b)\n",
    "    return inner"
   ]
  },
  {
   "cell_type": "code",
   "execution_count": 63,
   "id": "3d820cc6",
   "metadata": {},
   "outputs": [],
   "source": [
    "@divider_v2\n",
    "def divider(a,b):\n",
    "    print(a/b)"
   ]
  },
  {
   "cell_type": "code",
   "execution_count": 64,
   "id": "db569e74",
   "metadata": {},
   "outputs": [
    {
     "name": "stdout",
     "output_type": "stream",
     "text": [
      "I am trying to divide 10 and 2\n",
      "5.0\n"
     ]
    }
   ],
   "source": [
    "divider(10,2)"
   ]
  },
  {
   "cell_type": "code",
   "execution_count": 65,
   "id": "e39adb51",
   "metadata": {},
   "outputs": [
    {
     "name": "stdout",
     "output_type": "stream",
     "text": [
      "I am trying to divide 10 and 0\n",
      "Stop right there! YOu can't divide by zero!\n"
     ]
    }
   ],
   "source": [
    "divider(10,0)"
   ]
  },
  {
   "cell_type": "code",
   "execution_count": 66,
   "id": "606b9a6e",
   "metadata": {},
   "outputs": [],
   "source": [
    "def generic_decorator(func):\n",
    "    def inner(*args, **kwargs):\n",
    "        print(\"I decorate any function\")\n",
    "        return func(*args, **kwargs)\n",
    "    return inner"
   ]
  },
  {
   "cell_type": "code",
   "execution_count": 67,
   "id": "8f6fd5ae",
   "metadata": {},
   "outputs": [],
   "source": [
    "@generic_decorator\n",
    "def divider(a,b):\n",
    "    print(a/b)"
   ]
  },
  {
   "cell_type": "code",
   "execution_count": 68,
   "id": "10a56645",
   "metadata": {},
   "outputs": [
    {
     "name": "stdout",
     "output_type": "stream",
     "text": [
      "I decorate any function\n",
      "5.0\n"
     ]
    }
   ],
   "source": [
    "divider(10,2)"
   ]
  },
  {
   "cell_type": "code",
   "execution_count": null,
   "id": "b38a3e25",
   "metadata": {},
   "outputs": [],
   "source": []
  }
 ],
 "metadata": {
  "kernelspec": {
   "display_name": "Python 3 (ipykernel)",
   "language": "python",
   "name": "python3"
  },
  "language_info": {
   "codemirror_mode": {
    "name": "ipython",
    "version": 3
   },
   "file_extension": ".py",
   "mimetype": "text/x-python",
   "name": "python",
   "nbconvert_exporter": "python",
   "pygments_lexer": "ipython3",
   "version": "3.10.9"
  }
 },
 "nbformat": 4,
 "nbformat_minor": 5
}

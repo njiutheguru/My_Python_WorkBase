{
 "cells": [
  {
   "cell_type": "markdown",
   "id": "d0347869",
   "metadata": {},
   "source": [
    "Games Ltd want to add to their collection of online games. They would like you to produce a version of the popular game Noughts and Crosses!\n",
    "\n",
    "The application should:\n",
    "\n",
    "- Allow two players to play the game\n",
    "- Players take it in turns to place a 'O' or a 'x' on a 3x3 grid\n",
    "- The player who gets 3 markers in a row (horizontally, vertically or diagonaly) wins\n",
    "\n",
    "The applicatoin can be broken down into the following tasks:\n",
    "\n",
    "1. Create a data sturcture that can store naughts and crosses. Clue- YOu will need to use a structure that contains an ordered sequence for easy accessibility\n",
    "\n",
    "2. Write a function that can display the board. clue- Access the elements from step 1 to dsiplay the board and the corresponding markers\n",
    "3. Write a function that allows a player to pick either 'X' or 'O' as their marker. You shouldn't accept any other input!\n",
    "4. Write a function that takes in the board, a marker('X' or 'O'), and a placement position. The  functin should assig the marker to the position  on the board.\n",
    "5. Write a function that takes in a board and checks to see if someone has won\n",
    "6. Write a functin that return either 'Player 1' or 'Player 2' as a string. Use the random module to randomly decide which player goes first. clue- random.randint() may come in useful...\n",
    "7. Write  afunction that asks whether the players are ready\n",
    "8. Write a functin that returns a boolean indicating whether a space on the board is freely available\n",
    "9. Write a function that checks if the board is full\n",
    "10. Write a functin that asks for a player's next position (this should be an integer). You should then check to see if this position is already taken. If the space isn't occupied, return the position.\n",
    "11. Write a function that operates the game. Incorporate a while loop that takes each players turn and places a marker on the board\n",
    "12. Write a function that asks the player if they want to play again.\n",
    "13. Use a while loop and the functions you've made to get the game fully operational"
   ]
  },
  {
   "cell_type": "code",
   "execution_count": 1,
   "id": "0e4e9f5d",
   "metadata": {},
   "outputs": [],
   "source": [
    "#imports\n",
    "from IPython.display import clear_output\n",
    "import random"
   ]
  },
  {
   "cell_type": "code",
   "execution_count": 2,
   "id": "13c59fc1",
   "metadata": {},
   "outputs": [],
   "source": [
    "# Game- Logic\n",
    "# using a list as the preferred data structure"
   ]
  },
  {
   "cell_type": "code",
   "execution_count": 3,
   "id": "6da59d83",
   "metadata": {},
   "outputs": [],
   "source": [
    "def create_empty_board():\n",
    "    board=[' ',\n",
    "           ' ',' ',' ',\n",
    "           ' ',' ',' ', \n",
    "           ' ',' ',' ']\n",
    "    return board"
   ]
  },
  {
   "cell_type": "code",
   "execution_count": 4,
   "id": "1479c1f2",
   "metadata": {},
   "outputs": [],
   "source": [
    "#create_empty_board()"
   ]
  },
  {
   "cell_type": "code",
   "execution_count": 5,
   "id": "67a4c958",
   "metadata": {},
   "outputs": [],
   "source": [
    "def display_board(board):\n",
    "    print('    |    | ')\n",
    "    print(' '+ board[1]+'  |   '+ board[2] +'|    '+ board[3])\n",
    "    print('    |    |')\n",
    "    print('------------------')\n",
    "    print('    |    | ')\n",
    "    print(' '+ board[4]+'  |   '+ board[5] +'|    '+ board[6])\n",
    "    print('    |    |')\n",
    "    print('------------------')\n",
    "    print('    |    | ')\n",
    "    print(' '+ board[7]+'  |   '+ board[8] +'|    '+ board[9])\n",
    "    print('    |    |')\n",
    "    "
   ]
  },
  {
   "cell_type": "code",
   "execution_count": 6,
   "id": "5220fa0d",
   "metadata": {},
   "outputs": [
    {
     "name": "stdout",
     "output_type": "stream",
     "text": [
      "    |    | \n",
      "    |    |     \n",
      "    |    |\n",
      "------------------\n",
      "    |    | \n",
      "    |    |     \n",
      "    |    |\n",
      "------------------\n",
      "    |    | \n",
      "    |    |     \n",
      "    |    |\n"
     ]
    }
   ],
   "source": [
    "board=create_empty_board()\n",
    "display_board(board)"
   ]
  },
  {
   "cell_type": "code",
   "execution_count": 7,
   "id": "696d8235",
   "metadata": {},
   "outputs": [],
   "source": [
    "# step 3 players chooses X or 'O'"
   ]
  },
  {
   "cell_type": "code",
   "execution_count": 8,
   "id": "39249a1b",
   "metadata": {},
   "outputs": [],
   "source": [
    "def player_markers():\n",
    "    marker=''\n",
    "    \n",
    "    while not (marker=='X' or marker=='O'):\n",
    "        marker=input(\"player 1: Do you want to be X or O?\").upper()\n",
    "        \n",
    "    if marker=='X':\n",
    "        return('X','O')\n",
    "    else:\n",
    "        return ('O','X')"
   ]
  },
  {
   "cell_type": "code",
   "execution_count": 9,
   "id": "a4ceb165",
   "metadata": {},
   "outputs": [],
   "source": [
    "#player_markers()"
   ]
  },
  {
   "cell_type": "code",
   "execution_count": 10,
   "id": "56516f77",
   "metadata": {},
   "outputs": [],
   "source": [
    "def place_marker(board,marker,position):\n",
    "    board[position] = marker"
   ]
  },
  {
   "cell_type": "code",
   "execution_count": 11,
   "id": "f07ebd8c",
   "metadata": {},
   "outputs": [],
   "source": [
    "#place_marker(board,'O',1)\n",
    "#display_board(board)"
   ]
  },
  {
   "cell_type": "code",
   "execution_count": null,
   "id": "eed89480",
   "metadata": {},
   "outputs": [],
   "source": []
  },
  {
   "cell_type": "code",
   "execution_count": 12,
   "id": "3a77ba29",
   "metadata": {},
   "outputs": [],
   "source": [
    "# checks if someone has won"
   ]
  },
  {
   "cell_type": "code",
   "execution_count": 13,
   "id": "17eb7074",
   "metadata": {},
   "outputs": [],
   "source": [
    "def winner_check(board,mark):\n",
    "    return ((board[1]==mark and board[2]==mark and board[3]==mark) or\n",
    "            (board[4]==mark and board[5]==mark and board[6]==mark) or\n",
    "            (board[7]==mark and board[8]==mark and board[9]==mark) or\n",
    "            (board[1]==mark and board[4]==mark and board[7]==mark) or\n",
    "            (board[2]==mark and board[5]==mark and board[8]==mark) or\n",
    "            (board[3]==mark and board[6]==mark and board[9]==mark) or\n",
    "            (board[1]==mark and board[5]==mark and board[9]==mark) or\n",
    "            (board[3]==mark and board[5]==mark and board[7]==mark))"
   ]
  },
  {
   "cell_type": "code",
   "execution_count": 14,
   "id": "e209b2f7",
   "metadata": {},
   "outputs": [],
   "source": [
    "#winner_check(board,'O')"
   ]
  },
  {
   "cell_type": "code",
   "execution_count": 15,
   "id": "1bb08ac7",
   "metadata": {},
   "outputs": [],
   "source": [
    "def player_order():\n",
    "    if random.randint(0,1)==0:\n",
    "        return 'Player 1'\n",
    "    else:\n",
    "        return 'Player 2'"
   ]
  },
  {
   "cell_type": "code",
   "execution_count": 16,
   "id": "68dc8a41",
   "metadata": {},
   "outputs": [],
   "source": [
    "# Are players ready...\n",
    "def are_players_ready():\n",
    "    play_game=input(\"Are you ready to play? Enter yes or No:\")\n",
    "    \n",
    "    if play_game.lower()[0]=='y':\n",
    "        return True\n",
    "    else:\n",
    "        return False"
   ]
  },
  {
   "cell_type": "code",
   "execution_count": 17,
   "id": "3efcd395",
   "metadata": {},
   "outputs": [],
   "source": [
    "# function that indicates whether the board is freely available"
   ]
  },
  {
   "cell_type": "code",
   "execution_count": 18,
   "id": "70bc8823",
   "metadata": {},
   "outputs": [],
   "source": [
    "def space_check(board,position):\n",
    "    return board[position]==' '"
   ]
  },
  {
   "cell_type": "code",
   "execution_count": 19,
   "id": "5c8e8269",
   "metadata": {},
   "outputs": [],
   "source": [
    "# check if the board is full"
   ]
  },
  {
   "cell_type": "code",
   "execution_count": 20,
   "id": "895a091e",
   "metadata": {},
   "outputs": [],
   "source": [
    "def full_board(board):\n",
    "    for i in range(1,10):\n",
    "        if space_check(board,i):\n",
    "            return False\n",
    "        \n",
    "    return True"
   ]
  },
  {
   "cell_type": "code",
   "execution_count": 21,
   "id": "bf80af04",
   "metadata": {},
   "outputs": [],
   "source": [
    "def player_choice(board):\n",
    "    position=0\n",
    "    \n",
    "    while position not in [1,2,3,4,5,6,7,8,9] or not space_check(board,position):\n",
    "        position=input(\"Choose your next Positon: (1-9)\")\n",
    "        position=int(position)\n",
    "        if position is int:\n",
    "            print(\" \")\n",
    "        else:\n",
    "            print(\"Enter only integer Values\")\n",
    "            continue\n",
    "        \n",
    "    return position"
   ]
  },
  {
   "cell_type": "code",
   "execution_count": 22,
   "id": "7d619e29",
   "metadata": {},
   "outputs": [],
   "source": [
    "# Write a function that operates the game..."
   ]
  },
  {
   "cell_type": "code",
   "execution_count": 23,
   "id": "dff82df7",
   "metadata": {},
   "outputs": [],
   "source": [
    "def game_controller(game_on,turn,board,p1_marker,p2_marker):\n",
    "    while game_on:\n",
    "        if turn=='Player 1':\n",
    "            clear_output()\n",
    "            display_board(board)\n",
    "            position=player_choice(board)\n",
    "            place_marker(board,p1_marker,position)\n",
    "            \n",
    "            if winner_check(board,p1_marker):\n",
    "                clear_output()\n",
    "                display_board(board)\n",
    "                print(\"Player 1 has won the game!\")\n",
    "                game_on=False\n",
    "            else:\n",
    "                if full_board(board):\n",
    "                    clear_output()\n",
    "                    display_board(board)\n",
    "                    print(\"The game is a draw\")\n",
    "                    break\n",
    "                else:\n",
    "                    turn='Player 2'\n",
    "        else:\n",
    "            clear_output()\n",
    "            display_board(board)\n",
    "            position=player_choice(board)\n",
    "            place_marker(board,p2_marker,position)\n",
    "            \n",
    "            if winner_check(board,p2_marker):\n",
    "                clear_output()\n",
    "                display_board(board)\n",
    "                print(\"Player 2 has won the game!\")\n",
    "                game_on=False\n",
    "            else:\n",
    "                if full_board(board):\n",
    "                    clear_output()\n",
    "                    display_board(board)\n",
    "                    print(\"The game is a draw\")\n",
    "                    break\n",
    "                else:\n",
    "                    turn='Player 1'\n",
    "            "
   ]
  },
  {
   "cell_type": "code",
   "execution_count": 24,
   "id": "a5c97043",
   "metadata": {},
   "outputs": [],
   "source": [
    "def play_again():\n",
    "    return input(\"Do you want to play again? Enter Yes or No: \").lower().startswith('y')\n"
   ]
  },
  {
   "cell_type": "code",
   "execution_count": 25,
   "id": "13e90a9c",
   "metadata": {},
   "outputs": [],
   "source": [
    "# game Workflow"
   ]
  },
  {
   "cell_type": "code",
   "execution_count": 26,
   "id": "0ad1d8a1",
   "metadata": {},
   "outputs": [
    {
     "name": "stdout",
     "output_type": "stream",
     "text": [
      "    |    | \n",
      "    |    |    X\n",
      "    |    |\n",
      "------------------\n",
      "    |    | \n",
      " O  |   O|    O\n",
      "    |    |\n",
      "------------------\n",
      "    |    | \n",
      "    |   X|     \n",
      "    |    |\n",
      "Player 2 has won the game!\n",
      "Do you want to play again? Enter Yes or No: no\n",
      "Hope to see you again!\n"
     ]
    }
   ],
   "source": [
    "print('Welcome to Noughts and Crosses or the Tic Tac Toe!')\n",
    "while True:\n",
    "    board=create_empty_board()\n",
    "    \n",
    "    p1_marker,p2_marker=player_markers()\n",
    "    turn=player_order()\n",
    "    print(turn + ' will go first!')\n",
    "    game_on=are_players_ready()\n",
    "    game_controller(game_on,turn,board,p1_marker,p2_marker)\n",
    "    \n",
    "    if not play_again():\n",
    "        print(\"Hope to see you again!\")\n",
    "        break\n"
   ]
  },
  {
   "cell_type": "code",
   "execution_count": null,
   "id": "d70b4252",
   "metadata": {},
   "outputs": [],
   "source": []
  }
 ],
 "metadata": {
  "kernelspec": {
   "display_name": "Python 3 (ipykernel)",
   "language": "python",
   "name": "python3"
  },
  "language_info": {
   "codemirror_mode": {
    "name": "ipython",
    "version": 3
   },
   "file_extension": ".py",
   "mimetype": "text/x-python",
   "name": "python",
   "nbconvert_exporter": "python",
   "pygments_lexer": "ipython3",
   "version": "3.10.9"
  }
 },
 "nbformat": 4,
 "nbformat_minor": 5
}

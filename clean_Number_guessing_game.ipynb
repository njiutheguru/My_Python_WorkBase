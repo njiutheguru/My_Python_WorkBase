{
 "cells": [
  {
   "cell_type": "code",
   "execution_count": 8,
   "id": "e9d5d07f",
   "metadata": {},
   "outputs": [
    {
     "ename": "SyntaxError",
     "evalue": "invalid syntax (402974186.py, line 3)",
     "output_type": "error",
     "traceback": [
      "\u001b[1;36m  Cell \u001b[1;32mIn[8], line 3\u001b[1;36m\u001b[0m\n\u001b[1;33m    import from IPython clear.output\u001b[0m\n\u001b[1;37m           ^\u001b[0m\n\u001b[1;31mSyntaxError\u001b[0m\u001b[1;31m:\u001b[0m invalid syntax\n"
     ]
    }
   ],
   "source": [
    "# Guessing Game precise Implementation\n",
    "import random\n",
    "#import from IPython clear.output"
   ]
  },
  {
   "cell_type": "code",
   "execution_count": 2,
   "id": "2fe64134",
   "metadata": {},
   "outputs": [],
   "source": [
    "def random_int():\n",
    "    lower=int(input(\"Enter lower num:\"))\n",
    "    upper=int(input(\"Enter upper num:\"))\n",
    "    num=random.randint(lower,upper)\n",
    "    return num"
   ]
  },
  {
   "cell_type": "code",
   "execution_count": 3,
   "id": "9010628d",
   "metadata": {},
   "outputs": [],
   "source": [
    "def game_logic(guess,num,tries):\n",
    "    while guess !=num and tries!=0:\n",
    "        print(\"----------------------------------------------------\")\n",
    "\n",
    "        print(\"No. of tries remaining= {}\".format(tries))\n",
    "        guess=input(\" Guess a Number between 1 and 100: \")\n",
    "\n",
    "        guess=int(guess)\n",
    "\n",
    "        if guess==num:\n",
    "            num1=str(num)\n",
    "            guess1=str(guess)\n",
    "            print(\"CONGRATULATIONS ! you guessed RIGHT!!\")\n",
    "            print(\"CONGRATULATIONS!!\")\n",
    "            print(\"You guessed \"+guess1+\" and the right answer was \"+num1)\n",
    "        elif guess>num:\n",
    "            print(\"You guessed too high! Try a lower Number...\")\n",
    "        else:\n",
    "            print(\"You guessed too low! Try a higher Number...\")\n",
    "        tries -=1\n"
   ]
  },
  {
   "cell_type": "code",
   "execution_count": 4,
   "id": "dbfa051c",
   "metadata": {},
   "outputs": [],
   "source": [
    "def play_again():\n",
    "    again=''\n",
    "    while again.lower() not in ['y','n']:\n",
    "        again=input(\"do you want to play again? (Y/N): \")\n",
    "        if again.lower()=='y':\n",
    "            return True\n",
    "        elif again.lower()=='n':\n",
    "            return False\n",
    "        else:\n",
    "            print(\"Enter [Y/N]\")\n",
    "    "
   ]
  },
  {
   "cell_type": "code",
   "execution_count": 6,
   "id": "2b893a35",
   "metadata": {},
   "outputs": [
    {
     "name": "stdout",
     "output_type": "stream",
     "text": [
      "Enter lower num:1\n",
      "Enter upper num:100\n",
      "Welcome to the Guessing86game......\n",
      "Welcome to the Guessing Games..\n",
      "----------------------------------------\n",
      " You have  5 GUESSES ONLY!!.......\n",
      "----------------------------------------------------\n",
      "No. of tries remaining= 5\n",
      " Guess a Number between 1 and 100: 3\n",
      "You guessed too low! Try a higher Number...\n",
      "----------------------------------------------------\n",
      "No. of tries remaining= 4\n",
      " Guess a Number between 1 and 100: 66\n",
      "You guessed too low! Try a higher Number...\n",
      "----------------------------------------------------\n",
      "No. of tries remaining= 3\n",
      " Guess a Number between 1 and 100: 67\n",
      "You guessed too low! Try a higher Number...\n",
      "----------------------------------------------------\n",
      "No. of tries remaining= 2\n",
      " Guess a Number between 1 and 100: 86\n",
      "CONGRATULATIONS ! you guessed RIGHT!!\n",
      "CONGRATULATIONS!!\n",
      "You guessed 86 and the right answer was 86\n",
      "do you want to play again? (Y/N): y\n",
      "Enter lower num:45\n",
      "Enter upper num:876\n",
      "Welcome to the Guessing665game......\n",
      "Welcome to the Guessing Games..\n",
      "----------------------------------------\n",
      " You have  5 GUESSES ONLY!!.......\n",
      "----------------------------------------------------\n",
      "No. of tries remaining= 5\n",
      " Guess a Number between 1 and 100: 665\n",
      "CONGRATULATIONS ! you guessed RIGHT!!\n",
      "CONGRATULATIONS!!\n",
      "You guessed 665 and the right answer was 665\n",
      "do you want to play again? (Y/N): n\n",
      "See you Next Time!..\n"
     ]
    }
   ],
   "source": [
    "while True:\n",
    "    num=random_int()\n",
    "    num1=str(num)\n",
    "    \n",
    "    print(\"Welcome to the Guessing\"+num1+\"game......\")\n",
    "    tries=5\n",
    "    guess=None\n",
    "    print(\"Welcome to the Guessing Games..\")\n",
    "    print(\"----------------------------------------\")\n",
    "    print(\" You have  5 GUESSES ONLY!!.......\")\n",
    "    game_logic(guess,num,tries)\n",
    "    if not play_again():\n",
    "        print(\"See you Next Time!..\")\n",
    "        break"
   ]
  },
  {
   "cell_type": "code",
   "execution_count": 7,
   "id": "ac2fa1a4",
   "metadata": {},
   "outputs": [
    {
     "ename": "NameError",
     "evalue": "name 'cls' is not defined",
     "output_type": "error",
     "traceback": [
      "\u001b[1;31m---------------------------------------------------------------------------\u001b[0m",
      "\u001b[1;31mNameError\u001b[0m                                 Traceback (most recent call last)",
      "Cell \u001b[1;32mIn[7], line 1\u001b[0m\n\u001b[1;32m----> 1\u001b[0m \u001b[38;5;28;43mcls\u001b[39;49m\n\u001b[0;32m      2\u001b[0m clear_output()\n",
      "\u001b[1;31mNameError\u001b[0m: name 'cls' is not defined"
     ]
    }
   ],
   "source": [
    "cls\n",
    "clear_output()\n"
   ]
  },
  {
   "cell_type": "code",
   "execution_count": null,
   "id": "df9f46c0",
   "metadata": {},
   "outputs": [],
   "source": []
  }
 ],
 "metadata": {
  "kernelspec": {
   "display_name": "Python 3 (ipykernel)",
   "language": "python",
   "name": "python3"
  },
  "language_info": {
   "codemirror_mode": {
    "name": "ipython",
    "version": 3
   },
   "file_extension": ".py",
   "mimetype": "text/x-python",
   "name": "python",
   "nbconvert_exporter": "python",
   "pygments_lexer": "ipython3",
   "version": "3.10.9"
  }
 },
 "nbformat": 4,
 "nbformat_minor": 5
}

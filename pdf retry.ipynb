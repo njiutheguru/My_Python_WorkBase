{
 "cells": [
  {
   "cell_type": "code",
   "execution_count": 1,
   "id": "97342ba3",
   "metadata": {},
   "outputs": [],
   "source": [
    "# !pip install PyPDF2"
   ]
  },
  {
   "cell_type": "code",
   "execution_count": 5,
   "id": "aa832ecc",
   "metadata": {},
   "outputs": [
    {
     "ename": "ModuleNotFoundError",
     "evalue": "No module named 'pyPDF2'",
     "output_type": "error",
     "traceback": [
      "\u001b[1;31m---------------------------------------------------------------------------\u001b[0m",
      "\u001b[1;31mModuleNotFoundError\u001b[0m                       Traceback (most recent call last)",
      "Cell \u001b[1;32mIn[5], line 1\u001b[0m\n\u001b[1;32m----> 1\u001b[0m \u001b[38;5;28;01mimport\u001b[39;00m \u001b[38;5;21;01mpyPDF2\u001b[39;00m\n\u001b[0;32m      2\u001b[0m pdf_file_obj\u001b[38;5;241m=\u001b[39m\u001b[38;5;28mopen\u001b[39m(\u001b[38;5;124m\"\u001b[39m\u001b[38;5;124mradom.pdf\u001b[39m\u001b[38;5;124m\"\u001b[39m,\u001b[38;5;124m'\u001b[39m\u001b[38;5;124mrb\u001b[39m\u001b[38;5;124m'\u001b[39m)\n\u001b[0;32m      3\u001b[0m pdfreader\u001b[38;5;241m=\u001b[39mPyPDF\u001b[38;5;241m.\u001b[39mPdffileReader(pdf_file_obj_obj)\n",
      "\u001b[1;31mModuleNotFoundError\u001b[0m: No module named 'pyPDF2'"
     ]
    }
   ],
   "source": [
    "import pyPDF2\n",
    "pdf_file_obj=open(\"radom.pdf\",'rb')\n",
    "pdfreader=PyPDF.PdffileReader(pdf_file_obj_obj)\n",
    "\n",
    "# number of pages\n",
    "for i in range(pdfReader.numPages):\n",
    "    pageobj=pdfReader.getpage(i)\n",
    "    p_text=(pageobj.extractText())\n",
    "    print(p_text)\n",
    "    print(\"=======\")\n",
    "    p_lines=p_text.splitlines()\n",
    "    print(p_lines)\n",
    "pdf_file_obj.close()"
   ]
  },
  {
   "cell_type": "code",
   "execution_count": 7,
   "id": "763a5019",
   "metadata": {},
   "outputs": [
    {
     "ename": "ModuleNotFoundError",
     "evalue": "No module named 'tabula'",
     "output_type": "error",
     "traceback": [
      "\u001b[1;31m---------------------------------------------------------------------------\u001b[0m",
      "\u001b[1;31mModuleNotFoundError\u001b[0m                       Traceback (most recent call last)",
      "Cell \u001b[1;32mIn[7], line 2\u001b[0m\n\u001b[0;32m      1\u001b[0m \u001b[38;5;66;03m# tabular\u001b[39;00m\n\u001b[1;32m----> 2\u001b[0m \u001b[38;5;28;01mimport\u001b[39;00m \u001b[38;5;21;01mtabula\u001b[39;00m\n\u001b[0;32m      4\u001b[0m contents\u001b[38;5;241m=\u001b[39mtabula\u001b[38;5;241m.\u001b[39mread_pdf(\u001b[38;5;124m\"\u001b[39m\u001b[38;5;124mrandom.pdf\u001b[39m\u001b[38;5;124m\"\u001b[39m,pages\u001b[38;5;241m=\u001b[39m\u001b[38;5;124m'\u001b[39m\u001b[38;5;124mall\u001b[39m\u001b[38;5;124m'\u001b[39m)\n\u001b[0;32m      5\u001b[0m contents\n",
      "\u001b[1;31mModuleNotFoundError\u001b[0m: No module named 'tabula'"
     ]
    }
   ],
   "source": [
    "# tabular\n",
    "import tabula\n",
    "\n",
    "contents=tabula.read_pdf(\"random.pdf\",pages='all')\n",
    "contents\n"
   ]
  },
  {
   "cell_type": "code",
   "execution_count": 8,
   "id": "db15708e",
   "metadata": {},
   "outputs": [
    {
     "ename": "NameError",
     "evalue": "name 'tabula' is not defined",
     "output_type": "error",
     "traceback": [
      "\u001b[1;31m---------------------------------------------------------------------------\u001b[0m",
      "\u001b[1;31mNameError\u001b[0m                                 Traceback (most recent call last)",
      "Cell \u001b[1;32mIn[8], line 2\u001b[0m\n\u001b[0;32m      1\u001b[0m \u001b[38;5;66;03m# conversion to csv\u001b[39;00m\n\u001b[1;32m----> 2\u001b[0m \u001b[43mtabula\u001b[49m\u001b[38;5;241m.\u001b[39mconvert_into(\u001b[38;5;124m\"\u001b[39m\u001b[38;5;124mrandom.pdf\u001b[39m\u001b[38;5;124m\"\u001b[39m,\u001b[38;5;124m\"\u001b[39m\u001b[38;5;124moutput_of_random.csv\u001b[39m\u001b[38;5;124m\"\u001b[39m,output_format\u001b[38;5;241m=\u001b[39m\u001b[38;5;124m'\u001b[39m\u001b[38;5;124mcsv\u001b[39m\u001b[38;5;124m'\u001b[39m,\n\u001b[0;32m      3\u001b[0m                    pages\u001b[38;5;241m=\u001b[39m\u001b[38;5;124m'\u001b[39m\u001b[38;5;124mall\u001b[39m\u001b[38;5;124m'\u001b[39m)\n",
      "\u001b[1;31mNameError\u001b[0m: name 'tabula' is not defined"
     ]
    }
   ],
   "source": [
    "# conversion to csv\n",
    "tabula.convert_into(\"random.pdf\",\"output_of_random.csv\",output_format='csv',\n",
    "                   pages='all')"
   ]
  },
  {
   "cell_type": "code",
   "execution_count": null,
   "id": "1e893dde",
   "metadata": {},
   "outputs": [],
   "source": []
  },
  {
   "cell_type": "code",
   "execution_count": 9,
   "id": "9ab4c6c6",
   "metadata": {},
   "outputs": [],
   "source": [
    "# Writing to pdf files\n"
   ]
  },
  {
   "cell_type": "code",
   "execution_count": 10,
   "id": "5c185081",
   "metadata": {},
   "outputs": [
    {
     "ename": "ModuleNotFoundError",
     "evalue": "No module named 'fpdf'",
     "output_type": "error",
     "traceback": [
      "\u001b[1;31m---------------------------------------------------------------------------\u001b[0m",
      "\u001b[1;31mModuleNotFoundError\u001b[0m                       Traceback (most recent call last)",
      "Cell \u001b[1;32mIn[10], line 1\u001b[0m\n\u001b[1;32m----> 1\u001b[0m \u001b[38;5;28;01mfrom\u001b[39;00m \u001b[38;5;21;01mfpdf\u001b[39;00m \u001b[38;5;28;01mimport\u001b[39;00m FPDF\n\u001b[0;32m      2\u001b[0m pdf\u001b[38;5;241m=\u001b[39mFPDF()\n\u001b[0;32m      3\u001b[0m pdf\u001b[38;5;241m.\u001b[39madd_page()\n",
      "\u001b[1;31mModuleNotFoundError\u001b[0m: No module named 'fpdf'"
     ]
    }
   ],
   "source": [
    "from fpdf import FPDF\n",
    "pdf=FPDF()\n",
    "pdf.add_page()\n",
    "pdf.set_font(\"Arial\",size=15)\n",
    "pdf.cell(200,10,txt='Python Bootcamp',ln=1,align=\"C\")\n",
    "\n",
    "pdf.cell(200,10,txt=\"I am going to be written toa pdf file using Python \")\n",
    "pdf.output(\"create_pdf.pdf\")"
   ]
  },
  {
   "cell_type": "code",
   "execution_count": 11,
   "id": "5f721fcf",
   "metadata": {},
   "outputs": [],
   "source": [
    "# Connecting to a database (MySql)"
   ]
  },
  {
   "cell_type": "code",
   "execution_count": 13,
   "id": "0269e347",
   "metadata": {},
   "outputs": [
    {
     "ename": "ModuleNotFoundError",
     "evalue": "No module named 'mysql'",
     "output_type": "error",
     "traceback": [
      "\u001b[1;31m---------------------------------------------------------------------------\u001b[0m",
      "\u001b[1;31mModuleNotFoundError\u001b[0m                       Traceback (most recent call last)",
      "Cell \u001b[1;32mIn[13], line 1\u001b[0m\n\u001b[1;32m----> 1\u001b[0m \u001b[38;5;28;01mimport\u001b[39;00m \u001b[38;5;21;01mmysql\u001b[39;00m\u001b[38;5;21;01m.\u001b[39;00m\u001b[38;5;21;01mconnector\u001b[39;00m\n\u001b[0;32m      2\u001b[0m \u001b[38;5;28;01mimport\u001b[39;00m \u001b[38;5;21;01mpandas\u001b[39;00m \u001b[38;5;28;01mas\u001b[39;00m \u001b[38;5;21;01mpd\u001b[39;00m\n",
      "\u001b[1;31mModuleNotFoundError\u001b[0m: No module named 'mysql'"
     ]
    }
   ],
   "source": [
    "import mysql.connector\n",
    "import pandas as pd"
   ]
  },
  {
   "cell_type": "code",
   "execution_count": 14,
   "id": "4e3f5542",
   "metadata": {},
   "outputs": [
    {
     "ename": "NameError",
     "evalue": "name 'mysql' is not defined",
     "output_type": "error",
     "traceback": [
      "\u001b[1;31m---------------------------------------------------------------------------\u001b[0m",
      "\u001b[1;31mNameError\u001b[0m                                 Traceback (most recent call last)",
      "Cell \u001b[1;32mIn[14], line 1\u001b[0m\n\u001b[1;32m----> 1\u001b[0m mydb\u001b[38;5;241m=\u001b[39m\u001b[43mmysql\u001b[49m\u001b[38;5;241m.\u001b[39mconnector\u001b[38;5;241m.\u001b[39mconnect(\n\u001b[0;32m      2\u001b[0m host\u001b[38;5;241m=\u001b[39m\u001b[38;5;124m'\u001b[39m\u001b[38;5;124mlocalhost\u001b[39m\u001b[38;5;124m'\u001b[39m,\n\u001b[0;32m      3\u001b[0m user\u001b[38;5;241m=\u001b[39m\u001b[38;5;124m'\u001b[39m\u001b[38;5;124mroot\u001b[39m\u001b[38;5;124m'\u001b[39m,\n\u001b[0;32m      4\u001b[0m password\u001b[38;5;241m=\u001b[39m\u001b[38;5;124m'\u001b[39m\u001b[38;5;124m00000\u001b[39m\u001b[38;5;124m'\u001b[39m,\n\u001b[0;32m      5\u001b[0m database\u001b[38;5;241m=\u001b[39m\u001b[38;5;124m'\u001b[39m\u001b[38;5;124msakila\u001b[39m\u001b[38;5;124m'\u001b[39m)\n",
      "\u001b[1;31mNameError\u001b[0m: name 'mysql' is not defined"
     ]
    }
   ],
   "source": [
    "mydb=mysql.connector.connect(\n",
    "host='localhost',\n",
    "user='root',\n",
    "password='00000',\n",
    "database='sakila')\n"
   ]
  },
  {
   "cell_type": "code",
   "execution_count": null,
   "id": "54baa0a9",
   "metadata": {},
   "outputs": [],
   "source": []
  },
  {
   "cell_type": "code",
   "execution_count": 16,
   "id": "041e29ce",
   "metadata": {},
   "outputs": [
    {
     "ename": "NameError",
     "evalue": "name 'mydb' is not defined",
     "output_type": "error",
     "traceback": [
      "\u001b[1;31m---------------------------------------------------------------------------\u001b[0m",
      "\u001b[1;31mNameError\u001b[0m                                 Traceback (most recent call last)",
      "Cell \u001b[1;32mIn[16], line 1\u001b[0m\n\u001b[1;32m----> 1\u001b[0m mycursor\u001b[38;5;241m=\u001b[39m\u001b[43mmydb\u001b[49m\u001b[38;5;241m.\u001b[39mcursor()\n\u001b[0;32m      2\u001b[0m mycursor\u001b[38;5;241m.\u001b[39mexecute(\u001b[38;5;124m\"\u001b[39m\u001b[38;5;124mSELECT * FROM customer\u001b[39m\u001b[38;5;124m\"\u001b[39m)\n\u001b[0;32m      3\u001b[0m myresult\u001b[38;5;241m=\u001b[39mmycursor\u001b[38;5;241m.\u001b[39mfetchall()\n",
      "\u001b[1;31mNameError\u001b[0m: name 'mydb' is not defined"
     ]
    }
   ],
   "source": [
    "mycursor=mydb.cursor()\n",
    "mycursor.execute(\"SELECT * FROM customer\")\n",
    "myresult=mycursor.fetchall()\n",
    "\n",
    "for x in myresult:\n",
    "    print(x)"
   ]
  },
  {
   "cell_type": "code",
   "execution_count": null,
   "id": "7bc920e9",
   "metadata": {},
   "outputs": [],
   "source": []
  },
  {
   "cell_type": "code",
   "execution_count": 18,
   "id": "f01640be",
   "metadata": {},
   "outputs": [
    {
     "ename": "NameError",
     "evalue": "name 'pd' is not defined",
     "output_type": "error",
     "traceback": [
      "\u001b[1;31m---------------------------------------------------------------------------\u001b[0m",
      "\u001b[1;31mNameError\u001b[0m                                 Traceback (most recent call last)",
      "Cell \u001b[1;32mIn[18], line 1\u001b[0m\n\u001b[1;32m----> 1\u001b[0m df\u001b[38;5;241m=\u001b[39m\u001b[43mpd\u001b[49m\u001b[38;5;241m.\u001b[39mDataFrame(myresult)\n\u001b[0;32m      2\u001b[0m col_names\u001b[38;5;241m=\u001b[39m[row[\u001b[38;5;241m0\u001b[39m] \u001b[38;5;28;01mfor\u001b[39;00m row \u001b[38;5;129;01min\u001b[39;00m mycursor\u001b[38;5;241m.\u001b[39mdescription]\n\u001b[0;32m      3\u001b[0m df\u001b[38;5;241m.\u001b[39mcolumns\u001b[38;5;241m=\u001b[39mcol_names\n",
      "\u001b[1;31mNameError\u001b[0m: name 'pd' is not defined"
     ]
    }
   ],
   "source": [
    "df=pd.DataFrame(myresult)\n",
    "col_names=[row[0] for row in mycursor.description]\n",
    "df.columns=col_names\n",
    "df.dropna(axis=1,how='all',inplace=True)\n",
    "df.head(10)"
   ]
  },
  {
   "cell_type": "code",
   "execution_count": 19,
   "id": "c12dc7ef",
   "metadata": {},
   "outputs": [
    {
     "ename": "NameError",
     "evalue": "name 'df' is not defined",
     "output_type": "error",
     "traceback": [
      "\u001b[1;31m---------------------------------------------------------------------------\u001b[0m",
      "\u001b[1;31mNameError\u001b[0m                                 Traceback (most recent call last)",
      "Cell \u001b[1;32mIn[19], line 1\u001b[0m\n\u001b[1;32m----> 1\u001b[0m \u001b[43mdf\u001b[49m[df[\u001b[38;5;124m'\u001b[39m\u001b[38;5;124mfirst_name\u001b[39m\u001b[38;5;124m'\u001b[39m]\u001b[38;5;241m==\u001b[39m\u001b[38;5;124m'\u001b[39m\u001b[38;5;124mMARY\u001b[39m\u001b[38;5;124m'\u001b[39m]\n",
      "\u001b[1;31mNameError\u001b[0m: name 'df' is not defined"
     ]
    }
   ],
   "source": [
    "df[df['first_name']=='MARY']"
   ]
  },
  {
   "cell_type": "code",
   "execution_count": null,
   "id": "3f7684f1",
   "metadata": {},
   "outputs": [],
   "source": []
  }
 ],
 "metadata": {
  "kernelspec": {
   "display_name": "Python 3 (ipykernel)",
   "language": "python",
   "name": "python3"
  },
  "language_info": {
   "codemirror_mode": {
    "name": "ipython",
    "version": 3
   },
   "file_extension": ".py",
   "mimetype": "text/x-python",
   "name": "python",
   "nbconvert_exporter": "python",
   "pygments_lexer": "ipython3",
   "version": "3.10.9"
  }
 },
 "nbformat": 4,
 "nbformat_minor": 5
}

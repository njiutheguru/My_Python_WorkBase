{
 "cells": [
  {
   "cell_type": "code",
   "execution_count": 1,
   "id": "f3fe8527",
   "metadata": {},
   "outputs": [],
   "source": [
    "# The HangMan Game in Python"
   ]
  },
  {
   "cell_type": "markdown",
   "id": "abd72b96",
   "metadata": {},
   "source": [
    "# HangMan"
   ]
  },
  {
   "cell_type": "markdown",
   "id": "cee85a89",
   "metadata": {},
   "source": [
    "Games Ltd wnat to add to their collection of online games. they would like you to produce\n",
    "a version of the popular game HangMan!"
   ]
  },
  {
   "cell_type": "markdown",
   "id": "3aa51c56",
   "metadata": {},
   "source": [
    "<strong> The application should:"
   ]
  },
  {
   "cell_type": "markdown",
   "id": "c2bb784c",
   "metadata": {},
   "source": [
    "- Obtain a randomly selected word from a file called words.py\n",
    "- Allow a user to  guess a letter or a word\n",
    "- If a letter is guessed correctly, the player wins\n",
    "- The player should get 6 tries. After 6 tries, the game is over"
   ]
  },
  {
   "cell_type": "markdown",
   "id": "6fefceb5",
   "metadata": {},
   "source": [
    "<strong> The application can be broken into the following tasks:\n",
    "    "
   ]
  },
  {
   "cell_type": "markdown",
   "id": "81b2d62a",
   "metadata": {},
   "source": [
    "1. Create a function that obtains a randomly selected word from a separate file called words.py\n",
    "2. Create a function that deals with all of the game logic\n",
    "3. Create a function that creates an image of the hangman states after each try (head, body, arms and legs)\n",
    "4. Create  a function that checks to see if a user wants to play the game again\n",
    "5. Produce and call a function that combines the above functins into a single program"
   ]
  },
  {
   "cell_type": "code",
   "execution_count": 2,
   "id": "b548989c",
   "metadata": {},
   "outputs": [],
   "source": [
    "# imports\n",
    "from IPython.display import clear_output\n",
    "import random\n",
    "from words import word_list\n"
   ]
  },
  {
   "cell_type": "markdown",
   "id": "ee694510",
   "metadata": {},
   "source": [
    "# game logic"
   ]
  },
  {
   "cell_type": "code",
   "execution_count": 3,
   "id": "efbddd93",
   "metadata": {},
   "outputs": [
    {
     "data": {
      "text/plain": [
       "['apple', 'python', 'football', 'jelly', 'office']"
      ]
     },
     "execution_count": 3,
     "metadata": {},
     "output_type": "execute_result"
    }
   ],
   "source": [
    "word_list"
   ]
  },
  {
   "cell_type": "code",
   "execution_count": 4,
   "id": "0be58285",
   "metadata": {},
   "outputs": [],
   "source": [
    "def get_word():\n",
    "    word=random.choice(word_list)\n",
    "    return word.upper()"
   ]
  },
  {
   "cell_type": "code",
   "execution_count": 5,
   "id": "0ff05d50",
   "metadata": {},
   "outputs": [],
   "source": [
    "# get_word()"
   ]
  },
  {
   "cell_type": "code",
   "execution_count": 6,
   "id": "3b8f0821",
   "metadata": {},
   "outputs": [],
   "source": [
    "# function that deal with all game logic..\n",
    "def play(word):\n",
    "    word_status=\"-\" * len(word)\n",
    "    guessed=False\n",
    "    guessed_letters=[]\n",
    "    guessed_words=[]\n",
    "    tries=6\n",
    "    name=input(\"What is your name?: \")\n",
    "    clear_output()\n",
    "    \n",
    "    print(\"Welcome to the Hangman gane \" + name +\"!\")\n",
    "    print(display_hangman(tries))\n",
    "    \n",
    "    print(word_status)\n",
    "    print(\"\")\n",
    "    while not guessed and tries > 0:\n",
    "        guess=input(\"Please guess a letter or a word:\").upper()\n",
    "        \n",
    "        if len(guess)==1 and guess.isalpha():\n",
    "            if guess in guessed_letters:\n",
    "                print(\"You have already guessed the letter {}. Try Again to win the game!\".format(guess))\n",
    "            elif guess not in word:\n",
    "                print(\" {} is not in the word.\".format(guess))\n",
    "                tries -=1\n",
    "                guessed_letters.append(guess)\n",
    "            else:\n",
    "                print(\"Nicely done! {} is in the word! \".format(guess))\n",
    "                guessed_letters.append(guess)\n",
    "                \n",
    "                word_as_list=list(word_status)\n",
    "                \n",
    "                indices=[i for i, letter in enumerate(word) if letter==guess]\n",
    "                \n",
    "                for index in indices: \n",
    "                    word_as_list[index]=guess\n",
    "                word_status=\"\".join(word_as_list)\n",
    "                \n",
    "                if \"-\" not in word_status:\n",
    "                    guessed=True\n",
    "                    \n",
    "        elif len(guess)==len(word) and guess.isalpha():\n",
    "            if guess in guessed_words:\n",
    "                print(\"You have already guessed the word {}.\".format(guess))\n",
    "                \n",
    "            elif guess !=word:\n",
    "                print(guess + \"is not in the word.\")\n",
    "                tries-=1\n",
    "                guessed_letters.append(guess)\n",
    "                \n",
    "            else:\n",
    "                guessed= True\n",
    "                word_status=word\n",
    "                \n",
    "        else:\n",
    "            print(\"Not a valid guess.\")\n",
    "            \n",
    "        print(display_hangman(tries))\n",
    "        print(word_status)\n",
    "        print(\"\")\n",
    "        \n",
    "        if guessed:\n",
    "            print(\"congratulations! You guessed the word! Your win!\")\n",
    "            \n",
    "        else:\n",
    "            print(display_hangman(0))\n",
    "            print(\"\")\n",
    "            print(\"Sorry, you ran out of tries. The word was\"+word+ \" Better luck next time\")\n",
    "                \n",
    "                \n",
    "                \n",
    "                \n",
    "                \n",
    "                \n",
    "                \n",
    "                \n",
    "                \n",
    "                \n",
    "                \n",
    "                \n",
    "                "
   ]
  },
  {
   "cell_type": "code",
   "execution_count": 7,
   "id": "401be756",
   "metadata": {},
   "outputs": [],
   "source": [
    "# Image Creation\n",
    "def display_hangman(tries):\n",
    "    states=['Image 6','Image 5','Image 4','Image 3','Image 2','Image 1','Initial Image']\n",
    "    return states[tries]"
   ]
  },
  {
   "cell_type": "code",
   "execution_count": 8,
   "id": "591c75d3",
   "metadata": {},
   "outputs": [],
   "source": [
    "# does the user wants to play again"
   ]
  },
  {
   "cell_type": "code",
   "execution_count": 9,
   "id": "f53f2cc4",
   "metadata": {},
   "outputs": [],
   "source": [
    "def play_again():\n",
    "    replay=input(\"Play Again? (Y/N)\").lower()\n",
    "    if replay=='y':\n",
    "        return True\n",
    "    else:\n",
    "        return False"
   ]
  },
  {
   "cell_type": "code",
   "execution_count": 10,
   "id": "f09857fc",
   "metadata": {},
   "outputs": [],
   "source": [
    "def main():\n",
    "    while True:\n",
    "        word=get_word()\n",
    "        play(word)\n",
    "        if not play_again():\n",
    "            print(\"Hope to see you soon!\")\n",
    "            break"
   ]
  },
  {
   "cell_type": "code",
   "execution_count": 11,
   "id": "f140dd6c",
   "metadata": {},
   "outputs": [
    {
     "name": "stdout",
     "output_type": "stream",
     "text": [
      "Welcome to the Hangman gane Stephen!\n",
      "Initial Image\n",
      "------\n",
      "\n",
      "Please guess a letter or a word:a\n",
      " A is not in the word.\n",
      "Image 1\n",
      "------\n",
      "\n",
      "Image 6\n",
      "\n",
      "Sorry, you ran out of tries. The word wasOFFICE Better luck next time\n",
      "Please guess a letter or a word:o\n",
      "Nicely done! O is in the word! \n",
      "Image 1\n",
      "O-----\n",
      "\n",
      "Image 6\n",
      "\n",
      "Sorry, you ran out of tries. The word wasOFFICE Better luck next time\n",
      "Please guess a letter or a word:f\n",
      "Nicely done! F is in the word! \n",
      "Image 1\n",
      "OFF---\n",
      "\n",
      "Image 6\n",
      "\n",
      "Sorry, you ran out of tries. The word wasOFFICE Better luck next time\n",
      "Please guess a letter or a word:ice\n",
      "Not a valid guess.\n",
      "Image 1\n",
      "OFF---\n",
      "\n",
      "Image 6\n",
      "\n",
      "Sorry, you ran out of tries. The word wasOFFICE Better luck next time\n",
      "Please guess a letter or a word:i\n",
      "Nicely done! I is in the word! \n",
      "Image 1\n",
      "OFFI--\n",
      "\n",
      "Image 6\n",
      "\n",
      "Sorry, you ran out of tries. The word wasOFFICE Better luck next time\n",
      "Please guess a letter or a word:c\n",
      "Nicely done! C is in the word! \n",
      "Image 1\n",
      "OFFIC-\n",
      "\n",
      "Image 6\n",
      "\n",
      "Sorry, you ran out of tries. The word wasOFFICE Better luck next time\n",
      "Please guess a letter or a word:e\n",
      "Nicely done! E is in the word! \n",
      "Image 1\n",
      "OFFICE\n",
      "\n",
      "congratulations! You guessed the word! Your win!\n",
      "Play Again? (Y/N)n\n",
      "Hope to see you soon!\n"
     ]
    }
   ],
   "source": [
    "main()"
   ]
  }
 ],
 "metadata": {
  "kernelspec": {
   "display_name": "Python 3 (ipykernel)",
   "language": "python",
   "name": "python3"
  },
  "language_info": {
   "codemirror_mode": {
    "name": "ipython",
    "version": 3
   },
   "file_extension": ".py",
   "mimetype": "text/x-python",
   "name": "python",
   "nbconvert_exporter": "python",
   "pygments_lexer": "ipython3",
   "version": "3.10.9"
  }
 },
 "nbformat": 4,
 "nbformat_minor": 5
}

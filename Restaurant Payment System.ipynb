{
 "cells": [
  {
   "cell_type": "markdown",
   "id": "42aeb4d1",
   "metadata": {},
   "source": [
    "## The Restaurant Payment System"
   ]
  },
  {
   "cell_type": "markdown",
   "id": "99ebcb00",
   "metadata": {},
   "source": [
    "Foodie Ltd have started a new restaurant and they would like\n",
    "you to build them a new payment system to help them handle the billing!\n",
    "\n",
    "The application should:\n",
    "- Allow a staff member to input a customers food order\n",
    "- Allow for a total bill to be generated including any related taxes\n",
    "- Include a calculator for simple additions\n",
    "- Observe the food price list in case a customer requests this information\n",
    "\n",
    "The application can be broken down into the following tasks:\n",
    "\n",
    "1. Design the Restaurant Payment System layout\n",
    "2. Create frames that will store all of the relevant widgets for your app\n",
    "3. Include widgets and functions that you require and place them within the respective frames\n",
    "4. Include the calculator that we created in the last section. Challenge: Try to have it so the restaurant app simply calls a function that generates the calculator rather than copy and pasting the code"
   ]
  },
  {
   "cell_type": "code",
   "execution_count": null,
   "id": "10f35a6c",
   "metadata": {},
   "outputs": [],
   "source": []
  }
 ],
 "metadata": {
  "kernelspec": {
   "display_name": "Python 3 (ipykernel)",
   "language": "python",
   "name": "python3"
  },
  "language_info": {
   "codemirror_mode": {
    "name": "ipython",
    "version": 3
   },
   "file_extension": ".py",
   "mimetype": "text/x-python",
   "name": "python",
   "nbconvert_exporter": "python",
   "pygments_lexer": "ipython3",
   "version": "3.10.9"
  }
 },
 "nbformat": 4,
 "nbformat_minor": 5
}

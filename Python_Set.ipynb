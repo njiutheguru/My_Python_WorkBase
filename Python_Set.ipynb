{
 "cells": [
  {
   "cell_type": "code",
   "execution_count": 1,
   "id": "c9bc278a",
   "metadata": {},
   "outputs": [],
   "source": [
    "#introducing sets..DSA"
   ]
  },
  {
   "cell_type": "code",
   "execution_count": 2,
   "id": "1aecb42f",
   "metadata": {},
   "outputs": [],
   "source": [
    "# A set is unordered collection of items"
   ]
  },
  {
   "cell_type": "code",
   "execution_count": 3,
   "id": "a4e5fa9d",
   "metadata": {},
   "outputs": [],
   "source": [
    "#every item is unique"
   ]
  },
  {
   "cell_type": "code",
   "execution_count": 4,
   "id": "08644bd4",
   "metadata": {},
   "outputs": [],
   "source": [
    "# Every element must be immutable\n",
    "# A set itself is mutable"
   ]
  },
  {
   "cell_type": "code",
   "execution_count": 5,
   "id": "e6ea547c",
   "metadata": {},
   "outputs": [],
   "source": [
    "# A set can be used to perfom mathematical set Operations.."
   ]
  },
  {
   "cell_type": "code",
   "execution_count": 6,
   "id": "bd4757dc",
   "metadata": {},
   "outputs": [],
   "source": [
    "# creating a set\n",
    "my_set = {1,2,3,4}"
   ]
  },
  {
   "cell_type": "code",
   "execution_count": 7,
   "id": "7f185adf",
   "metadata": {},
   "outputs": [
    {
     "data": {
      "text/plain": [
       "set"
      ]
     },
     "execution_count": 7,
     "metadata": {},
     "output_type": "execute_result"
    }
   ],
   "source": [
    "type(my_set)"
   ]
  },
  {
   "cell_type": "code",
   "execution_count": 8,
   "id": "deca0feb",
   "metadata": {},
   "outputs": [],
   "source": [
    "my_set_1={9.2,'hello',(1,2,4,5)}"
   ]
  },
  {
   "cell_type": "code",
   "execution_count": 9,
   "id": "d7a61b57",
   "metadata": {},
   "outputs": [],
   "source": [
    "# Set does not contain duplicates"
   ]
  },
  {
   "cell_type": "code",
   "execution_count": 10,
   "id": "11559a19",
   "metadata": {},
   "outputs": [],
   "source": [
    "my_set_2={1,1,2,4,5,6,7,6,4}"
   ]
  },
  {
   "cell_type": "code",
   "execution_count": 11,
   "id": "5878561f",
   "metadata": {},
   "outputs": [
    {
     "data": {
      "text/plain": [
       "{1, 2, 4, 5, 6, 7}"
      ]
     },
     "execution_count": 11,
     "metadata": {},
     "output_type": "execute_result"
    }
   ],
   "source": [
    "my_set_2"
   ]
  },
  {
   "cell_type": "code",
   "execution_count": 12,
   "id": "d9389cda",
   "metadata": {},
   "outputs": [],
   "source": [
    "my_set_3=set([1,1,2,2,4,4])"
   ]
  },
  {
   "cell_type": "code",
   "execution_count": 13,
   "id": "b7800134",
   "metadata": {},
   "outputs": [
    {
     "data": {
      "text/plain": [
       "{1, 2, 4}"
      ]
     },
     "execution_count": 13,
     "metadata": {},
     "output_type": "execute_result"
    }
   ],
   "source": [
    "my_set_3"
   ]
  },
  {
   "cell_type": "code",
   "execution_count": 14,
   "id": "aad5e6fe",
   "metadata": {},
   "outputs": [
    {
     "ename": "TypeError",
     "evalue": "unhashable type: 'list'",
     "output_type": "error",
     "traceback": [
      "\u001b[1;31m---------------------------------------------------------------------------\u001b[0m",
      "\u001b[1;31mTypeError\u001b[0m                                 Traceback (most recent call last)",
      "Cell \u001b[1;32mIn[14], line 1\u001b[0m\n\u001b[1;32m----> 1\u001b[0m set_3\u001b[38;5;241m=\u001b[39m{\u001b[38;5;241m1\u001b[39m,\u001b[38;5;241m2\u001b[39m,[\u001b[38;5;241m3\u001b[39m,\u001b[38;5;241m4\u001b[39m]}\n",
      "\u001b[1;31mTypeError\u001b[0m: unhashable type: 'list'"
     ]
    }
   ],
   "source": [
    "set_3={1,2,[3,4]} #unhashable list..in puthon"
   ]
  },
  {
   "cell_type": "code",
   "execution_count": 15,
   "id": "574cffe9",
   "metadata": {},
   "outputs": [
    {
     "data": {
      "text/plain": [
       "dict"
      ]
     },
     "execution_count": 15,
     "metadata": {},
     "output_type": "execute_result"
    }
   ],
   "source": [
    "my_dict={}\n",
    "type(my_dict)"
   ]
  },
  {
   "cell_type": "code",
   "execution_count": 16,
   "id": "a390760e",
   "metadata": {},
   "outputs": [
    {
     "data": {
      "text/plain": [
       "set"
      ]
     },
     "execution_count": 16,
     "metadata": {},
     "output_type": "execute_result"
    }
   ],
   "source": [
    "my_dict=set()\n",
    "type(my_dict)"
   ]
  },
  {
   "cell_type": "code",
   "execution_count": 17,
   "id": "a3d6ab61",
   "metadata": {},
   "outputs": [],
   "source": [
    "#modifying a set"
   ]
  },
  {
   "cell_type": "code",
   "execution_count": 18,
   "id": "2ef42d59",
   "metadata": {},
   "outputs": [],
   "source": [
    "my_set={1,2,3}"
   ]
  },
  {
   "cell_type": "code",
   "execution_count": 20,
   "id": "cb276aa6",
   "metadata": {},
   "outputs": [
    {
     "ename": "TypeError",
     "evalue": "'set' object is not subscriptable",
     "output_type": "error",
     "traceback": [
      "\u001b[1;31m---------------------------------------------------------------------------\u001b[0m",
      "\u001b[1;31mTypeError\u001b[0m                                 Traceback (most recent call last)",
      "Cell \u001b[1;32mIn[20], line 1\u001b[0m\n\u001b[1;32m----> 1\u001b[0m \u001b[43mmy_set\u001b[49m\u001b[43m[\u001b[49m\u001b[38;5;241;43m0\u001b[39;49m\u001b[43m]\u001b[49m\n",
      "\u001b[1;31mTypeError\u001b[0m: 'set' object is not subscriptable"
     ]
    }
   ],
   "source": [
    "my_set[0] #we cannot use indexing, we use methods"
   ]
  },
  {
   "cell_type": "code",
   "execution_count": null,
   "id": "516c47e6",
   "metadata": {},
   "outputs": [],
   "source": []
  },
  {
   "cell_type": "code",
   "execution_count": 21,
   "id": "d2e97efd",
   "metadata": {},
   "outputs": [],
   "source": [
    "my_set.add(4)"
   ]
  },
  {
   "cell_type": "code",
   "execution_count": 22,
   "id": "a8b21145",
   "metadata": {},
   "outputs": [
    {
     "name": "stdout",
     "output_type": "stream",
     "text": [
      "{1, 2, 3, 4}\n"
     ]
    }
   ],
   "source": [
    "print(my_set)"
   ]
  },
  {
   "cell_type": "code",
   "execution_count": 23,
   "id": "0951f93a",
   "metadata": {},
   "outputs": [],
   "source": [
    "#update methods"
   ]
  },
  {
   "cell_type": "code",
   "execution_count": 24,
   "id": "cc6031f7",
   "metadata": {},
   "outputs": [
    {
     "data": {
      "text/plain": [
       "{1, 2, 3, 4, 5, 6, 7}"
      ]
     },
     "execution_count": 24,
     "metadata": {},
     "output_type": "execute_result"
    }
   ],
   "source": [
    "my_set.update([6,5,7])\n",
    "my_set"
   ]
  },
  {
   "cell_type": "code",
   "execution_count": 26,
   "id": "497de2ef",
   "metadata": {},
   "outputs": [],
   "source": [
    "my_set.update([8,9],{1,3,33})"
   ]
  },
  {
   "cell_type": "code",
   "execution_count": 27,
   "id": "3a4b52da",
   "metadata": {},
   "outputs": [
    {
     "data": {
      "text/plain": [
       "{1, 2, 3, 4, 5, 6, 7, 8, 9, 33}"
      ]
     },
     "execution_count": 27,
     "metadata": {},
     "output_type": "execute_result"
    }
   ],
   "source": [
    "my_set"
   ]
  },
  {
   "cell_type": "code",
   "execution_count": 28,
   "id": "6f5848ca",
   "metadata": {},
   "outputs": [],
   "source": [
    "# Removing elements from sets"
   ]
  },
  {
   "cell_type": "code",
   "execution_count": 29,
   "id": "d75634c6",
   "metadata": {},
   "outputs": [],
   "source": [
    " my_set={1,2,3,4,5}"
   ]
  },
  {
   "cell_type": "code",
   "execution_count": 30,
   "id": "3202996f",
   "metadata": {},
   "outputs": [],
   "source": [
    "my_set.discard(5) # 5 is removed"
   ]
  },
  {
   "cell_type": "code",
   "execution_count": 31,
   "id": "3730ca1b",
   "metadata": {},
   "outputs": [
    {
     "data": {
      "text/plain": [
       "{1, 2, 3, 4}"
      ]
     },
     "execution_count": 31,
     "metadata": {},
     "output_type": "execute_result"
    }
   ],
   "source": [
    "my_set"
   ]
  },
  {
   "cell_type": "code",
   "execution_count": 32,
   "id": "39f7e0eb",
   "metadata": {},
   "outputs": [
    {
     "data": {
      "text/plain": [
       "{1, 2, 3}"
      ]
     },
     "execution_count": 32,
     "metadata": {},
     "output_type": "execute_result"
    }
   ],
   "source": [
    "my_set.remove(4) # 4 is removed\n",
    "my_set"
   ]
  },
  {
   "cell_type": "code",
   "execution_count": 33,
   "id": "009e78d2",
   "metadata": {},
   "outputs": [],
   "source": [
    "my_set.discard(6) #gives no error"
   ]
  },
  {
   "cell_type": "code",
   "execution_count": 34,
   "id": "33908477",
   "metadata": {},
   "outputs": [
    {
     "ename": "KeyError",
     "evalue": "5",
     "output_type": "error",
     "traceback": [
      "\u001b[1;31m---------------------------------------------------------------------------\u001b[0m",
      "\u001b[1;31mKeyError\u001b[0m                                  Traceback (most recent call last)",
      "Cell \u001b[1;32mIn[34], line 1\u001b[0m\n\u001b[1;32m----> 1\u001b[0m \u001b[43mmy_set\u001b[49m\u001b[38;5;241;43m.\u001b[39;49m\u001b[43mremove\u001b[49m\u001b[43m(\u001b[49m\u001b[38;5;241;43m5\u001b[39;49m\u001b[43m)\u001b[49m\n",
      "\u001b[1;31mKeyError\u001b[0m: 5"
     ]
    }
   ],
   "source": [
    "my_set.remove(5) #gives an error"
   ]
  },
  {
   "cell_type": "code",
   "execution_count": 35,
   "id": "3fb2b8af",
   "metadata": {},
   "outputs": [
    {
     "data": {
      "text/plain": [
       "{'P', 'h', 'n', 'o', 't', 'y'}"
      ]
     },
     "execution_count": 35,
     "metadata": {},
     "output_type": "execute_result"
    }
   ],
   "source": [
    "#randomness\n",
    "my_set=set('Python')\n",
    "my_set"
   ]
  },
  {
   "cell_type": "code",
   "execution_count": 43,
   "id": "1b33178a",
   "metadata": {},
   "outputs": [
    {
     "ename": "KeyError",
     "evalue": "'pop from an empty set'",
     "output_type": "error",
     "traceback": [
      "\u001b[1;31m---------------------------------------------------------------------------\u001b[0m",
      "\u001b[1;31mKeyError\u001b[0m                                  Traceback (most recent call last)",
      "Cell \u001b[1;32mIn[43], line 1\u001b[0m\n\u001b[1;32m----> 1\u001b[0m \u001b[43mmy_set\u001b[49m\u001b[38;5;241;43m.\u001b[39;49m\u001b[43mpop\u001b[49m\u001b[43m(\u001b[49m\u001b[43m)\u001b[49m\n",
      "\u001b[1;31mKeyError\u001b[0m: 'pop from an empty set'"
     ]
    }
   ],
   "source": [
    "my_set.pop() #items are deleted in a random way"
   ]
  },
  {
   "cell_type": "code",
   "execution_count": 45,
   "id": "e09830a1",
   "metadata": {},
   "outputs": [],
   "source": [
    " #using clear and del\n",
    "my_set.clear()"
   ]
  },
  {
   "cell_type": "code",
   "execution_count": 46,
   "id": "646523b4",
   "metadata": {},
   "outputs": [
    {
     "data": {
      "text/plain": [
       "set()"
      ]
     },
     "execution_count": 46,
     "metadata": {},
     "output_type": "execute_result"
    }
   ],
   "source": [
    "my_set"
   ]
  },
  {
   "cell_type": "code",
   "execution_count": 48,
   "id": "31e20af7",
   "metadata": {},
   "outputs": [],
   "source": [
    "del my_set"
   ]
  },
  {
   "cell_type": "code",
   "execution_count": 50,
   "id": "8726e9a7",
   "metadata": {},
   "outputs": [
    {
     "ename": "NameError",
     "evalue": "name 'my_set' is not defined",
     "output_type": "error",
     "traceback": [
      "\u001b[1;31m---------------------------------------------------------------------------\u001b[0m",
      "\u001b[1;31mNameError\u001b[0m                                 Traceback (most recent call last)",
      "Cell \u001b[1;32mIn[50], line 1\u001b[0m\n\u001b[1;32m----> 1\u001b[0m \u001b[43mmy_set\u001b[49m\n",
      "\u001b[1;31mNameError\u001b[0m: name 'my_set' is not defined"
     ]
    }
   ],
   "source": [
    "my_set # my_set does not curently exist"
   ]
  },
  {
   "cell_type": "code",
   "execution_count": null,
   "id": "bf2c5d74",
   "metadata": {},
   "outputs": [],
   "source": []
  },
  {
   "cell_type": "code",
   "execution_count": 51,
   "id": "20f0c5a4",
   "metadata": {},
   "outputs": [],
   "source": [
    "#deleting elements from a tuple\n",
    "#tuple does not support deletion of specific elements in a tuple but \n",
    "#the whole tuple can be deleted by using the del keyword.."
   ]
  },
  {
   "cell_type": "code",
   "execution_count": 53,
   "id": "62002ca1",
   "metadata": {},
   "outputs": [],
   "source": [
    "#set operations UNION\n",
    "a={1,2,3,4,5,6}\n",
    "b={4,5,6,7,8,9}"
   ]
  },
  {
   "cell_type": "code",
   "execution_count": 54,
   "id": "52f5bc4c",
   "metadata": {},
   "outputs": [
    {
     "data": {
      "text/plain": [
       "{1, 2, 3, 4, 5, 6, 7, 8, 9}"
      ]
     },
     "execution_count": 54,
     "metadata": {},
     "output_type": "execute_result"
    }
   ],
   "source": [
    "a | b\n"
   ]
  },
  {
   "cell_type": "code",
   "execution_count": 55,
   "id": "f70276f3",
   "metadata": {},
   "outputs": [
    {
     "data": {
      "text/plain": [
       "{1, 2, 3, 4, 5, 6, 7, 8, 9}"
      ]
     },
     "execution_count": 55,
     "metadata": {},
     "output_type": "execute_result"
    }
   ],
   "source": [
    "a.union(b)"
   ]
  },
  {
   "cell_type": "code",
   "execution_count": 56,
   "id": "4b1b3fc1",
   "metadata": {},
   "outputs": [
    {
     "data": {
      "text/plain": [
       "{1, 2, 3, 4, 5, 6, 7, 8, 9}"
      ]
     },
     "execution_count": 56,
     "metadata": {},
     "output_type": "execute_result"
    }
   ],
   "source": [
    "b.union(a)"
   ]
  },
  {
   "cell_type": "code",
   "execution_count": 57,
   "id": "62fa9afe",
   "metadata": {},
   "outputs": [],
   "source": [
    "#set Intersections '&'"
   ]
  },
  {
   "cell_type": "code",
   "execution_count": 58,
   "id": "76600e7f",
   "metadata": {},
   "outputs": [
    {
     "data": {
      "text/plain": [
       "{4, 5, 6}"
      ]
     },
     "execution_count": 58,
     "metadata": {},
     "output_type": "execute_result"
    }
   ],
   "source": [
    "a&b"
   ]
  },
  {
   "cell_type": "code",
   "execution_count": 59,
   "id": "1f41b232",
   "metadata": {},
   "outputs": [
    {
     "data": {
      "text/plain": [
       "{4, 5, 6}"
      ]
     },
     "execution_count": 59,
     "metadata": {},
     "output_type": "execute_result"
    }
   ],
   "source": [
    "a.intersection(b)"
   ]
  },
  {
   "cell_type": "code",
   "execution_count": 60,
   "id": "7e8e2263",
   "metadata": {},
   "outputs": [
    {
     "data": {
      "text/plain": [
       "{4, 5, 6}"
      ]
     },
     "execution_count": 60,
     "metadata": {},
     "output_type": "execute_result"
    }
   ],
   "source": [
    "b.intersection(a)"
   ]
  },
  {
   "cell_type": "code",
   "execution_count": 61,
   "id": "26d73d13",
   "metadata": {},
   "outputs": [],
   "source": [
    "# Set Difference"
   ]
  },
  {
   "cell_type": "code",
   "execution_count": 62,
   "id": "a3559169",
   "metadata": {},
   "outputs": [
    {
     "data": {
      "text/plain": [
       "{1, 2, 3}"
      ]
     },
     "execution_count": 62,
     "metadata": {},
     "output_type": "execute_result"
    }
   ],
   "source": [
    "a-b #unique values in a"
   ]
  },
  {
   "cell_type": "code",
   "execution_count": 63,
   "id": "a4a52b2b",
   "metadata": {},
   "outputs": [
    {
     "data": {
      "text/plain": [
       "{7, 8, 9}"
      ]
     },
     "execution_count": 63,
     "metadata": {},
     "output_type": "execute_result"
    }
   ],
   "source": [
    "b-a #unique values in b"
   ]
  },
  {
   "cell_type": "code",
   "execution_count": 64,
   "id": "140570b6",
   "metadata": {},
   "outputs": [
    {
     "data": {
      "text/plain": [
       "{1, 2, 3}"
      ]
     },
     "execution_count": 64,
     "metadata": {},
     "output_type": "execute_result"
    }
   ],
   "source": [
    "a.difference(b)"
   ]
  },
  {
   "cell_type": "code",
   "execution_count": 65,
   "id": "231a3b47",
   "metadata": {},
   "outputs": [
    {
     "data": {
      "text/plain": [
       "{7, 8, 9}"
      ]
     },
     "execution_count": 65,
     "metadata": {},
     "output_type": "execute_result"
    }
   ],
   "source": [
    "b.difference(a)"
   ]
  },
  {
   "cell_type": "code",
   "execution_count": 66,
   "id": "8b8372ff",
   "metadata": {},
   "outputs": [],
   "source": [
    "#Symmetric Difference"
   ]
  },
  {
   "cell_type": "code",
   "execution_count": 68,
   "id": "bdd93423",
   "metadata": {},
   "outputs": [
    {
     "data": {
      "text/plain": [
       "{1, 2, 3, 7, 8, 9}"
      ]
     },
     "execution_count": 68,
     "metadata": {},
     "output_type": "execute_result"
    }
   ],
   "source": [
    "a^b #only unique values excluding shared values are returned"
   ]
  },
  {
   "cell_type": "code",
   "execution_count": 69,
   "id": "97d8b277",
   "metadata": {},
   "outputs": [
    {
     "data": {
      "text/plain": [
       "{1, 2, 3, 7, 8, 9}"
      ]
     },
     "execution_count": 69,
     "metadata": {},
     "output_type": "execute_result"
    }
   ],
   "source": [
    "a.symmetric_difference(b)"
   ]
  },
  {
   "cell_type": "code",
   "execution_count": 70,
   "id": "1ff9dd15",
   "metadata": {},
   "outputs": [
    {
     "data": {
      "text/plain": [
       "{1, 2, 3, 7, 8, 9}"
      ]
     },
     "execution_count": 70,
     "metadata": {},
     "output_type": "execute_result"
    }
   ],
   "source": [
    "b.symmetric_difference(a)"
   ]
  },
  {
   "cell_type": "code",
   "execution_count": 71,
   "id": "da9dac1f",
   "metadata": {},
   "outputs": [],
   "source": [
    "#Built_in Functions in a"
   ]
  },
  {
   "cell_type": "code",
   "execution_count": 72,
   "id": "b80e4e8b",
   "metadata": {},
   "outputs": [
    {
     "data": {
      "text/plain": [
       "{1, 2, 3, 4, 5, 6}"
      ]
     },
     "execution_count": 72,
     "metadata": {},
     "output_type": "execute_result"
    }
   ],
   "source": [
    "a"
   ]
  },
  {
   "cell_type": "code",
   "execution_count": 78,
   "id": "95674b73",
   "metadata": {},
   "outputs": [],
   "source": [
    "a1=a | {5,6,7,8,9}"
   ]
  },
  {
   "cell_type": "code",
   "execution_count": 79,
   "id": "1376b02d",
   "metadata": {},
   "outputs": [
    {
     "data": {
      "text/plain": [
       "{1, 2, 3, 4, 5, 6, 7, 8, 9}"
      ]
     },
     "execution_count": 79,
     "metadata": {},
     "output_type": "execute_result"
    }
   ],
   "source": [
    "a1"
   ]
  },
  {
   "cell_type": "code",
   "execution_count": 80,
   "id": "7e7999ac",
   "metadata": {},
   "outputs": [],
   "source": [
    "a={1,55,4,6,3,66,8,5,4,8,9,5,4,7}"
   ]
  },
  {
   "cell_type": "code",
   "execution_count": 81,
   "id": "6b9a338f",
   "metadata": {},
   "outputs": [
    {
     "data": {
      "text/plain": [
       "{1, 3, 4, 5, 6, 7, 8, 9, 55, 66}"
      ]
     },
     "execution_count": 81,
     "metadata": {},
     "output_type": "execute_result"
    }
   ],
   "source": [
    "a"
   ]
  },
  {
   "cell_type": "code",
   "execution_count": 82,
   "id": "c3d2b88f",
   "metadata": {},
   "outputs": [
    {
     "data": {
      "text/plain": [
       "10"
      ]
     },
     "execution_count": 82,
     "metadata": {},
     "output_type": "execute_result"
    }
   ],
   "source": [
    "len(a)"
   ]
  },
  {
   "cell_type": "code",
   "execution_count": 83,
   "id": "62e5d65c",
   "metadata": {},
   "outputs": [
    {
     "data": {
      "text/plain": [
       "66"
      ]
     },
     "execution_count": 83,
     "metadata": {},
     "output_type": "execute_result"
    }
   ],
   "source": [
    "max(a)"
   ]
  },
  {
   "cell_type": "code",
   "execution_count": 84,
   "id": "f3348c25",
   "metadata": {},
   "outputs": [
    {
     "data": {
      "text/plain": [
       "1"
      ]
     },
     "execution_count": 84,
     "metadata": {},
     "output_type": "execute_result"
    }
   ],
   "source": [
    "min(a)"
   ]
  },
  {
   "cell_type": "code",
   "execution_count": 85,
   "id": "15a4af96",
   "metadata": {},
   "outputs": [
    {
     "name": "stdout",
     "output_type": "stream",
     "text": [
      "[1, 3, 4, 5, 6, 7, 8, 9, 55, 66]\n"
     ]
    }
   ],
   "source": [
    "print(sorted(a))"
   ]
  },
  {
   "cell_type": "code",
   "execution_count": 86,
   "id": "0fc896e7",
   "metadata": {},
   "outputs": [
    {
     "data": {
      "text/plain": [
       "164"
      ]
     },
     "execution_count": 86,
     "metadata": {},
     "output_type": "execute_result"
    }
   ],
   "source": [
    "sum(a)"
   ]
  },
  {
   "cell_type": "code",
   "execution_count": 87,
   "id": "34392df6",
   "metadata": {},
   "outputs": [
    {
     "data": {
      "text/plain": [
       "True"
      ]
     },
     "execution_count": 87,
     "metadata": {},
     "output_type": "execute_result"
    }
   ],
   "source": [
    "1 in a "
   ]
  },
  {
   "cell_type": "code",
   "execution_count": 88,
   "id": "51aa04b1",
   "metadata": {},
   "outputs": [
    {
     "data": {
      "text/plain": [
       "True"
      ]
     },
     "execution_count": 88,
     "metadata": {},
     "output_type": "execute_result"
    }
   ],
   "source": [
    "55 in a"
   ]
  },
  {
   "cell_type": "code",
   "execution_count": 89,
   "id": "3129d01a",
   "metadata": {},
   "outputs": [
    {
     "data": {
      "text/plain": [
       "False"
      ]
     },
     "execution_count": 89,
     "metadata": {},
     "output_type": "execute_result"
    }
   ],
   "source": [
    "33 in a"
   ]
  },
  {
   "cell_type": "code",
   "execution_count": 90,
   "id": "7e319651",
   "metadata": {},
   "outputs": [
    {
     "data": {
      "text/plain": [
       "True"
      ]
     },
     "execution_count": 90,
     "metadata": {},
     "output_type": "execute_result"
    }
   ],
   "source": [
    "33 not in a"
   ]
  },
  {
   "cell_type": "code",
   "execution_count": 91,
   "id": "709b34b5",
   "metadata": {},
   "outputs": [],
   "source": [
    "#frozen set--Cannot be changed once assigned"
   ]
  },
  {
   "cell_type": "code",
   "execution_count": 92,
   "id": "074ea601",
   "metadata": {},
   "outputs": [],
   "source": [
    "a=set([1,2,3,4,5])"
   ]
  },
  {
   "cell_type": "code",
   "execution_count": 99,
   "id": "e7dab191",
   "metadata": {},
   "outputs": [],
   "source": [
    "b=set([4,5,6,7,8])\n",
    "c=frozenset([1,2,3,4,5])\n",
    "d=frozenset([4,5,6,7,8])\n",
    "\n"
   ]
  },
  {
   "cell_type": "code",
   "execution_count": 100,
   "id": "18cc3224",
   "metadata": {},
   "outputs": [
    {
     "data": {
      "text/plain": [
       "set"
      ]
     },
     "execution_count": 100,
     "metadata": {},
     "output_type": "execute_result"
    }
   ],
   "source": [
    "type(a)"
   ]
  },
  {
   "cell_type": "code",
   "execution_count": 101,
   "id": "0502cd2d",
   "metadata": {},
   "outputs": [
    {
     "data": {
      "text/plain": [
       "frozenset"
      ]
     },
     "execution_count": 101,
     "metadata": {},
     "output_type": "execute_result"
    }
   ],
   "source": [
    "type(c)"
   ]
  },
  {
   "cell_type": "code",
   "execution_count": 102,
   "id": "c1086af9",
   "metadata": {},
   "outputs": [
    {
     "ename": "TypeError",
     "evalue": "unhashable type: 'set'",
     "output_type": "error",
     "traceback": [
      "\u001b[1;31m---------------------------------------------------------------------------\u001b[0m",
      "\u001b[1;31mTypeError\u001b[0m                                 Traceback (most recent call last)",
      "Cell \u001b[1;32mIn[102], line 1\u001b[0m\n\u001b[1;32m----> 1\u001b[0m my_dict\u001b[38;5;241m=\u001b[39m{a: \u001b[38;5;124m\"\u001b[39m\u001b[38;5;124m1 to 5\u001b[39m\u001b[38;5;124m\"\u001b[39m,b: \u001b[38;5;124m\"\u001b[39m\u001b[38;5;124m4 to 8\u001b[39m\u001b[38;5;124m\"\u001b[39m}\n",
      "\u001b[1;31mTypeError\u001b[0m: unhashable type: 'set'"
     ]
    }
   ],
   "source": [
    "my_dict={a: \"1 to 5\",b: \"4 to 8\"}"
   ]
  },
  {
   "cell_type": "code",
   "execution_count": 103,
   "id": "1e5e7f09",
   "metadata": {},
   "outputs": [],
   "source": [
    "my_dict={c: \"1 to 5\",   d: \"4 to 8\"}"
   ]
  },
  {
   "cell_type": "code",
   "execution_count": 104,
   "id": "1341ac2a",
   "metadata": {},
   "outputs": [
    {
     "data": {
      "text/plain": [
       "'1 to 5'"
      ]
     },
     "execution_count": 104,
     "metadata": {},
     "output_type": "execute_result"
    }
   ],
   "source": [
    "my_dict[c]"
   ]
  },
  {
   "cell_type": "code",
   "execution_count": 106,
   "id": "3273929f",
   "metadata": {},
   "outputs": [
    {
     "data": {
      "text/plain": [
       "True"
      ]
     },
     "execution_count": 106,
     "metadata": {},
     "output_type": "execute_result"
    }
   ],
   "source": [
    "c.issuperset(a)"
   ]
  },
  {
   "cell_type": "code",
   "execution_count": 107,
   "id": "5a0a32c7",
   "metadata": {},
   "outputs": [
    {
     "data": {
      "text/plain": [
       "True"
      ]
     },
     "execution_count": 107,
     "metadata": {},
     "output_type": "execute_result"
    }
   ],
   "source": [
    "c.issubset(a)"
   ]
  },
  {
   "cell_type": "code",
   "execution_count": 108,
   "id": "509e2b39",
   "metadata": {},
   "outputs": [
    {
     "data": {
      "text/plain": [
       "False"
      ]
     },
     "execution_count": 108,
     "metadata": {},
     "output_type": "execute_result"
    }
   ],
   "source": [
    "c.issubset(b)"
   ]
  },
  {
   "cell_type": "code",
   "execution_count": 109,
   "id": "e1be6c08",
   "metadata": {},
   "outputs": [
    {
     "data": {
      "text/plain": [
       "frozenset({1, 2, 3, 4, 5, 6, 7, 8})"
      ]
     },
     "execution_count": 109,
     "metadata": {},
     "output_type": "execute_result"
    }
   ],
   "source": [
    "c | d"
   ]
  },
  {
   "cell_type": "code",
   "execution_count": 110,
   "id": "88b40fae",
   "metadata": {},
   "outputs": [
    {
     "data": {
      "text/plain": [
       "frozenset({1, 2, 3, 4, 5, 6, 7, 8})"
      ]
     },
     "execution_count": 110,
     "metadata": {},
     "output_type": "execute_result"
    }
   ],
   "source": [
    "c | b #the starting element is a frozenset type"
   ]
  },
  {
   "cell_type": "code",
   "execution_count": 111,
   "id": "1b73314f",
   "metadata": {},
   "outputs": [
    {
     "data": {
      "text/plain": [
       "{1, 2, 3, 4, 5, 6, 7, 8}"
      ]
     },
     "execution_count": 111,
     "metadata": {},
     "output_type": "execute_result"
    }
   ],
   "source": [
    "a | d # the starting element is not a frozenset type"
   ]
  },
  {
   "cell_type": "code",
   "execution_count": 112,
   "id": "c0a3a777",
   "metadata": {},
   "outputs": [
    {
     "data": {
      "text/plain": [
       "set"
      ]
     },
     "execution_count": 112,
     "metadata": {},
     "output_type": "execute_result"
    }
   ],
   "source": [
    "type(a|d)"
   ]
  },
  {
   "cell_type": "code",
   "execution_count": null,
   "id": "5d945a10",
   "metadata": {},
   "outputs": [],
   "source": []
  }
 ],
 "metadata": {
  "kernelspec": {
   "display_name": "Python 3 (ipykernel)",
   "language": "python",
   "name": "python3"
  },
  "language_info": {
   "codemirror_mode": {
    "name": "ipython",
    "version": 3
   },
   "file_extension": ".py",
   "mimetype": "text/x-python",
   "name": "python",
   "nbconvert_exporter": "python",
   "pygments_lexer": "ipython3",
   "version": "3.10.9"
  }
 },
 "nbformat": 4,
 "nbformat_minor": 5
}

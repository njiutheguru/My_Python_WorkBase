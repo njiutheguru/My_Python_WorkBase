{
 "cells": [
  {
   "cell_type": "code",
   "execution_count": 1,
   "id": "088f617c",
   "metadata": {},
   "outputs": [],
   "source": [
    "from tkinter import *\n",
    "root=Tk()\n",
    "label1=Label(root,text='Name')\n",
    "label2=Label(root,text='Email Address')\n",
    "\n",
    "root.title(\"name and email\")\n",
    "\n",
    "label1.grid(row=0,column=0,sticky =W,pady=5)\n",
    "label2.grid(row=1,column=0,sticky =W,pady=5)\n",
    "\n",
    "entry1=Entry(root)\n",
    "entry2=Entry(root)\n",
    "\n",
    "entry1.grid(row=0,column=1,sticky =W,pady=5)\n",
    "entry2.grid(row=1,column=1,sticky =W,pady=5)\n",
    "\n",
    "check1=Checkbutton(root,text='Download')\n",
    "check1.grid(row=2,column=0,sticky=W,columnspan=2)\n",
    "\n",
    "# Adding image to our application..\n",
    "img=PhotoImage(file=r\"D:\\My Personal info\\personal pics\\dekutlogo.png\")\n",
    "\n",
    "img1 = img.subsample(2,2)\n",
    "\n",
    "Label(root,image=img1).grid(row=0,column=2,\n",
    "                           columnspan=2,rowspan=2,padx=5,pady=5)\n",
    "\n",
    "button1=Button(root,text=\"Zoom In\")\n",
    "button2 = Button(root,text=\"Zoom Out\")\n",
    "\n",
    "button1.grid(row=2,column=2,sticky=E)\n",
    "button2.grid(row=2,column=3,sticky=E)\n",
    "\n",
    "root.mainloop()\n"
   ]
  },
  {
   "cell_type": "code",
   "execution_count": null,
   "id": "a5b2203f",
   "metadata": {},
   "outputs": [],
   "source": []
  }
 ],
 "metadata": {
  "kernelspec": {
   "display_name": "Python 3 (ipykernel)",
   "language": "python",
   "name": "python3"
  },
  "language_info": {
   "codemirror_mode": {
    "name": "ipython",
    "version": 3
   },
   "file_extension": ".py",
   "mimetype": "text/x-python",
   "name": "python",
   "nbconvert_exporter": "python",
   "pygments_lexer": "ipython3",
   "version": "3.10.9"
  }
 },
 "nbformat": 4,
 "nbformat_minor": 5
}

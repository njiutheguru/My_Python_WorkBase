{
 "cells": [
  {
   "cell_type": "code",
   "execution_count": 2,
   "id": "d025be25",
   "metadata": {},
   "outputs": [],
   "source": [
    "from tkinter import *"
   ]
  },
  {
   "cell_type": "code",
   "execution_count": 3,
   "id": "4b3c276f",
   "metadata": {},
   "outputs": [],
   "source": [
    "root=Tk()\n",
    "button=Button(root,text=\"Stop\",width=25,command=root.destroy)\n",
    "button.pack()\n",
    "\n",
    "root.mainloop()"
   ]
  },
  {
   "cell_type": "code",
   "execution_count": 4,
   "id": "f41c111f",
   "metadata": {},
   "outputs": [],
   "source": [
    "# the check buttons..."
   ]
  },
  {
   "cell_type": "code",
   "execution_count": 5,
   "id": "d3233e50",
   "metadata": {},
   "outputs": [],
   "source": [
    "root=Tk()\n",
    "var1=IntVar()\n",
    "Checkbutton(root,text=\"Turn on\",variable=var1).grid(row=0,sticky=W)\n",
    "var2=IntVar()\n",
    "Checkbutton(root,text=\"Turn off\",variable=var2).grid(row=2,sticky=W)\n",
    "root.mainloop()"
   ]
  },
  {
   "cell_type": "code",
   "execution_count": 6,
   "id": "a8d5101a",
   "metadata": {},
   "outputs": [],
   "source": [
    "# label and Entry widgets.."
   ]
  },
  {
   "cell_type": "code",
   "execution_count": 7,
   "id": "fe9e364a",
   "metadata": {},
   "outputs": [],
   "source": [
    "root=Tk()\n",
    "Label(root,text=\"First Name\").grid(row=0)\n",
    "Label(root,text=\"First Name\").grid(row=1)\n",
    "e1=Entry(root)\n",
    "e1.grid(row=0,column=1)\n",
    "\n",
    "e2=Entry(root)\n",
    "e2.grid(row=2,column=1)\n",
    "root.mainloop()"
   ]
  },
  {
   "cell_type": "code",
   "execution_count": 8,
   "id": "daa78c10",
   "metadata": {},
   "outputs": [],
   "source": [
    "root=Tk()\n",
    "topframe=Frame(root)\n",
    "topframe.pack()\n",
    "\n",
    "bottomframe=Frame(root)\n",
    "bottomframe.pack(side=BOTTOM)\n",
    "\n",
    "rewind=Button(topframe,text=\"Rewind\")\n",
    "rewind.pack(side=LEFT)\n",
    "\n",
    "stop=Button(topframe,text=\"STOP\")\n",
    "stop.pack(side=LEFT)\n",
    "\n",
    "fastfwd= Button(topframe, text='Fast Fwd ')\n",
    "fastfwd.pack(side=LEFT)\n",
    "\n",
    "play=Button(bottomframe,text=\"PLAY\")\n",
    "play.pack(side=BOTTOM)\n",
    "\n",
    "root.mainloop()\n"
   ]
  },
  {
   "cell_type": "code",
   "execution_count": 9,
   "id": "019c7a4f",
   "metadata": {},
   "outputs": [],
   "source": [
    "# The canvas widgets..."
   ]
  },
  {
   "cell_type": "code",
   "execution_count": 10,
   "id": "e7d75d51",
   "metadata": {},
   "outputs": [],
   "source": [
    "root=Tk()\n",
    "canvas_height=100\n",
    "canvas_width= 100\n",
    "\n",
    "y= int(canvas_height/2)\n",
    "\n",
    "w= Canvas(root,width=canvas_width, height=canvas_height)\n",
    "w.create_line(0,y,canvas_width,y)\n",
    "w.pack()\n",
    "\n",
    "root.mainloop()"
   ]
  },
  {
   "cell_type": "code",
   "execution_count": 11,
   "id": "b699363a",
   "metadata": {},
   "outputs": [],
   "source": [
    "# The list box"
   ]
  },
  {
   "cell_type": "code",
   "execution_count": 12,
   "id": "bfa6ae2d",
   "metadata": {},
   "outputs": [],
   "source": [
    "root=Tk()\n",
    "list_box=Listbox(root)\n",
    "list_box.insert(1,\"Golf\")\n",
    "list_box.insert(2,\"Tennis\")\n",
    "list_box.insert(3,\"Swimming\")\n",
    "list_box.insert(4,\"Football\")\n",
    "list_box.insert(5,\"Golf\")\n",
    "\n",
    "list_box.pack()\n",
    "\n",
    "root.mainloop()"
   ]
  },
  {
   "cell_type": "code",
   "execution_count": 13,
   "id": "01b2d513",
   "metadata": {},
   "outputs": [],
   "source": [
    "# The Menu Button"
   ]
  },
  {
   "cell_type": "code",
   "execution_count": 14,
   "id": "274e796c",
   "metadata": {},
   "outputs": [],
   "source": [
    "root=Tk()\n",
    "\n",
    "mb=Menubutton(root,text='Options')\n",
    "mb.grid(row=0)\n",
    "\n",
    "mb_menu = Menu(mb)\n",
    "mb['menu']=mb_menu\n",
    "\n",
    "mb_menu.add_checkbutton(label='Delete')\n",
    "mb_menu.add_checkbutton(label='upload')\n",
    "mb_menu.add_checkbutton(label='save')\n",
    "\n",
    "root.mainloop()"
   ]
  },
  {
   "cell_type": "code",
   "execution_count": 15,
   "id": "62b51b61",
   "metadata": {},
   "outputs": [],
   "source": [
    "root=Tk()\n",
    "\n",
    "menu=Menu(root)\n",
    "\n",
    "root.config(menu=menu)\n",
    "\n",
    "filemenu=Menu(menu)\n",
    "menu.add_cascade(label='file',menu=filemenu)\n",
    "filemenu.add_command(label=\"New\")\n",
    "filemenu.add_command(label=\"Open\")\n",
    "filemenu.add_command(label=\"Save\")\n",
    "\n",
    "filemenu.add_separator()\n",
    "\n",
    "filemenu.add_command(label='Exit',command=root.destroy)\n",
    "helpmenu=Menu(menu)\n",
    "menu.add_cascade(label='Help',menu=helpmenu)\n",
    "helpmenu.add_command(label=\"Contact\")\n",
    "\n",
    "root.mainloop()"
   ]
  },
  {
   "cell_type": "code",
   "execution_count": 16,
   "id": "4c6d28e1",
   "metadata": {},
   "outputs": [],
   "source": [
    "# Radio button"
   ]
  },
  {
   "cell_type": "code",
   "execution_count": 19,
   "id": "fbd8835e",
   "metadata": {},
   "outputs": [],
   "source": [
    "root=Tk()\n",
    "\n",
    "v = IntVar()\n",
    "\n",
    "Radiobutton(root,text=\"opt in\",variable=v,value=1).pack(anchor=W)\n",
    "Radiobutton(root,text=\"opt out\",variable=v,value=2).pack(anchor=W)\n",
    "Radiobutton(root,text=\"Undecided\",variable=v,value=3).pack(anchor=W)\n",
    "\n",
    "root.mainloop()"
   ]
  },
  {
   "cell_type": "code",
   "execution_count": 20,
   "id": "fe306214",
   "metadata": {},
   "outputs": [],
   "source": [
    "# Scale Functionality"
   ]
  },
  {
   "cell_type": "code",
   "execution_count": 21,
   "id": "8a4eea0b",
   "metadata": {},
   "outputs": [],
   "source": [
    "root=Tk()\n",
    "w=Scale(root, from_=0,to = 10)\n",
    "w.pack()\n",
    "\n",
    "w=Scale(root, from_=0,to = 100,orient=HORIZONTAL)\n",
    "w.pack()\n",
    "root.mainloop()"
   ]
  },
  {
   "cell_type": "code",
   "execution_count": 22,
   "id": "c3ec2cd2",
   "metadata": {},
   "outputs": [],
   "source": [
    "# The spin box"
   ]
  },
  {
   "cell_type": "code",
   "execution_count": 24,
   "id": "b9626af7",
   "metadata": {},
   "outputs": [],
   "source": [
    "root=Tk()\n",
    "w=Spinbox(root,from_=0,to =10)\n",
    "w.pack()\n",
    "\n",
    "root.mainloop()"
   ]
  },
  {
   "cell_type": "code",
   "execution_count": null,
   "id": "6bb54bf4",
   "metadata": {},
   "outputs": [],
   "source": []
  },
  {
   "cell_type": "code",
   "execution_count": 25,
   "id": "8b4d3cf7",
   "metadata": {},
   "outputs": [],
   "source": [
    "# Executing functions in UI widgets..."
   ]
  },
  {
   "cell_type": "code",
   "execution_count": null,
   "id": "c5ed0dae",
   "metadata": {},
   "outputs": [],
   "source": []
  }
 ],
 "metadata": {
  "kernelspec": {
   "display_name": "Python 3 (ipykernel)",
   "language": "python",
   "name": "python3"
  },
  "language_info": {
   "codemirror_mode": {
    "name": "ipython",
    "version": 3
   },
   "file_extension": ".py",
   "mimetype": "text/x-python",
   "name": "python",
   "nbconvert_exporter": "python",
   "pygments_lexer": "ipython3",
   "version": "3.10.9"
  }
 },
 "nbformat": 4,
 "nbformat_minor": 5
}

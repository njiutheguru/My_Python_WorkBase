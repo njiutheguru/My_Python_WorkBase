{
 "cells": [
  {
   "cell_type": "code",
   "execution_count": 1,
   "id": "2efc8c15",
   "metadata": {},
   "outputs": [],
   "source": [
    "# My first Tkinter GUI!"
   ]
  },
  {
   "cell_type": "code",
   "execution_count": 2,
   "id": "6aee11e4",
   "metadata": {},
   "outputs": [],
   "source": [
    "from tkinter import *"
   ]
  },
  {
   "cell_type": "code",
   "execution_count": 3,
   "id": "527c7df3",
   "metadata": {},
   "outputs": [],
   "source": [
    "root = Tk()\n",
    "pane=Frame(root)\n",
    "pane.pack(expand =True, fill=BOTH)\n"
   ]
  },
  {
   "cell_type": "code",
   "execution_count": 4,
   "id": "aa99a7f8",
   "metadata": {},
   "outputs": [
    {
     "data": {
      "text/plain": [
       "''"
      ]
     },
     "execution_count": 4,
     "metadata": {},
     "output_type": "execute_result"
    }
   ],
   "source": [
    "root.title(\"My first GUI app\")\n",
    "root.geometry('500x500')"
   ]
  },
  {
   "cell_type": "code",
   "execution_count": 5,
   "id": "5e6cf52d",
   "metadata": {},
   "outputs": [],
   "source": [
    "button1=Button(pane,\n",
    "              text='Click me!',\n",
    "              bd=5,\n",
    "              height=10,\n",
    "              width=20,\n",
    "              font='aerial',\n",
    "              bg='green',\n",
    "              command=root.destroy)\n",
    "button1.pack(expand=True,fill=BOTH,side=RIGHT)\n",
    "\n",
    "button2=Button(pane,\n",
    "              text='Click here...',\n",
    "               background='blue',\n",
    "              state ='disabled',\n",
    "              command=root.destroy)\n",
    "button2.pack(expand=True,fill=BOTH,side=RIGHT)\n",
    "\n",
    "button3=Button(pane,text='Don\\'t forget me',\n",
    "              background='orange',\n",
    "              fg='white')\n",
    "button3.pack(expand=True,fill=BOTH,side=RIGHT)\n",
    "\n"
   ]
  },
  {
   "cell_type": "code",
   "execution_count": 6,
   "id": "b6e3f5db",
   "metadata": {},
   "outputs": [],
   "source": [
    "root.mainloop()"
   ]
  },
  {
   "cell_type": "code",
   "execution_count": null,
   "id": "bb84e33c",
   "metadata": {},
   "outputs": [],
   "source": []
  },
  {
   "cell_type": "code",
   "execution_count": null,
   "id": "903e6a5c",
   "metadata": {},
   "outputs": [],
   "source": []
  },
  {
   "cell_type": "code",
   "execution_count": null,
   "id": "2a6fae56",
   "metadata": {},
   "outputs": [],
   "source": []
  },
  {
   "cell_type": "code",
   "execution_count": null,
   "id": "81c46a9f",
   "metadata": {},
   "outputs": [],
   "source": []
  },
  {
   "cell_type": "code",
   "execution_count": null,
   "id": "c679e148",
   "metadata": {},
   "outputs": [],
   "source": []
  },
  {
   "cell_type": "code",
   "execution_count": null,
   "id": "ed2282b8",
   "metadata": {},
   "outputs": [],
   "source": []
  },
  {
   "cell_type": "code",
   "execution_count": null,
   "id": "3be41265",
   "metadata": {},
   "outputs": [],
   "source": []
  },
  {
   "cell_type": "code",
   "execution_count": null,
   "id": "96216420",
   "metadata": {},
   "outputs": [],
   "source": []
  },
  {
   "cell_type": "code",
   "execution_count": null,
   "id": "7bcd51c3",
   "metadata": {},
   "outputs": [],
   "source": []
  },
  {
   "cell_type": "code",
   "execution_count": null,
   "id": "08f0fb05",
   "metadata": {},
   "outputs": [],
   "source": [
    "\n"
   ]
  }
 ],
 "metadata": {
  "kernelspec": {
   "display_name": "Python 3 (ipykernel)",
   "language": "python",
   "name": "python3"
  },
  "language_info": {
   "codemirror_mode": {
    "name": "ipython",
    "version": 3
   },
   "file_extension": ".py",
   "mimetype": "text/x-python",
   "name": "python",
   "nbconvert_exporter": "python",
   "pygments_lexer": "ipython3",
   "version": "3.10.9"
  }
 },
 "nbformat": 4,
 "nbformat_minor": 5
}

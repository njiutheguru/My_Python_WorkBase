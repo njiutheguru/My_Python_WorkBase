{
 "cells": [
  {
   "cell_type": "code",
   "execution_count": 1,
   "id": "a7f0efe8",
   "metadata": {},
   "outputs": [
    {
     "name": "stdout",
     "output_type": "stream",
     "text": [
      "Extracted Text:\n",
      "tesseract is not installed or it's not in your PATH. See README file for more information.\n"
     ]
    }
   ],
   "source": [
    "from PIL import Image\n",
    "import pytesseract\n",
    "import pandas as pd\n",
    "\n",
    "def extract_text_from_image(image_path):\n",
    "    try:\n",
    "        # Open the image file\n",
    "        with Image.open(image_path) as img:\n",
    "            # Use pytesseract to do OCR on the image\n",
    "            text = pytesseract.image_to_string(img)\n",
    "            return text\n",
    "    except Exception as e:\n",
    "        return str(e)\n",
    "\n",
    "if __name__ == \"__main__\":\n",
    "    image_path = \"sample.png\"  # Replace with the path to your image file\n",
    "\n",
    "    extracted_text = extract_text_from_image(image_path)\n",
    "\n",
    "    if extracted_text:\n",
    "        print(\"Extracted Text:\")\n",
    "        print(extracted_text)\n",
    "    else:\n",
    "        print(\"No text found.\")"
   ]
  },
  {
   "cell_type": "code",
   "execution_count": null,
   "id": "6be00cb8",
   "metadata": {},
   "outputs": [],
   "source": []
  },
  {
   "cell_type": "code",
   "execution_count": null,
   "id": "3251e912",
   "metadata": {},
   "outputs": [],
   "source": []
  }
 ],
 "metadata": {
  "kernelspec": {
   "display_name": "Python 3 (ipykernel)",
   "language": "python",
   "name": "python3"
  },
  "language_info": {
   "codemirror_mode": {
    "name": "ipython",
    "version": 3
   },
   "file_extension": ".py",
   "mimetype": "text/x-python",
   "name": "python",
   "nbconvert_exporter": "python",
   "pygments_lexer": "ipython3",
   "version": "3.10.9"
  }
 },
 "nbformat": 4,
 "nbformat_minor": 5
}

{
 "cells": [
  {
   "cell_type": "code",
   "execution_count": 3,
   "id": "78efa173",
   "metadata": {},
   "outputs": [
    {
     "name": "stdout",
     "output_type": "stream",
     "text": [
      "Hello\n"
     ]
    }
   ],
   "source": [
    "print(\"Hello\")"
   ]
  },
  {
   "cell_type": "markdown",
   "id": "ddf102e1",
   "metadata": {},
   "source": [
    "print(\"Goodbye\")\n"
   ]
  },
  {
   "cell_type": "code",
   "execution_count": 7,
   "id": "9fde9d24",
   "metadata": {
    "scrolled": true
   },
   "outputs": [
    {
     "ename": "SyntaxError",
     "evalue": "invalid syntax (2258066422.py, line 1)",
     "output_type": "error",
     "traceback": [
      "\u001b[1;36m  Cell \u001b[1;32mIn[7], line 1\u001b[1;36m\u001b[0m\n\u001b[1;33m    This is some text\u001b[0m\n\u001b[1;37m                 ^\u001b[0m\n\u001b[1;31mSyntaxError\u001b[0m\u001b[1;31m:\u001b[0m invalid syntax\n"
     ]
    }
   ],
   "source": [
    "This is some text\n",
    "\n"
   ]
  },
  {
   "cell_type": "markdown",
   "id": "2f22352b",
   "metadata": {},
   "source": [
    "This is some <u><b>*text*</b></u>\n"
   ]
  },
  {
   "cell_type": "markdown",
   "id": "e7d0591d",
   "metadata": {},
   "source": [
    "# header 1\n",
    "## header 2\n",
    "### header 3"
   ]
  },
  {
   "cell_type": "markdown",
   "id": "202f276d",
   "metadata": {},
   "source": [
    "* item 1\n",
    "- item 2\n",
    "+ Item 3\n",
    "    * sub Item 1\n",
    "    "
   ]
  },
  {
   "cell_type": "markdown",
   "id": "53d5db4a",
   "metadata": {},
   "source": [
    "To calculate one plus one in Python, all ou need to do is: \n",
    "        ```Python\n",
    "        print(1+1)\n",
    "        ```"
   ]
  },
  {
   "cell_type": "code",
   "execution_count": 8,
   "id": "653af926",
   "metadata": {},
   "outputs": [
    {
     "name": "stdout",
     "output_type": "stream",
     "text": [
      "golf\n"
     ]
    }
   ],
   "source": [
    "# This code is a comment\n",
    "sport='golf'\n",
    "print(sport)"
   ]
  },
  {
   "cell_type": "code",
   "execution_count": null,
   "id": "ba447ec0",
   "metadata": {},
   "outputs": [],
   "source": []
  },
  {
   "cell_type": "code",
   "execution_count": 10,
   "id": "305042c9",
   "metadata": {},
   "outputs": [
    {
     "name": "stdout",
     "output_type": "stream",
     "text": [
      "The study of the love of knowledge\n"
     ]
    }
   ],
   "source": [
    "print(name)"
   ]
  },
  {
   "cell_type": "code",
   "execution_count": 11,
   "id": "697f8af0",
   "metadata": {},
   "outputs": [
    {
     "ename": "NameError",
     "evalue": "name 'clear' is not defined",
     "output_type": "error",
     "traceback": [
      "\u001b[1;31m---------------------------------------------------------------------------\u001b[0m",
      "\u001b[1;31mNameError\u001b[0m                                 Traceback (most recent call last)",
      "Cell \u001b[1;32mIn[11], line 1\u001b[0m\n\u001b[1;32m----> 1\u001b[0m \u001b[43mclear\u001b[49m\n\u001b[0;32m      2\u001b[0m \u001b[38;5;28mcls\u001b[39m\n",
      "\u001b[1;31mNameError\u001b[0m: name 'clear' is not defined"
     ]
    }
   ],
   "source": [
    "clear\n",
    "cls\n"
   ]
  },
  {
   "cell_type": "code",
   "execution_count": 21,
   "id": "3383bab5",
   "metadata": {},
   "outputs": [
    {
     "name": "stdout",
     "output_type": "stream",
     "text": [
      "10.8\n",
      "9.0\n"
     ]
    }
   ],
   "source": [
    "#variables cannot include spaces...\n",
    "#variables cannot include symbols...\n",
    "#Python constants variables which do not change are only defined by the use of UPPERCASE LETTERS ONLY!! -~ they don't change once defined in the ide \n",
    "\n",
    "# Variables cannot start with numbers but can include numbers\n",
    "times_3=54/5\n",
    "print(times_3)\n",
    "k=times_3/9\n",
    "print(times_3/k)"
   ]
  },
  {
   "cell_type": "code",
   "execution_count": 22,
   "id": "30dbfa06",
   "metadata": {},
   "outputs": [
    {
     "data": {
      "text/plain": [
       "int"
      ]
     },
     "execution_count": 22,
     "metadata": {},
     "output_type": "execute_result"
    }
   ],
   "source": [
    "#introduction to variables\n",
    "daily_steps=1000 #This variabe is storing an integer\n",
    "type(daily_steps)"
   ]
  },
  {
   "cell_type": "code",
   "execution_count": 23,
   "id": "62f74531",
   "metadata": {},
   "outputs": [
    {
     "data": {
      "text/plain": [
       "float"
      ]
     },
     "execution_count": 23,
     "metadata": {},
     "output_type": "execute_result"
    }
   ],
   "source": [
    "film_rating=7.5\n",
    "type(film_rating)"
   ]
  },
  {
   "cell_type": "code",
   "execution_count": 24,
   "id": "634b8c61",
   "metadata": {},
   "outputs": [
    {
     "data": {
      "text/plain": [
       "15"
      ]
     },
     "execution_count": 24,
     "metadata": {},
     "output_type": "execute_result"
    }
   ],
   "source": [
    "3*5\n"
   ]
  },
  {
   "cell_type": "code",
   "execution_count": 25,
   "id": "62870396",
   "metadata": {},
   "outputs": [
    {
     "data": {
      "text/plain": [
       "72"
      ]
     },
     "execution_count": 25,
     "metadata": {},
     "output_type": "execute_result"
    }
   ],
   "source": [
    "12*6"
   ]
  },
  {
   "cell_type": "code",
   "execution_count": 26,
   "id": "fb9c0c8c",
   "metadata": {},
   "outputs": [
    {
     "data": {
      "text/plain": [
       "5.0"
      ]
     },
     "execution_count": 26,
     "metadata": {},
     "output_type": "execute_result"
    }
   ],
   "source": [
    "20/4"
   ]
  },
  {
   "cell_type": "code",
   "execution_count": 27,
   "id": "40fc5f91",
   "metadata": {},
   "outputs": [
    {
     "data": {
      "text/plain": [
       "0.8307692307692308"
      ]
     },
     "execution_count": 27,
     "metadata": {},
     "output_type": "execute_result"
    }
   ],
   "source": [
    "54/65"
   ]
  },
  {
   "cell_type": "code",
   "execution_count": 28,
   "id": "924c09aa",
   "metadata": {},
   "outputs": [
    {
     "ename": "ZeroDivisionError",
     "evalue": "division by zero",
     "output_type": "error",
     "traceback": [
      "\u001b[1;31m---------------------------------------------------------------------------\u001b[0m",
      "\u001b[1;31mZeroDivisionError\u001b[0m                         Traceback (most recent call last)",
      "Cell \u001b[1;32mIn[28], line 2\u001b[0m\n\u001b[0;32m      1\u001b[0m \u001b[38;5;66;03m#the zero division error\u001b[39;00m\n\u001b[1;32m----> 2\u001b[0m \u001b[38;5;241;43m10\u001b[39;49m\u001b[38;5;241;43m/\u001b[39;49m\u001b[38;5;241;43m0\u001b[39;49m\n",
      "\u001b[1;31mZeroDivisionError\u001b[0m: division by zero"
     ]
    }
   ],
   "source": [
    "#the zero division error\n",
    "10/0"
   ]
  },
  {
   "cell_type": "code",
   "execution_count": 30,
   "id": "d03b7ee3",
   "metadata": {},
   "outputs": [
    {
     "data": {
      "text/plain": [
       "12.0"
      ]
     },
     "execution_count": 30,
     "metadata": {},
     "output_type": "execute_result"
    }
   ],
   "source": [
    "#order of mathematics ooperation\n",
    "5+2*5/5+5\n",
    "#we can include brackets to clearly define the order of operation and for writing smarter codes\n"
   ]
  },
  {
   "cell_type": "code",
   "execution_count": 31,
   "id": "0a174be2",
   "metadata": {},
   "outputs": [
    {
     "name": "stdout",
     "output_type": "stream",
     "text": [
      "535\n"
     ]
    }
   ],
   "source": [
    "sales=1000\n",
    "cost =465\n",
    "profit=sales-cost\n",
    "print(profit)"
   ]
  },
  {
   "cell_type": "code",
   "execution_count": 32,
   "id": "01ccf51c",
   "metadata": {},
   "outputs": [
    {
     "name": "stdout",
     "output_type": "stream",
     "text": [
      "1000\n"
     ]
    }
   ],
   "source": [
    "print(sales)"
   ]
  },
  {
   "cell_type": "code",
   "execution_count": 33,
   "id": "a7760da9",
   "metadata": {},
   "outputs": [
    {
     "name": "stdout",
     "output_type": "stream",
     "text": [
      "535\n"
     ]
    }
   ],
   "source": [
    "print(profit)"
   ]
  },
  {
   "cell_type": "code",
   "execution_count": 34,
   "id": "0754205e",
   "metadata": {},
   "outputs": [
    {
     "name": "stdout",
     "output_type": "stream",
     "text": [
      "1000\n"
     ]
    }
   ],
   "source": [
    "print(sales)"
   ]
  },
  {
   "cell_type": "code",
   "execution_count": 35,
   "id": "5b865aef",
   "metadata": {},
   "outputs": [
    {
     "name": "stdout",
     "output_type": "stream",
     "text": [
      "2500\n"
     ]
    }
   ],
   "source": [
    "#Numbers part 2\n",
    "footsteps =500\n",
    "footsteps+=2000\n",
    "print(footsteps)"
   ]
  },
  {
   "cell_type": "code",
   "execution_count": 36,
   "id": "d938715c",
   "metadata": {},
   "outputs": [
    {
     "name": "stdout",
     "output_type": "stream",
     "text": [
      "2200\n"
     ]
    }
   ],
   "source": [
    "footsteps-=300\n",
    "print(footsteps)"
   ]
  },
  {
   "cell_type": "code",
   "execution_count": 37,
   "id": "9be2db83",
   "metadata": {},
   "outputs": [
    {
     "name": "stdout",
     "output_type": "stream",
     "text": [
      "15400\n"
     ]
    }
   ],
   "source": [
    "footsteps*=7\n",
    "print(footsteps)"
   ]
  },
  {
   "cell_type": "code",
   "execution_count": 38,
   "id": "a13a31db",
   "metadata": {},
   "outputs": [
    {
     "name": "stdout",
     "output_type": "stream",
     "text": [
      "5133.333333333333\n"
     ]
    }
   ],
   "source": [
    "footsteps/=3\n",
    "print(footsteps)"
   ]
  },
  {
   "cell_type": "code",
   "execution_count": 39,
   "id": "70a98832",
   "metadata": {},
   "outputs": [
    {
     "data": {
      "text/plain": [
       "5.333333333333333"
      ]
     },
     "execution_count": 39,
     "metadata": {},
     "output_type": "execute_result"
    }
   ],
   "source": [
    "16/3"
   ]
  },
  {
   "cell_type": "code",
   "execution_count": 41,
   "id": "18c22d7f",
   "metadata": {},
   "outputs": [
    {
     "data": {
      "text/plain": [
       "3"
      ]
     },
     "execution_count": 41,
     "metadata": {},
     "output_type": "execute_result"
    }
   ],
   "source": [
    "16//5 # This roundoff to the nearest whole number --Truncating"
   ]
  },
  {
   "cell_type": "code",
   "execution_count": 42,
   "id": "5b875cab",
   "metadata": {},
   "outputs": [
    {
     "data": {
      "text/plain": [
       "5.75"
      ]
     },
     "execution_count": 42,
     "metadata": {},
     "output_type": "execute_result"
    }
   ],
   "source": [
    "69/12 #when we put two // we truncate the value without the decimal points"
   ]
  },
  {
   "cell_type": "code",
   "execution_count": 43,
   "id": "2902906a",
   "metadata": {},
   "outputs": [
    {
     "data": {
      "text/plain": [
       "5"
      ]
     },
     "execution_count": 43,
     "metadata": {},
     "output_type": "execute_result"
    }
   ],
   "source": [
    "69//12 #This gives out 5 as the result"
   ]
  },
  {
   "cell_type": "code",
   "execution_count": 44,
   "id": "dc97c8db",
   "metadata": {},
   "outputs": [
    {
     "data": {
      "text/plain": [
       "1"
      ]
     },
     "execution_count": 44,
     "metadata": {},
     "output_type": "execute_result"
    }
   ],
   "source": [
    "16%3 #modulus --Prints the remainder"
   ]
  },
  {
   "cell_type": "code",
   "execution_count": 45,
   "id": "0b9383d4",
   "metadata": {},
   "outputs": [
    {
     "data": {
      "text/plain": [
       "9"
      ]
     },
     "execution_count": 45,
     "metadata": {},
     "output_type": "execute_result"
    }
   ],
   "source": [
    "69%12 "
   ]
  },
  {
   "cell_type": "code",
   "execution_count": 46,
   "id": "25b5b7a2",
   "metadata": {},
   "outputs": [
    {
     "data": {
      "text/plain": [
       "512"
      ]
     },
     "execution_count": 46,
     "metadata": {},
     "output_type": "execute_result"
    }
   ],
   "source": [
    "#exponential functions we use the double stars syntax\n",
    "8**3\n"
   ]
  },
  {
   "cell_type": "code",
   "execution_count": 47,
   "id": "4b145f34",
   "metadata": {},
   "outputs": [
    {
     "ename": "SyntaxError",
     "evalue": "invalid syntax (2511903048.py, line 1)",
     "output_type": "error",
     "traceback": [
      "\u001b[1;36m  Cell \u001b[1;32mIn[47], line 1\u001b[1;36m\u001b[0m\n\u001b[1;33m    2***2\u001b[0m\n\u001b[1;37m       ^\u001b[0m\n\u001b[1;31mSyntaxError\u001b[0m\u001b[1;31m:\u001b[0m invalid syntax\n"
     ]
    }
   ],
   "source": [
    "2***2\n"
   ]
  },
  {
   "cell_type": "code",
   "execution_count": 48,
   "id": "2b689bff",
   "metadata": {},
   "outputs": [
    {
     "data": {
      "text/plain": [
       "4"
      ]
     },
     "execution_count": 48,
     "metadata": {},
     "output_type": "execute_result"
    }
   ],
   "source": [
    "2**2\n"
   ]
  },
  {
   "cell_type": "code",
   "execution_count": 49,
   "id": "6b4ee672",
   "metadata": {},
   "outputs": [
    {
     "data": {
      "text/plain": [
       "16"
      ]
     },
     "execution_count": 49,
     "metadata": {},
     "output_type": "execute_result"
    }
   ],
   "source": [
    "2**4"
   ]
  },
  {
   "cell_type": "code",
   "execution_count": 50,
   "id": "252c0be1",
   "metadata": {},
   "outputs": [
    {
     "data": {
      "text/plain": [
       "64"
      ]
     },
     "execution_count": 50,
     "metadata": {},
     "output_type": "execute_result"
    }
   ],
   "source": [
    "2**6"
   ]
  },
  {
   "cell_type": "code",
   "execution_count": 51,
   "id": "39755283",
   "metadata": {},
   "outputs": [
    {
     "data": {
      "text/plain": [
       "2"
      ]
     },
     "execution_count": 51,
     "metadata": {},
     "output_type": "execute_result"
    }
   ],
   "source": [
    "#conversion explicitly\n",
    "int(2.8)"
   ]
  },
  {
   "cell_type": "code",
   "execution_count": 52,
   "id": "7a2c9a17",
   "metadata": {},
   "outputs": [
    {
     "data": {
      "text/plain": [
       "3.0"
      ]
     },
     "execution_count": 52,
     "metadata": {},
     "output_type": "execute_result"
    }
   ],
   "source": [
    "float(3)"
   ]
  },
  {
   "cell_type": "code",
   "execution_count": 53,
   "id": "14fea254",
   "metadata": {},
   "outputs": [
    {
     "data": {
      "text/plain": [
       "5.3"
      ]
     },
     "execution_count": 53,
     "metadata": {},
     "output_type": "execute_result"
    }
   ],
   "source": [
    "1+4.3"
   ]
  },
  {
   "cell_type": "code",
   "execution_count": 54,
   "id": "726853d2",
   "metadata": {},
   "outputs": [
    {
     "name": "stdout",
     "output_type": "stream",
     "text": [
      "45\n"
     ]
    }
   ],
   "source": [
    "ans=1+44.4 #ans=45.44 but we explicitly convert to int\n",
    "print(int(ans))"
   ]
  },
  {
   "cell_type": "code",
   "execution_count": 55,
   "id": "e655c573",
   "metadata": {},
   "outputs": [
    {
     "name": "stdout",
     "output_type": "stream",
     "text": [
      "45.4\n"
     ]
    }
   ],
   "source": [
    "print(ans)"
   ]
  },
  {
   "cell_type": "code",
   "execution_count": 56,
   "id": "8a7da39b",
   "metadata": {},
   "outputs": [
    {
     "name": "stdout",
     "output_type": "stream",
     "text": [
      "45\n"
     ]
    }
   ],
   "source": [
    "print(int(ans))"
   ]
  },
  {
   "cell_type": "code",
   "execution_count": 57,
   "id": "ac7ebfbd",
   "metadata": {},
   "outputs": [
    {
     "data": {
      "text/plain": [
       "True"
      ]
     },
     "execution_count": 57,
     "metadata": {},
     "output_type": "execute_result"
    }
   ],
   "source": [
    "#introducing the decimal module\n",
    "1+1==2"
   ]
  },
  {
   "cell_type": "code",
   "execution_count": 58,
   "id": "4a067e36",
   "metadata": {},
   "outputs": [
    {
     "data": {
      "text/plain": [
       "True"
      ]
     },
     "execution_count": 58,
     "metadata": {},
     "output_type": "execute_result"
    }
   ],
   "source": [
    "1.1+1==2.1"
   ]
  },
  {
   "cell_type": "code",
   "execution_count": 59,
   "id": "185cab9d",
   "metadata": {},
   "outputs": [
    {
     "data": {
      "text/plain": [
       "False"
      ]
     },
     "execution_count": 59,
     "metadata": {},
     "output_type": "execute_result"
    }
   ],
   "source": [
    "1.1+2.2==3.3"
   ]
  },
  {
   "cell_type": "code",
   "execution_count": 60,
   "id": "7cfc3857",
   "metadata": {},
   "outputs": [
    {
     "data": {
      "text/plain": [
       "3.3000000000000003"
      ]
     },
     "execution_count": 60,
     "metadata": {},
     "output_type": "execute_result"
    }
   ],
   "source": [
    "#computer hardware error\n",
    "1.1+2.2"
   ]
  },
  {
   "cell_type": "code",
   "execution_count": 61,
   "id": "5e6d2b56",
   "metadata": {},
   "outputs": [
    {
     "data": {
      "text/plain": [
       "0.3333333333333333"
      ]
     },
     "execution_count": 61,
     "metadata": {},
     "output_type": "execute_result"
    }
   ],
   "source": [
    "1/3"
   ]
  },
  {
   "cell_type": "code",
   "execution_count": 62,
   "id": "084353ff",
   "metadata": {},
   "outputs": [
    {
     "name": "stdout",
     "output_type": "stream",
     "text": [
      "0.1\n",
      "0.1000000000000000055511151231257827021181583404541015625\n"
     ]
    }
   ],
   "source": [
    "import decimal\n",
    "print(0.1)\n",
    "print(decimal.Decimal(0.1))"
   ]
  },
  {
   "cell_type": "code",
   "execution_count": 68,
   "id": "1fd2d466",
   "metadata": {},
   "outputs": [
    {
     "data": {
      "text/plain": [
       "True"
      ]
     },
     "execution_count": 68,
     "metadata": {},
     "output_type": "execute_result"
    }
   ],
   "source": [
    "from decimal import Decimal as D\n",
    "D('1.1')+D('2.2')==D('3.3')\n"
   ]
  },
  {
   "cell_type": "code",
   "execution_count": 69,
   "id": "700b19de",
   "metadata": {},
   "outputs": [],
   "source": [
    "#introducing numbers from libraries\n",
    "import math #math is a library"
   ]
  },
  {
   "cell_type": "code",
   "execution_count": 70,
   "id": "26f49604",
   "metadata": {},
   "outputs": [
    {
     "data": {
      "text/plain": [
       "3.141592653589793"
      ]
     },
     "execution_count": 70,
     "metadata": {},
     "output_type": "execute_result"
    }
   ],
   "source": [
    "math.pi"
   ]
  },
  {
   "cell_type": "code",
   "execution_count": 71,
   "id": "ff059869",
   "metadata": {},
   "outputs": [
    {
     "data": {
      "text/plain": [
       "6"
      ]
     },
     "execution_count": 71,
     "metadata": {},
     "output_type": "execute_result"
    }
   ],
   "source": [
    "math.factorial(3)"
   ]
  },
  {
   "cell_type": "code",
   "execution_count": 72,
   "id": "27c77d98",
   "metadata": {},
   "outputs": [
    {
     "data": {
      "text/plain": [
       "720"
      ]
     },
     "execution_count": 72,
     "metadata": {},
     "output_type": "execute_result"
    }
   ],
   "source": [
    "math.factorial(6)"
   ]
  },
  {
   "cell_type": "code",
   "execution_count": 73,
   "id": "1456d878",
   "metadata": {},
   "outputs": [
    {
     "data": {
      "text/plain": [
       "0.8775825618903728"
      ]
     },
     "execution_count": 73,
     "metadata": {},
     "output_type": "execute_result"
    }
   ],
   "source": [
    "math.cos(0.5)"
   ]
  },
  {
   "cell_type": "code",
   "execution_count": 74,
   "id": "1b35eb40",
   "metadata": {},
   "outputs": [
    {
     "data": {
      "text/plain": [
       "0.15425144988758405"
      ]
     },
     "execution_count": 74,
     "metadata": {},
     "output_type": "execute_result"
    }
   ],
   "source": [
    "math.cos(30)"
   ]
  },
  {
   "cell_type": "code",
   "execution_count": 75,
   "id": "13eac9f9",
   "metadata": {},
   "outputs": [
    {
     "data": {
      "text/plain": [
       "-0.9880316240928618"
      ]
     },
     "execution_count": 75,
     "metadata": {},
     "output_type": "execute_result"
    }
   ],
   "source": [
    "math.sin(30)"
   ]
  },
  {
   "cell_type": "code",
   "execution_count": 76,
   "id": "d2ecb10f",
   "metadata": {},
   "outputs": [
    {
     "data": {
      "text/plain": [
       "3.141592653589793"
      ]
     },
     "execution_count": 76,
     "metadata": {},
     "output_type": "execute_result"
    }
   ],
   "source": [
    "math.pi"
   ]
  },
  {
   "cell_type": "code",
   "execution_count": 79,
   "id": "220c52bd",
   "metadata": {},
   "outputs": [],
   "source": [
    "ans=math.sin(math.pi/6)"
   ]
  },
  {
   "cell_type": "code",
   "execution_count": 80,
   "id": "a22ebfd7",
   "metadata": {},
   "outputs": [
    {
     "name": "stdout",
     "output_type": "stream",
     "text": [
      "0.49999999999999994\n"
     ]
    }
   ],
   "source": [
    "print(ans)"
   ]
  },
  {
   "cell_type": "code",
   "execution_count": null,
   "id": "de19f7c5",
   "metadata": {},
   "outputs": [],
   "source": []
  }
 ],
 "metadata": {
  "kernelspec": {
   "display_name": "Python 3 (ipykernel)",
   "language": "python",
   "name": "python3"
  },
  "language_info": {
   "codemirror_mode": {
    "name": "ipython",
    "version": 3
   },
   "file_extension": ".py",
   "mimetype": "text/x-python",
   "name": "python",
   "nbconvert_exporter": "python",
   "pygments_lexer": "ipython3",
   "version": "3.10.9"
  }
 },
 "nbformat": 4,
 "nbformat_minor": 5
}

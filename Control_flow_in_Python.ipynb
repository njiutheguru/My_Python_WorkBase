{
 "cells": [
  {
   "cell_type": "code",
   "execution_count": 1,
   "id": "fcf477fc",
   "metadata": {},
   "outputs": [],
   "source": [
    "# control flows.."
   ]
  },
  {
   "cell_type": "code",
   "execution_count": 2,
   "id": "aaa0ecb1",
   "metadata": {},
   "outputs": [],
   "source": [
    "# == and !=\n"
   ]
  },
  {
   "cell_type": "code",
   "execution_count": 3,
   "id": "4bc962aa",
   "metadata": {},
   "outputs": [],
   "source": [
    "# Understanding Booleans"
   ]
  },
  {
   "cell_type": "code",
   "execution_count": 4,
   "id": "94a567e9",
   "metadata": {},
   "outputs": [
    {
     "data": {
      "text/plain": [
       "bool"
      ]
     },
     "execution_count": 4,
     "metadata": {},
     "output_type": "execute_result"
    }
   ],
   "source": [
    "type(True)"
   ]
  },
  {
   "cell_type": "code",
   "execution_count": 5,
   "id": "9b0e57c7",
   "metadata": {},
   "outputs": [
    {
     "data": {
      "text/plain": [
       "bool"
      ]
     },
     "execution_count": 5,
     "metadata": {},
     "output_type": "execute_result"
    }
   ],
   "source": [
    "type(False)"
   ]
  },
  {
   "cell_type": "code",
   "execution_count": 6,
   "id": "8d6a1e93",
   "metadata": {},
   "outputs": [],
   "source": [
    "Happy=True"
   ]
  },
  {
   "cell_type": "code",
   "execution_count": 7,
   "id": "b559a5d9",
   "metadata": {},
   "outputs": [
    {
     "data": {
      "text/plain": [
       "bool"
      ]
     },
     "execution_count": 7,
     "metadata": {},
     "output_type": "execute_result"
    }
   ],
   "source": [
    "Tired=False\n",
    "type(Happy)"
   ]
  },
  {
   "cell_type": "code",
   "execution_count": 8,
   "id": "1b928c21",
   "metadata": {},
   "outputs": [
    {
     "data": {
      "text/plain": [
       "bool"
      ]
     },
     "execution_count": 8,
     "metadata": {},
     "output_type": "execute_result"
    }
   ],
   "source": [
    "type(Tired)"
   ]
  },
  {
   "cell_type": "code",
   "execution_count": 9,
   "id": "0ec05cf1",
   "metadata": {},
   "outputs": [],
   "source": [
    "\n",
    "my_bool=(1+3)!=4"
   ]
  },
  {
   "cell_type": "code",
   "execution_count": 10,
   "id": "9faf2c9d",
   "metadata": {},
   "outputs": [
    {
     "data": {
      "text/plain": [
       "False"
      ]
     },
     "execution_count": 10,
     "metadata": {},
     "output_type": "execute_result"
    }
   ],
   "source": [
    "my_bool"
   ]
  },
  {
   "cell_type": "code",
   "execution_count": 11,
   "id": "3d34ddb7",
   "metadata": {},
   "outputs": [
    {
     "data": {
      "text/plain": [
       "bool"
      ]
     },
     "execution_count": 11,
     "metadata": {},
     "output_type": "execute_result"
    }
   ],
   "source": [
    "type(my_bool)"
   ]
  },
  {
   "cell_type": "code",
   "execution_count": 12,
   "id": "3ae77101",
   "metadata": {},
   "outputs": [],
   "source": [
    "#boolean syntax"
   ]
  },
  {
   "cell_type": "code",
   "execution_count": 15,
   "id": "2bd76b62",
   "metadata": {},
   "outputs": [],
   "source": [
    "a='true'\n",
    "b=False\n",
    "c=True\n",
    "d=\"True\""
   ]
  },
  {
   "cell_type": "code",
   "execution_count": 16,
   "id": "73300cac",
   "metadata": {},
   "outputs": [
    {
     "data": {
      "text/plain": [
       "str"
      ]
     },
     "execution_count": 16,
     "metadata": {},
     "output_type": "execute_result"
    }
   ],
   "source": [
    "type(a)"
   ]
  },
  {
   "cell_type": "code",
   "execution_count": 17,
   "id": "79e4ef73",
   "metadata": {},
   "outputs": [
    {
     "data": {
      "text/plain": [
       "bool"
      ]
     },
     "execution_count": 17,
     "metadata": {},
     "output_type": "execute_result"
    }
   ],
   "source": [
    "type(b)"
   ]
  },
  {
   "cell_type": "code",
   "execution_count": 18,
   "id": "6da964a3",
   "metadata": {},
   "outputs": [
    {
     "data": {
      "text/plain": [
       "str"
      ]
     },
     "execution_count": 18,
     "metadata": {},
     "output_type": "execute_result"
    }
   ],
   "source": [
    "type(d\n",
    "    )"
   ]
  },
  {
   "cell_type": "code",
   "execution_count": 19,
   "id": "a52ee255",
   "metadata": {},
   "outputs": [],
   "source": [
    "#Comparison Operators.."
   ]
  },
  {
   "cell_type": "code",
   "execution_count": null,
   "id": "50f3421a",
   "metadata": {},
   "outputs": [],
   "source": []
  },
  {
   "cell_type": "code",
   "execution_count": 20,
   "id": "3659a69a",
   "metadata": {},
   "outputs": [
    {
     "data": {
      "text/plain": [
       "True"
      ]
     },
     "execution_count": 20,
     "metadata": {},
     "output_type": "execute_result"
    }
   ],
   "source": [
    "10==10"
   ]
  },
  {
   "cell_type": "code",
   "execution_count": 21,
   "id": "353de702",
   "metadata": {},
   "outputs": [
    {
     "data": {
      "text/plain": [
       "False"
      ]
     },
     "execution_count": 21,
     "metadata": {},
     "output_type": "execute_result"
    }
   ],
   "source": [
    "10==4"
   ]
  },
  {
   "cell_type": "code",
   "execution_count": 23,
   "id": "a7622bd2",
   "metadata": {},
   "outputs": [
    {
     "data": {
      "text/plain": [
       "False"
      ]
     },
     "execution_count": 23,
     "metadata": {},
     "output_type": "execute_result"
    }
   ],
   "source": [
    "10=='10'#integer is not equal to string"
   ]
  },
  {
   "cell_type": "code",
   "execution_count": 24,
   "id": "8591bed8",
   "metadata": {},
   "outputs": [
    {
     "data": {
      "text/plain": [
       "True"
      ]
     },
     "execution_count": 24,
     "metadata": {},
     "output_type": "execute_result"
    }
   ],
   "source": [
    "4>3"
   ]
  },
  {
   "cell_type": "code",
   "execution_count": 25,
   "id": "415cccee",
   "metadata": {},
   "outputs": [
    {
     "data": {
      "text/plain": [
       "False"
      ]
     },
     "execution_count": 25,
     "metadata": {},
     "output_type": "execute_result"
    }
   ],
   "source": [
    "2>6"
   ]
  },
  {
   "cell_type": "code",
   "execution_count": 26,
   "id": "2e088ec8",
   "metadata": {},
   "outputs": [
    {
     "name": "stdout",
     "output_type": "stream",
     "text": [
      "False\n"
     ]
    }
   ],
   "source": [
    "print(3>6)"
   ]
  },
  {
   "cell_type": "code",
   "execution_count": 27,
   "id": "7e61684e",
   "metadata": {},
   "outputs": [
    {
     "data": {
      "text/plain": [
       "True"
      ]
     },
     "execution_count": 27,
     "metadata": {},
     "output_type": "execute_result"
    }
   ],
   "source": [
    "3<15"
   ]
  },
  {
   "cell_type": "code",
   "execution_count": 28,
   "id": "1d604788",
   "metadata": {},
   "outputs": [
    {
     "data": {
      "text/plain": [
       "False"
      ]
     },
     "execution_count": 28,
     "metadata": {},
     "output_type": "execute_result"
    }
   ],
   "source": [
    "19>=43"
   ]
  },
  {
   "cell_type": "code",
   "execution_count": 29,
   "id": "4f41a5b2",
   "metadata": {},
   "outputs": [
    {
     "data": {
      "text/plain": [
       "True"
      ]
     },
     "execution_count": 29,
     "metadata": {},
     "output_type": "execute_result"
    }
   ],
   "source": [
    "19<=43"
   ]
  },
  {
   "cell_type": "code",
   "execution_count": 30,
   "id": "4345aba7",
   "metadata": {},
   "outputs": [],
   "source": [
    "# IF statements in Python.."
   ]
  },
  {
   "cell_type": "code",
   "execution_count": 41,
   "id": "061d2022",
   "metadata": {},
   "outputs": [
    {
     "name": "stdout",
     "output_type": "stream",
     "text": [
      "Wear a coat!\n"
     ]
    }
   ],
   "source": [
    "it_is_cold=True\n",
    "if (it_is_cold):\n",
    "    print(\"Wear a coat!\")"
   ]
  },
  {
   "cell_type": "code",
   "execution_count": 37,
   "id": "dd2204a5",
   "metadata": {},
   "outputs": [],
   "source": [
    "age=21\n",
    "if age < 18:\n",
    "    print(\"You are not old enough to receive an ID\")\n",
    "       "
   ]
  },
  {
   "cell_type": "code",
   "execution_count": 40,
   "id": "5509aa4b",
   "metadata": {},
   "outputs": [
    {
     "data": {
      "text/plain": [
       "False"
      ]
     },
     "execution_count": 40,
     "metadata": {},
     "output_type": "execute_result"
    }
   ],
   "source": [
    "#and\n",
    "#or \n",
    "#not\n",
    "(1+1==2)and (293-4==1) "
   ]
  },
  {
   "cell_type": "code",
   "execution_count": 49,
   "id": "d4e1162e",
   "metadata": {},
   "outputs": [
    {
     "name": "stdout",
     "output_type": "stream",
     "text": [
      "watch a movie\n"
     ]
    }
   ],
   "source": [
    "if not(age < 18):\n",
    "    print('watch a movie')"
   ]
  },
  {
   "cell_type": "code",
   "execution_count": 53,
   "id": "17f0d894",
   "metadata": {},
   "outputs": [
    {
     "name": "stdout",
     "output_type": "stream",
     "text": [
      "False\n"
     ]
    }
   ],
   "source": [
    "#not keyword\n",
    "true=True\n",
    "print(not true)"
   ]
  },
  {
   "cell_type": "code",
   "execution_count": 54,
   "id": "2df1b543",
   "metadata": {},
   "outputs": [],
   "source": [
    "#The importance of identation in Python...\n",
    "# Identation requires four spacebar to be precise...NO TAB\n"
   ]
  },
  {
   "cell_type": "code",
   "execution_count": 59,
   "id": "2e490c47",
   "metadata": {},
   "outputs": [
    {
     "name": "stdout",
     "output_type": "stream",
     "text": [
      "yes it is!\n",
      "I promise\n",
      "I PROMISE\n"
     ]
    }
   ],
   "source": [
    "if 1>0:\n",
    "    print('yes it is!')\n",
    "\n",
    "print(\"I promise\")\n",
    "    \n",
    "print(\"I PROMISE\")"
   ]
  },
  {
   "cell_type": "code",
   "execution_count": 60,
   "id": "e6cbf778",
   "metadata": {},
   "outputs": [],
   "source": [
    "#elif and else"
   ]
  },
  {
   "cell_type": "code",
   "execution_count": 62,
   "id": "7343a9c7",
   "metadata": {},
   "outputs": [
    {
     "name": "stdout",
     "output_type": "stream",
     "text": [
      " Enjoy the movie\n"
     ]
    }
   ],
   "source": [
    "if age<18:\n",
    "    print(\"You are not old enough to watch this movie\")\n",
    "else:\n",
    "    print(\" Enjoy the movie\")"
   ]
  },
  {
   "cell_type": "code",
   "execution_count": 70,
   "id": "12c54f31",
   "metadata": {},
   "outputs": [
    {
     "name": "stdout",
     "output_type": "stream",
     "text": [
      "gold Award\n"
     ]
    }
   ],
   "source": [
    "score=80\n",
    "if score>=80:\n",
    "    print(\"gold Award\")\n",
    "elif score>=60:\n",
    "    print(\"Silver Award\")\n",
    "elif score>=40:\n",
    "    print(\"Bronze Award\")\n",
    "else:\n",
    "    print(\"No Award\")"
   ]
  },
  {
   "cell_type": "code",
   "execution_count": 73,
   "id": "a286a3ad",
   "metadata": {},
   "outputs": [],
   "source": [
    "shopping_list=[]\n",
    "item='apples'"
   ]
  },
  {
   "cell_type": "code",
   "execution_count": 74,
   "id": "935e6276",
   "metadata": {},
   "outputs": [
    {
     "data": {
      "text/plain": [
       "False"
      ]
     },
     "execution_count": 74,
     "metadata": {},
     "output_type": "execute_result"
    }
   ],
   "source": [
    "item in shopping_list\n",
    "\n"
   ]
  },
  {
   "cell_type": "code",
   "execution_count": 75,
   "id": "0af69e68",
   "metadata": {},
   "outputs": [
    {
     "data": {
      "text/plain": [
       "True"
      ]
     },
     "execution_count": 75,
     "metadata": {},
     "output_type": "execute_result"
    }
   ],
   "source": [
    "item not in shopping_list"
   ]
  },
  {
   "cell_type": "code",
   "execution_count": 76,
   "id": "cdfe61de",
   "metadata": {},
   "outputs": [],
   "source": [
    "if item not in shopping_list:\n",
    "    shopping_list.append(item)"
   ]
  },
  {
   "cell_type": "code",
   "execution_count": 77,
   "id": "c232ef65",
   "metadata": {},
   "outputs": [
    {
     "data": {
      "text/plain": [
       "['apples']"
      ]
     },
     "execution_count": 77,
     "metadata": {},
     "output_type": "execute_result"
    }
   ],
   "source": [
    "shopping_list\n"
   ]
  },
  {
   "cell_type": "code",
   "execution_count": 78,
   "id": "faa105a6",
   "metadata": {},
   "outputs": [],
   "source": [
    "if len(shopping_list)<2:\n",
    "    shopping_list.append(5.4)"
   ]
  },
  {
   "cell_type": "code",
   "execution_count": 79,
   "id": "796f3fb7",
   "metadata": {},
   "outputs": [
    {
     "data": {
      "text/plain": [
       "['apples', 5.4]"
      ]
     },
     "execution_count": 79,
     "metadata": {},
     "output_type": "execute_result"
    }
   ],
   "source": [
    "shopping_list"
   ]
  },
  {
   "cell_type": "code",
   "execution_count": 80,
   "id": "09111c00",
   "metadata": {},
   "outputs": [
    {
     "data": {
      "text/plain": [
       "2"
      ]
     },
     "execution_count": 80,
     "metadata": {},
     "output_type": "execute_result"
    }
   ],
   "source": [
    "len(shopping_list)"
   ]
  },
  {
   "cell_type": "code",
   "execution_count": 82,
   "id": "e4db20fa",
   "metadata": {},
   "outputs": [
    {
     "data": {
      "text/plain": [
       "list"
      ]
     },
     "execution_count": 82,
     "metadata": {},
     "output_type": "execute_result"
    }
   ],
   "source": [
    "type(shopping_list)"
   ]
  },
  {
   "cell_type": "code",
   "execution_count": null,
   "id": "3c4daa44",
   "metadata": {},
   "outputs": [],
   "source": []
  }
 ],
 "metadata": {
  "kernelspec": {
   "display_name": "Python 3 (ipykernel)",
   "language": "python",
   "name": "python3"
  },
  "language_info": {
   "codemirror_mode": {
    "name": "ipython",
    "version": 3
   },
   "file_extension": ".py",
   "mimetype": "text/x-python",
   "name": "python",
   "nbconvert_exporter": "python",
   "pygments_lexer": "ipython3",
   "version": "3.10.9"
  }
 },
 "nbformat": 4,
 "nbformat_minor": 5
}

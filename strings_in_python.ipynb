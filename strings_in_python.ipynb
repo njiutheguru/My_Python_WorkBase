{
 "cells": [
  {
   "cell_type": "code",
   "execution_count": 2,
   "id": "d4cffcbf",
   "metadata": {},
   "outputs": [],
   "source": [
    "# Starting on Strings .....what is a string?\n",
    "# Conversion of a character to a number is called encoding, otherwise, it is referred to as decoding..\n"
   ]
  },
  {
   "cell_type": "code",
   "execution_count": 3,
   "id": "10cce558",
   "metadata": {},
   "outputs": [],
   "source": [
    "# The most popular encoding used ASCII and Unicode (''), (\"\"), (\"' '\")"
   ]
  },
  {
   "cell_type": "code",
   "execution_count": 4,
   "id": "cf0a3049",
   "metadata": {},
   "outputs": [
    {
     "name": "stdout",
     "output_type": "stream",
     "text": [
      "hello\n"
     ]
    }
   ],
   "source": [
    "print(\"hello\")"
   ]
  },
  {
   "cell_type": "code",
   "execution_count": 5,
   "id": "120b2cd0",
   "metadata": {},
   "outputs": [
    {
     "name": "stdout",
     "output_type": "stream",
     "text": [
      "hello\n"
     ]
    }
   ],
   "source": [
    "print('''hello''')"
   ]
  },
  {
   "cell_type": "code",
   "execution_count": 6,
   "id": "551b769a",
   "metadata": {},
   "outputs": [
    {
     "data": {
      "text/plain": [
       "str"
      ]
     },
     "execution_count": 6,
     "metadata": {},
     "output_type": "execute_result"
    }
   ],
   "source": [
    "type('hello')"
   ]
  },
  {
   "cell_type": "code",
   "execution_count": 7,
   "id": "382043ae",
   "metadata": {},
   "outputs": [
    {
     "data": {
      "text/plain": [
       "str"
      ]
     },
     "execution_count": 7,
     "metadata": {},
     "output_type": "execute_result"
    }
   ],
   "source": [
    "type(\"hell\")"
   ]
  },
  {
   "cell_type": "code",
   "execution_count": 8,
   "id": "191bcb20",
   "metadata": {},
   "outputs": [
    {
     "name": "stdout",
     "output_type": "stream",
     "text": [
      "hello\n"
     ]
    },
    {
     "data": {
      "text/plain": [
       "str"
      ]
     },
     "execution_count": 8,
     "metadata": {},
     "output_type": "execute_result"
    }
   ],
   "source": [
    "message=\"hello\"\n",
    "print(message)\n",
    "type(message)"
   ]
  },
  {
   "cell_type": "code",
   "execution_count": 10,
   "id": "12b68603",
   "metadata": {},
   "outputs": [
    {
     "ename": "SyntaxError",
     "evalue": "unterminated string literal (detected at line 1) (270163551.py, line 1)",
     "output_type": "error",
     "traceback": [
      "\u001b[1;36m  Cell \u001b[1;32mIn[10], line 1\u001b[1;36m\u001b[0m\n\u001b[1;33m    print(\"hello''') #no of quotes have to match lhs==rhs\u001b[0m\n\u001b[1;37m          ^\u001b[0m\n\u001b[1;31mSyntaxError\u001b[0m\u001b[1;31m:\u001b[0m unterminated string literal (detected at line 1)\n"
     ]
    }
   ],
   "source": [
    "print(\"hello\") #no of quotes have to match lhs==rhs"
   ]
  },
  {
   "cell_type": "code",
   "execution_count": 11,
   "id": "4197d2bc",
   "metadata": {},
   "outputs": [
    {
     "name": "stdout",
     "output_type": "stream",
     "text": [
      " I'm having a great time learning Python..\n"
     ]
    }
   ],
   "source": [
    "print(\" I'm having a great time learning Python..\")"
   ]
  },
  {
   "cell_type": "code",
   "execution_count": 12,
   "id": "5da02df8",
   "metadata": {},
   "outputs": [
    {
     "name": "stdout",
     "output_type": "stream",
     "text": [
      "Never Give up, Keep going\n"
     ]
    }
   ],
   "source": [
    "print(\"Never Give up, Keep going\")"
   ]
  },
  {
   "cell_type": "code",
   "execution_count": 15,
   "id": "7ebd55bd",
   "metadata": {},
   "outputs": [
    {
     "name": "stdout",
     "output_type": "stream",
     "text": [
      "They 're over there shouting help! help!\" \"'\n"
     ]
    }
   ],
   "source": [
    "#introducing the escape character \n",
    "print('They \\'re over there shouting help! help!\" \"\\'')"
   ]
  },
  {
   "cell_type": "markdown",
   "id": "917593ef",
   "metadata": {},
   "source": [
    "Notice that the \\ character(the escape character enables one t print double qoutes whichthe compiler may confuse with synatax"
   ]
  },
  {
   "cell_type": "code",
   "execution_count": 16,
   "id": "42648671",
   "metadata": {},
   "outputs": [],
   "source": [
    "#introducing string indexing\n",
    "# Indexing enables one to print a single character in the sring\n",
    "word='hello'"
   ]
  },
  {
   "cell_type": "code",
   "execution_count": 17,
   "id": "367af792",
   "metadata": {},
   "outputs": [
    {
     "data": {
      "text/plain": [
       "5"
      ]
     },
     "execution_count": 17,
     "metadata": {},
     "output_type": "execute_result"
    }
   ],
   "source": [
    "len(word)"
   ]
  },
  {
   "cell_type": "code",
   "execution_count": 18,
   "id": "b957b0a7",
   "metadata": {},
   "outputs": [
    {
     "data": {
      "text/plain": [
       "'o'"
      ]
     },
     "execution_count": 18,
     "metadata": {},
     "output_type": "execute_result"
    }
   ],
   "source": [
    "#obtaining the first chaaracter in the string\n",
    "#indexing starts at index 0\n",
    "word[4]"
   ]
  },
  {
   "cell_type": "code",
   "execution_count": 19,
   "id": "67fb6bac",
   "metadata": {},
   "outputs": [],
   "source": [
    "sentence='I love python'\n"
   ]
  },
  {
   "cell_type": "code",
   "execution_count": 20,
   "id": "ddc412de",
   "metadata": {},
   "outputs": [
    {
     "data": {
      "text/plain": [
       "13"
      ]
     },
     "execution_count": 20,
     "metadata": {},
     "output_type": "execute_result"
    }
   ],
   "source": [
    "len(sentence)"
   ]
  },
  {
   "cell_type": "code",
   "execution_count": 21,
   "id": "4dfd00d9",
   "metadata": {},
   "outputs": [
    {
     "data": {
      "text/plain": [
       "'n'"
      ]
     },
     "execution_count": 21,
     "metadata": {},
     "output_type": "execute_result"
    }
   ],
   "source": [
    "sentence[12]"
   ]
  },
  {
   "cell_type": "code",
   "execution_count": 22,
   "id": "e74af4d0",
   "metadata": {},
   "outputs": [
    {
     "data": {
      "text/plain": [
       "'p'"
      ]
     },
     "execution_count": 22,
     "metadata": {},
     "output_type": "execute_result"
    }
   ],
   "source": [
    "sentence[7]"
   ]
  },
  {
   "cell_type": "code",
   "execution_count": 23,
   "id": "04ed3d77",
   "metadata": {},
   "outputs": [
    {
     "data": {
      "text/plain": [
       "'o'"
      ]
     },
     "execution_count": 23,
     "metadata": {},
     "output_type": "execute_result"
    }
   ],
   "source": [
    "#introducing negative indexing \n",
    "word[-1]"
   ]
  },
  {
   "cell_type": "code",
   "execution_count": 24,
   "id": "98de5c21",
   "metadata": {},
   "outputs": [
    {
     "data": {
      "text/plain": [
       "'h'"
      ]
     },
     "execution_count": 24,
     "metadata": {},
     "output_type": "execute_result"
    }
   ],
   "source": [
    "word[-5]"
   ]
  },
  {
   "cell_type": "code",
   "execution_count": 25,
   "id": "b53bd0d2",
   "metadata": {},
   "outputs": [],
   "source": [
    "#indexing \"hello\"\n",
    "   #     -5,-4,-3,-2,-1, In this case we don't start from 0..."
   ]
  },
  {
   "cell_type": "code",
   "execution_count": 28,
   "id": "c4e79cc3",
   "metadata": {},
   "outputs": [],
   "source": [
    "#word[2.0] #only whole numbers can be inserted in the square numbers"
   ]
  },
  {
   "cell_type": "code",
   "execution_count": 29,
   "id": "cac8d1d5",
   "metadata": {},
   "outputs": [
    {
     "data": {
      "text/plain": [
       "'G'"
      ]
     },
     "execution_count": 29,
     "metadata": {},
     "output_type": "execute_result"
    }
   ],
   "source": [
    "#introducing string slicing\n",
    "\n",
    "word='GoodBye'\n",
    "word[0]"
   ]
  },
  {
   "cell_type": "code",
   "execution_count": 30,
   "id": "2b0ee06d",
   "metadata": {},
   "outputs": [
    {
     "data": {
      "text/plain": [
       "'Good'"
      ]
     },
     "execution_count": 30,
     "metadata": {},
     "output_type": "execute_result"
    }
   ],
   "source": [
    "word[0:4]"
   ]
  },
  {
   "cell_type": "code",
   "execution_count": 33,
   "id": "4213356a",
   "metadata": {},
   "outputs": [
    {
     "data": {
      "text/plain": [
       "'Good'"
      ]
     },
     "execution_count": 33,
     "metadata": {},
     "output_type": "execute_result"
    }
   ],
   "source": [
    "word[:4] #here letter in the included index in RHS is not included"
   ]
  },
  {
   "cell_type": "code",
   "execution_count": 34,
   "id": "bf221bd5",
   "metadata": {},
   "outputs": [
    {
     "data": {
      "text/plain": [
       "'Good'"
      ]
     },
     "execution_count": 34,
     "metadata": {},
     "output_type": "execute_result"
    }
   ],
   "source": [
    "word[:-3]"
   ]
  },
  {
   "cell_type": "code",
   "execution_count": 35,
   "id": "6b2a8c7e",
   "metadata": {},
   "outputs": [],
   "source": [
    "new_word=word[:4]"
   ]
  },
  {
   "cell_type": "code",
   "execution_count": 36,
   "id": "e9cf2296",
   "metadata": {},
   "outputs": [
    {
     "data": {
      "text/plain": [
       "'Good'"
      ]
     },
     "execution_count": 36,
     "metadata": {},
     "output_type": "execute_result"
    }
   ],
   "source": [
    "new_word\n"
   ]
  },
  {
   "cell_type": "code",
   "execution_count": 37,
   "id": "293ec849",
   "metadata": {},
   "outputs": [
    {
     "data": {
      "text/plain": [
       "'Bye'"
      ]
     },
     "execution_count": 37,
     "metadata": {},
     "output_type": "execute_result"
    }
   ],
   "source": [
    "word[4:7]"
   ]
  },
  {
   "cell_type": "code",
   "execution_count": 38,
   "id": "b0e10611",
   "metadata": {},
   "outputs": [
    {
     "data": {
      "text/plain": [
       "'Bye'"
      ]
     },
     "execution_count": 38,
     "metadata": {},
     "output_type": "execute_result"
    }
   ],
   "source": [
    "word[4:]"
   ]
  },
  {
   "cell_type": "code",
   "execution_count": 39,
   "id": "1d2ebe66",
   "metadata": {},
   "outputs": [
    {
     "data": {
      "text/plain": [
       "'GoodBye'"
      ]
     },
     "execution_count": 39,
     "metadata": {},
     "output_type": "execute_result"
    }
   ],
   "source": [
    "word\n"
   ]
  },
  {
   "cell_type": "code",
   "execution_count": 40,
   "id": "ef58e881",
   "metadata": {},
   "outputs": [
    {
     "data": {
      "text/plain": [
       "'Bye'"
      ]
     },
     "execution_count": 40,
     "metadata": {},
     "output_type": "execute_result"
    }
   ],
   "source": [
    "word[-3:]"
   ]
  },
  {
   "cell_type": "code",
   "execution_count": 42,
   "id": "719388fc",
   "metadata": {},
   "outputs": [
    {
     "data": {
      "text/plain": [
       "'GoodBye'"
      ]
     },
     "execution_count": 42,
     "metadata": {},
     "output_type": "execute_result"
    }
   ],
   "source": [
    "word[:]#prints the whole word in the letter"
   ]
  },
  {
   "cell_type": "code",
   "execution_count": 43,
   "id": "6610173b",
   "metadata": {},
   "outputs": [
    {
     "data": {
      "text/plain": [
       "'oodBy'"
      ]
     },
     "execution_count": 43,
     "metadata": {},
     "output_type": "execute_result"
    }
   ],
   "source": [
    "word[1:6]"
   ]
  },
  {
   "cell_type": "code",
   "execution_count": 45,
   "id": "004cf009",
   "metadata": {},
   "outputs": [
    {
     "data": {
      "text/plain": [
       "'ody'"
      ]
     },
     "execution_count": 45,
     "metadata": {},
     "output_type": "execute_result"
    }
   ],
   "source": [
    "word[1:6:2] #the third param enables every second letter from the defined length\n"
   ]
  },
  {
   "cell_type": "code",
   "execution_count": 46,
   "id": "059ccd45",
   "metadata": {},
   "outputs": [
    {
     "data": {
      "text/plain": [
       "'GoodBye'"
      ]
     },
     "execution_count": 46,
     "metadata": {},
     "output_type": "execute_result"
    }
   ],
   "source": [
    "word\n"
   ]
  },
  {
   "cell_type": "code",
   "execution_count": 47,
   "id": "32da037c",
   "metadata": {},
   "outputs": [
    {
     "data": {
      "text/plain": [
       "'Gd'"
      ]
     },
     "execution_count": 47,
     "metadata": {},
     "output_type": "execute_result"
    }
   ],
   "source": [
    "word[0:6:3] #prints every third letter from the beginning of the word"
   ]
  },
  {
   "cell_type": "code",
   "execution_count": 48,
   "id": "72f8b543",
   "metadata": {},
   "outputs": [],
   "source": [
    "numbers='123456789'"
   ]
  },
  {
   "cell_type": "code",
   "execution_count": 50,
   "id": "29d44af1",
   "metadata": {},
   "outputs": [
    {
     "data": {
      "text/plain": [
       "'2468'"
      ]
     },
     "execution_count": 50,
     "metadata": {},
     "output_type": "execute_result"
    }
   ],
   "source": [
    "numbers[1::2] #slicing operation that prints out only the even numbers"
   ]
  },
  {
   "cell_type": "code",
   "execution_count": 51,
   "id": "812f1baf",
   "metadata": {},
   "outputs": [
    {
     "data": {
      "text/plain": [
       "'2468'"
      ]
     },
     "execution_count": 51,
     "metadata": {},
     "output_type": "execute_result"
    }
   ],
   "source": [
    "numbers[1:10:2] #can be replaced by double colons to imply that we run from the start\n",
    "#starting index all the way to the end"
   ]
  },
  {
   "cell_type": "code",
   "execution_count": 52,
   "id": "cf9c21b3",
   "metadata": {},
   "outputs": [
    {
     "data": {
      "text/plain": [
       "'987654321'"
      ]
     },
     "execution_count": 52,
     "metadata": {},
     "output_type": "execute_result"
    }
   ],
   "source": [
    "#how to reverse a word\n",
    "numbers[::-1]"
   ]
  },
  {
   "cell_type": "code",
   "execution_count": 53,
   "id": "c9dd1c4f",
   "metadata": {},
   "outputs": [
    {
     "data": {
      "text/plain": [
       "'GoodBye'"
      ]
     },
     "execution_count": 53,
     "metadata": {},
     "output_type": "execute_result"
    }
   ],
   "source": [
    "word\n"
   ]
  },
  {
   "cell_type": "code",
   "execution_count": 54,
   "id": "265018ab",
   "metadata": {},
   "outputs": [
    {
     "data": {
      "text/plain": [
       "'eyBdooG'"
      ]
     },
     "execution_count": 54,
     "metadata": {},
     "output_type": "execute_result"
    }
   ],
   "source": [
    "word[::-1] #reverses a string"
   ]
  },
  {
   "cell_type": "code",
   "execution_count": 55,
   "id": "453a4e51",
   "metadata": {},
   "outputs": [
    {
     "data": {
      "text/plain": [
       "'97531'"
      ]
     },
     "execution_count": 55,
     "metadata": {},
     "output_type": "execute_result"
    }
   ],
   "source": [
    "numbers[::-2] #we print only the odd numbers in reverse order"
   ]
  },
  {
   "cell_type": "code",
   "execution_count": 56,
   "id": "b85f278c",
   "metadata": {},
   "outputs": [
    {
     "data": {
      "text/plain": [
       "'GoodBye'"
      ]
     },
     "execution_count": 56,
     "metadata": {},
     "output_type": "execute_result"
    }
   ],
   "source": [
    "#introducing how to change a string or delete\n",
    "word"
   ]
  },
  {
   "cell_type": "code",
   "execution_count": 57,
   "id": "23063221",
   "metadata": {},
   "outputs": [],
   "source": [
    "word='hello'"
   ]
  },
  {
   "cell_type": "code",
   "execution_count": 58,
   "id": "fdda92f6",
   "metadata": {},
   "outputs": [
    {
     "data": {
      "text/plain": [
       "'hello'"
      ]
     },
     "execution_count": 58,
     "metadata": {},
     "output_type": "execute_result"
    }
   ],
   "source": [
    "word"
   ]
  },
  {
   "cell_type": "code",
   "execution_count": 59,
   "id": "b6ac647e",
   "metadata": {},
   "outputs": [],
   "source": [
    "#string cannot be changed/altered when  assigned, but the variable word can be assined another word\n"
   ]
  },
  {
   "cell_type": "code",
   "execution_count": 60,
   "id": "417fdc0a",
   "metadata": {},
   "outputs": [
    {
     "ename": "NameError",
     "evalue": "name 't' is not defined",
     "output_type": "error",
     "traceback": [
      "\u001b[1;31m---------------------------------------------------------------------------\u001b[0m",
      "\u001b[1;31mNameError\u001b[0m                                 Traceback (most recent call last)",
      "Cell \u001b[1;32mIn[60], line 1\u001b[0m\n\u001b[1;32m----> 1\u001b[0m word[\u001b[38;5;241m2\u001b[39m]\u001b[38;5;241m=\u001b[39m\u001b[43mt\u001b[49m\n",
      "\u001b[1;31mNameError\u001b[0m: name 't' is not defined"
     ]
    }
   ],
   "source": [
    "word[2]=t"
   ]
  },
  {
   "cell_type": "code",
   "execution_count": null,
   "id": "953a6c5a",
   "metadata": {},
   "outputs": [],
   "source": []
  },
  {
   "cell_type": "code",
   "execution_count": 63,
   "id": "9675c543",
   "metadata": {},
   "outputs": [
    {
     "ename": "NameError",
     "evalue": "name 'word' is not defined",
     "output_type": "error",
     "traceback": [
      "\u001b[1;31m---------------------------------------------------------------------------\u001b[0m",
      "\u001b[1;31mNameError\u001b[0m                                 Traceback (most recent call last)",
      "Cell \u001b[1;32mIn[63], line 2\u001b[0m\n\u001b[0;32m      1\u001b[0m \u001b[38;5;66;03m#to delete a strig we use the del keyword\u001b[39;00m\n\u001b[1;32m----> 2\u001b[0m \u001b[38;5;28;01mdel\u001b[39;00m \u001b[43mword\u001b[49m[\u001b[38;5;241m3\u001b[39m]\n",
      "\u001b[1;31mNameError\u001b[0m: name 'word' is not defined"
     ]
    }
   ],
   "source": [
    "#to delete a strig we use the del keyword\n",
    "del word[3]"
   ]
  },
  {
   "cell_type": "code",
   "execution_count": 65,
   "id": "93aadf52",
   "metadata": {},
   "outputs": [
    {
     "ename": "NameError",
     "evalue": "name 'word' is not defined",
     "output_type": "error",
     "traceback": [
      "\u001b[1;31m---------------------------------------------------------------------------\u001b[0m",
      "\u001b[1;31mNameError\u001b[0m                                 Traceback (most recent call last)",
      "Cell \u001b[1;32mIn[65], line 1\u001b[0m\n\u001b[1;32m----> 1\u001b[0m \u001b[43mword\u001b[49m\n",
      "\u001b[1;31mNameError\u001b[0m: name 'word' is not defined"
     ]
    }
   ],
   "source": [
    "word"
   ]
  },
  {
   "cell_type": "code",
   "execution_count": null,
   "id": "f798472f",
   "metadata": {},
   "outputs": [],
   "source": []
  },
  {
   "cell_type": "code",
   "execution_count": 66,
   "id": "d2f31c33",
   "metadata": {},
   "outputs": [
    {
     "ename": "NameError",
     "evalue": "name 'word' is not defined",
     "output_type": "error",
     "traceback": [
      "\u001b[1;31m---------------------------------------------------------------------------\u001b[0m",
      "\u001b[1;31mNameError\u001b[0m                                 Traceback (most recent call last)",
      "Cell \u001b[1;32mIn[66], line 1\u001b[0m\n\u001b[1;32m----> 1\u001b[0m \u001b[43mword\u001b[49m\n",
      "\u001b[1;31mNameError\u001b[0m: name 'word' is not defined"
     ]
    }
   ],
   "source": [
    "word"
   ]
  },
  {
   "cell_type": "code",
   "execution_count": 67,
   "id": "8e0c999b",
   "metadata": {},
   "outputs": [
    {
     "ename": "NameError",
     "evalue": "name 'word' is not defined",
     "output_type": "error",
     "traceback": [
      "\u001b[1;31m---------------------------------------------------------------------------\u001b[0m",
      "\u001b[1;31mNameError\u001b[0m                                 Traceback (most recent call last)",
      "Cell \u001b[1;32mIn[67], line 1\u001b[0m\n\u001b[1;32m----> 1\u001b[0m \u001b[38;5;28;01mdel\u001b[39;00m word\n",
      "\u001b[1;31mNameError\u001b[0m: name 'word' is not defined"
     ]
    }
   ],
   "source": [
    "del word"
   ]
  },
  {
   "cell_type": "code",
   "execution_count": 68,
   "id": "5063cf57",
   "metadata": {},
   "outputs": [
    {
     "ename": "NameError",
     "evalue": "name 'word' is not defined",
     "output_type": "error",
     "traceback": [
      "\u001b[1;31m---------------------------------------------------------------------------\u001b[0m",
      "\u001b[1;31mNameError\u001b[0m                                 Traceback (most recent call last)",
      "Cell \u001b[1;32mIn[68], line 1\u001b[0m\n\u001b[1;32m----> 1\u001b[0m \u001b[43mword\u001b[49m\n",
      "\u001b[1;31mNameError\u001b[0m: name 'word' is not defined"
     ]
    }
   ],
   "source": [
    "word"
   ]
  },
  {
   "cell_type": "code",
   "execution_count": 69,
   "id": "6b96f061",
   "metadata": {},
   "outputs": [],
   "source": [
    "word=\"Hello\""
   ]
  },
  {
   "cell_type": "code",
   "execution_count": 70,
   "id": "4dbbd32f",
   "metadata": {},
   "outputs": [
    {
     "data": {
      "text/plain": [
       "'Hello'"
      ]
     },
     "execution_count": 70,
     "metadata": {},
     "output_type": "execute_result"
    }
   ],
   "source": [
    "word"
   ]
  },
  {
   "cell_type": "code",
   "execution_count": 71,
   "id": "ddb88fbd",
   "metadata": {},
   "outputs": [],
   "source": [
    "del word"
   ]
  },
  {
   "cell_type": "code",
   "execution_count": 72,
   "id": "ad37bedc",
   "metadata": {},
   "outputs": [
    {
     "ename": "NameError",
     "evalue": "name 'word' is not defined",
     "output_type": "error",
     "traceback": [
      "\u001b[1;31m---------------------------------------------------------------------------\u001b[0m",
      "\u001b[1;31mNameError\u001b[0m                                 Traceback (most recent call last)",
      "Cell \u001b[1;32mIn[72], line 1\u001b[0m\n\u001b[1;32m----> 1\u001b[0m \u001b[43mword\u001b[49m\n",
      "\u001b[1;31mNameError\u001b[0m: name 'word' is not defined"
     ]
    }
   ],
   "source": [
    "word #This is not availabe unless reinitialized again"
   ]
  },
  {
   "cell_type": "code",
   "execution_count": 73,
   "id": "e3017a73",
   "metadata": {},
   "outputs": [
    {
     "ename": "NameError",
     "evalue": "name 'word' is not defined",
     "output_type": "error",
     "traceback": [
      "\u001b[1;31m---------------------------------------------------------------------------\u001b[0m",
      "\u001b[1;31mNameError\u001b[0m                                 Traceback (most recent call last)",
      "Cell \u001b[1;32mIn[73], line 1\u001b[0m\n\u001b[1;32m----> 1\u001b[0m \u001b[43mword\u001b[49m\n",
      "\u001b[1;31mNameError\u001b[0m: name 'word' is not defined"
     ]
    }
   ],
   "source": [
    " word #once deleted, it cannot be retrieved unless initialized again"
   ]
  },
  {
   "cell_type": "code",
   "execution_count": 76,
   "id": "f76aeb5c",
   "metadata": {},
   "outputs": [
    {
     "data": {
      "text/plain": [
       "'Hello world people'"
      ]
     },
     "execution_count": 76,
     "metadata": {},
     "output_type": "execute_result"
    }
   ],
   "source": [
    "#introducing string concatenation\n",
    "'Hello'+' '+'world'+\" people\""
   ]
  },
  {
   "cell_type": "code",
   "execution_count": 77,
   "id": "503811a0",
   "metadata": {},
   "outputs": [],
   "source": [
    "welcome='welcome to the game'"
   ]
  },
  {
   "cell_type": "code",
   "execution_count": 78,
   "id": "44b063ac",
   "metadata": {},
   "outputs": [],
   "source": [
    "julie='Julie!'"
   ]
  },
  {
   "cell_type": "code",
   "execution_count": 79,
   "id": "55c2786a",
   "metadata": {},
   "outputs": [],
   "source": [
    "instructions='You need to collect as many coins as possible'"
   ]
  },
  {
   "cell_type": "code",
   "execution_count": 80,
   "id": "345eb7f9",
   "metadata": {},
   "outputs": [
    {
     "data": {
      "text/plain": [
       "'welcome to the gameJulie!You need to collect as many coins as possible'"
      ]
     },
     "execution_count": 80,
     "metadata": {},
     "output_type": "execute_result"
    }
   ],
   "source": [
    "welcome+julie+instructions"
   ]
  },
  {
   "cell_type": "code",
   "execution_count": 81,
   "id": "1086fba5",
   "metadata": {},
   "outputs": [
    {
     "name": "stdout",
     "output_type": "stream",
     "text": [
      "Julie! welcome to the game You need to collect as many coins as possible\n"
     ]
    }
   ],
   "source": [
    "print(julie+\" \"+welcome+\" \"+instructions)"
   ]
  },
  {
   "cell_type": "code",
   "execution_count": 83,
   "id": "0c00bbdf",
   "metadata": {},
   "outputs": [
    {
     "name": "stdout",
     "output_type": "stream",
     "text": [
      "hello hello hello \n"
     ]
    }
   ],
   "source": [
    "#using the * operator\n",
    "repeat='hello '*3# repeats word for three times\n",
    "print(repeat)"
   ]
  },
  {
   "cell_type": "code",
   "execution_count": 84,
   "id": "0c5277c3",
   "metadata": {},
   "outputs": [
    {
     "data": {
      "text/plain": [
       "True"
      ]
     },
     "execution_count": 84,
     "metadata": {},
     "output_type": "execute_result"
    }
   ],
   "source": [
    "#introducing string membership\n",
    "'a' in \"Hamburger\" #this check if a is in the word hamburger"
   ]
  },
  {
   "cell_type": "code",
   "execution_count": 86,
   "id": "fe29f1d0",
   "metadata": {},
   "outputs": [
    {
     "data": {
      "text/plain": [
       "False"
      ]
     },
     "execution_count": 86,
     "metadata": {},
     "output_type": "execute_result"
    }
   ],
   "source": [
    "'e'not in \"chicken\" #opposite of the above...checks whether e is not in chicken"
   ]
  },
  {
   "cell_type": "code",
   "execution_count": 88,
   "id": "0a3b69a1",
   "metadata": {},
   "outputs": [
    {
     "data": {
      "text/plain": [
       "True"
      ]
     },
     "execution_count": 88,
     "metadata": {},
     "output_type": "execute_result"
    }
   ],
   "source": [
    "juice='apple and Strawberry'\n",
    "'apple' in juice\n",
    "'apple ' in juice\n"
   ]
  },
  {
   "cell_type": "code",
   "execution_count": 89,
   "id": "3bfc4d08",
   "metadata": {},
   "outputs": [
    {
     "data": {
      "text/plain": [
       "False"
      ]
     },
     "execution_count": 89,
     "metadata": {},
     "output_type": "execute_result"
    }
   ],
   "source": [
    "'Apple' in juice"
   ]
  },
  {
   "cell_type": "code",
   "execution_count": 90,
   "id": "dde52941",
   "metadata": {},
   "outputs": [
    {
     "data": {
      "text/plain": [
       "True"
      ]
     },
     "execution_count": 90,
     "metadata": {},
     "output_type": "execute_result"
    }
   ],
   "source": [
    "'apple ' in juice"
   ]
  },
  {
   "cell_type": "code",
   "execution_count": 92,
   "id": "b2ade85b",
   "metadata": {},
   "outputs": [
    {
     "data": {
      "text/plain": [
       "True"
      ]
     },
     "execution_count": 92,
     "metadata": {},
     "output_type": "execute_result"
    }
   ],
   "source": [
    "raffle_ticket='158A'\n",
    "winner='158A'\n",
    "winner in raffle_ticket"
   ]
  },
  {
   "cell_type": "code",
   "execution_count": 94,
   "id": "77f546b8",
   "metadata": {},
   "outputs": [
    {
     "ename": "TypeError",
     "evalue": "'in <string>' requires string as left operand, not int",
     "output_type": "error",
     "traceback": [
      "\u001b[1;31m---------------------------------------------------------------------------\u001b[0m",
      "\u001b[1;31mTypeError\u001b[0m                                 Traceback (most recent call last)",
      "Cell \u001b[1;32mIn[94], line 1\u001b[0m\n\u001b[1;32m----> 1\u001b[0m \u001b[38;5;241;43m1\u001b[39;49m\u001b[43m \u001b[49m\u001b[38;5;129;43;01min\u001b[39;49;00m\u001b[43m \u001b[49m\u001b[43mwinner\u001b[49m\n",
      "\u001b[1;31mTypeError\u001b[0m: 'in <string>' requires string as left operand, not int"
     ]
    }
   ],
   "source": [
    "1 in winner #1 is integer hence'1' works"
   ]
  },
  {
   "cell_type": "code",
   "execution_count": 95,
   "id": "23ee0b14",
   "metadata": {},
   "outputs": [
    {
     "data": {
      "text/plain": [
       "True"
      ]
     },
     "execution_count": 95,
     "metadata": {},
     "output_type": "execute_result"
    }
   ],
   "source": [
    "'1' in winner"
   ]
  },
  {
   "cell_type": "code",
   "execution_count": 97,
   "id": "e7cd66ff",
   "metadata": {},
   "outputs": [],
   "source": [
    "#introducing string methods--The different methods we can do in strings/functions/operations\n"
   ]
  },
  {
   "cell_type": "code",
   "execution_count": 98,
   "id": "59686bb4",
   "metadata": {},
   "outputs": [],
   "source": [
    "sentence='I LOVE learning Python'"
   ]
  },
  {
   "cell_type": "code",
   "execution_count": 99,
   "id": "3e4f33ed",
   "metadata": {},
   "outputs": [
    {
     "data": {
      "text/plain": [
       "'I LOVE learning Python'"
      ]
     },
     "execution_count": 99,
     "metadata": {},
     "output_type": "execute_result"
    }
   ],
   "source": [
    "sentence\n"
   ]
  },
  {
   "cell_type": "code",
   "execution_count": 100,
   "id": "07de647c",
   "metadata": {},
   "outputs": [
    {
     "data": {
      "text/plain": [
       "str"
      ]
     },
     "execution_count": 100,
     "metadata": {},
     "output_type": "execute_result"
    }
   ],
   "source": [
    "type(sentence)"
   ]
  },
  {
   "cell_type": "code",
   "execution_count": 101,
   "id": "e09ee924",
   "metadata": {},
   "outputs": [
    {
     "data": {
      "text/plain": [
       "'I love learning python'"
      ]
     },
     "execution_count": 101,
     "metadata": {},
     "output_type": "execute_result"
    }
   ],
   "source": [
    "sentence.capitalize()"
   ]
  },
  {
   "cell_type": "code",
   "execution_count": 102,
   "id": "03a1b6a1",
   "metadata": {},
   "outputs": [],
   "source": [
    "new_sentence=sentence.capitalize()"
   ]
  },
  {
   "cell_type": "code",
   "execution_count": 103,
   "id": "a0705097",
   "metadata": {},
   "outputs": [
    {
     "data": {
      "text/plain": [
       "'I love learning python'"
      ]
     },
     "execution_count": 103,
     "metadata": {},
     "output_type": "execute_result"
    }
   ],
   "source": [
    "new_sentence"
   ]
  },
  {
   "cell_type": "code",
   "execution_count": 111,
   "id": "5da59dc6",
   "metadata": {},
   "outputs": [
    {
     "name": "stdout",
     "output_type": "stream",
     "text": [
      "hello stephen\n"
     ]
    },
    {
     "data": {
      "text/plain": [
       "2"
      ]
     },
     "execution_count": 111,
     "metadata": {},
     "output_type": "execute_result"
    }
   ],
   "source": [
    "sentence.count('o')\n",
    "print(\"hello stephen\")\n",
    "\n"
   ]
  },
  {
   "cell_type": "code",
   "execution_count": 110,
   "id": "a1c37b00",
   "metadata": {},
   "outputs": [
    {
     "data": {
      "text/plain": [
       "2"
      ]
     },
     "execution_count": 110,
     "metadata": {},
     "output_type": "execute_result"
    }
   ],
   "source": [
    "new_sentence.count('o')"
   ]
  },
  {
   "cell_type": "code",
   "execution_count": 112,
   "id": "168bd1dd",
   "metadata": {},
   "outputs": [
    {
     "data": {
      "text/plain": [
       "0"
      ]
     },
     "execution_count": 112,
     "metadata": {},
     "output_type": "execute_result"
    }
   ],
   "source": [
    "sentence.count('I',1)"
   ]
  },
  {
   "cell_type": "code",
   "execution_count": 113,
   "id": "28a65b82",
   "metadata": {},
   "outputs": [
    {
     "data": {
      "text/plain": [
       "True"
      ]
     },
     "execution_count": 113,
     "metadata": {},
     "output_type": "execute_result"
    }
   ],
   "source": [
    "sentence.endswith('n')"
   ]
  },
  {
   "cell_type": "code",
   "execution_count": 115,
   "id": "e197582d",
   "metadata": {},
   "outputs": [
    {
     "data": {
      "text/plain": [
       "False"
      ]
     },
     "execution_count": 115,
     "metadata": {},
     "output_type": "execute_result"
    }
   ],
   "source": [
    "sentence.endswith('N') #strings method are case sensitive"
   ]
  },
  {
   "cell_type": "code",
   "execution_count": 116,
   "id": "28051631",
   "metadata": {},
   "outputs": [
    {
     "data": {
      "text/plain": [
       "True"
      ]
     },
     "execution_count": 116,
     "metadata": {},
     "output_type": "execute_result"
    }
   ],
   "source": [
    "sentence.startswith('I')"
   ]
  },
  {
   "cell_type": "code",
   "execution_count": 117,
   "id": "344ccbbe",
   "metadata": {},
   "outputs": [
    {
     "data": {
      "text/plain": [
       "2"
      ]
     },
     "execution_count": 117,
     "metadata": {},
     "output_type": "execute_result"
    }
   ],
   "source": [
    "sentence.find('L')"
   ]
  },
  {
   "cell_type": "code",
   "execution_count": 118,
   "id": "07f9ac8e",
   "metadata": {},
   "outputs": [
    {
     "data": {
      "text/plain": [
       "-1"
      ]
     },
     "execution_count": 118,
     "metadata": {},
     "output_type": "execute_result"
    }
   ],
   "source": [
    "sentence.find('x') #returns -1 when the letter is not found\n"
   ]
  },
  {
   "cell_type": "code",
   "execution_count": 120,
   "id": "4a107be2",
   "metadata": {},
   "outputs": [
    {
     "data": {
      "text/plain": [
       "6"
      ]
     },
     "execution_count": 120,
     "metadata": {},
     "output_type": "execute_result"
    }
   ],
   "source": [
    "sentence.find(' ',3)"
   ]
  },
  {
   "cell_type": "code",
   "execution_count": 121,
   "id": "b9cd33fe",
   "metadata": {},
   "outputs": [
    {
     "data": {
      "text/plain": [
       "'I LOVE learning Python'"
      ]
     },
     "execution_count": 121,
     "metadata": {},
     "output_type": "execute_result"
    }
   ],
   "source": [
    "sentence\n"
   ]
  },
  {
   "cell_type": "code",
   "execution_count": 122,
   "id": "07ee463a",
   "metadata": {},
   "outputs": [
    {
     "data": {
      "text/plain": [
       "2"
      ]
     },
     "execution_count": 122,
     "metadata": {},
     "output_type": "execute_result"
    }
   ],
   "source": [
    "sentence.index('L')"
   ]
  },
  {
   "cell_type": "code",
   "execution_count": 125,
   "id": "b08ef664",
   "metadata": {},
   "outputs": [
    {
     "ename": "ValueError",
     "evalue": "substring not found",
     "output_type": "error",
     "traceback": [
      "\u001b[1;31m---------------------------------------------------------------------------\u001b[0m",
      "\u001b[1;31mValueError\u001b[0m                                Traceback (most recent call last)",
      "Cell \u001b[1;32mIn[125], line 1\u001b[0m\n\u001b[1;32m----> 1\u001b[0m \u001b[43msentence\u001b[49m\u001b[38;5;241;43m.\u001b[39;49m\u001b[43mindex\u001b[49m\u001b[43m(\u001b[49m\u001b[38;5;124;43m'\u001b[39;49m\u001b[38;5;124;43mz\u001b[39;49m\u001b[38;5;124;43m'\u001b[39;49m\u001b[43m)\u001b[49m\n",
      "\u001b[1;31mValueError\u001b[0m: substring not found"
     ]
    }
   ],
   "source": [
    "sentence.index('z') #z is not found in the sentence"
   ]
  },
  {
   "cell_type": "code",
   "execution_count": 126,
   "id": "76d3191f",
   "metadata": {},
   "outputs": [
    {
     "data": {
      "text/plain": [
       "True"
      ]
     },
     "execution_count": 126,
     "metadata": {},
     "output_type": "execute_result"
    }
   ],
   "source": [
    "'10'.isdigit()"
   ]
  },
  {
   "cell_type": "code",
   "execution_count": 127,
   "id": "94180317",
   "metadata": {},
   "outputs": [
    {
     "data": {
      "text/plain": [
       "False"
      ]
     },
     "execution_count": 127,
     "metadata": {},
     "output_type": "execute_result"
    }
   ],
   "source": [
    "'10a'.isdigit()\n"
   ]
  },
  {
   "cell_type": "code",
   "execution_count": 129,
   "id": "14de6c5f",
   "metadata": {},
   "outputs": [
    {
     "data": {
      "text/plain": [
       "False"
      ]
     },
     "execution_count": 129,
     "metadata": {},
     "output_type": "execute_result"
    }
   ],
   "source": [
    "sentence.isalpha() #returns false because of spaces in the sentence"
   ]
  },
  {
   "cell_type": "code",
   "execution_count": 130,
   "id": "dd67a7bd",
   "metadata": {},
   "outputs": [
    {
     "data": {
      "text/plain": [
       "'i love learning python'"
      ]
     },
     "execution_count": 130,
     "metadata": {},
     "output_type": "execute_result"
    }
   ],
   "source": [
    "sentence.lower()"
   ]
  },
  {
   "cell_type": "code",
   "execution_count": 131,
   "id": "e262ea70",
   "metadata": {},
   "outputs": [
    {
     "data": {
      "text/plain": [
       "'I LOVE LEARNING PYTHON'"
      ]
     },
     "execution_count": 131,
     "metadata": {},
     "output_type": "execute_result"
    }
   ],
   "source": [
    "sentence.upper()"
   ]
  },
  {
   "cell_type": "code",
   "execution_count": 132,
   "id": "fc5abe80",
   "metadata": {},
   "outputs": [
    {
     "data": {
      "text/plain": [
       "'I LOVE learning Python'"
      ]
     },
     "execution_count": 132,
     "metadata": {},
     "output_type": "execute_result"
    }
   ],
   "source": [
    "sentence.replace(\"python\", 'to code')"
   ]
  },
  {
   "cell_type": "code",
   "execution_count": 134,
   "id": "5dbc8e64",
   "metadata": {},
   "outputs": [
    {
     "data": {
      "text/plain": [
       "'I LOVE learning to code'"
      ]
     },
     "execution_count": 134,
     "metadata": {},
     "output_type": "execute_result"
    }
   ],
   "source": [
    "sentence.replace('Python', 'to code')"
   ]
  },
  {
   "cell_type": "code",
   "execution_count": 138,
   "id": "ad4e2e24",
   "metadata": {},
   "outputs": [
    {
     "data": {
      "text/plain": [
       "'     Hello'"
      ]
     },
     "execution_count": 138,
     "metadata": {},
     "output_type": "execute_result"
    }
   ],
   "source": [
    "\"     Hello     \".rstrip()"
   ]
  },
  {
   "cell_type": "code",
   "execution_count": 139,
   "id": "307830a6",
   "metadata": {},
   "outputs": [
    {
     "data": {
      "text/plain": [
       "'Hello     '"
      ]
     },
     "execution_count": 139,
     "metadata": {},
     "output_type": "execute_result"
    }
   ],
   "source": [
    "\"     Hello     \".lstrip()\n"
   ]
  },
  {
   "cell_type": "code",
   "execution_count": 141,
   "id": "05b6142b",
   "metadata": {},
   "outputs": [
    {
     "data": {
      "text/plain": [
       "'Hello'"
      ]
     },
     "execution_count": 141,
     "metadata": {},
     "output_type": "execute_result"
    }
   ],
   "source": [
    "\"     Hello     \".strip() #removes whitespaces from both sides"
   ]
  },
  {
   "cell_type": "code",
   "execution_count": 142,
   "id": "44be0697",
   "metadata": {},
   "outputs": [
    {
     "data": {
      "text/plain": [
       "'hello          world   i am happy'"
      ]
     },
     "execution_count": 142,
     "metadata": {},
     "output_type": "execute_result"
    }
   ],
   "source": [
    "\"           hello          world   i am happy\".strip()#only removes the whitespaces in the end side only not in between the words or letters\n"
   ]
  },
  {
   "cell_type": "code",
   "execution_count": 143,
   "id": "21f88f39",
   "metadata": {},
   "outputs": [
    {
     "data": {
      "text/plain": [
       "'  shark'"
      ]
     },
     "execution_count": 143,
     "metadata": {},
     "output_type": "execute_result"
    }
   ],
   "source": [
    "'  shark'.rstrip()"
   ]
  },
  {
   "cell_type": "code",
   "execution_count": 144,
   "id": "3ed40e4d",
   "metadata": {},
   "outputs": [
    {
     "data": {
      "text/plain": [
       "'I Love Learning Python'"
      ]
     },
     "execution_count": 144,
     "metadata": {},
     "output_type": "execute_result"
    }
   ],
   "source": [
    "sentence.title()"
   ]
  },
  {
   "cell_type": "code",
   "execution_count": 145,
   "id": "3806cc91",
   "metadata": {},
   "outputs": [
    {
     "data": {
      "text/plain": [
       "'I Love Learning Python'"
      ]
     },
     "execution_count": 145,
     "metadata": {},
     "output_type": "execute_result"
    }
   ],
   "source": [
    "sentence.title() #each first letter of the sentence is capitalised...\n",
    "#jupyter is a beast... of learning python"
   ]
  },
  {
   "cell_type": "code",
   "execution_count": 146,
   "id": "b5c44e0f",
   "metadata": {},
   "outputs": [],
   "source": [
    "#introducing the format method  in Python strings..."
   ]
  },
  {
   "cell_type": "code",
   "execution_count": 147,
   "id": "84fd412d",
   "metadata": {},
   "outputs": [
    {
     "data": {
      "text/plain": [
       "'I like to playgolf'"
      ]
     },
     "execution_count": 147,
     "metadata": {},
     "output_type": "execute_result"
    }
   ],
   "source": [
    "'I like to play{}'.format('golf') #replaces the param in {} with argument passed in the format function"
   ]
  },
  {
   "cell_type": "code",
   "execution_count": 148,
   "id": "5791745a",
   "metadata": {},
   "outputs": [
    {
     "data": {
      "text/plain": [
       "'I am in a band with tom, james, and kamau'"
      ]
     },
     "execution_count": 148,
     "metadata": {},
     "output_type": "execute_result"
    }
   ],
   "source": [
    "'I am in a band with {}, {}, and {}'.format(\"tom\",\"james\",\"kamau\")"
   ]
  },
  {
   "cell_type": "code",
   "execution_count": 149,
   "id": "4fb684fe",
   "metadata": {},
   "outputs": [],
   "source": [
    "#altering the position of the replacement of the param...\n"
   ]
  },
  {
   "cell_type": "code",
   "execution_count": 153,
   "id": "2f245d25",
   "metadata": {},
   "outputs": [
    {
     "data": {
      "text/plain": [
       "'I am in a band with Terry, Chege, and ann'"
      ]
     },
     "execution_count": 153,
     "metadata": {},
     "output_type": "execute_result"
    }
   ],
   "source": [
    "'I am in a band with {0}, {2}, and {1}'.format(\"Terry\", \"ann\", \"Chege\")"
   ]
  },
  {
   "cell_type": "code",
   "execution_count": 154,
   "id": "ce743838",
   "metadata": {},
   "outputs": [
    {
     "data": {
      "text/plain": [
       "'I am in a band with Terry, Chege, and ann'"
      ]
     },
     "execution_count": 154,
     "metadata": {},
     "output_type": "execute_result"
    }
   ],
   "source": [
    " 'I am in a band with {0}, {2}, and {1}'.format(\"Terry\", \"ann\", \"Chege\",'mandy')"
   ]
  },
  {
   "cell_type": "code",
   "execution_count": 156,
   "id": "8cddfb41",
   "metadata": {},
   "outputs": [
    {
     "data": {
      "text/plain": [
       "'I am in a band with Terry, Chege, and Terry'"
      ]
     },
     "execution_count": 156,
     "metadata": {},
     "output_type": "execute_result"
    }
   ],
   "source": [
    "'I am in a band with {0}, {2}, and {0}'.format(\"Terry\", \"ann\", \"Chege\")"
   ]
  },
  {
   "cell_type": "code",
   "execution_count": 157,
   "id": "c23e94aa",
   "metadata": {},
   "outputs": [
    {
     "data": {
      "text/plain": [
       "'I am in a band with Terry, Chege, and ann'"
      ]
     },
     "execution_count": 157,
     "metadata": {},
     "output_type": "execute_result"
    }
   ],
   "source": [
    "'I am in a band with {a}, {b}, and {c}'.format(a=\"Terry\", c=\"ann\", b=\"Chege\")"
   ]
  },
  {
   "cell_type": "code",
   "execution_count": null,
   "id": "1f0ef4b9",
   "metadata": {},
   "outputs": [],
   "source": []
  }
 ],
 "metadata": {
  "kernelspec": {
   "display_name": "Python 3 (ipykernel)",
   "language": "python",
   "name": "python3"
  },
  "language_info": {
   "codemirror_mode": {
    "name": "ipython",
    "version": 3
   },
   "file_extension": ".py",
   "mimetype": "text/x-python",
   "name": "python",
   "nbconvert_exporter": "python",
   "pygments_lexer": "ipython3",
   "version": "3.10.9"
  }
 },
 "nbformat": 4,
 "nbformat_minor": 5
}

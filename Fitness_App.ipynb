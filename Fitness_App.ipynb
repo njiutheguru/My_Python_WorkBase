{
 "cells": [
  {
   "cell_type": "code",
   "execution_count": 1,
   "id": "a22d0149",
   "metadata": {},
   "outputs": [],
   "source": [
    "#building a fitness app"
   ]
  },
  {
   "cell_type": "markdown",
   "id": "92e5d1d2",
   "metadata": {},
   "source": [
    "<strong> Fitness Fan ltd have asked you to create a fitness app to help their customers..\n",
    "# The application should allow a user to :\n",
    "- Observe their BMI (Body Mass Index) and their respective rating\n",
    "- Observe their BMR( Base Metabolic Rate)\n",
    "- Observe a daily calorie consumption expectation based on BMR\n",
    "- Observe daily calorie consumptioin expectation based on target weight goal\n",
    "\n",
    "# The application can be broken down into the following tasks:\n",
    "\n",
    "1. Create a function that can calculate a person's BMI\n",
    "2. Create a functin that can output a person's BMI rating\n",
    "3. Create a function tath can calculate a person's BMR\n",
    "4. Create a function that uses the Harris-Benedict Equation to determine the amount of daily calories they should consume..\n",
    "5. Based on a target weight provided by the user and the timeframe they would like to achieve their goal, determine the amount od daily calories they should consume\n",
    "6. Create a function that checks to see if a user wants to use the app again.\n",
    "7. Generate a 'Body Statics' report for users of the app using a while loop and the functions created above"
   ]
  },
  {
   "cell_type": "code",
   "execution_count": 2,
   "id": "bca2bf3a",
   "metadata": {},
   "outputs": [],
   "source": [
    "from IPython.display import clear_output\n"
   ]
  },
  {
   "cell_type": "code",
   "execution_count": 3,
   "id": "e89d8ec5",
   "metadata": {},
   "outputs": [],
   "source": [
    "# Create a function that can output a person's BMI rating\n",
    "def bmi(height,weight):\n",
    "    bmi_calc=weight/(height**2) # height is raised to power 2\n",
    "    return round(bmi_calc,2)"
   ]
  },
  {
   "cell_type": "code",
   "execution_count": null,
   "id": "9db6b17e",
   "metadata": {},
   "outputs": [],
   "source": []
  },
  {
   "cell_type": "code",
   "execution_count": 4,
   "id": "b7feb226",
   "metadata": {},
   "outputs": [],
   "source": [
    "# Output a function that outputs a person's BMI rating\n",
    "def bmi_rating(bmi):\n",
    "    if bmi<18.5:\n",
    "        return \"underweight\"\n",
    "    elif bmi>=18.5 and bmi <= 24.9:\n",
    "        return 'healthy'\n",
    "    elif bmi>=25 and bmi <= 29.9:\n",
    "        return 'overweight'\n",
    "    else:\n",
    "        return 'obese'"
   ]
  },
  {
   "cell_type": "code",
   "execution_count": null,
   "id": "ba0ba906",
   "metadata": {},
   "outputs": [],
   "source": []
  },
  {
   "cell_type": "code",
   "execution_count": 5,
   "id": "bc19ff85",
   "metadata": {},
   "outputs": [],
   "source": [
    "# Create a function that can calculate a person's BMR\n",
    "# Mifflin-St Jeor Equation:"
   ]
  },
  {
   "cell_type": "code",
   "execution_count": 6,
   "id": "deae3c58",
   "metadata": {},
   "outputs": [],
   "source": [
    "def bmr(height,weight,age,sex):\n",
    "    if sex[0].lower()=='male':\n",
    "        bmr_calc=(10*weight)+(6.25*height*100)-(5*age)+5\n",
    "    else:\n",
    "        bmr_calc=(10*weight)+(6.25*height*100)-(5*age)-161\n",
    "    return int(round(bmr_calc,0))\n",
    "        \n",
    "        \n",
    "            "
   ]
  },
  {
   "cell_type": "code",
   "execution_count": 7,
   "id": "a37b74a8",
   "metadata": {},
   "outputs": [],
   "source": [
    "#bmr(1.7,70,30,'male') # Burning 1618 Calories"
   ]
  },
  {
   "cell_type": "code",
   "execution_count": 8,
   "id": "2313dcc3",
   "metadata": {},
   "outputs": [],
   "source": [
    "# Function to calculate the person's total daily energy expenditure..."
   ]
  },
  {
   "cell_type": "code",
   "execution_count": 9,
   "id": "7b66984c",
   "metadata": {},
   "outputs": [],
   "source": [
    "def calories_burn(bmr):\n",
    "    sedentary= round(bmr*1.2,0)\n",
    "    light= round(bmr*1.375,0)\n",
    "    moderate= round(bmr*1.55,0)\n",
    "    very_active= round(bmr*1.725,0)\n",
    "    extra_active= round(bmr*1.9,0)\n",
    "    \n",
    "    calorie_burn={1:sedentary,\n",
    "                  2: light, 3: moderate, 4: very_active,\n",
    "                  5: extra_active}\n",
    "    \n",
    "    print(\" To maintain your weight, follow these daily Calorie gudielines:\")\n",
    "    print(\"1. Little to no exercise:                 You need = {} k/cals\".format(sedentary))\n",
    "    print(\"2. Light Exercise (1-3 days per weeek):   You need {} k/cals\".format(light))\n",
    "    print(\"3. Moderate exercise (3-5 days per week):  You need {} k/cals\".format(moderate))\n",
    "    print(\"4. Heavy Exercise (6-7 days per week):     You need = {} k/cals\".format(very_active))\n",
    "    print(\"5. Very Heavy Exercise (twice per day):    You need ={} k/cals\" .format(extra_active))\n",
    "    \n",
    "    return calorie_burn"
   ]
  },
  {
   "cell_type": "code",
   "execution_count": 10,
   "id": "358db9e0",
   "metadata": {},
   "outputs": [],
   "source": [
    "#calories_burn(1618)"
   ]
  },
  {
   "cell_type": "markdown",
   "id": "4771dfc5",
   "metadata": {},
   "source": [
    " Based on a target weight provided by the user and the  timeframe they would like to  achieve their weight loss\n"
   ]
  },
  {
   "cell_type": "code",
   "execution_count": 11,
   "id": "ae951b99",
   "metadata": {},
   "outputs": [],
   "source": [
    "def target_weight():\n",
    "    delta_kg=weight_goal-weight\n",
    "    \n",
    "    if delta_kg<0:\n",
    "        deficit_surplus='deficit'\n",
    "    else:\n",
    "        deficit_surplus='surplus'\n",
    "    delta_pounds=abs(delta_kg*2.2)\n",
    "    delta_calories=delta_pounds*3500\n",
    "    pounds_per_day=delta_pounds/(weeks * 7)\n",
    "    \n",
    "    if deficit_surplus=='deficit':\n",
    "        calories_per_day=round((delta_calories / (weeks * 7)* -1),0)\n",
    "    else:\n",
    "         calories_per_day=round((delta_calories / (weeks * 7)),0)\n",
    "            \n",
    "    return {'delta_kg':delta_kg,\"deficit_surplus\":deficit_surplus,\n",
    "            'delta_pounds':delta_pounds,\n",
    "            'delta_calories':delta_calories,\n",
    "            'pounds_per_day':pounds_per_day,\n",
    "            'calories_per_day':calories_per_day}\n",
    "\n",
    "        "
   ]
  },
  {
   "cell_type": "markdown",
   "id": "3f4bc37a",
   "metadata": {},
   "source": [
    "Create a function that checks if the user wants to use the app again\n"
   ]
  },
  {
   "cell_type": "code",
   "execution_count": 12,
   "id": "1c010912",
   "metadata": {},
   "outputs": [],
   "source": [
    "def use_again():\n",
    "    replay=input(\"Would you like to use this app again? (Y/N):\")\n",
    "    if replay.lower()=='y':\n",
    "        return True\n",
    "    else:\n",
    "        return False"
   ]
  },
  {
   "cell_type": "markdown",
   "id": "d3201dad",
   "metadata": {},
   "source": [
    "<strong> Generate a 'Body statistics' report for individuals who use the app.\n",
    "    "
   ]
  },
  {
   "cell_type": "code",
   "execution_count": 13,
   "id": "30eefbf0",
   "metadata": {},
   "outputs": [
    {
     "name": "stdout",
     "output_type": "stream",
     "text": [
      "Hello stephen! Here is your fitness report:\n",
      "       You are a 22 year old male. You are 2.0m tall and weigh 88.0 kg.\n",
      "       Here are your body statistics: \n",
      " ---------------------------------------------------\n",
      "Your BMI is 22.0\n",
      "\n",
      "Based on your BMI, you are classified as healthy\n",
      "\n",
      "Your BMR is 1859\n",
      "\n",
      " To maintain your weight, follow these daily Calorie gudielines:\n",
      "1. Little to no exercise:                 You need = 2231.0 k/cals\n",
      "2. Light Exercise (1-3 days per weeek):   You need 2556.0 k/cals\n",
      "3. Moderate exercise (3-5 days per week):  You need 2881.0 k/cals\n",
      "4. Heavy Exercise (6-7 days per week):     You need = 3207.0 k/cals\n",
      "5. Very Heavy Exercise (twice per day):    You need =3532.0 k/cals\n",
      "\n",
      "which activity level are you? (1-5):1\n",
      "----------------------------------------\n",
      "What is your weight goal (kg)?: 75\n",
      "In how many weeks would you like to achieve this goal?: 8\n",
      "--------------------------------------------\n",
      " To achieve a target weight of 75kg in 8 weeks, you will need to consume a\n",
      "       deficit of 1788.0 calories. This means your daily Calorie intake should be 443.0 calories!\n",
      "       Good luck in achieving your weight goal! \n",
      "--------------------------------------\n",
      "Would you like to use this app again? (Y/N):n\n"
     ]
    }
   ],
   "source": [
    " while True:\n",
    "        name=input(\"What is Your Name?: \")\n",
    "        age=int(input(\"What is your Age?: \"))\n",
    "        sex=input(\"what is your sex?(male or female): \")\n",
    "        height=float(input(\"What is your Height in Meters?: \"))\n",
    "        weight=float(input(\"What is your weight in kg?: \"))\n",
    "        \n",
    "        bmi_result=bmi(height,weight)\n",
    "        bmr_result=bmr(height,weight,age,sex)\n",
    "        clear_output()\n",
    "        print('''Hello {}! Here is your fitness report:\n",
    "        You are a {} year old {}. You are {}m tall and weigh {} kg.\n",
    "        Here are your body statistics: '''.format(name,age,sex,height,weight))\n",
    "        \n",
    "        print(\" ---------------------------------------------------\")\n",
    "        print(\"Your BMI is {}\".format(bmi_result))\n",
    "        print(\"\")\n",
    "        print(\"Based on your BMI, you are classified as {}\".format(bmi_rating(bmi_result)))\n",
    "        print(\"\")\n",
    "        print(\"Your BMR is {}\".format(bmr_result))\n",
    "        print(\"\")\n",
    "        calorie_consumption=calories_burn(bmr_result)\n",
    "        print(\"\")\n",
    "        activity_level=int(input(\"which activity level are you? (1-5):\"))\n",
    "        print('----------------------------------------')\n",
    "        weight_goal=int(input(\"What is your weight goal (kg)?: \"))\n",
    "        weeks=int(input(\"In how many weeks would you like to achieve this goal?: \"))\n",
    "        calorie_info=target_weight()\n",
    "        print(\"--------------------------------------------\")\n",
    "        print(''' To achieve a target weight of {}kg in {} weeks, you will need to consume a\n",
    "        {} of {} calories. This means your daily Calorie intake should be {} calories!\n",
    "        Good luck in achieving your weight goal! '''.format(weight_goal,weeks,\n",
    "                                                           calorie_info['deficit_surplus'],\n",
    "                                                           abs(calorie_info['calories_per_day']),\n",
    "                                                           calorie_consumption[activity_level]+calorie_info['calories_per_day']))\n",
    "        \n",
    "        print(\"--------------------------------------\")\n",
    "        if not use_again():\n",
    "            break\n",
    "        \n",
    "        clear_output()"
   ]
  },
  {
   "cell_type": "code",
   "execution_count": null,
   "id": "8b581ccc",
   "metadata": {},
   "outputs": [],
   "source": [
    "    "
   ]
  }
 ],
 "metadata": {
  "kernelspec": {
   "display_name": "Python 3 (ipykernel)",
   "language": "python",
   "name": "python3"
  },
  "language_info": {
   "codemirror_mode": {
    "name": "ipython",
    "version": 3
   },
   "file_extension": ".py",
   "mimetype": "text/x-python",
   "name": "python",
   "nbconvert_exporter": "python",
   "pygments_lexer": "ipython3",
   "version": "3.10.9"
  }
 },
 "nbformat": 4,
 "nbformat_minor": 5
}

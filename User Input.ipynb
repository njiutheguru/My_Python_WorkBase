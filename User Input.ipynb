{
 "cells": [
  {
   "cell_type": "code",
   "execution_count": 1,
   "id": "ba587567",
   "metadata": {},
   "outputs": [],
   "source": [
    "# Addig User Interactivity with user input"
   ]
  },
  {
   "cell_type": "code",
   "execution_count": 2,
   "id": "763f42e3",
   "metadata": {},
   "outputs": [
    {
     "name": "stdout",
     "output_type": "stream",
     "text": [
      "stephen njiu\n"
     ]
    },
    {
     "data": {
      "text/plain": [
       "'stephen njiu'"
      ]
     },
     "execution_count": 2,
     "metadata": {},
     "output_type": "execute_result"
    }
   ],
   "source": [
    "input()"
   ]
  },
  {
   "cell_type": "code",
   "execution_count": 3,
   "id": "79a5170e",
   "metadata": {},
   "outputs": [
    {
     "name": "stdout",
     "output_type": "stream",
     "text": [
      " What is your name? Stephen Njiu\n"
     ]
    }
   ],
   "source": [
    "name=input(\" What is your name? \")"
   ]
  },
  {
   "cell_type": "code",
   "execution_count": 4,
   "id": "c9ff1e7b",
   "metadata": {},
   "outputs": [
    {
     "data": {
      "text/plain": [
       "'Stephen Njiu'"
      ]
     },
     "execution_count": 4,
     "metadata": {},
     "output_type": "execute_result"
    }
   ],
   "source": [
    "name"
   ]
  },
  {
   "cell_type": "code",
   "execution_count": 5,
   "id": "a896959a",
   "metadata": {},
   "outputs": [
    {
     "name": "stdout",
     "output_type": "stream",
     "text": [
      "uijN nehpetS\n"
     ]
    }
   ],
   "source": [
    "print(name[::-1])"
   ]
  },
  {
   "cell_type": "code",
   "execution_count": 7,
   "id": "12ced02a",
   "metadata": {},
   "outputs": [
    {
     "data": {
      "text/plain": [
       "str"
      ]
     },
     "execution_count": 7,
     "metadata": {},
     "output_type": "execute_result"
    }
   ],
   "source": [
    "type(name)"
   ]
  },
  {
   "cell_type": "code",
   "execution_count": 8,
   "id": "d0efad1a",
   "metadata": {},
   "outputs": [
    {
     "name": "stdout",
     "output_type": "stream",
     "text": [
      "What is your age? 22\n"
     ]
    }
   ],
   "source": [
    "age=int(input(\"What is your age? \"))"
   ]
  },
  {
   "cell_type": "code",
   "execution_count": 9,
   "id": "decb775e",
   "metadata": {},
   "outputs": [
    {
     "name": "stdout",
     "output_type": "stream",
     "text": [
      "22\n"
     ]
    },
    {
     "data": {
      "text/plain": [
       "int"
      ]
     },
     "execution_count": 9,
     "metadata": {},
     "output_type": "execute_result"
    }
   ],
   "source": [
    "print(age)\n",
    "type(age)"
   ]
  },
  {
   "cell_type": "code",
   "execution_count": 10,
   "id": "edd58981",
   "metadata": {},
   "outputs": [
    {
     "name": "stdout",
     "output_type": "stream",
     "text": [
      " Enter a sentence: \n",
      "I love learning python\n",
      "Here was your sentence I love learning python\n",
      " There are 22 characters in your sentence\n"
     ]
    }
   ],
   "source": [
    "print(\" Enter a sentence: \")\n",
    "sentence=input()\n",
    "length=len(sentence)\n",
    "print('Here was your sentence ' + \"\"\"\"\"\" + sentence)\n",
    "print(\" There are {} characters in your sentence\".format(length))"
   ]
  },
  {
   "cell_type": "code",
   "execution_count": 11,
   "id": "89e8610e",
   "metadata": {},
   "outputs": [],
   "source": [
    "def character():\n",
    "    print(\" Enter a sentence: \")\n",
    "    sentence=input()\n",
    "    length=len(sentence)\n",
    "    print('Here was your sentence ' + \"\"\"\"\"\" + sentence)\n",
    "    print(\" There are {} characters in your sentence\".format(length))"
   ]
  },
  {
   "cell_type": "code",
   "execution_count": 12,
   "id": "7749aed6",
   "metadata": {},
   "outputs": [
    {
     "name": "stdout",
     "output_type": "stream",
     "text": [
      " Enter a sentence: \n",
      "python is the beast of AI\n",
      "Here was your sentence python is the beast of AI\n",
      " There are 25 characters in your sentence\n"
     ]
    }
   ],
   "source": [
    "character()"
   ]
  },
  {
   "cell_type": "code",
   "execution_count": 13,
   "id": "67e729df",
   "metadata": {},
   "outputs": [],
   "source": [
    "# Validating User Input"
   ]
  },
  {
   "cell_type": "code",
   "execution_count": 14,
   "id": "78d5285b",
   "metadata": {},
   "outputs": [],
   "source": [
    "def request_age():\n",
    "    age=''\n",
    "    while age.isdigit()==False:\n",
    "        age=input(\"What is your age?:\")\n",
    "        if age.isdigit()==False:\n",
    "            print(\"Please enter digits only\")\n",
    "    return int(age)"
   ]
  },
  {
   "cell_type": "code",
   "execution_count": 15,
   "id": "e34066b1",
   "metadata": {},
   "outputs": [
    {
     "name": "stdout",
     "output_type": "stream",
     "text": [
      "What is your age?:fe\n",
      "Please enter digits only\n",
      "What is your age?:fd\n",
      "Please enter digits only\n",
      "What is your age?:a6\n",
      "Please enter digits only\n",
      "What is your age?:5\n"
     ]
    },
    {
     "data": {
      "text/plain": [
       "5"
      ]
     },
     "execution_count": 15,
     "metadata": {},
     "output_type": "execute_result"
    }
   ],
   "source": [
    "request_age()"
   ]
  },
  {
   "cell_type": "code",
   "execution_count": 23,
   "id": "b26b47a5",
   "metadata": {},
   "outputs": [],
   "source": [
    "def play_again():\n",
    "    answer=''\n",
    "    while answer.lower() not in ['y','n']:\n",
    "        answer=input(\"do you want to play again?: \")\n",
    "        \n",
    "        if answer.lower()=='y':\n",
    "            return True\n",
    "        elif answer.lower()=='n':\n",
    "            return False\n",
    "        else:\n",
    "            print(\"Enter Y or N only\")"
   ]
  },
  {
   "cell_type": "code",
   "execution_count": null,
   "id": "5eeb6e03",
   "metadata": {},
   "outputs": [],
   "source": []
  },
  {
   "cell_type": "code",
   "execution_count": 24,
   "id": "f788a14d",
   "metadata": {},
   "outputs": [
    {
     "name": "stdout",
     "output_type": "stream",
     "text": [
      "do you want to play again?: N\n"
     ]
    },
    {
     "data": {
      "text/plain": [
       "False"
      ]
     },
     "execution_count": 24,
     "metadata": {},
     "output_type": "execute_result"
    }
   ],
   "source": [
    "play_again()"
   ]
  },
  {
   "cell_type": "code",
   "execution_count": 19,
   "id": "bbd17557",
   "metadata": {},
   "outputs": [
    {
     "name": "stdout",
     "output_type": "stream",
     "text": [
      "do you want to play again?: N\n"
     ]
    },
    {
     "data": {
      "text/plain": [
       "False"
      ]
     },
     "execution_count": 19,
     "metadata": {},
     "output_type": "execute_result"
    }
   ],
   "source": [
    "play_again()"
   ]
  },
  {
   "cell_type": "code",
   "execution_count": null,
   "id": "7964db9c",
   "metadata": {},
   "outputs": [],
   "source": []
  }
 ],
 "metadata": {
  "kernelspec": {
   "display_name": "Python 3 (ipykernel)",
   "language": "python",
   "name": "python3"
  },
  "language_info": {
   "codemirror_mode": {
    "name": "ipython",
    "version": 3
   },
   "file_extension": ".py",
   "mimetype": "text/x-python",
   "name": "python",
   "nbconvert_exporter": "python",
   "pygments_lexer": "ipython3",
   "version": "3.10.9"
  }
 },
 "nbformat": 4,
 "nbformat_minor": 5
}

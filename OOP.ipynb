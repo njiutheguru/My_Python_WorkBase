{
 "cells": [
  {
   "cell_type": "code",
   "execution_count": 1,
   "id": "3d263a19",
   "metadata": {},
   "outputs": [],
   "source": [
    "# introducing object oriented programming\n"
   ]
  },
  {
   "cell_type": "code",
   "execution_count": 105,
   "id": "231b34cf",
   "metadata": {},
   "outputs": [],
   "source": [
    "class Dog:\n",
    "    '''User-defined object to represent and manage dog data'''\n",
    "    kingdom='Animal'\n",
    "    def __init__(self, name,age):\n",
    "        self.name =name \n",
    "        self.age= age\n",
    "        \n",
    "    def __str__(self):\n",
    "        return \"{} is {} years old\".format(self.name,self.age)\n",
    "    \n",
    "    def speak(self,sound):\n",
    "        return \"{} says {}\".format(self.name,sound)"
   ]
  },
  {
   "cell_type": "code",
   "execution_count": 106,
   "id": "1a9211ca",
   "metadata": {},
   "outputs": [],
   "source": [
    "my_dog= Dog('Puppy',3)"
   ]
  },
  {
   "cell_type": "code",
   "execution_count": 107,
   "id": "e3de0af3",
   "metadata": {},
   "outputs": [
    {
     "data": {
      "text/plain": [
       "__main__.Dog"
      ]
     },
     "execution_count": 107,
     "metadata": {},
     "output_type": "execute_result"
    }
   ],
   "source": [
    "type(my_dog)"
   ]
  },
  {
   "cell_type": "code",
   "execution_count": 108,
   "id": "ce1a3564",
   "metadata": {},
   "outputs": [
    {
     "data": {
      "text/plain": [
       "'Puppy'"
      ]
     },
     "execution_count": 108,
     "metadata": {},
     "output_type": "execute_result"
    }
   ],
   "source": [
    "# Instance Attributes\n",
    "my_dog.name"
   ]
  },
  {
   "cell_type": "code",
   "execution_count": 109,
   "id": "b2effda1",
   "metadata": {},
   "outputs": [
    {
     "data": {
      "text/plain": [
       "3"
      ]
     },
     "execution_count": 109,
     "metadata": {},
     "output_type": "execute_result"
    }
   ],
   "source": [
    "my_dog.age"
   ]
  },
  {
   "cell_type": "code",
   "execution_count": 110,
   "id": "52ccf555",
   "metadata": {},
   "outputs": [],
   "source": [
    "# Here name and age are instance Attributes"
   ]
  },
  {
   "cell_type": "code",
   "execution_count": 111,
   "id": "cfb3eb2e",
   "metadata": {},
   "outputs": [],
   "source": [
    "# Introducing Instantiating a class"
   ]
  },
  {
   "cell_type": "code",
   "execution_count": 112,
   "id": "fe8c5f77",
   "metadata": {},
   "outputs": [],
   "source": [
    "my_dog=Dog(\"Simba\",7)"
   ]
  },
  {
   "cell_type": "code",
   "execution_count": 113,
   "id": "ab309832",
   "metadata": {},
   "outputs": [
    {
     "data": {
      "text/plain": [
       "<__main__.Dog at 0x296b03b3f40>"
      ]
     },
     "execution_count": 113,
     "metadata": {},
     "output_type": "execute_result"
    }
   ],
   "source": [
    "my_dog"
   ]
  },
  {
   "cell_type": "code",
   "execution_count": 114,
   "id": "b6075d38",
   "metadata": {},
   "outputs": [
    {
     "data": {
      "text/plain": [
       "7"
      ]
     },
     "execution_count": 114,
     "metadata": {},
     "output_type": "execute_result"
    }
   ],
   "source": [
    "my_dog.age"
   ]
  },
  {
   "cell_type": "code",
   "execution_count": 115,
   "id": "6054a000",
   "metadata": {},
   "outputs": [],
   "source": [
    "your_dog=Dog(\"Simba\",7)"
   ]
  },
  {
   "cell_type": "code",
   "execution_count": 116,
   "id": "6d6573eb",
   "metadata": {},
   "outputs": [
    {
     "data": {
      "text/plain": [
       "'Simba'"
      ]
     },
     "execution_count": 116,
     "metadata": {},
     "output_type": "execute_result"
    }
   ],
   "source": [
    "your_dog.name"
   ]
  },
  {
   "cell_type": "code",
   "execution_count": 117,
   "id": "8bf36319",
   "metadata": {},
   "outputs": [
    {
     "data": {
      "text/plain": [
       "False"
      ]
     },
     "execution_count": 117,
     "metadata": {},
     "output_type": "execute_result"
    }
   ],
   "source": [
    "my_dog==your_dog"
   ]
  },
  {
   "cell_type": "code",
   "execution_count": 118,
   "id": "4ee6ba64",
   "metadata": {},
   "outputs": [],
   "source": [
    "# class object attributes"
   ]
  },
  {
   "cell_type": "code",
   "execution_count": 119,
   "id": "15658f82",
   "metadata": {},
   "outputs": [
    {
     "data": {
      "text/plain": [
       "'Animal'"
      ]
     },
     "execution_count": 119,
     "metadata": {},
     "output_type": "execute_result"
    }
   ],
   "source": [
    "my_dog.kingdom"
   ]
  },
  {
   "cell_type": "code",
   "execution_count": 120,
   "id": "34db334e",
   "metadata": {},
   "outputs": [
    {
     "data": {
      "text/plain": [
       "'Animal'"
      ]
     },
     "execution_count": 120,
     "metadata": {},
     "output_type": "execute_result"
    }
   ],
   "source": [
    "your_dog.kingdom"
   ]
  },
  {
   "cell_type": "code",
   "execution_count": 121,
   "id": "a6cdcc81",
   "metadata": {},
   "outputs": [],
   "source": [
    "# changing attributes\n",
    "my_dog.name='Tim'"
   ]
  },
  {
   "cell_type": "code",
   "execution_count": 122,
   "id": "95b3d029",
   "metadata": {},
   "outputs": [
    {
     "data": {
      "text/plain": [
       "'Tim'"
      ]
     },
     "execution_count": 122,
     "metadata": {},
     "output_type": "execute_result"
    }
   ],
   "source": [
    "my_dog.name"
   ]
  },
  {
   "cell_type": "code",
   "execution_count": 123,
   "id": "11319f41",
   "metadata": {},
   "outputs": [
    {
     "data": {
      "text/plain": [
       "'Animal'"
      ]
     },
     "execution_count": 123,
     "metadata": {},
     "output_type": "execute_result"
    }
   ],
   "source": [
    "your_dog.kingdom"
   ]
  },
  {
   "cell_type": "code",
   "execution_count": 124,
   "id": "9b8b69dc",
   "metadata": {},
   "outputs": [],
   "source": [
    "your_dog.kingdom=\"Animalia\""
   ]
  },
  {
   "cell_type": "code",
   "execution_count": 125,
   "id": "9b1c6284",
   "metadata": {},
   "outputs": [
    {
     "data": {
      "text/plain": [
       "'Animal'"
      ]
     },
     "execution_count": 125,
     "metadata": {},
     "output_type": "execute_result"
    }
   ],
   "source": [
    "my_dog.kingdom"
   ]
  },
  {
   "cell_type": "code",
   "execution_count": 126,
   "id": "4aace496",
   "metadata": {},
   "outputs": [
    {
     "data": {
      "text/plain": [
       "'Animalia'"
      ]
     },
     "execution_count": 126,
     "metadata": {},
     "output_type": "execute_result"
    }
   ],
   "source": [
    "your_dog.kingdom"
   ]
  },
  {
   "cell_type": "code",
   "execution_count": 127,
   "id": "a11602d5",
   "metadata": {},
   "outputs": [
    {
     "data": {
      "text/plain": [
       "'Animalia'"
      ]
     },
     "execution_count": 127,
     "metadata": {},
     "output_type": "execute_result"
    }
   ],
   "source": [
    "your_dog.kingdom"
   ]
  },
  {
   "cell_type": "code",
   "execution_count": 128,
   "id": "53b75a3e",
   "metadata": {},
   "outputs": [
    {
     "data": {
      "text/plain": [
       "'Animal'"
      ]
     },
     "execution_count": 128,
     "metadata": {},
     "output_type": "execute_result"
    }
   ],
   "source": [
    "my_dog.kingdom"
   ]
  },
  {
   "cell_type": "code",
   "execution_count": 129,
   "id": "ef0a5bf1",
   "metadata": {},
   "outputs": [],
   "source": [
    "# Instance Methods\n"
   ]
  },
  {
   "cell_type": "code",
   "execution_count": 133,
   "id": "1e273509",
   "metadata": {},
   "outputs": [],
   "source": [
    "my_dog=Dog(\"Kali\",4)\n"
   ]
  },
  {
   "cell_type": "code",
   "execution_count": 134,
   "id": "7bac0cf1",
   "metadata": {},
   "outputs": [
    {
     "name": "stdout",
     "output_type": "stream",
     "text": [
      "Kali is 4 years old\n"
     ]
    }
   ],
   "source": [
    "print(my_dog)"
   ]
  },
  {
   "cell_type": "code",
   "execution_count": 135,
   "id": "3a635301",
   "metadata": {},
   "outputs": [
    {
     "data": {
      "text/plain": [
       "'Kali says woof'"
      ]
     },
     "execution_count": 135,
     "metadata": {},
     "output_type": "execute_result"
    }
   ],
   "source": [
    "my_dog.speak(\"woof\")"
   ]
  },
  {
   "cell_type": "code",
   "execution_count": 136,
   "id": "b66541cc",
   "metadata": {},
   "outputs": [
    {
     "data": {
      "text/plain": [
       "'Kali says yap'"
      ]
     },
     "execution_count": 136,
     "metadata": {},
     "output_type": "execute_result"
    }
   ],
   "source": [
    "my_dog.speak('yap')"
   ]
  },
  {
   "cell_type": "code",
   "execution_count": 137,
   "id": "982f9af4",
   "metadata": {},
   "outputs": [
    {
     "data": {
      "text/plain": [
       "'Kali says he like you'"
      ]
     },
     "execution_count": 137,
     "metadata": {},
     "output_type": "execute_result"
    }
   ],
   "source": [
    "my_dog.speak(\"he like you\")"
   ]
  },
  {
   "cell_type": "code",
   "execution_count": 155,
   "id": "fd16f9bc",
   "metadata": {},
   "outputs": [],
   "source": [
    "class ShihTzu(Dog):\n",
    "    def speak(self,sound='woof'):\n",
    "        return \" {} says {}\".format(self.name,sound)\n",
    "    \n",
    "class Dachshund(Dog):\n",
    "    def speak(self,sound='yap'):\n",
    "        return \" {} says {}\".format(self.name,sound)\n",
    "class Poodle(Dog):\n",
    "    def speak(self,sound='bark'):\n",
    "        return \" {} says {}\".format(self.name,sound)\n",
    "class Frug(Dog):\n",
    "    def speak(self,sound='Ruff'):\n",
    "        return \" {} says {}\".format(self.name,sound)"
   ]
  },
  {
   "cell_type": "code",
   "execution_count": 156,
   "id": "3348787f",
   "metadata": {},
   "outputs": [],
   "source": [
    "dolly=ShihTzu(\"Dolly\",7)\n",
    "flo=Dachshund('flo',9)\n",
    "sassy=Poodle('Sassy',3)\n",
    "betty=Frug('Betty',1)"
   ]
  },
  {
   "cell_type": "code",
   "execution_count": 157,
   "id": "9ae16961",
   "metadata": {},
   "outputs": [
    {
     "data": {
      "text/plain": [
       "'Animal'"
      ]
     },
     "execution_count": 157,
     "metadata": {},
     "output_type": "execute_result"
    }
   ],
   "source": [
    "dolly.kingdom"
   ]
  },
  {
   "cell_type": "code",
   "execution_count": 158,
   "id": "c91c20b3",
   "metadata": {},
   "outputs": [
    {
     "data": {
      "text/plain": [
       "<__main__.ShihTzu at 0x296b03c7280>"
      ]
     },
     "execution_count": 158,
     "metadata": {},
     "output_type": "execute_result"
    }
   ],
   "source": [
    "dolly"
   ]
  },
  {
   "cell_type": "code",
   "execution_count": 159,
   "id": "1cfcc7f1",
   "metadata": {},
   "outputs": [
    {
     "name": "stdout",
     "output_type": "stream",
     "text": [
      "Dolly is 7 years old\n"
     ]
    }
   ],
   "source": [
    "print(dolly)"
   ]
  },
  {
   "cell_type": "code",
   "execution_count": 160,
   "id": "59f1b37f",
   "metadata": {},
   "outputs": [
    {
     "name": "stdout",
     "output_type": "stream",
     "text": [
      "Betty is 1 years old\n",
      "Sassy is 3 years old\n"
     ]
    }
   ],
   "source": [
    "print(betty)\n",
    "print(sassy)"
   ]
  },
  {
   "cell_type": "code",
   "execution_count": 161,
   "id": "f38b0b09",
   "metadata": {},
   "outputs": [
    {
     "name": "stdout",
     "output_type": "stream",
     "text": [
      "flo is 9 years old\n"
     ]
    }
   ],
   "source": [
    "print(flo)"
   ]
  },
  {
   "cell_type": "code",
   "execution_count": 162,
   "id": "5caaaac3",
   "metadata": {},
   "outputs": [
    {
     "data": {
      "text/plain": [
       "__main__.Poodle"
      ]
     },
     "execution_count": 162,
     "metadata": {},
     "output_type": "execute_result"
    }
   ],
   "source": [
    "type(sassy)"
   ]
  },
  {
   "cell_type": "code",
   "execution_count": 163,
   "id": "b8f9d25b",
   "metadata": {},
   "outputs": [
    {
     "data": {
      "text/plain": [
       "__main__.Dachshund"
      ]
     },
     "execution_count": 163,
     "metadata": {},
     "output_type": "execute_result"
    }
   ],
   "source": [
    "type(flo)"
   ]
  },
  {
   "cell_type": "code",
   "execution_count": 164,
   "id": "99d10436",
   "metadata": {},
   "outputs": [
    {
     "data": {
      "text/plain": [
       "True"
      ]
     },
     "execution_count": 164,
     "metadata": {},
     "output_type": "execute_result"
    }
   ],
   "source": [
    "isinstance(sassy,Dog)"
   ]
  },
  {
   "cell_type": "code",
   "execution_count": 165,
   "id": "e3bfbf73",
   "metadata": {},
   "outputs": [
    {
     "data": {
      "text/plain": [
       "True"
      ]
     },
     "execution_count": 165,
     "metadata": {},
     "output_type": "execute_result"
    }
   ],
   "source": [
    "isinstance(betty,Dog)"
   ]
  },
  {
   "cell_type": "code",
   "execution_count": 166,
   "id": "8abce420",
   "metadata": {},
   "outputs": [
    {
     "data": {
      "text/plain": [
       "False"
      ]
     },
     "execution_count": 166,
     "metadata": {},
     "output_type": "execute_result"
    }
   ],
   "source": [
    "isinstance(betty,Poodle)"
   ]
  },
  {
   "cell_type": "code",
   "execution_count": 167,
   "id": "df319ae1",
   "metadata": {},
   "outputs": [
    {
     "name": "stdout",
     "output_type": "stream",
     "text": [
      " Dolly says yap\n"
     ]
    }
   ],
   "source": [
    " print(dolly.speak('yap'))"
   ]
  },
  {
   "cell_type": "code",
   "execution_count": 168,
   "id": "b975ffec",
   "metadata": {},
   "outputs": [
    {
     "data": {
      "text/plain": [
       "' Sassy says wuuh'"
      ]
     },
     "execution_count": 168,
     "metadata": {},
     "output_type": "execute_result"
    }
   ],
   "source": [
    "sassy.speak('wuuh')"
   ]
  },
  {
   "cell_type": "code",
   "execution_count": 169,
   "id": "4bc1f92a",
   "metadata": {},
   "outputs": [
    {
     "data": {
      "text/plain": [
       "' Dolly says woof'"
      ]
     },
     "execution_count": 169,
     "metadata": {},
     "output_type": "execute_result"
    }
   ],
   "source": [
    "dolly.speak()"
   ]
  },
  {
   "cell_type": "code",
   "execution_count": 170,
   "id": "35d22dcf",
   "metadata": {},
   "outputs": [
    {
     "data": {
      "text/plain": [
       "' Sassy says bark'"
      ]
     },
     "execution_count": 170,
     "metadata": {},
     "output_type": "execute_result"
    }
   ],
   "source": [
    "sassy.speak()"
   ]
  },
  {
   "cell_type": "code",
   "execution_count": 171,
   "id": "be61dd19",
   "metadata": {},
   "outputs": [],
   "source": [
    "class Bulldog(Dog):\n",
    "    pass"
   ]
  },
  {
   "cell_type": "code",
   "execution_count": 172,
   "id": "145485db",
   "metadata": {},
   "outputs": [],
   "source": [
    "jake=Bulldog(\"jake\",4)"
   ]
  },
  {
   "cell_type": "code",
   "execution_count": 174,
   "id": "70bdbc6b",
   "metadata": {},
   "outputs": [
    {
     "data": {
      "text/plain": [
       "'jake says huuh'"
      ]
     },
     "execution_count": 174,
     "metadata": {},
     "output_type": "execute_result"
    }
   ],
   "source": [
    "jake.speak(\"huuh\")"
   ]
  },
  {
   "cell_type": "code",
   "execution_count": 175,
   "id": "aeaf4a43",
   "metadata": {},
   "outputs": [
    {
     "name": "stdout",
     "output_type": "stream",
     "text": [
      "jake is 4 years old\n"
     ]
    }
   ],
   "source": [
    "print(jake)"
   ]
  },
  {
   "cell_type": "code",
   "execution_count": 176,
   "id": "99580059",
   "metadata": {},
   "outputs": [
    {
     "data": {
      "text/plain": [
       "' Dolly says woof'"
      ]
     },
     "execution_count": 176,
     "metadata": {},
     "output_type": "execute_result"
    }
   ],
   "source": [
    "dolly.speak()"
   ]
  },
  {
   "cell_type": "code",
   "execution_count": 188,
   "id": "6b334213",
   "metadata": {},
   "outputs": [],
   "source": [
    "class ShihTzu(Dog):\n",
    "    def speak(self,sound='Shis Tzu Woof!'):\n",
    "        return super().speak(sound)"
   ]
  },
  {
   "cell_type": "code",
   "execution_count": 189,
   "id": "37d106ef",
   "metadata": {},
   "outputs": [
    {
     "data": {
      "text/plain": [
       "' Dolly says woof'"
      ]
     },
     "execution_count": 189,
     "metadata": {},
     "output_type": "execute_result"
    }
   ],
   "source": [
    "dolly.speak()"
   ]
  },
  {
   "cell_type": "code",
   "execution_count": 190,
   "id": "34050d69",
   "metadata": {},
   "outputs": [
    {
     "data": {
      "text/plain": [
       "' Dolly says hwoof'"
      ]
     },
     "execution_count": 190,
     "metadata": {},
     "output_type": "execute_result"
    }
   ],
   "source": [
    "dolly.speak(\"hwoof\")"
   ]
  },
  {
   "cell_type": "code",
   "execution_count": null,
   "id": "73e2147a",
   "metadata": {},
   "outputs": [],
   "source": []
  },
  {
   "cell_type": "code",
   "execution_count": 192,
   "id": "b26df75f",
   "metadata": {},
   "outputs": [
    {
     "data": {
      "text/plain": [
       "' Dolly says woof'"
      ]
     },
     "execution_count": 192,
     "metadata": {},
     "output_type": "execute_result"
    }
   ],
   "source": [
    "dolly.speak() # will work if the first function does not exist"
   ]
  },
  {
   "cell_type": "markdown",
   "id": "8adf6162",
   "metadata": {},
   "source": [
    " # POLYMORPHISM"
   ]
  },
  {
   "cell_type": "code",
   "execution_count": 193,
   "id": "85173586",
   "metadata": {},
   "outputs": [],
   "source": [
    "# An example of polymorphism"
   ]
  },
  {
   "cell_type": "code",
   "execution_count": 194,
   "id": "c9d2d0dc",
   "metadata": {},
   "outputs": [
    {
     "name": "stdout",
     "output_type": "stream",
     "text": [
      "4\n",
      "3\n",
      "2\n"
     ]
    }
   ],
   "source": [
    "print(len(\"Dean\"))\n",
    "print(len(['Golf','Badminton','Football']))\n",
    "print(len({'Name':'Stephen','Age':22}))"
   ]
  },
  {
   "cell_type": "code",
   "execution_count": 195,
   "id": "12f420b0",
   "metadata": {},
   "outputs": [],
   "source": [
    "class Doggy:\n",
    "    def __init__(self,name,age):\n",
    "        self.name=name\n",
    "        self.age=age\n",
    "        \n",
    "    def description(self):\n",
    "        print(\"I am a dog. My name is {} and I am {} years old\".format(self.name,self.age))\n",
    "        \n",
    "    \n",
    "    def speak(self):\n",
    "        print('bark')\n",
    "        \n",
    "class cat:\n",
    "    def __init__(self,name,age):\n",
    "        self.name=name\n",
    "        self.age=age\n",
    "        \n",
    "    def description(self):\n",
    "        print(\"I am a good cat. My name is {} and I am {} years old\".format(self.name,self.age))\n",
    "        \n",
    "    \n",
    "    def speak(self):\n",
    "        print('Meow')\n",
    "    "
   ]
  },
  {
   "cell_type": "code",
   "execution_count": 196,
   "id": "5b0bffa8",
   "metadata": {},
   "outputs": [],
   "source": [
    "dog1=Doggy(\"Simba\",4)\n",
    "cat1=cat('Danger',2)"
   ]
  },
  {
   "cell_type": "code",
   "execution_count": 197,
   "id": "1663626f",
   "metadata": {},
   "outputs": [
    {
     "name": "stdout",
     "output_type": "stream",
     "text": [
      "Meow\n",
      "I am a good cat. My name is Danger and I am 2 years old\n",
      "Meow\n",
      "bark\n",
      "I am a dog. My name is Simba and I am 4 years old\n",
      "bark\n"
     ]
    }
   ],
   "source": [
    "for animal in (cat1,dog1):\n",
    "    animal.speak()\n",
    "    animal.description()\n",
    "    animal.speak()"
   ]
  },
  {
   "cell_type": "code",
   "execution_count": 198,
   "id": "6fb815a6",
   "metadata": {},
   "outputs": [],
   "source": [
    "# special / Dunder / Magic Methods"
   ]
  },
  {
   "cell_type": "code",
   "execution_count": 199,
   "id": "011a3481",
   "metadata": {},
   "outputs": [],
   "source": [
    "my_list=[2,3,6,4,1,5]"
   ]
  },
  {
   "cell_type": "code",
   "execution_count": 200,
   "id": "43088e81",
   "metadata": {},
   "outputs": [
    {
     "data": {
      "text/plain": [
       "6"
      ]
     },
     "execution_count": 200,
     "metadata": {},
     "output_type": "execute_result"
    }
   ],
   "source": [
    "len(my_list)"
   ]
  },
  {
   "cell_type": "code",
   "execution_count": 201,
   "id": "e1e84a27",
   "metadata": {},
   "outputs": [
    {
     "data": {
      "text/plain": [
       "[2, 3, 6, 4, 1, 5]"
      ]
     },
     "execution_count": 201,
     "metadata": {},
     "output_type": "execute_result"
    }
   ],
   "source": [
    "my_list"
   ]
  },
  {
   "cell_type": "code",
   "execution_count": 203,
   "id": "15da4d50",
   "metadata": {},
   "outputs": [
    {
     "data": {
      "text/plain": [
       "6"
      ]
     },
     "execution_count": 203,
     "metadata": {},
     "output_type": "execute_result"
    }
   ],
   "source": [
    "my_list.__len__() # 1"
   ]
  },
  {
   "cell_type": "code",
   "execution_count": 204,
   "id": "28057fa5",
   "metadata": {},
   "outputs": [],
   "source": [
    "# __init__\n",
    "# __del__\n",
    "# __str___\n",
    "#__lt__   less thatn\n",
    "#__le__()\n",
    "#__eq__()\n",
    "#__gt__()\n",
    "#__add__()\n",
    "#__sub__()\n",
    "#__mul__()\n",
    "#__float__()\n",
    "# __iter__()\n",
    "# __next__()\n"
   ]
  },
  {
   "cell_type": "code",
   "execution_count": 207,
   "id": "fd604b48",
   "metadata": {},
   "outputs": [],
   "source": [
    "class BankAccount:\n",
    "    def __init__(self,name,balance=0):\n",
    "        self.name=name\n",
    "        self.balance=balance\n",
    "        \n",
    "        print(\"__init__Account created with {} balance\".format(self.balance))\n",
    "        \n",
    "    def getbalance(self):\n",
    "        return self.balance\n",
    "    \n",
    "    def __repr__(self):\n",
    "        return \"__repr__Account({},{})\".format(self.name,self.balance)\n",
    "    \n",
    "    def __str__(self):\n",
    "        return \"__str__Account Name= {}, Account Balance={}\".format(self.name,self.balance)\n",
    "    \n",
    "    def __int__(self):\n",
    "        return int(self.balance)\n",
    "    \n",
    "    def __float__(self):\n",
    "        return float(self.balance)\n",
    "    \n",
    "    def __lt__(self,obj):\n",
    "        try:\n",
    "            return self.balance < obj.getbalance()\n",
    "        except:\n",
    "            return \" Are you sure you are comparing two bank Accounts?\"\n",
    "        \n",
    "        def __del__(self):\n",
    "            self.balance=0\n",
    "            print(\"__del__Account deleted\")"
   ]
  },
  {
   "cell_type": "code",
   "execution_count": 208,
   "id": "8d20082a",
   "metadata": {},
   "outputs": [
    {
     "name": "stdout",
     "output_type": "stream",
     "text": [
      "__init__Account created with 1000 balance\n",
      "__init__Account created with 2500 balance\n"
     ]
    }
   ],
   "source": [
    "deans_account=BankAccount(\"Dean\",1000)\n",
    "sams_account=BankAccount('Sam',2500)"
   ]
  },
  {
   "cell_type": "code",
   "execution_count": 209,
   "id": "13cf4694",
   "metadata": {},
   "outputs": [
    {
     "data": {
      "text/plain": [
       "1000"
      ]
     },
     "execution_count": 209,
     "metadata": {},
     "output_type": "execute_result"
    }
   ],
   "source": [
    "deans_account.getbalance()\n"
   ]
  },
  {
   "cell_type": "code",
   "execution_count": 211,
   "id": "be18b1b4",
   "metadata": {},
   "outputs": [
    {
     "name": "stdout",
     "output_type": "stream",
     "text": [
      "__str__Account Name= Sam, Account Balance=2500\n",
      "__repr__Account(Dean,1000)\n",
      "__str__Account Name= Dean, Account Balance=1000\n"
     ]
    }
   ],
   "source": [
    "print(str(sams_account))\n",
    "print(repr(deans_account))\n",
    "print(deans_account)"
   ]
  },
  {
   "cell_type": "code",
   "execution_count": 212,
   "id": "3298d069",
   "metadata": {},
   "outputs": [
    {
     "data": {
      "text/plain": [
       "2500"
      ]
     },
     "execution_count": 212,
     "metadata": {},
     "output_type": "execute_result"
    }
   ],
   "source": [
    "int(sams_account)"
   ]
  },
  {
   "cell_type": "code",
   "execution_count": 213,
   "id": "77f485ef",
   "metadata": {},
   "outputs": [
    {
     "data": {
      "text/plain": [
       "1000.0"
      ]
     },
     "execution_count": 213,
     "metadata": {},
     "output_type": "execute_result"
    }
   ],
   "source": [
    "float(deans_account)"
   ]
  },
  {
   "cell_type": "code",
   "execution_count": 214,
   "id": "eed446ca",
   "metadata": {},
   "outputs": [
    {
     "data": {
      "text/plain": [
       "False"
      ]
     },
     "execution_count": 214,
     "metadata": {},
     "output_type": "execute_result"
    }
   ],
   "source": [
    "sams_account<deans_account"
   ]
  },
  {
   "cell_type": "code",
   "execution_count": 215,
   "id": "44e41739",
   "metadata": {},
   "outputs": [],
   "source": [
    "del(sams_account)"
   ]
  },
  {
   "cell_type": "code",
   "execution_count": 216,
   "id": "7b646d91",
   "metadata": {},
   "outputs": [
    {
     "ename": "NameError",
     "evalue": "name 'sams_account' is not defined",
     "output_type": "error",
     "traceback": [
      "\u001b[1;31m---------------------------------------------------------------------------\u001b[0m",
      "\u001b[1;31mNameError\u001b[0m                                 Traceback (most recent call last)",
      "Cell \u001b[1;32mIn[216], line 1\u001b[0m\n\u001b[1;32m----> 1\u001b[0m \u001b[38;5;28mprint\u001b[39m(\u001b[43msams_account\u001b[49m)\n",
      "\u001b[1;31mNameError\u001b[0m: name 'sams_account' is not defined"
     ]
    }
   ],
   "source": [
    "print(sams_account)"
   ]
  },
  {
   "cell_type": "code",
   "execution_count": 217,
   "id": "9dd55850",
   "metadata": {},
   "outputs": [
    {
     "name": "stdout",
     "output_type": "stream",
     "text": [
      "__str__Account Name= Dean, Account Balance=1000\n"
     ]
    }
   ],
   "source": [
    "print(deans_account)"
   ]
  },
  {
   "cell_type": "code",
   "execution_count": 218,
   "id": "096e815e",
   "metadata": {},
   "outputs": [
    {
     "data": {
      "text/plain": [
       "1000"
      ]
     },
     "execution_count": 218,
     "metadata": {},
     "output_type": "execute_result"
    }
   ],
   "source": [
    "int(deans_account)"
   ]
  },
  {
   "cell_type": "code",
   "execution_count": 219,
   "id": "df668ebf",
   "metadata": {},
   "outputs": [
    {
     "data": {
      "text/plain": [
       "'__str__Account Name= Dean, Account Balance=1000'"
      ]
     },
     "execution_count": 219,
     "metadata": {},
     "output_type": "execute_result"
    }
   ],
   "source": [
    "str(deans_account)"
   ]
  },
  {
   "cell_type": "code",
   "execution_count": null,
   "id": "5d251f50",
   "metadata": {},
   "outputs": [],
   "source": []
  }
 ],
 "metadata": {
  "kernelspec": {
   "display_name": "Python 3 (ipykernel)",
   "language": "python",
   "name": "python3"
  },
  "language_info": {
   "codemirror_mode": {
    "name": "ipython",
    "version": 3
   },
   "file_extension": ".py",
   "mimetype": "text/x-python",
   "name": "python",
   "nbconvert_exporter": "python",
   "pygments_lexer": "ipython3",
   "version": "3.10.9"
  }
 },
 "nbformat": 4,
 "nbformat_minor": 5
}

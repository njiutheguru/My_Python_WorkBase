{
 "cells": [
  {
   "cell_type": "code",
   "execution_count": 1,
   "id": "034888c6",
   "metadata": {},
   "outputs": [],
   "source": [
    "# The collections module"
   ]
  },
  {
   "cell_type": "code",
   "execution_count": 2,
   "id": "2be0029e",
   "metadata": {},
   "outputs": [],
   "source": [
    "from collections import Counter"
   ]
  },
  {
   "cell_type": "code",
   "execution_count": 3,
   "id": "9ad5dc7d",
   "metadata": {},
   "outputs": [
    {
     "name": "stdout",
     "output_type": "stream",
     "text": [
      "Counter({'B': 5, 'C': 3, 'A': 2})\n"
     ]
    }
   ],
   "source": [
    "count=Counter(['B','B','A','C','A','B','C','B','C','B'])\n",
    "print(count)"
   ]
  },
  {
   "cell_type": "code",
   "execution_count": 4,
   "id": "2e59f0d8",
   "metadata": {},
   "outputs": [
    {
     "name": "stdout",
     "output_type": "stream",
     "text": [
      "Counter({'B': 5, 'A': 3, 'C': 2})\n"
     ]
    }
   ],
   "source": [
    "count2=Counter({'A':3,'B':5,'C':2})\n",
    "print(count2\n",
    "     )"
   ]
  },
  {
   "cell_type": "code",
   "execution_count": 5,
   "id": "47bdf79d",
   "metadata": {},
   "outputs": [
    {
     "name": "stdout",
     "output_type": "stream",
     "text": [
      "Counter({'b': 4, 'c': 3, 'A': 2})\n"
     ]
    }
   ],
   "source": [
    "count2=Counter(A=2,b=4,c=3)\n",
    "print(count2)"
   ]
  },
  {
   "cell_type": "code",
   "execution_count": 6,
   "id": "421fddbe",
   "metadata": {},
   "outputs": [],
   "source": [
    "my_list=['B','B','A','C','A','B','C','B','C','B']"
   ]
  },
  {
   "cell_type": "code",
   "execution_count": 9,
   "id": "3746b0a9",
   "metadata": {},
   "outputs": [
    {
     "name": "stdout",
     "output_type": "stream",
     "text": [
      "Counter()\n"
     ]
    }
   ],
   "source": [
    "count3=Counter()\n",
    "print(count3)"
   ]
  },
  {
   "cell_type": "code",
   "execution_count": 10,
   "id": "18c03ac1",
   "metadata": {},
   "outputs": [
    {
     "name": "stdout",
     "output_type": "stream",
     "text": [
      "Counter({'B': 5, 'C': 3, 'A': 2})\n"
     ]
    }
   ],
   "source": [
    "count3.update(my_list)\n",
    "print(count3)"
   ]
  },
  {
   "cell_type": "code",
   "execution_count": 11,
   "id": "9845b0c7",
   "metadata": {},
   "outputs": [],
   "source": [
    "# ORDEREDDICT"
   ]
  },
  {
   "cell_type": "code",
   "execution_count": 13,
   "id": "e1ac7620",
   "metadata": {},
   "outputs": [],
   "source": [
    "from collections import OrderedDict"
   ]
  },
  {
   "cell_type": "code",
   "execution_count": 14,
   "id": "ab188a87",
   "metadata": {},
   "outputs": [],
   "source": [
    "d={}"
   ]
  },
  {
   "cell_type": "code",
   "execution_count": 15,
   "id": "d6aa27f6",
   "metadata": {},
   "outputs": [
    {
     "name": "stdout",
     "output_type": "stream",
     "text": [
      "{'a': 1, 'b': 2, 'c': 3, 'd': 4}\n"
     ]
    }
   ],
   "source": [
    "d['a']=1\n",
    "d['b']=2\n",
    "d['c']=3\n",
    "d['d']=4\n",
    "print(d)"
   ]
  },
  {
   "cell_type": "code",
   "execution_count": 16,
   "id": "aac8f84e",
   "metadata": {},
   "outputs": [],
   "source": [
    "od=OrderedDict()"
   ]
  },
  {
   "cell_type": "code",
   "execution_count": 18,
   "id": "a38dc6be",
   "metadata": {},
   "outputs": [
    {
     "name": "stdout",
     "output_type": "stream",
     "text": [
      "OrderedDict([('a', 1), ('b', 2), ('c', 3), ('d', 4)])\n"
     ]
    }
   ],
   "source": [
    "od['a']=1\n",
    "od['b']=2\n",
    "od['c']=3\n",
    "od['d']=4\n",
    "print(od)"
   ]
  },
  {
   "cell_type": "code",
   "execution_count": 19,
   "id": "9e752e00",
   "metadata": {},
   "outputs": [
    {
     "data": {
      "text/plain": [
       "1"
      ]
     },
     "execution_count": 19,
     "metadata": {},
     "output_type": "execute_result"
    }
   ],
   "source": [
    "od.pop('a')"
   ]
  },
  {
   "cell_type": "code",
   "execution_count": 20,
   "id": "a7293bbc",
   "metadata": {},
   "outputs": [
    {
     "name": "stdout",
     "output_type": "stream",
     "text": [
      "OrderedDict([('b', 2), ('c', 3), ('d', 4)])\n"
     ]
    }
   ],
   "source": [
    "print(od)"
   ]
  },
  {
   "cell_type": "code",
   "execution_count": 21,
   "id": "c2be48f9",
   "metadata": {},
   "outputs": [],
   "source": [
    "od['t']=1"
   ]
  },
  {
   "cell_type": "code",
   "execution_count": 22,
   "id": "6d2c61cd",
   "metadata": {},
   "outputs": [
    {
     "name": "stdout",
     "output_type": "stream",
     "text": [
      "OrderedDict([('b', 2), ('c', 3), ('d', 4), ('t', 1)])\n"
     ]
    }
   ],
   "source": [
    "print(od)"
   ]
  },
  {
   "cell_type": "code",
   "execution_count": null,
   "id": "bb6e0b56",
   "metadata": {},
   "outputs": [],
   "source": []
  },
  {
   "cell_type": "code",
   "execution_count": 23,
   "id": "bebc0d89",
   "metadata": {},
   "outputs": [],
   "source": [
    "# The DefaultDict"
   ]
  },
  {
   "cell_type": "code",
   "execution_count": 33,
   "id": "25703922",
   "metadata": {},
   "outputs": [],
   "source": [
    "from collections import defaultdict"
   ]
  },
  {
   "cell_type": "code",
   "execution_count": 34,
   "id": "ab432c47",
   "metadata": {},
   "outputs": [],
   "source": [
    "dd=defaultdict(int)"
   ]
  },
  {
   "cell_type": "code",
   "execution_count": 35,
   "id": "34045f82",
   "metadata": {},
   "outputs": [],
   "source": [
    "nums=[1,2,3,4,5,6,2,3,2,3,1,1,6]\n"
   ]
  },
  {
   "cell_type": "code",
   "execution_count": 41,
   "id": "bb1bb441",
   "metadata": {},
   "outputs": [],
   "source": [
    "for i in nums:\n",
    "    dd[i] +=1"
   ]
  },
  {
   "cell_type": "code",
   "execution_count": 42,
   "id": "8dd99056",
   "metadata": {},
   "outputs": [
    {
     "name": "stdout",
     "output_type": "stream",
     "text": [
      "defaultdict(<class 'int'>, {1: 3, 2: 3, 3: 3, 4: 1, 5: 1, 6: 2})\n"
     ]
    }
   ],
   "source": [
    "print(dd)"
   ]
  },
  {
   "cell_type": "code",
   "execution_count": 43,
   "id": "f3f4d465",
   "metadata": {},
   "outputs": [],
   "source": [
    "dd2=defaultdict(list)\n",
    "for i in nums:\n",
    "    dd2[i].append(i)"
   ]
  },
  {
   "cell_type": "code",
   "execution_count": 44,
   "id": "135b0322",
   "metadata": {},
   "outputs": [
    {
     "name": "stdout",
     "output_type": "stream",
     "text": [
      "defaultdict(<class 'list'>, {1: [1, 1, 1], 2: [2, 2, 2], 3: [3, 3, 3], 4: [4], 5: [5], 6: [6, 6]})\n"
     ]
    }
   ],
   "source": [
    "print(dd2)"
   ]
  },
  {
   "cell_type": "code",
   "execution_count": 45,
   "id": "cd030ae9",
   "metadata": {},
   "outputs": [
    {
     "name": "stdout",
     "output_type": "stream",
     "text": [
      "[2, 2, 2]\n"
     ]
    }
   ],
   "source": [
    "print(dd2[2])"
   ]
  },
  {
   "cell_type": "code",
   "execution_count": 46,
   "id": "b731d7ce",
   "metadata": {},
   "outputs": [
    {
     "name": "stdout",
     "output_type": "stream",
     "text": [
      "[6, 6]\n"
     ]
    }
   ],
   "source": [
    "print(dd2[6])"
   ]
  },
  {
   "cell_type": "code",
   "execution_count": 47,
   "id": "8f676b6e",
   "metadata": {},
   "outputs": [
    {
     "name": "stdout",
     "output_type": "stream",
     "text": [
      "[]\n"
     ]
    }
   ],
   "source": [
    "print(dd2[7])"
   ]
  },
  {
   "cell_type": "code",
   "execution_count": null,
   "id": "c47be9f9",
   "metadata": {},
   "outputs": [],
   "source": []
  },
  {
   "cell_type": "code",
   "execution_count": 48,
   "id": "7911d57b",
   "metadata": {},
   "outputs": [],
   "source": [
    "# The chainMap\n",
    "from collections import ChainMap"
   ]
  },
  {
   "cell_type": "code",
   "execution_count": 52,
   "id": "8eca1bab",
   "metadata": {},
   "outputs": [
    {
     "name": "stdout",
     "output_type": "stream",
     "text": [
      "ChainMap({'a': 1, 'b': 2}, {'c': 3, 'd': 5}, {'e': 43, 'f': 21})\n",
      "1\n",
      "_________\n",
      "43\n",
      "21\n",
      "3\n",
      "5\n",
      "1\n",
      "2\n"
     ]
    }
   ],
   "source": [
    "d1 = {'a':1,'b':2}\n",
    "d2 = {'c':3,'d':5}\n",
    "d3 = {'e':43,'f':21}\n",
    "\n",
    "c=ChainMap(d1,d2,d3)\n",
    "print(c)\n",
    "print(c['a'])\n",
    "print(\"_________\")\n",
    "for i in c.values():\n",
    "    print(i)"
   ]
  },
  {
   "cell_type": "code",
   "execution_count": 50,
   "id": "073fbcf7",
   "metadata": {},
   "outputs": [
    {
     "name": "stdout",
     "output_type": "stream",
     "text": [
      "{'a': 1, 'b': 2}\n"
     ]
    }
   ],
   "source": [
    "print(d1)"
   ]
  },
  {
   "cell_type": "code",
   "execution_count": 54,
   "id": "9de52f20",
   "metadata": {},
   "outputs": [
    {
     "name": "stdout",
     "output_type": "stream",
     "text": [
      "e\n",
      "f\n",
      "c\n",
      "d\n",
      "a\n",
      "b\n"
     ]
    }
   ],
   "source": [
    " for i in c.keys():\n",
    "        print(i)"
   ]
  },
  {
   "cell_type": "code",
   "execution_count": 55,
   "id": "f454f356",
   "metadata": {},
   "outputs": [],
   "source": [
    "# accessign both keys and values"
   ]
  },
  {
   "cell_type": "code",
   "execution_count": 56,
   "id": "a9d168d5",
   "metadata": {},
   "outputs": [
    {
     "name": "stdout",
     "output_type": "stream",
     "text": [
      "e 43\n",
      "f 21\n",
      "c 3\n",
      "d 5\n",
      "a 1\n",
      "b 2\n"
     ]
    }
   ],
   "source": [
    "for a,b in c.items():\n",
    "    print(a,b)"
   ]
  },
  {
   "cell_type": "code",
   "execution_count": 57,
   "id": "09b7966d",
   "metadata": {},
   "outputs": [
    {
     "name": "stdout",
     "output_type": "stream",
     "text": [
      "ChainMap({'x': 8, 'y': 9}, {'a': 1, 'b': 2}, {'c': 3, 'd': 5}, {'e': 43, 'f': 21})\n"
     ]
    }
   ],
   "source": [
    "d4={'x':8,'y':9}\n",
    "c1=c.new_child(d4)\n",
    "print(c1)"
   ]
  },
  {
   "cell_type": "code",
   "execution_count": null,
   "id": "67e8173b",
   "metadata": {},
   "outputs": [],
   "source": []
  },
  {
   "cell_type": "code",
   "execution_count": 58,
   "id": "dbf7857e",
   "metadata": {},
   "outputs": [],
   "source": [
    "# Named Tuple"
   ]
  },
  {
   "cell_type": "code",
   "execution_count": 60,
   "id": "56931f7f",
   "metadata": {},
   "outputs": [
    {
     "name": "stdout",
     "output_type": "stream",
     "text": [
      "Lives in: London\n"
     ]
    }
   ],
   "source": [
    "my_tuple =('Dave','London',40)\n",
    "print(\"Lives in:\",my_tuple[1])"
   ]
  },
  {
   "cell_type": "code",
   "execution_count": 61,
   "id": "45a29df9",
   "metadata": {},
   "outputs": [
    {
     "name": "stdout",
     "output_type": "stream",
     "text": [
      "Lives in:  ('Dave', 'London', 40)\n"
     ]
    }
   ],
   "source": [
    "print(\"Lives in: \",my_tuple)"
   ]
  },
  {
   "cell_type": "code",
   "execution_count": 62,
   "id": "b4141c80",
   "metadata": {},
   "outputs": [],
   "source": [
    "from collections import namedtuple"
   ]
  },
  {
   "cell_type": "code",
   "execution_count": 63,
   "id": "acff61ab",
   "metadata": {},
   "outputs": [],
   "source": [
    "Employee=namedtuple('Employee',['name','location','age'])"
   ]
  },
  {
   "cell_type": "code",
   "execution_count": 64,
   "id": "96521147",
   "metadata": {},
   "outputs": [],
   "source": [
    "emp1=Employee('Dave','London',40)"
   ]
  },
  {
   "cell_type": "code",
   "execution_count": 65,
   "id": "012439b4",
   "metadata": {},
   "outputs": [
    {
     "name": "stdout",
     "output_type": "stream",
     "text": [
      "The Employee is: 40\n"
     ]
    }
   ],
   "source": [
    "print(\"The Employee is:\", emp1.age)"
   ]
  },
  {
   "cell_type": "code",
   "execution_count": 66,
   "id": "4e304652",
   "metadata": {},
   "outputs": [
    {
     "name": "stdout",
     "output_type": "stream",
     "text": [
      "The Employee is: 40 Dave London\n"
     ]
    }
   ],
   "source": [
    "print(\"The Employee is:\",emp1.age,emp1.name,emp1.location)"
   ]
  },
  {
   "cell_type": "code",
   "execution_count": 67,
   "id": "a9e1ba91",
   "metadata": {},
   "outputs": [],
   "source": [
    "#The Deque container"
   ]
  },
  {
   "cell_type": "code",
   "execution_count": 68,
   "id": "06189a02",
   "metadata": {},
   "outputs": [],
   "source": [
    "from collections import deque"
   ]
  },
  {
   "cell_type": "code",
   "execution_count": 69,
   "id": "70f910de",
   "metadata": {},
   "outputs": [],
   "source": [
    "de=deque([1,2,3])\n",
    "de.append(4)"
   ]
  },
  {
   "cell_type": "code",
   "execution_count": 71,
   "id": "a251ce6f",
   "metadata": {},
   "outputs": [
    {
     "name": "stdout",
     "output_type": "stream",
     "text": [
      "Appending 4 to the right.... deque([1, 2, 3, 4])\n"
     ]
    }
   ],
   "source": [
    "print(\"Appending 4 to the right....\",de)"
   ]
  },
  {
   "cell_type": "code",
   "execution_count": 72,
   "id": "3a61553d",
   "metadata": {},
   "outputs": [
    {
     "name": "stdout",
     "output_type": "stream",
     "text": [
      "Appending 6 to the left.... deque([6, 1, 2, 3, 4])\n"
     ]
    }
   ],
   "source": [
    "de.appendleft(6)\n",
    "print(\"Appending 6 to the left....\",de)"
   ]
  },
  {
   "cell_type": "code",
   "execution_count": 73,
   "id": "28b78444",
   "metadata": {},
   "outputs": [
    {
     "name": "stdout",
     "output_type": "stream",
     "text": [
      "Deleting value from the right... deque([6, 1, 2, 3])\n"
     ]
    }
   ],
   "source": [
    "de.pop()\n",
    "print(\"Deleting value from the right...\",de)"
   ]
  },
  {
   "cell_type": "code",
   "execution_count": 74,
   "id": "047466ae",
   "metadata": {},
   "outputs": [
    {
     "name": "stdout",
     "output_type": "stream",
     "text": [
      "Deleting values from the left... deque([1, 2, 3])\n"
     ]
    }
   ],
   "source": [
    "de.popleft()\n",
    "print(\"Deleting values from the left...\",de)"
   ]
  },
  {
   "cell_type": "code",
   "execution_count": 76,
   "id": "975a9b3d",
   "metadata": {},
   "outputs": [
    {
     "name": "stdout",
     "output_type": "stream",
     "text": [
      "deque([1, 66, 2, 3])\n"
     ]
    }
   ],
   "source": [
    "de.insert(1,66)\n",
    "print(de)"
   ]
  },
  {
   "cell_type": "code",
   "execution_count": 77,
   "id": "07db159f",
   "metadata": {},
   "outputs": [],
   "source": [
    "de.remove(2)"
   ]
  },
  {
   "cell_type": "code",
   "execution_count": 78,
   "id": "7b384495",
   "metadata": {},
   "outputs": [
    {
     "name": "stdout",
     "output_type": "stream",
     "text": [
      "deque([1, 66, 3])\n"
     ]
    }
   ],
   "source": [
    "print(de)"
   ]
  },
  {
   "cell_type": "code",
   "execution_count": 79,
   "id": "e38ff043",
   "metadata": {},
   "outputs": [
    {
     "data": {
      "text/plain": [
       "deque([1, 66, 3])"
      ]
     },
     "execution_count": 79,
     "metadata": {},
     "output_type": "execute_result"
    }
   ],
   "source": [
    "de"
   ]
  },
  {
   "cell_type": "code",
   "execution_count": 80,
   "id": "5bbc43a2",
   "metadata": {},
   "outputs": [],
   "source": [
    "de.reverse()"
   ]
  },
  {
   "cell_type": "code",
   "execution_count": 81,
   "id": "cb5ce390",
   "metadata": {},
   "outputs": [
    {
     "name": "stdout",
     "output_type": "stream",
     "text": [
      "deque([3, 66, 1])\n"
     ]
    }
   ],
   "source": [
    "print(de)"
   ]
  },
  {
   "cell_type": "code",
   "execution_count": null,
   "id": "f88c7d3e",
   "metadata": {},
   "outputs": [],
   "source": []
  }
 ],
 "metadata": {
  "kernelspec": {
   "display_name": "Python 3 (ipykernel)",
   "language": "python",
   "name": "python3"
  },
  "language_info": {
   "codemirror_mode": {
    "name": "ipython",
    "version": 3
   },
   "file_extension": ".py",
   "mimetype": "text/x-python",
   "name": "python",
   "nbconvert_exporter": "python",
   "pygments_lexer": "ipython3",
   "version": "3.10.9"
  }
 },
 "nbformat": 4,
 "nbformat_minor": 5
}

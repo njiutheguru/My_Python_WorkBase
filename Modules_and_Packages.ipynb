{
 "cells": [
  {
   "cell_type": "markdown",
   "id": "bfec894d",
   "metadata": {},
   "source": [
    "<strong> Working with Modules and Packages in Python"
   ]
  },
  {
   "cell_type": "code",
   "execution_count": 1,
   "id": "b61a556d",
   "metadata": {},
   "outputs": [],
   "source": [
    "import adder\n",
    "import math"
   ]
  },
  {
   "cell_type": "code",
   "execution_count": 2,
   "id": "9c5b5ea1",
   "metadata": {},
   "outputs": [
    {
     "data": {
      "text/plain": [
       "14"
      ]
     },
     "execution_count": 2,
     "metadata": {},
     "output_type": "execute_result"
    }
   ],
   "source": [
    "adder.add(5,9)"
   ]
  },
  {
   "cell_type": "code",
   "execution_count": 3,
   "id": "0549c39b",
   "metadata": {},
   "outputs": [],
   "source": [
    "# The file imported is called the module hence the adder.py file is a module"
   ]
  },
  {
   "cell_type": "code",
   "execution_count": 4,
   "id": "444e8c88",
   "metadata": {},
   "outputs": [
    {
     "data": {
      "text/plain": [
       "3.141592653589793"
      ]
     },
     "execution_count": 4,
     "metadata": {},
     "output_type": "execute_result"
    }
   ],
   "source": [
    "math.pi"
   ]
  },
  {
   "cell_type": "code",
   "execution_count": 5,
   "id": "dfb48828",
   "metadata": {},
   "outputs": [],
   "source": [
    "import adder as a"
   ]
  },
  {
   "cell_type": "code",
   "execution_count": 6,
   "id": "b27c1ffe",
   "metadata": {},
   "outputs": [
    {
     "data": {
      "text/plain": [
       "10.6"
      ]
     },
     "execution_count": 6,
     "metadata": {},
     "output_type": "execute_result"
    }
   ],
   "source": [
    "a.add(4.6,6)"
   ]
  },
  {
   "cell_type": "code",
   "execution_count": 7,
   "id": "5a5c7e17",
   "metadata": {},
   "outputs": [
    {
     "data": {
      "text/plain": [
       "9.6"
      ]
     },
     "execution_count": 7,
     "metadata": {},
     "output_type": "execute_result"
    }
   ],
   "source": [
    "adder.add(2.6,7) # works fine updated alias naming with modules"
   ]
  },
  {
   "cell_type": "code",
   "execution_count": 8,
   "id": "55387139",
   "metadata": {},
   "outputs": [],
   "source": [
    "import math as m"
   ]
  },
  {
   "cell_type": "code",
   "execution_count": 9,
   "id": "d45c1b81",
   "metadata": {},
   "outputs": [
    {
     "data": {
      "text/plain": [
       "3.141592653589793"
      ]
     },
     "execution_count": 9,
     "metadata": {},
     "output_type": "execute_result"
    }
   ],
   "source": [
    "m.pi"
   ]
  },
  {
   "cell_type": "code",
   "execution_count": 10,
   "id": "0106e4a9",
   "metadata": {},
   "outputs": [],
   "source": [
    "# Selective import"
   ]
  },
  {
   "cell_type": "code",
   "execution_count": 11,
   "id": "8e7e9942",
   "metadata": {},
   "outputs": [],
   "source": [
    "from adder import add"
   ]
  },
  {
   "cell_type": "code",
   "execution_count": 12,
   "id": "a7539577",
   "metadata": {},
   "outputs": [
    {
     "data": {
      "text/plain": [
       "93.7"
      ]
     },
     "execution_count": 12,
     "metadata": {},
     "output_type": "execute_result"
    }
   ],
   "source": [
    "add(5.7,88)"
   ]
  },
  {
   "cell_type": "code",
   "execution_count": 13,
   "id": "93be979d",
   "metadata": {},
   "outputs": [],
   "source": [
    "from math import pi"
   ]
  },
  {
   "cell_type": "code",
   "execution_count": 14,
   "id": "be9f0d21",
   "metadata": {},
   "outputs": [
    {
     "data": {
      "text/plain": [
       "3.141592653589793"
      ]
     },
     "execution_count": 14,
     "metadata": {},
     "output_type": "execute_result"
    }
   ],
   "source": [
    "pi"
   ]
  },
  {
   "cell_type": "code",
   "execution_count": 15,
   "id": "42474d4e",
   "metadata": {},
   "outputs": [],
   "source": [
    "# Import all names all names from a library or module"
   ]
  },
  {
   "cell_type": "code",
   "execution_count": 16,
   "id": "a4398169",
   "metadata": {},
   "outputs": [],
   "source": [
    "from math import * # should be avoided..."
   ]
  },
  {
   "cell_type": "code",
   "execution_count": 17,
   "id": "81341c3b",
   "metadata": {},
   "outputs": [
    {
     "data": {
      "text/plain": [
       "3.141592653589793"
      ]
     },
     "execution_count": 17,
     "metadata": {},
     "output_type": "execute_result"
    }
   ],
   "source": [
    "pi"
   ]
  },
  {
   "cell_type": "code",
   "execution_count": 18,
   "id": "ec42a5d3",
   "metadata": {},
   "outputs": [
    {
     "data": {
      "text/plain": [
       "2.718281828459045"
      ]
     },
     "execution_count": 18,
     "metadata": {},
     "output_type": "execute_result"
    }
   ],
   "source": [
    "e"
   ]
  },
  {
   "cell_type": "code",
   "execution_count": 19,
   "id": "1a24fb55",
   "metadata": {},
   "outputs": [],
   "source": [
    "# Python Module search path"
   ]
  },
  {
   "cell_type": "code",
   "execution_count": 20,
   "id": "77b54b09",
   "metadata": {},
   "outputs": [],
   "source": [
    "import adder\n",
    "import math\n",
    "import pandas"
   ]
  },
  {
   "cell_type": "code",
   "execution_count": 21,
   "id": "d6b94270",
   "metadata": {},
   "outputs": [],
   "source": [
    "import sys"
   ]
  },
  {
   "cell_type": "code",
   "execution_count": 22,
   "id": "98cd0f48",
   "metadata": {},
   "outputs": [
    {
     "data": {
      "text/plain": [
       "['C:\\\\Python_Programming',\n",
       " 'C:\\\\ProgramData\\\\anaconda3\\\\python310.zip',\n",
       " 'C:\\\\ProgramData\\\\anaconda3\\\\DLLs',\n",
       " 'C:\\\\ProgramData\\\\anaconda3\\\\lib',\n",
       " 'C:\\\\ProgramData\\\\anaconda3',\n",
       " '',\n",
       " 'C:\\\\ProgramData\\\\anaconda3\\\\lib\\\\site-packages',\n",
       " 'C:\\\\ProgramData\\\\anaconda3\\\\lib\\\\site-packages\\\\win32',\n",
       " 'C:\\\\ProgramData\\\\anaconda3\\\\lib\\\\site-packages\\\\win32\\\\lib',\n",
       " 'C:\\\\ProgramData\\\\anaconda3\\\\lib\\\\site-packages\\\\Pythonwin']"
      ]
     },
     "execution_count": 22,
     "metadata": {},
     "output_type": "execute_result"
    }
   ],
   "source": [
    "sys.path"
   ]
  },
  {
   "cell_type": "code",
   "execution_count": 23,
   "id": "07a9b45e",
   "metadata": {},
   "outputs": [
    {
     "data": {
      "text/plain": [
       "['C:\\\\ProgramData\\\\anaconda3\\\\lib\\\\site-packages\\\\pandas']"
      ]
     },
     "execution_count": 23,
     "metadata": {},
     "output_type": "execute_result"
    }
   ],
   "source": [
    "pandas.__path__"
   ]
  },
  {
   "cell_type": "code",
   "execution_count": 24,
   "id": "b2b4fe36",
   "metadata": {},
   "outputs": [],
   "source": [
    "# Reloding a module"
   ]
  },
  {
   "cell_type": "code",
   "execution_count": 25,
   "id": "80dc5ab1",
   "metadata": {},
   "outputs": [],
   "source": [
    "# Module is only executed once..."
   ]
  },
  {
   "cell_type": "code",
   "execution_count": 26,
   "id": "9a6c6994",
   "metadata": {},
   "outputs": [
    {
     "name": "stdout",
     "output_type": "stream",
     "text": [
      "welcome.py has just been executed..\n",
      "this file has been updated and need to be updated to view current changes\n"
     ]
    }
   ],
   "source": [
    "import welcome"
   ]
  },
  {
   "cell_type": "code",
   "execution_count": 27,
   "id": "d2884e1f",
   "metadata": {},
   "outputs": [],
   "source": [
    "import welcome"
   ]
  },
  {
   "cell_type": "code",
   "execution_count": 28,
   "id": "43a7c1c0",
   "metadata": {},
   "outputs": [
    {
     "name": "stderr",
     "output_type": "stream",
     "text": [
      "C:\\Users\\The Geek Dev\\AppData\\Local\\Temp\\ipykernel_10904\\713651319.py:1: DeprecationWarning: the imp module is deprecated in favour of importlib and slated for removal in Python 3.12; see the module's documentation for alternative uses\n",
      "  import imp\n"
     ]
    }
   ],
   "source": [
    "import imp"
   ]
  },
  {
   "cell_type": "code",
   "execution_count": 29,
   "id": "a0b71abd",
   "metadata": {},
   "outputs": [
    {
     "name": "stdout",
     "output_type": "stream",
     "text": [
      "welcome.py has just been executed..\n",
      "this file has been updated and need to be updated to view current changes\n"
     ]
    },
    {
     "data": {
      "text/plain": [
       "<module 'welcome' from 'C:\\\\Python_Programming\\\\welcome.py'>"
      ]
     },
     "execution_count": 29,
     "metadata": {},
     "output_type": "execute_result"
    }
   ],
   "source": [
    "imp.reload(welcome)"
   ]
  },
  {
   "cell_type": "code",
   "execution_count": 30,
   "id": "78f17bcb",
   "metadata": {},
   "outputs": [
    {
     "name": "stdout",
     "output_type": "stream",
     "text": [
      "welcome.py has just been executed..\n",
      "this file has been updated and need to be updated to view current changes\n"
     ]
    },
    {
     "data": {
      "text/plain": [
       "<module 'welcome' from 'C:\\\\Python_Programming\\\\welcome.py'>"
      ]
     },
     "execution_count": 30,
     "metadata": {},
     "output_type": "execute_result"
    }
   ],
   "source": [
    "imp.reload(welcome)"
   ]
  },
  {
   "cell_type": "code",
   "execution_count": 31,
   "id": "a1f44e05",
   "metadata": {},
   "outputs": [],
   "source": [
    "import welcome"
   ]
  },
  {
   "cell_type": "code",
   "execution_count": 32,
   "id": "cfd97c70",
   "metadata": {},
   "outputs": [
    {
     "name": "stdout",
     "output_type": "stream",
     "text": [
      "welcome.py has just been executed..\n",
      "this file has been updated and need to be updated to view current changes\n"
     ]
    },
    {
     "data": {
      "text/plain": [
       "<module 'welcome' from 'C:\\\\Python_Programming\\\\welcome.py'>"
      ]
     },
     "execution_count": 32,
     "metadata": {},
     "output_type": "execute_result"
    }
   ],
   "source": [
    "imp.reload(welcome)"
   ]
  },
  {
   "cell_type": "code",
   "execution_count": null,
   "id": "fb6ef8bd",
   "metadata": {},
   "outputs": [],
   "source": []
  },
  {
   "cell_type": "code",
   "execution_count": 33,
   "id": "1ea83ee8",
   "metadata": {},
   "outputs": [],
   "source": [
    "# Introduction to Packages..."
   ]
  },
  {
   "cell_type": "code",
   "execution_count": null,
   "id": "a1347517",
   "metadata": {},
   "outputs": [],
   "source": []
  },
  {
   "cell_type": "code",
   "execution_count": 34,
   "id": "8eca6da6",
   "metadata": {},
   "outputs": [
    {
     "name": "stdout",
     "output_type": "stream",
     "text": [
      "Plyer is attacking!\n"
     ]
    }
   ],
   "source": [
    "import sport.football.attack as att"
   ]
  },
  {
   "cell_type": "code",
   "execution_count": 35,
   "id": "419e980d",
   "metadata": {},
   "outputs": [
    {
     "name": "stdout",
     "output_type": "stream",
     "text": [
      "Player Shoots!\n"
     ]
    }
   ],
   "source": [
    "att.shoot()"
   ]
  },
  {
   "cell_type": "code",
   "execution_count": 36,
   "id": "f04230ab",
   "metadata": {},
   "outputs": [
    {
     "name": "stdout",
     "output_type": "stream",
     "text": [
      "Player Shoots!\n"
     ]
    }
   ],
   "source": [
    "att.shoot()"
   ]
  },
  {
   "cell_type": "code",
   "execution_count": 37,
   "id": "600743dd",
   "metadata": {},
   "outputs": [],
   "source": [
    "from sport.football.attack import shoot"
   ]
  },
  {
   "cell_type": "code",
   "execution_count": 38,
   "id": "a2754898",
   "metadata": {},
   "outputs": [
    {
     "name": "stdout",
     "output_type": "stream",
     "text": [
      "Player Shoots!\n"
     ]
    }
   ],
   "source": [
    "shoot()"
   ]
  },
  {
   "cell_type": "code",
   "execution_count": 39,
   "id": "73cc2041",
   "metadata": {},
   "outputs": [
    {
     "name": "stdout",
     "output_type": "stream",
     "text": [
      "Player is defending...\n"
     ]
    }
   ],
   "source": [
    "import sport.football.defend"
   ]
  },
  {
   "cell_type": "code",
   "execution_count": 40,
   "id": "8d4c05d4",
   "metadata": {},
   "outputs": [],
   "source": [
    "# The dir() function..."
   ]
  },
  {
   "cell_type": "code",
   "execution_count": 41,
   "id": "3fd223bc",
   "metadata": {},
   "outputs": [
    {
     "data": {
      "text/plain": [
       "['In',\n",
       " 'Out',\n",
       " '_',\n",
       " '_12',\n",
       " '_14',\n",
       " '_17',\n",
       " '_18',\n",
       " '_2',\n",
       " '_22',\n",
       " '_23',\n",
       " '_29',\n",
       " '_30',\n",
       " '_32',\n",
       " '_4',\n",
       " '_6',\n",
       " '_7',\n",
       " '_9',\n",
       " '__',\n",
       " '___',\n",
       " '__builtin__',\n",
       " '__builtins__',\n",
       " '__doc__',\n",
       " '__loader__',\n",
       " '__name__',\n",
       " '__package__',\n",
       " '__spec__',\n",
       " '_dh',\n",
       " '_i',\n",
       " '_i1',\n",
       " '_i10',\n",
       " '_i11',\n",
       " '_i12',\n",
       " '_i13',\n",
       " '_i14',\n",
       " '_i15',\n",
       " '_i16',\n",
       " '_i17',\n",
       " '_i18',\n",
       " '_i19',\n",
       " '_i2',\n",
       " '_i20',\n",
       " '_i21',\n",
       " '_i22',\n",
       " '_i23',\n",
       " '_i24',\n",
       " '_i25',\n",
       " '_i26',\n",
       " '_i27',\n",
       " '_i28',\n",
       " '_i29',\n",
       " '_i3',\n",
       " '_i30',\n",
       " '_i31',\n",
       " '_i32',\n",
       " '_i33',\n",
       " '_i34',\n",
       " '_i35',\n",
       " '_i36',\n",
       " '_i37',\n",
       " '_i38',\n",
       " '_i39',\n",
       " '_i4',\n",
       " '_i40',\n",
       " '_i41',\n",
       " '_i5',\n",
       " '_i6',\n",
       " '_i7',\n",
       " '_i8',\n",
       " '_i9',\n",
       " '_ih',\n",
       " '_ii',\n",
       " '_iii',\n",
       " '_oh',\n",
       " 'a',\n",
       " 'acos',\n",
       " 'acosh',\n",
       " 'add',\n",
       " 'adder',\n",
       " 'asin',\n",
       " 'asinh',\n",
       " 'atan',\n",
       " 'atan2',\n",
       " 'atanh',\n",
       " 'att',\n",
       " 'ceil',\n",
       " 'comb',\n",
       " 'copysign',\n",
       " 'cos',\n",
       " 'cosh',\n",
       " 'degrees',\n",
       " 'dist',\n",
       " 'e',\n",
       " 'erf',\n",
       " 'erfc',\n",
       " 'exit',\n",
       " 'exp',\n",
       " 'expm1',\n",
       " 'fabs',\n",
       " 'factorial',\n",
       " 'floor',\n",
       " 'fmod',\n",
       " 'frexp',\n",
       " 'fsum',\n",
       " 'gamma',\n",
       " 'gcd',\n",
       " 'get_ipython',\n",
       " 'hypot',\n",
       " 'imp',\n",
       " 'inf',\n",
       " 'isclose',\n",
       " 'isfinite',\n",
       " 'isinf',\n",
       " 'isnan',\n",
       " 'isqrt',\n",
       " 'lcm',\n",
       " 'ldexp',\n",
       " 'lgamma',\n",
       " 'log',\n",
       " 'log10',\n",
       " 'log1p',\n",
       " 'log2',\n",
       " 'm',\n",
       " 'math',\n",
       " 'modf',\n",
       " 'nan',\n",
       " 'nextafter',\n",
       " 'open',\n",
       " 'pandas',\n",
       " 'perm',\n",
       " 'pi',\n",
       " 'pow',\n",
       " 'prod',\n",
       " 'quit',\n",
       " 'radians',\n",
       " 'remainder',\n",
       " 'shoot',\n",
       " 'sin',\n",
       " 'sinh',\n",
       " 'sport',\n",
       " 'sqrt',\n",
       " 'sys',\n",
       " 'tan',\n",
       " 'tanh',\n",
       " 'tau',\n",
       " 'trunc',\n",
       " 'ulp',\n",
       " 'welcome']"
      ]
     },
     "execution_count": 41,
     "metadata": {},
     "output_type": "execute_result"
    }
   ],
   "source": [
    "dir()"
   ]
  },
  {
   "cell_type": "code",
   "execution_count": 42,
   "id": "71762dff",
   "metadata": {},
   "outputs": [
    {
     "name": "stdout",
     "output_type": "stream",
     "text": [
      "['In', 'Out', '_', '_12', '_14', '_17', '_18', '_2', '_22', '_23', '_29', '_30', '_32', '_4', '_41', '_6', '_7', '_9', '__', '___', '__builtin__', '__builtins__', '__doc__', '__loader__', '__name__', '__package__', '__spec__', '_dh', '_i', '_i1', '_i10', '_i11', '_i12', '_i13', '_i14', '_i15', '_i16', '_i17', '_i18', '_i19', '_i2', '_i20', '_i21', '_i22', '_i23', '_i24', '_i25', '_i26', '_i27', '_i28', '_i29', '_i3', '_i30', '_i31', '_i32', '_i33', '_i34', '_i35', '_i36', '_i37', '_i38', '_i39', '_i4', '_i40', '_i41', '_i42', '_i5', '_i6', '_i7', '_i8', '_i9', '_ih', '_ii', '_iii', '_oh', 'a', 'acos', 'acosh', 'add', 'adder', 'asin', 'asinh', 'atan', 'atan2', 'atanh', 'att', 'ceil', 'comb', 'copysign', 'cos', 'cosh', 'degrees', 'dist', 'e', 'erf', 'erfc', 'exit', 'exp', 'expm1', 'fabs', 'factorial', 'floor', 'fmod', 'frexp', 'fsum', 'gamma', 'gcd', 'get_ipython', 'hypot', 'imp', 'inf', 'isclose', 'isfinite', 'isinf', 'isnan', 'isqrt', 'lcm', 'ldexp', 'lgamma', 'log', 'log10', 'log1p', 'log2', 'm', 'math', 'modf', 'nan', 'nextafter', 'open', 'pandas', 'perm', 'pi', 'pow', 'prod', 'quit', 'radians', 'remainder', 'shoot', 'sin', 'sinh', 'sport', 'sqrt', 'sys', 'tan', 'tanh', 'tau', 'trunc', 'ulp', 'welcome']\n"
     ]
    }
   ],
   "source": [
    "print(dir())"
   ]
  },
  {
   "cell_type": "code",
   "execution_count": 43,
   "id": "1a5d813c",
   "metadata": {},
   "outputs": [],
   "source": [
    "welcome='hello'"
   ]
  },
  {
   "cell_type": "code",
   "execution_count": 44,
   "id": "5ac40f6e",
   "metadata": {},
   "outputs": [
    {
     "name": "stdout",
     "output_type": "stream",
     "text": [
      "hello\n"
     ]
    }
   ],
   "source": [
    "print(welcome)"
   ]
  },
  {
   "cell_type": "code",
   "execution_count": 45,
   "id": "5820b344",
   "metadata": {},
   "outputs": [
    {
     "name": "stdout",
     "output_type": "stream",
     "text": [
      "['__add__', '__class__', '__contains__', '__delattr__', '__dir__', '__doc__', '__eq__', '__format__', '__ge__', '__getattribute__', '__getitem__', '__getnewargs__', '__gt__', '__hash__', '__init__', '__init_subclass__', '__iter__', '__le__', '__len__', '__lt__', '__mod__', '__mul__', '__ne__', '__new__', '__reduce__', '__reduce_ex__', '__repr__', '__rmod__', '__rmul__', '__setattr__', '__sizeof__', '__str__', '__subclasshook__', 'capitalize', 'casefold', 'center', 'count', 'encode', 'endswith', 'expandtabs', 'find', 'format', 'format_map', 'index', 'isalnum', 'isalpha', 'isascii', 'isdecimal', 'isdigit', 'isidentifier', 'islower', 'isnumeric', 'isprintable', 'isspace', 'istitle', 'isupper', 'join', 'ljust', 'lower', 'lstrip', 'maketrans', 'partition', 'removeprefix', 'removesuffix', 'replace', 'rfind', 'rindex', 'rjust', 'rpartition', 'rsplit', 'rstrip', 'split', 'splitlines', 'startswith', 'strip', 'swapcase', 'title', 'translate', 'upper', 'zfill']\n"
     ]
    }
   ],
   "source": [
    "print(dir(welcome))"
   ]
  },
  {
   "cell_type": "code",
   "execution_count": 46,
   "id": "4a71e229",
   "metadata": {},
   "outputs": [
    {
     "name": "stdout",
     "output_type": "stream",
     "text": [
      "['BPF', 'LOG4', 'NV_MAGICCONST', 'RECIP_BPF', 'Random', 'SG_MAGICCONST', 'SystemRandom', 'TWOPI', '_ONE', '_Sequence', '_Set', '__all__', '__builtins__', '__cached__', '__doc__', '__file__', '__loader__', '__name__', '__package__', '__spec__', '_accumulate', '_acos', '_bisect', '_ceil', '_cos', '_e', '_exp', '_floor', '_index', '_inst', '_isfinite', '_log', '_os', '_pi', '_random', '_repeat', '_sha512', '_sin', '_sqrt', '_test', '_test_generator', '_urandom', '_warn', 'betavariate', 'choice', 'choices', 'expovariate', 'gammavariate', 'gauss', 'getrandbits', 'getstate', 'lognormvariate', 'normalvariate', 'paretovariate', 'randbytes', 'randint', 'random', 'randrange', 'sample', 'seed', 'setstate', 'shuffle', 'triangular', 'uniform', 'vonmisesvariate', 'weibullvariate']\n"
     ]
    }
   ],
   "source": [
    "import random\n",
    "print(dir(random))"
   ]
  },
  {
   "cell_type": "code",
   "execution_count": 47,
   "id": "d137a707",
   "metadata": {},
   "outputs": [],
   "source": [
    "class Supermarket:\n",
    "    def __init__(self,store):\n",
    "        self.store=store\n",
    "        \n",
    "    def customer_name(self):\n",
    "        name=input(\"what is your name?: \")\n",
    "        print(\"Welcome to \"+ self.store+ \" store \"+name)\n",
    "        \n",
    "    def __dir__(self):\n",
    "        return ['customer_name','store']"
   ]
  },
  {
   "cell_type": "code",
   "execution_count": 48,
   "id": "7254ab83",
   "metadata": {},
   "outputs": [
    {
     "name": "stdout",
     "output_type": "stream",
     "text": [
      "what is your name?: Njiu\n",
      "Welcome to Asda store Njiu\n",
      "['customer_name', 'store']\n"
     ]
    }
   ],
   "source": [
    "example=Supermarket('Asda')\n",
    "example.customer_name()\n",
    "print(dir(example))"
   ]
  },
  {
   "cell_type": "code",
   "execution_count": 49,
   "id": "9db2aefb",
   "metadata": {},
   "outputs": [
    {
     "name": "stdout",
     "output_type": "stream",
     "text": [
      "__main__\n"
     ]
    }
   ],
   "source": [
    "print(__name__)"
   ]
  },
  {
   "cell_type": "code",
   "execution_count": 50,
   "id": "94b8d5c8",
   "metadata": {},
   "outputs": [],
   "source": [
    "import math"
   ]
  },
  {
   "cell_type": "code",
   "execution_count": 51,
   "id": "2b8fbdf9",
   "metadata": {},
   "outputs": [
    {
     "name": "stdout",
     "output_type": "stream",
     "text": [
      "math\n"
     ]
    }
   ],
   "source": [
    "print(math.__name__)"
   ]
  },
  {
   "cell_type": "code",
   "execution_count": null,
   "id": "1ae79bb6",
   "metadata": {},
   "outputs": [],
   "source": []
  }
 ],
 "metadata": {
  "kernelspec": {
   "display_name": "Python 3 (ipykernel)",
   "language": "python",
   "name": "python3"
  },
  "language_info": {
   "codemirror_mode": {
    "name": "ipython",
    "version": 3
   },
   "file_extension": ".py",
   "mimetype": "text/x-python",
   "name": "python",
   "nbconvert_exporter": "python",
   "pygments_lexer": "ipython3",
   "version": "3.10.9"
  }
 },
 "nbformat": 4,
 "nbformat_minor": 5
}

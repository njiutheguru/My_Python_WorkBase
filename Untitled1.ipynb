{
 "cells": [
  {
   "cell_type": "markdown",
   "id": "1af39d03",
   "metadata": {},
   "source": [
    "Games ltd want to add to their collection of online games. They would like you to produce a version of the popular Rock, Paper, Scissors game!\n",
    "\n",
    " ### The application should:\n",
    "    - Obtain a computer generated selection.\n",
    "    - Allow a user to pick Rock, Paper, or Scissors\n",
    "    - Compare the selections and observe whether it is a draw or a win:\n",
    "        - Rock smashes scissors\n",
    "        - Paper covers rock\n",
    "        - Scissors cut the paper\n",
    "    - Keep track of the score\n",
    "    \n",
    "  ### The applicatin can be broken int the following tasks:\n",
    "        1. Create a function that obtains the users input.\n",
    "        2. Create a function that generates a randomly selected choice for\n",
    "            computer.\n",
    "        3. Determine the winner for each round and keep a track of the\n",
    "            score.\n",
    "        4. Create a function that checks to see if a user wants to\n",
    "            play the game again \n",
    "        5. Produce a working game using a while lloop!"
   ]
  },
  {
   "cell_type": "code",
   "execution_count": 1,
   "id": "337b5cb1",
   "metadata": {},
   "outputs": [],
   "source": [
    "from IPython.display import clear_output\n",
    "import random"
   ]
  },
  {
   "cell_type": "code",
   "execution_count": 2,
   "id": "af6fd2d5",
   "metadata": {},
   "outputs": [],
   "source": [
    "def get_user_selection():\n",
    "    choices = ('Rock','Paper','Scissors')\n",
    "    user_input=''\n",
    "    while user_input not in choices:\n",
    "        user_input=input(\"Enter a choice (rock,paper,scissor):\").capitalize()\n",
    "        continue\n",
    "        \n",
    "    return user_input"
   ]
  },
  {
   "cell_type": "code",
   "execution_count": 3,
   "id": "47dac891",
   "metadata": {},
   "outputs": [],
   "source": [
    "#get_user_selection()"
   ]
  },
  {
   "cell_type": "code",
   "execution_count": 4,
   "id": "d49e8c57",
   "metadata": {},
   "outputs": [],
   "source": [
    "#randomness\n",
    "def computer_generated_selection():\n",
    "    choices=['Rock','Paper','Scissors']\n",
    "    computer_selection=random.choice(choices)\n",
    "    return computer_selection"
   ]
  },
  {
   "cell_type": "code",
   "execution_count": 5,
   "id": "be5646da",
   "metadata": {},
   "outputs": [],
   "source": [
    "#computer_generated_selection() # works quite fine"
   ]
  },
  {
   "cell_type": "code",
   "execution_count": 6,
   "id": "c9521b82",
   "metadata": {},
   "outputs": [],
   "source": [
    "# Determine a winner for each round and keep track of the score"
   ]
  },
  {
   "cell_type": "code",
   "execution_count": 7,
   "id": "7a5f64de",
   "metadata": {},
   "outputs": [],
   "source": [
    "def determine_winner(player_choice,computer_choice):\n",
    "    global player_score\n",
    "    global computer_score\n",
    "    \n",
    "    if player_choice==computer_choice:\n",
    "        print(\"Both players selected {}. It's a draw!\".format(player_choice))\n",
    "    elif player_choice=='Rock':\n",
    "        if computer_choice=='Scissors':\n",
    "            print(\"Rock smashes  Scissors! YOU WIN!!\")\n",
    "            player_score+=1\n",
    "        else:\n",
    "            print(\" Paper covers rock! YOU LOSE!\")\n",
    "            computer_score+=1\n",
    "    elif player_choice=='Paper':\n",
    "        if computer_choice=='Rock':\n",
    "            print(\"Paper covers Rock! you WIN!\")\n",
    "            player_score+=1\n",
    "        else:\n",
    "            print(\"Scissors cuts paper! you LOOSE!\")\n",
    "            computer_score +=1\n",
    "    elif player_choice=='Scissors':\n",
    "        if computer_choice=='Paper':\n",
    "            print(\"Scissors cuts paper! you WIN\")\n",
    "            player_score += 1\n",
    "        else:\n",
    "            print(\"Rock smashes scissors! You LOOSE!\")\n",
    "            computer_score +=1"
   ]
  },
  {
   "cell_type": "code",
   "execution_count": 8,
   "id": "74ab6d22",
   "metadata": {},
   "outputs": [],
   "source": [
    "# Create a function that checks to see if the user wants to play again..."
   ]
  },
  {
   "cell_type": "code",
   "execution_count": 9,
   "id": "9e701308",
   "metadata": {},
   "outputs": [],
   "source": [
    "def play_again():\n",
    "    replay=input(\"Would you like to play again? (Y/N):\")\n",
    "    if replay.lower()=='y':\n",
    "        return True\n",
    "    else:\n",
    "        return False"
   ]
  },
  {
   "cell_type": "code",
   "execution_count": 10,
   "id": "0266217b",
   "metadata": {},
   "outputs": [],
   "source": [
    "# Produce a working game using a while loop"
   ]
  },
  {
   "cell_type": "code",
   "execution_count": 14,
   "id": "a0b29aa4",
   "metadata": {},
   "outputs": [
    {
     "name": "stdout",
     "output_type": "stream",
     "text": [
      "Hope to see you soon...\n"
     ]
    }
   ],
   "source": [
    "player_score=0\n",
    "computer_score=0\n",
    "while True:\n",
    "    print(\"Welcome to the Rock, Paper, Scissors Arena!!\")\n",
    "    print(\"The current score is: \")\n",
    "    print(\"PLAYER {} | {} COMPUTER\".format(player_score,computer_score))\n",
    "    player_choice=get_user_selection()\n",
    "    computer_choice=computer_generated_selection()\n",
    "    clear_output()\n",
    "    \n",
    "    print(\" You choose {}, computer choose {}.\".format(player_choice,computer_choice))\n",
    "    \n",
    "    determine_winner(player_choice,computer_choice)\n",
    "    print(\"The current score is: \")\n",
    "    print(\"PLAYER {} | {} COMPUTER\".format(player_score,computer_score))\n",
    "    \n",
    "    if not play_again():\n",
    "        clear_output()\n",
    "        print(\"Hope to see you soon...\")\n",
    "        break\n",
    "    clear_output()\n"
   ]
  },
  {
   "cell_type": "code",
   "execution_count": null,
   "id": "795d0c3a",
   "metadata": {},
   "outputs": [],
   "source": []
  }
 ],
 "metadata": {
  "kernelspec": {
   "display_name": "Python 3 (ipykernel)",
   "language": "python",
   "name": "python3"
  },
  "language_info": {
   "codemirror_mode": {
    "name": "ipython",
    "version": 3
   },
   "file_extension": ".py",
   "mimetype": "text/x-python",
   "name": "python",
   "nbconvert_exporter": "python",
   "pygments_lexer": "ipython3",
   "version": "3.10.9"
  }
 },
 "nbformat": 4,
 "nbformat_minor": 5
}

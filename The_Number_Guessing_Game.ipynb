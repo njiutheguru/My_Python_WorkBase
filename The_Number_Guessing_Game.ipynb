{
 "cells": [
  {
   "cell_type": "code",
   "execution_count": 1,
   "id": "8782c4fd",
   "metadata": {},
   "outputs": [],
   "source": [
    "# Introducing the Number guessing game"
   ]
  },
  {
   "cell_type": "markdown",
   "id": "7186b079",
   "metadata": {},
   "source": [
    "This game will...\n",
    "1. Get the computer to generate a random number\n",
    "2. Allow the user to submit a guess\n",
    "3. Produce game logic using conditinal statements:\n",
    "    - If a guess is too high, the player should get a messge\n",
    "    - If a guess is to low, the player should get a message\n",
    "    - If a guess is correct, the player should get a message\n",
    "4. A player should only get 5 guesses. Once the guess run out, the game is over.\n",
    "\n",
    "5. A player should get asked if they want ot play again. If yes, replay the game, if not, break out of the game\n"
   ]
  },
  {
   "cell_type": "code",
   "execution_count": 2,
   "id": "ece83cc9",
   "metadata": {},
   "outputs": [],
   "source": [
    "# Introducing The Imports"
   ]
  },
  {
   "cell_type": "code",
   "execution_count": 1,
   "id": "7d7b9aa1",
   "metadata": {},
   "outputs": [],
   "source": [
    "import random"
   ]
  },
  {
   "cell_type": "code",
   "execution_count": 2,
   "id": "065a4cde",
   "metadata": {},
   "outputs": [
    {
     "name": "stdout",
     "output_type": "stream",
     "text": [
      "85\n"
     ]
    }
   ],
   "source": [
    "num=random.randint(1,100)\n",
    "print(num)"
   ]
  },
  {
   "cell_type": "code",
   "execution_count": null,
   "id": "8671d0ad",
   "metadata": {},
   "outputs": [],
   "source": []
  },
  {
   "cell_type": "code",
   "execution_count": 4,
   "id": "23b7e7cd",
   "metadata": {},
   "outputs": [
    {
     "name": "stdout",
     "output_type": "stream",
     "text": [
      " Guess a Number between 1 and 100: 66\n"
     ]
    }
   ],
   "source": [
    "guess=input(\" Guess a Number between 1 and 100: \")\n",
    "guess=int(guess)"
   ]
  },
  {
   "cell_type": "code",
   "execution_count": 5,
   "id": "67f7b533",
   "metadata": {},
   "outputs": [
    {
     "data": {
      "text/plain": [
       "66"
      ]
     },
     "execution_count": 5,
     "metadata": {},
     "output_type": "execute_result"
    }
   ],
   "source": [
    "guess"
   ]
  },
  {
   "cell_type": "code",
   "execution_count": 6,
   "id": "42b778d6",
   "metadata": {},
   "outputs": [
    {
     "data": {
      "text/plain": [
       "85"
      ]
     },
     "execution_count": 6,
     "metadata": {},
     "output_type": "execute_result"
    }
   ],
   "source": [
    "num"
   ]
  },
  {
   "cell_type": "markdown",
   "id": "1e5147f1",
   "metadata": {},
   "source": [
    "Game Logic"
   ]
  },
  {
   "cell_type": "code",
   "execution_count": null,
   "id": "2cb86564",
   "metadata": {},
   "outputs": [],
   "source": []
  },
  {
   "cell_type": "code",
   "execution_count": 7,
   "id": "79683c26",
   "metadata": {},
   "outputs": [],
   "source": [
    "tries=5\n"
   ]
  },
  {
   "cell_type": "code",
   "execution_count": 8,
   "id": "786dca18",
   "metadata": {},
   "outputs": [],
   "source": [
    "def game_logic(guess,num,tries):\n",
    "    while guess !=num and tries!=0:\n",
    "        print(\"----------------------------------------------------\")\n",
    "\n",
    "        print(\"No. of tries remaining= {}\".format(tries))\n",
    "        guess=input(\" Guess a Number between 1 and 100: \")\n",
    "\n",
    "        guess=int(guess)\n",
    "\n",
    "        if guess==num:\n",
    "            print(\"Congratulations ! you guessed correcly!\")\n",
    "        elif guess>num:\n",
    "            print(\"You guessed too high! Try a lower Number...\")\n",
    "        else:\n",
    "            print(\"You guessed too low! Try a higher Number...\")\n",
    "        tries -=1\n"
   ]
  },
  {
   "cell_type": "code",
   "execution_count": 9,
   "id": "42d746c0",
   "metadata": {},
   "outputs": [],
   "source": [
    "def play_again():\n",
    "    again=''\n",
    "    while again.lower() not in ['y','n']:\n",
    "        again=input(\"do you want to play again? (Y/N): \")\n",
    "        if again.lower()=='y':\n",
    "            return True\n",
    "        elif again.lower()=='n':\n",
    "            return False\n",
    "        else:\n",
    "            print(\"Enter [Y/N]\")\n",
    "    "
   ]
  },
  {
   "cell_type": "code",
   "execution_count": 10,
   "id": "5da5d6f8",
   "metadata": {},
   "outputs": [
    {
     "name": "stdout",
     "output_type": "stream",
     "text": [
      "do you want to play again? (Y/N): n\n"
     ]
    },
    {
     "data": {
      "text/plain": [
       "False"
      ]
     },
     "execution_count": 10,
     "metadata": {},
     "output_type": "execute_result"
    }
   ],
   "source": [
    "play_again()"
   ]
  },
  {
   "cell_type": "markdown",
   "id": "4975ba32",
   "metadata": {},
   "source": [
    "Game Play"
   ]
  },
  {
   "cell_type": "code",
   "execution_count": 12,
   "id": "563c3865",
   "metadata": {},
   "outputs": [
    {
     "name": "stdout",
     "output_type": "stream",
     "text": [
      "Welcome to the Guessing Games..\n",
      "----------------------------------------\n",
      " You have only 5 guesses.......\n",
      "----------------------------------------------------\n",
      "No. of tries remaining= 5\n",
      " Guess a Number between 1 and 100: 56\n",
      "You guessed too high! Try a lower Number...\n",
      "----------------------------------------------------\n",
      "No. of tries remaining= 4\n",
      " Guess a Number between 1 and 100: 40\n",
      "You guessed too high! Try a lower Number...\n",
      "----------------------------------------------------\n",
      "No. of tries remaining= 3\n",
      " Guess a Number between 1 and 100: 30\n",
      "You guessed too low! Try a higher Number...\n",
      "----------------------------------------------------\n",
      "No. of tries remaining= 2\n",
      " Guess a Number between 1 and 100: 36\n",
      "Congratulations ! you guessed correcly!\n",
      "do you want to play again? (Y/N): y\n",
      "Welcome to the Guessing Games..\n",
      "----------------------------------------\n",
      " You have only 5 guesses.......\n",
      "----------------------------------------------------\n",
      "No. of tries remaining= 5\n",
      " Guess a Number between 1 and 100: 50\n",
      "You guessed too low! Try a higher Number...\n",
      "----------------------------------------------------\n",
      "No. of tries remaining= 4\n",
      " Guess a Number between 1 and 100: 70\n",
      "You guessed too low! Try a higher Number...\n",
      "----------------------------------------------------\n",
      "No. of tries remaining= 3\n",
      " Guess a Number between 1 and 100: 90\n",
      "You guessed too high! Try a lower Number...\n",
      "----------------------------------------------------\n",
      "No. of tries remaining= 2\n",
      " Guess a Number between 1 and 100: 80\n",
      "You guessed too high! Try a lower Number...\n",
      "----------------------------------------------------\n",
      "No. of tries remaining= 1\n",
      " Guess a Number between 1 and 100: 77\n",
      "You guessed too low! Try a higher Number...\n",
      "do you want to play again? (Y/N): 79\n",
      "Enter [Y/N]\n",
      "do you want to play again? (Y/N): y\n",
      "Welcome to the Guessing Games..\n",
      "----------------------------------------\n",
      " You have only 5 guesses.......\n",
      "----------------------------------------------------\n",
      "No. of tries remaining= 5\n",
      " Guess a Number between 1 and 100: 67\n",
      "You guessed too high! Try a lower Number...\n",
      "----------------------------------------------------\n",
      "No. of tries remaining= 4\n",
      " Guess a Number between 1 and 100: 40\n",
      "You guessed too high! Try a lower Number...\n",
      "----------------------------------------------------\n",
      "No. of tries remaining= 3\n",
      " Guess a Number between 1 and 100: 30\n",
      "You guessed too high! Try a lower Number...\n",
      "----------------------------------------------------\n",
      "No. of tries remaining= 2\n",
      " Guess a Number between 1 and 100: 20\n",
      "You guessed too high! Try a lower Number...\n",
      "----------------------------------------------------\n",
      "No. of tries remaining= 1\n",
      " Guess a Number between 1 and 100: 14\n",
      "You guessed too high! Try a lower Number...\n",
      "do you want to play again? (Y/N): y\n",
      "Welcome to the Guessing Games..\n",
      "----------------------------------------\n",
      " You have only 5 guesses.......\n",
      "----------------------------------------------------\n",
      "No. of tries remaining= 5\n",
      " Guess a Number between 1 and 100: 20\n",
      "You guessed too low! Try a higher Number...\n",
      "----------------------------------------------------\n",
      "No. of tries remaining= 4\n",
      " Guess a Number between 1 and 100: 80\n",
      "You guessed too high! Try a lower Number...\n",
      "----------------------------------------------------\n",
      "No. of tries remaining= 3\n",
      " Guess a Number between 1 and 100: 60\n",
      "You guessed too high! Try a lower Number...\n",
      "----------------------------------------------------\n",
      "No. of tries remaining= 2\n",
      " Guess a Number between 1 and 100: 40\n",
      "You guessed too low! Try a higher Number...\n",
      "----------------------------------------------------\n",
      "No. of tries remaining= 1\n",
      " Guess a Number between 1 and 100: 54\n",
      "You guessed too high! Try a lower Number...\n",
      "do you want to play again? (Y/N): 49\n",
      "Enter [Y/N]\n",
      "do you want to play again? (Y/N): n\n",
      "See you Next Time..\n"
     ]
    }
   ],
   "source": [
    "while True:\n",
    "    num=random.randint(1,100)\n",
    "    tries=5\n",
    "    guess=None\n",
    "    print(\"Welcome to the Guessing Games..\")\n",
    "    print(\"----------------------------------------\")\n",
    "    print(\" You have only 5 guesses.......\")\n",
    "    game_logic(guess,num,tries)\n",
    "    if not play_again():\n",
    "        print(\"See you Next Time..\")\n",
    "        break"
   ]
  },
  {
   "cell_type": "code",
   "execution_count": null,
   "id": "63086e10",
   "metadata": {},
   "outputs": [],
   "source": []
  }
 ],
 "metadata": {
  "kernelspec": {
   "display_name": "Python 3 (ipykernel)",
   "language": "python",
   "name": "python3"
  },
  "language_info": {
   "codemirror_mode": {
    "name": "ipython",
    "version": 3
   },
   "file_extension": ".py",
   "mimetype": "text/x-python",
   "name": "python",
   "nbconvert_exporter": "python",
   "pygments_lexer": "ipython3",
   "version": "3.10.9"
  }
 },
 "nbformat": 4,
 "nbformat_minor": 5
}

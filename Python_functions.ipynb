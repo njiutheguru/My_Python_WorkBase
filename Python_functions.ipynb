{
 "cells": [
  {
   "cell_type": "code",
   "execution_count": 2,
   "id": "e27b3fed",
   "metadata": {},
   "outputs": [],
   "source": [
    "#Introducing the GodFather Functions in Python..."
   ]
  },
  {
   "cell_type": "code",
   "execution_count": 26,
   "id": "fc37146c",
   "metadata": {},
   "outputs": [],
   "source": [
    "def rating(sales):\n",
    "    if sales!=int:\n",
    "     \n",
    "        print(\"Only Integer Allowed\")\n",
    "        \n",
    "    else:\n",
    "        if sales>=10000:\n",
    "            print(\"Gold Status\")\n",
    "        elif sales>=5000:\n",
    "            print(\"Silver Status\")\n",
    "        elif sales >=1000:\n",
    "            print(\"Bronze Status\")\n",
    "        else:\n",
    "            print(\"Keep Selling!\")"
   ]
  },
  {
   "cell_type": "code",
   "execution_count": 15,
   "id": "080d2d77",
   "metadata": {},
   "outputs": [
    {
     "name": "stdout",
     "output_type": "stream",
     "text": [
      "Gold Status\n"
     ]
    }
   ],
   "source": [
    "rating(10000)"
   ]
  },
  {
   "cell_type": "code",
   "execution_count": 16,
   "id": "926c0bf8",
   "metadata": {},
   "outputs": [
    {
     "name": "stdout",
     "output_type": "stream",
     "text": [
      "Keep Selling!\n"
     ]
    }
   ],
   "source": [
    "rating(550)"
   ]
  },
  {
   "cell_type": "code",
   "execution_count": 21,
   "id": "acf059aa",
   "metadata": {},
   "outputs": [
    {
     "name": "stdout",
     "output_type": "stream",
     "text": [
      "Gold Status\n"
     ]
    }
   ],
   "source": [
    "rating(88788)"
   ]
  },
  {
   "cell_type": "code",
   "execution_count": 27,
   "id": "253bdaaa",
   "metadata": {},
   "outputs": [
    {
     "name": "stdout",
     "output_type": "stream",
     "text": [
      "Only Integer\n"
     ]
    }
   ],
   "source": [
    "rating('inng')"
   ]
  },
  {
   "cell_type": "raw",
   "id": "08848675",
   "metadata": {},
   "source": [
    "rating(gdf)"
   ]
  },
  {
   "cell_type": "code",
   "execution_count": 29,
   "id": "5e723d1b",
   "metadata": {},
   "outputs": [
    {
     "name": "stdout",
     "output_type": "stream",
     "text": [
      "Only Integer\n"
     ]
    }
   ],
   "source": [
    "gdf=\"\"\n",
    "rating(gdf)"
   ]
  },
  {
   "cell_type": "code",
   "execution_count": 30,
   "id": "0b2188de",
   "metadata": {},
   "outputs": [],
   "source": [
    "def welcome():\n",
    "    print(\"Hello and welcome, How are you?\")"
   ]
  },
  {
   "cell_type": "code",
   "execution_count": 31,
   "id": "40193df3",
   "metadata": {},
   "outputs": [
    {
     "data": {
      "text/plain": [
       "<function __main__.welcome()>"
      ]
     },
     "execution_count": 31,
     "metadata": {},
     "output_type": "execute_result"
    }
   ],
   "source": [
    "welcome #parenthesisi must be put \n"
   ]
  },
  {
   "cell_type": "code",
   "execution_count": 32,
   "id": "ebe8bb6c",
   "metadata": {},
   "outputs": [
    {
     "name": "stdout",
     "output_type": "stream",
     "text": [
      "Hello and welcome, How are you?\n"
     ]
    }
   ],
   "source": [
    "welcome()"
   ]
  },
  {
   "cell_type": "code",
   "execution_count": 39,
   "id": "e4aacf4e",
   "metadata": {},
   "outputs": [],
   "source": [
    " #docstring for documentation ...Documentation must come before function implementation\n",
    "def welcomee():\n",
    "    \n",
    "    '''This function will welcome the user and ask them how they are doing'''\n",
    "    print(\"hello and welcome , how are you doing\")"
   ]
  },
  {
   "cell_type": "code",
   "execution_count": 40,
   "id": "4642215a",
   "metadata": {},
   "outputs": [
    {
     "name": "stdout",
     "output_type": "stream",
     "text": [
      "hello and welcome , how are you doing\n"
     ]
    }
   ],
   "source": [
    "welcomee()\n"
   ]
  },
  {
   "cell_type": "code",
   "execution_count": 41,
   "id": "3bafb6d1",
   "metadata": {},
   "outputs": [
    {
     "name": "stdout",
     "output_type": "stream",
     "text": [
      "Built-in mutable sequence.\n",
      "\n",
      "If no argument is given, the constructor creates a new empty list.\n",
      "The argument must be an iterable if specified.\n"
     ]
    }
   ],
   "source": [
    "#showing documentation\n",
    "print([].__doc__)"
   ]
  },
  {
   "cell_type": "code",
   "execution_count": 42,
   "id": "17cb5d76",
   "metadata": {},
   "outputs": [
    {
     "name": "stdout",
     "output_type": "stream",
     "text": [
      "This function will welcome the user and ask them how they are doing\n"
     ]
    }
   ],
   "source": [
    "print(welcomee.__doc__)"
   ]
  },
  {
   "cell_type": "code",
   "execution_count": 43,
   "id": "99ad9058",
   "metadata": {},
   "outputs": [
    {
     "name": "stdout",
     "output_type": "stream",
     "text": [
      "Hello and welcome, How are you?\n"
     ]
    }
   ],
   "source": [
    "welcome()\n"
   ]
  },
  {
   "cell_type": "code",
   "execution_count": 44,
   "id": "8f925a31",
   "metadata": {},
   "outputs": [
    {
     "data": {
      "text/plain": [
       "function"
      ]
     },
     "execution_count": 44,
     "metadata": {},
     "output_type": "execute_result"
    }
   ],
   "source": [
    "type(welcome)"
   ]
  },
  {
   "cell_type": "code",
   "execution_count": 45,
   "id": "8b041bbe",
   "metadata": {},
   "outputs": [
    {
     "name": "stdout",
     "output_type": "stream",
     "text": [
      "Hello and welcome, How are you?\n"
     ]
    },
    {
     "data": {
      "text/plain": [
       "NoneType"
      ]
     },
     "execution_count": 45,
     "metadata": {},
     "output_type": "execute_result"
    }
   ],
   "source": [
    "type(welcome())"
   ]
  },
  {
   "cell_type": "code",
   "execution_count": 46,
   "id": "7676cf75",
   "metadata": {},
   "outputs": [],
   "source": [
    "def welcome():\n",
    "    message=\"Hello and welcome. How are you?\"\n",
    "    return message"
   ]
  },
  {
   "cell_type": "code",
   "execution_count": 47,
   "id": "9a5e551f",
   "metadata": {},
   "outputs": [
    {
     "data": {
      "text/plain": [
       "<function __main__.welcome()>"
      ]
     },
     "execution_count": 47,
     "metadata": {},
     "output_type": "execute_result"
    }
   ],
   "source": [
    "welcome"
   ]
  },
  {
   "cell_type": "code",
   "execution_count": 48,
   "id": "0cdbca22",
   "metadata": {},
   "outputs": [
    {
     "data": {
      "text/plain": [
       "'Hello and welcome. How are you?'"
      ]
     },
     "execution_count": 48,
     "metadata": {},
     "output_type": "execute_result"
    }
   ],
   "source": [
    "welcome()\n"
   ]
  },
  {
   "cell_type": "code",
   "execution_count": 49,
   "id": "ccf0e718",
   "metadata": {},
   "outputs": [
    {
     "data": {
      "text/plain": [
       "function"
      ]
     },
     "execution_count": 49,
     "metadata": {},
     "output_type": "execute_result"
    }
   ],
   "source": [
    "type(welcome)"
   ]
  },
  {
   "cell_type": "code",
   "execution_count": 50,
   "id": "42a590ce",
   "metadata": {},
   "outputs": [
    {
     "data": {
      "text/plain": [
       "str"
      ]
     },
     "execution_count": 50,
     "metadata": {},
     "output_type": "execute_result"
    }
   ],
   "source": [
    "type(welcome())"
   ]
  },
  {
   "cell_type": "code",
   "execution_count": 52,
   "id": "768bc1c2",
   "metadata": {},
   "outputs": [
    {
     "data": {
      "text/plain": [
       "'Hello and welcome. How are you? yes'"
      ]
     },
     "execution_count": 52,
     "metadata": {},
     "output_type": "execute_result"
    }
   ],
   "source": [
    "welcome()+(\" yes\")"
   ]
  },
  {
   "cell_type": "code",
   "execution_count": 57,
   "id": "e1fdc033",
   "metadata": {},
   "outputs": [
    {
     "data": {
      "text/plain": [
       "'Hello and welcome. How are you?'"
      ]
     },
     "execution_count": 57,
     "metadata": {},
     "output_type": "execute_result"
    }
   ],
   "source": [
    "welcome()"
   ]
  },
  {
   "cell_type": "code",
   "execution_count": 58,
   "id": "44a3b121",
   "metadata": {},
   "outputs": [
    {
     "data": {
      "text/plain": [
       "'HELLO AND WELCOME. HOW ARE YOU?'"
      ]
     },
     "execution_count": 58,
     "metadata": {},
     "output_type": "execute_result"
    }
   ],
   "source": [
    "welcome().upper()"
   ]
  },
  {
   "cell_type": "code",
   "execution_count": 61,
   "id": "60c70f39",
   "metadata": {},
   "outputs": [],
   "source": [
    "def the_doubler(num):\n",
    "    result=num*2\n",
    "    return result"
   ]
  },
  {
   "cell_type": "code",
   "execution_count": 62,
   "id": "d143e8e3",
   "metadata": {},
   "outputs": [
    {
     "data": {
      "text/plain": [
       "30"
      ]
     },
     "execution_count": 62,
     "metadata": {},
     "output_type": "execute_result"
    }
   ],
   "source": [
    "the_doubler(15)"
   ]
  },
  {
   "cell_type": "code",
   "execution_count": 63,
   "id": "b7616a02",
   "metadata": {},
   "outputs": [
    {
     "data": {
      "text/plain": [
       "function"
      ]
     },
     "execution_count": 63,
     "metadata": {},
     "output_type": "execute_result"
    }
   ],
   "source": [
    "type(the_doubler)"
   ]
  },
  {
   "cell_type": "code",
   "execution_count": 65,
   "id": "75985c5c",
   "metadata": {},
   "outputs": [
    {
     "data": {
      "text/plain": [
       "int"
      ]
     },
     "execution_count": 65,
     "metadata": {},
     "output_type": "execute_result"
    }
   ],
   "source": [
    "type(the_doubler(15))"
   ]
  },
  {
   "cell_type": "code",
   "execution_count": 67,
   "id": "c5fc34f9",
   "metadata": {},
   "outputs": [],
   "source": [
    "def play(answer):\n",
    "    if answer=='yes':\n",
    "        return True\n",
    "    else:\n",
    "        return False"
   ]
  },
  {
   "cell_type": "code",
   "execution_count": 68,
   "id": "70ec014a",
   "metadata": {},
   "outputs": [
    {
     "data": {
      "text/plain": [
       "True"
      ]
     },
     "execution_count": 68,
     "metadata": {},
     "output_type": "execute_result"
    }
   ],
   "source": [
    "play('yes')"
   ]
  },
  {
   "cell_type": "code",
   "execution_count": 69,
   "id": "b097c803",
   "metadata": {},
   "outputs": [
    {
     "data": {
      "text/plain": [
       "False"
      ]
     },
     "execution_count": 69,
     "metadata": {},
     "output_type": "execute_result"
    }
   ],
   "source": [
    "play('i dont want')"
   ]
  },
  {
   "cell_type": "code",
   "execution_count": 70,
   "id": "67b5d6f5",
   "metadata": {},
   "outputs": [
    {
     "data": {
      "text/plain": [
       "bool"
      ]
     },
     "execution_count": 70,
     "metadata": {},
     "output_type": "execute_result"
    }
   ],
   "source": [
    "type(play('g'))"
   ]
  },
  {
   "cell_type": "code",
   "execution_count": 71,
   "id": "6a49dfb2",
   "metadata": {},
   "outputs": [
    {
     "name": "stdout",
     "output_type": "stream",
     "text": [
      "play again\n"
     ]
    }
   ],
   "source": [
    "if play('no')==True:\n",
    "    print(\"Great choice\")\n",
    "else:\n",
    "    print(\"play again\")"
   ]
  },
  {
   "cell_type": "code",
   "execution_count": 72,
   "id": "d3054287",
   "metadata": {},
   "outputs": [],
   "source": [
    "\n",
    "#parameters and arguments"
   ]
  },
  {
   "cell_type": "code",
   "execution_count": 76,
   "id": "f3557e69",
   "metadata": {},
   "outputs": [],
   "source": [
    "def name(first_name,last_name):\n",
    "    '''This function uses positional arguments to insert the two names in the printed sentence'''\n",
    "    message='hello {} {}. HOW ARE YOU DOING'.format(first_name,last_name)\n",
    "    return message"
   ]
  },
  {
   "cell_type": "code",
   "execution_count": 77,
   "id": "786fcd08",
   "metadata": {},
   "outputs": [
    {
     "data": {
      "text/plain": [
       "'hello stephen njiu. HOW ARE YOU DOING'"
      ]
     },
     "execution_count": 77,
     "metadata": {},
     "output_type": "execute_result"
    }
   ],
   "source": [
    "name('stephen', 'njiu')"
   ]
  },
  {
   "cell_type": "code",
   "execution_count": 78,
   "id": "d0b7e410",
   "metadata": {},
   "outputs": [
    {
     "name": "stdout",
     "output_type": "stream",
     "text": [
      "This function uses positional arguments to insert the two names in the printed sentence\n"
     ]
    }
   ],
   "source": [
    "print(name.__doc__)"
   ]
  },
  {
   "cell_type": "code",
   "execution_count": 79,
   "id": "832c7494",
   "metadata": {},
   "outputs": [],
   "source": [
    "#introducing Keyword Arguments and Default values\n"
   ]
  },
  {
   "cell_type": "code",
   "execution_count": null,
   "id": "f7492662",
   "metadata": {},
   "outputs": [],
   "source": []
  }
 ],
 "metadata": {
  "kernelspec": {
   "display_name": "Python 3 (ipykernel)",
   "language": "python",
   "name": "python3"
  },
  "language_info": {
   "codemirror_mode": {
    "name": "ipython",
    "version": 3
   },
   "file_extension": ".py",
   "mimetype": "text/x-python",
   "name": "python",
   "nbconvert_exporter": "python",
   "pygments_lexer": "ipython3",
   "version": "3.10.9"
  }
 },
 "nbformat": 4,
 "nbformat_minor": 5
}

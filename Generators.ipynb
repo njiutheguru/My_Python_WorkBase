{
 "cells": [
  {
   "cell_type": "code",
   "execution_count": 1,
   "id": "e2920e7e",
   "metadata": {},
   "outputs": [],
   "source": [
    "my_list=list(range(0,6))"
   ]
  },
  {
   "cell_type": "code",
   "execution_count": 2,
   "id": "5089bc32",
   "metadata": {},
   "outputs": [
    {
     "data": {
      "text/plain": [
       "[0, 1, 2, 3, 4, 5]"
      ]
     },
     "execution_count": 2,
     "metadata": {},
     "output_type": "execute_result"
    }
   ],
   "source": [
    "my_list"
   ]
  },
  {
   "cell_type": "code",
   "execution_count": 3,
   "id": "7dac06e7",
   "metadata": {},
   "outputs": [
    {
     "name": "stdout",
     "output_type": "stream",
     "text": [
      "0\n",
      "1\n",
      "2\n",
      "3\n",
      "4\n",
      "5\n"
     ]
    }
   ],
   "source": [
    "for i in my_list:\n",
    "    print(i)"
   ]
  },
  {
   "cell_type": "markdown",
   "id": "da062f04",
   "metadata": {},
   "source": [
    "## Iterators"
   ]
  },
  {
   "cell_type": "code",
   "execution_count": 4,
   "id": "85c9ea36",
   "metadata": {},
   "outputs": [
    {
     "data": {
      "text/plain": [
       "['__add__',\n",
       " '__class__',\n",
       " '__class_getitem__',\n",
       " '__contains__',\n",
       " '__delattr__',\n",
       " '__delitem__',\n",
       " '__dir__',\n",
       " '__doc__',\n",
       " '__eq__',\n",
       " '__format__',\n",
       " '__ge__',\n",
       " '__getattribute__',\n",
       " '__getitem__',\n",
       " '__gt__',\n",
       " '__hash__',\n",
       " '__iadd__',\n",
       " '__imul__',\n",
       " '__init__',\n",
       " '__init_subclass__',\n",
       " '__iter__',\n",
       " '__le__',\n",
       " '__len__',\n",
       " '__lt__',\n",
       " '__mul__',\n",
       " '__ne__',\n",
       " '__new__',\n",
       " '__reduce__',\n",
       " '__reduce_ex__',\n",
       " '__repr__',\n",
       " '__reversed__',\n",
       " '__rmul__',\n",
       " '__setattr__',\n",
       " '__setitem__',\n",
       " '__sizeof__',\n",
       " '__str__',\n",
       " '__subclasshook__',\n",
       " 'append',\n",
       " 'clear',\n",
       " 'copy',\n",
       " 'count',\n",
       " 'extend',\n",
       " 'index',\n",
       " 'insert',\n",
       " 'pop',\n",
       " 'remove',\n",
       " 'reverse',\n",
       " 'sort']"
      ]
     },
     "execution_count": 4,
     "metadata": {},
     "output_type": "execute_result"
    }
   ],
   "source": [
    "dir(my_list)"
   ]
  },
  {
   "cell_type": "code",
   "execution_count": 6,
   "id": "59e065ba",
   "metadata": {},
   "outputs": [],
   "source": [
    "value=my_list.__iter__()"
   ]
  },
  {
   "cell_type": "code",
   "execution_count": 7,
   "id": "67a17539",
   "metadata": {},
   "outputs": [
    {
     "name": "stdout",
     "output_type": "stream",
     "text": [
      "0\n"
     ]
    }
   ],
   "source": [
    "element1=value.__next__()\n",
    "print(element1)"
   ]
  },
  {
   "cell_type": "code",
   "execution_count": 8,
   "id": "5b64b87d",
   "metadata": {},
   "outputs": [
    {
     "name": "stdout",
     "output_type": "stream",
     "text": [
      "1\n",
      "2\n"
     ]
    }
   ],
   "source": [
    "element2 =value.__next__()\n",
    "print(element2)\n",
    "element3=value.__next__()\n",
    "print(element3)"
   ]
  },
  {
   "cell_type": "code",
   "execution_count": 9,
   "id": "e2da3400",
   "metadata": {},
   "outputs": [
    {
     "name": "stdout",
     "output_type": "stream",
     "text": [
      "3\n"
     ]
    }
   ],
   "source": [
    "element=next(value)\n",
    "print(element)"
   ]
  },
  {
   "cell_type": "code",
   "execution_count": 10,
   "id": "1b1aae3b",
   "metadata": {},
   "outputs": [
    {
     "name": "stdout",
     "output_type": "stream",
     "text": [
      "4\n"
     ]
    }
   ],
   "source": [
    "element=next(value)\n",
    "print(element)"
   ]
  },
  {
   "cell_type": "code",
   "execution_count": 11,
   "id": "4f333784",
   "metadata": {},
   "outputs": [
    {
     "name": "stdout",
     "output_type": "stream",
     "text": [
      "5\n"
     ]
    }
   ],
   "source": [
    "element=next(value)\n",
    "print(element)"
   ]
  },
  {
   "cell_type": "code",
   "execution_count": 13,
   "id": "c9c8acd4",
   "metadata": {},
   "outputs": [
    {
     "ename": "StopIteration",
     "evalue": "",
     "output_type": "error",
     "traceback": [
      "\u001b[1;31m---------------------------------------------------------------------------\u001b[0m",
      "\u001b[1;31mStopIteration\u001b[0m                             Traceback (most recent call last)",
      "Cell \u001b[1;32mIn[13], line 1\u001b[0m\n\u001b[1;32m----> 1\u001b[0m element\u001b[38;5;241m=\u001b[39m\u001b[38;5;28;43mnext\u001b[39;49m\u001b[43m(\u001b[49m\u001b[43mvalue\u001b[49m\u001b[43m)\u001b[49m\n\u001b[0;32m      2\u001b[0m \u001b[38;5;28mprint\u001b[39m(element)\n",
      "\u001b[1;31mStopIteration\u001b[0m: "
     ]
    }
   ],
   "source": [
    "element=next(value)\n",
    "print(element)  # breaks into a StopIteration error"
   ]
  },
  {
   "cell_type": "code",
   "execution_count": null,
   "id": "6db46805",
   "metadata": {},
   "outputs": [],
   "source": []
  },
  {
   "cell_type": "code",
   "execution_count": 17,
   "id": "69e2373f",
   "metadata": {},
   "outputs": [
    {
     "name": "stdout",
     "output_type": "stream",
     "text": [
      "2\n",
      "4\n",
      "6\n",
      "8\n"
     ]
    }
   ],
   "source": [
    "new_list=list(range(2,9,2))\n",
    "iter_new_list=iter(new_list)\n",
    "\n",
    "while True:\n",
    "    try:\n",
    "        element=next(iter_new_list)\n",
    "        print(element)\n",
    "    except StopIteration:\n",
    "        break"
   ]
  },
  {
   "cell_type": "code",
   "execution_count": 18,
   "id": "bedca9d5",
   "metadata": {},
   "outputs": [
    {
     "name": "stdout",
     "output_type": "stream",
     "text": [
      "2\n",
      "4\n",
      "6\n",
      "8\n"
     ]
    }
   ],
   "source": [
    "for i in new_list:\n",
    "    print(i)"
   ]
  },
  {
   "cell_type": "code",
   "execution_count": 19,
   "id": "ff737590",
   "metadata": {},
   "outputs": [],
   "source": [
    "# How to build our our own iterators.."
   ]
  },
  {
   "cell_type": "code",
   "execution_count": 25,
   "id": "870f0c03",
   "metadata": {},
   "outputs": [],
   "source": [
    "class TimesTen:\n",
    "    def __init__(self, max=0):\n",
    "        self.n=1\n",
    "        self.max=max\n",
    "        \n",
    "    def __iter__(self):\n",
    "        return self\n",
    "    \n",
    "    def __next__(self):\n",
    "        if self.n <=self.max:\n",
    "            result=self.n*10\n",
    "            self.n+=1\n",
    "            return result\n",
    "        else:\n",
    "            raise StopIteration"
   ]
  },
  {
   "cell_type": "code",
   "execution_count": 26,
   "id": "b61e9d28",
   "metadata": {},
   "outputs": [],
   "source": [
    "numbers=TimesTen(3)"
   ]
  },
  {
   "cell_type": "code",
   "execution_count": 27,
   "id": "c284af9d",
   "metadata": {},
   "outputs": [],
   "source": [
    "i=iter(numbers)"
   ]
  },
  {
   "cell_type": "code",
   "execution_count": 28,
   "id": "4d7c5a37",
   "metadata": {
    "scrolled": true
   },
   "outputs": [
    {
     "name": "stdout",
     "output_type": "stream",
     "text": [
      "10\n",
      "20\n",
      "30\n"
     ]
    }
   ],
   "source": [
    "print(next(i))\n",
    "print(next(i))\n",
    "print(next(i))"
   ]
  },
  {
   "cell_type": "code",
   "execution_count": 30,
   "id": "a6e37d60",
   "metadata": {},
   "outputs": [],
   "source": [
    "# print(next(i)) # runs into a StopIteration error"
   ]
  },
  {
   "cell_type": "code",
   "execution_count": 31,
   "id": "2aaa706e",
   "metadata": {},
   "outputs": [],
   "source": [
    "# Use of generators to create iterators.."
   ]
  },
  {
   "cell_type": "code",
   "execution_count": 32,
   "id": "f3763cff",
   "metadata": {},
   "outputs": [],
   "source": [
    "def my_generator():\n",
    "    n=1\n",
    "    print(\"This is the first print statement in this function...\")\n",
    "    yield n\n",
    "    \n",
    "    n=2\n",
    "    print(\"This is the second print statement in this function...\")\n",
    "    yield n\n",
    "    \n",
    "    n=3\n",
    "    print(\"This is the third print statement in this function...\")\n",
    "    yield n"
   ]
  },
  {
   "cell_type": "code",
   "execution_count": 33,
   "id": "59f4e25f",
   "metadata": {},
   "outputs": [],
   "source": [
    "gen1=my_generator()"
   ]
  },
  {
   "cell_type": "code",
   "execution_count": 34,
   "id": "bbf51fcd",
   "metadata": {},
   "outputs": [
    {
     "data": {
      "text/plain": [
       "generator"
      ]
     },
     "execution_count": 34,
     "metadata": {},
     "output_type": "execute_result"
    }
   ],
   "source": [
    "type(gen1)"
   ]
  },
  {
   "cell_type": "code",
   "execution_count": 35,
   "id": "1184dc28",
   "metadata": {},
   "outputs": [
    {
     "name": "stdout",
     "output_type": "stream",
     "text": [
      "This is the first print statement in this function...\n"
     ]
    },
    {
     "data": {
      "text/plain": [
       "1"
      ]
     },
     "execution_count": 35,
     "metadata": {},
     "output_type": "execute_result"
    }
   ],
   "source": [
    "next(gen1)"
   ]
  },
  {
   "cell_type": "code",
   "execution_count": 36,
   "id": "503028fd",
   "metadata": {},
   "outputs": [
    {
     "name": "stdout",
     "output_type": "stream",
     "text": [
      "This is the second print statement in this function...\n"
     ]
    },
    {
     "data": {
      "text/plain": [
       "2"
      ]
     },
     "execution_count": 36,
     "metadata": {},
     "output_type": "execute_result"
    }
   ],
   "source": [
    "next(gen1)"
   ]
  },
  {
   "cell_type": "code",
   "execution_count": 37,
   "id": "ff94af4e",
   "metadata": {},
   "outputs": [
    {
     "name": "stdout",
     "output_type": "stream",
     "text": [
      "This is the third print statement in this function...\n"
     ]
    },
    {
     "data": {
      "text/plain": [
       "3"
      ]
     },
     "execution_count": 37,
     "metadata": {},
     "output_type": "execute_result"
    }
   ],
   "source": [
    "next(gen1)"
   ]
  },
  {
   "cell_type": "code",
   "execution_count": 39,
   "id": "32282735",
   "metadata": {},
   "outputs": [],
   "source": [
    "# next(gen1) # StopIteration Error"
   ]
  },
  {
   "cell_type": "code",
   "execution_count": 40,
   "id": "23d427f6",
   "metadata": {},
   "outputs": [
    {
     "name": "stdout",
     "output_type": "stream",
     "text": [
      "This is the first print statement in this function...\n",
      "1\n",
      "This is the second print statement in this function...\n",
      "2\n",
      "This is the third print statement in this function...\n",
      "3\n"
     ]
    }
   ],
   "source": [
    "for i in my_generator():\n",
    "    print(i)"
   ]
  },
  {
   "cell_type": "code",
   "execution_count": 41,
   "id": "123961ff",
   "metadata": {},
   "outputs": [],
   "source": [
    "def reverse_string(my_string):\n",
    "    length=len(my_string)\n",
    "    for i in range(length-1,-1,-1):\n",
    "        yield my_string[i]"
   ]
  },
  {
   "cell_type": "code",
   "execution_count": 43,
   "id": "7ecdcb32",
   "metadata": {},
   "outputs": [
    {
     "name": "stdout",
     "output_type": "stream",
     "text": [
      "o\n",
      "l\n",
      "l\n",
      "e\n",
      "h\n"
     ]
    }
   ],
   "source": [
    "for i in reverse_string(\"hello\"):\n",
    "    print(i)"
   ]
  },
  {
   "cell_type": "code",
   "execution_count": 45,
   "id": "779f948e",
   "metadata": {},
   "outputs": [],
   "source": [
    "name=reverse_string('pyhton')"
   ]
  },
  {
   "cell_type": "code",
   "execution_count": 46,
   "id": "8cc9ec9a",
   "metadata": {},
   "outputs": [
    {
     "name": "stdout",
     "output_type": "stream",
     "text": [
      "<generator object reverse_string at 0x00000281BFBC1690>\n"
     ]
    }
   ],
   "source": [
    "print(name)"
   ]
  },
  {
   "cell_type": "code",
   "execution_count": 47,
   "id": "057a28b9",
   "metadata": {},
   "outputs": [],
   "source": [
    "list1=list(range(2,11,2))"
   ]
  },
  {
   "cell_type": "code",
   "execution_count": 51,
   "id": "39889634",
   "metadata": {},
   "outputs": [],
   "source": [
    "def reverse(string):\n",
    "    print(string[::-1]) # Simple reverse function"
   ]
  },
  {
   "cell_type": "code",
   "execution_count": 52,
   "id": "986cba65",
   "metadata": {},
   "outputs": [
    {
     "name": "stdout",
     "output_type": "stream",
     "text": [
      "olleh\n"
     ]
    }
   ],
   "source": [
    "reverse('hello')"
   ]
  },
  {
   "cell_type": "code",
   "execution_count": 53,
   "id": "7ad8d49c",
   "metadata": {},
   "outputs": [
    {
     "name": "stdout",
     "output_type": "stream",
     "text": [
      "[10, 8, 6, 4, 2]\n"
     ]
    }
   ],
   "source": [
    "reverse(list1)"
   ]
  },
  {
   "cell_type": "code",
   "execution_count": null,
   "id": "56362ea5",
   "metadata": {},
   "outputs": [],
   "source": []
  },
  {
   "cell_type": "code",
   "execution_count": 54,
   "id": "f7fbdab2",
   "metadata": {},
   "outputs": [],
   "source": [
    "# Generator Expressions.."
   ]
  },
  {
   "cell_type": "code",
   "execution_count": null,
   "id": "1f7a00ff",
   "metadata": {},
   "outputs": [],
   "source": []
  },
  {
   "cell_type": "code",
   "execution_count": 56,
   "id": "48526630",
   "metadata": {},
   "outputs": [],
   "source": [
    "list2=[i*2 for i in list1]"
   ]
  },
  {
   "cell_type": "code",
   "execution_count": 57,
   "id": "9164d993",
   "metadata": {},
   "outputs": [
    {
     "data": {
      "text/plain": [
       "[2, 4, 6, 8, 10]"
      ]
     },
     "execution_count": 57,
     "metadata": {},
     "output_type": "execute_result"
    }
   ],
   "source": [
    "list1"
   ]
  },
  {
   "cell_type": "code",
   "execution_count": 58,
   "id": "22cffe95",
   "metadata": {},
   "outputs": [
    {
     "data": {
      "text/plain": [
       "[4, 8, 12, 16, 20]"
      ]
     },
     "execution_count": 58,
     "metadata": {},
     "output_type": "execute_result"
    }
   ],
   "source": [
    "list2"
   ]
  },
  {
   "cell_type": "code",
   "execution_count": 59,
   "id": "efc49a11",
   "metadata": {},
   "outputs": [],
   "source": [
    "gen_exp = (i*2 for i in my_list)"
   ]
  },
  {
   "cell_type": "code",
   "execution_count": 60,
   "id": "8cbfa734",
   "metadata": {},
   "outputs": [
    {
     "data": {
      "text/plain": [
       "<generator object <genexpr> at 0x00000281BFBC1C40>"
      ]
     },
     "execution_count": 60,
     "metadata": {},
     "output_type": "execute_result"
    }
   ],
   "source": [
    "gen_exp"
   ]
  },
  {
   "cell_type": "code",
   "execution_count": 62,
   "id": "377cd1a8",
   "metadata": {},
   "outputs": [
    {
     "name": "stdout",
     "output_type": "stream",
     "text": [
      "2\n",
      "4\n",
      "6\n",
      "8\n",
      "10\n"
     ]
    }
   ],
   "source": [
    "print(next(gen_exp))\n",
    "print(next(gen_exp))\n",
    "print(next(gen_exp))\n",
    "print(next(gen_exp))\n",
    "print(next(gen_exp))"
   ]
  },
  {
   "cell_type": "code",
   "execution_count": 63,
   "id": "bf27b7db",
   "metadata": {},
   "outputs": [
    {
     "data": {
      "text/plain": [
       "[0, 1, 2, 3, 4, 5]"
      ]
     },
     "execution_count": 63,
     "metadata": {},
     "output_type": "execute_result"
    }
   ],
   "source": [
    "my_list"
   ]
  },
  {
   "cell_type": "code",
   "execution_count": 64,
   "id": "568568b4",
   "metadata": {},
   "outputs": [
    {
     "data": {
      "text/plain": [
       "30"
      ]
     },
     "execution_count": 64,
     "metadata": {},
     "output_type": "execute_result"
    }
   ],
   "source": [
    "sum(i*2 for i in my_list)"
   ]
  },
  {
   "cell_type": "code",
   "execution_count": 65,
   "id": "82c4aea2",
   "metadata": {},
   "outputs": [
    {
     "data": {
      "text/plain": [
       "10"
      ]
     },
     "execution_count": 65,
     "metadata": {},
     "output_type": "execute_result"
    }
   ],
   "source": [
    "max(i*2 for i in my_list)"
   ]
  },
  {
   "cell_type": "code",
   "execution_count": 66,
   "id": "1765e303",
   "metadata": {},
   "outputs": [
    {
     "data": {
      "text/plain": [
       "0"
      ]
     },
     "execution_count": 66,
     "metadata": {},
     "output_type": "execute_result"
    }
   ],
   "source": [
    "min(i*2 for i in my_list)"
   ]
  },
  {
   "cell_type": "code",
   "execution_count": 69,
   "id": "368f1221",
   "metadata": {},
   "outputs": [
    {
     "data": {
      "text/plain": [
       "30"
      ]
     },
     "execution_count": 69,
     "metadata": {},
     "output_type": "execute_result"
    }
   ],
   "source": [
    "sum(i*2 for i in my_list)"
   ]
  },
  {
   "cell_type": "code",
   "execution_count": 70,
   "id": "bbc89d30",
   "metadata": {},
   "outputs": [],
   "source": [
    "# embarking on the class TimesTen"
   ]
  },
  {
   "cell_type": "code",
   "execution_count": 71,
   "id": "4feca5dc",
   "metadata": {},
   "outputs": [],
   "source": [
    "def TimesTen(max=0):\n",
    "    n=1\n",
    "    while n<=max:\n",
    "        yield n*10\n",
    "        n +=1"
   ]
  },
  {
   "cell_type": "code",
   "execution_count": 72,
   "id": "f78ca600",
   "metadata": {},
   "outputs": [],
   "source": [
    "a = TimesTen(3)"
   ]
  },
  {
   "cell_type": "code",
   "execution_count": 73,
   "id": "0727ea08",
   "metadata": {},
   "outputs": [
    {
     "name": "stdout",
     "output_type": "stream",
     "text": [
      "10\n",
      "20\n",
      "30\n"
     ]
    }
   ],
   "source": [
    "for i in a:\n",
    "    print(i)"
   ]
  },
  {
   "cell_type": "code",
   "execution_count": 94,
   "id": "7b105627",
   "metadata": {},
   "outputs": [],
   "source": [
    "def even_numbers():\n",
    "    n=0\n",
    "    while True:\n",
    "        yield n\n",
    "        n+=2"
   ]
  },
  {
   "cell_type": "code",
   "execution_count": 95,
   "id": "4432ee36",
   "metadata": {},
   "outputs": [],
   "source": [
    "num=even_numbers()"
   ]
  },
  {
   "cell_type": "code",
   "execution_count": 96,
   "id": "131bd138",
   "metadata": {},
   "outputs": [
    {
     "data": {
      "text/plain": [
       "<generator object even_numbers at 0x00000281BFBC3290>"
      ]
     },
     "execution_count": 96,
     "metadata": {},
     "output_type": "execute_result"
    }
   ],
   "source": [
    "num"
   ]
  },
  {
   "cell_type": "code",
   "execution_count": 97,
   "id": "6ee6c765",
   "metadata": {},
   "outputs": [
    {
     "name": "stdout",
     "output_type": "stream",
     "text": [
      "0\n",
      "2\n",
      "4\n",
      "6\n"
     ]
    }
   ],
   "source": [
    "print(next(num))\n",
    "print(next(num))\n",
    "print(next(num))\n",
    "print(next(num))\n",
    "\n"
   ]
  },
  {
   "cell_type": "code",
   "execution_count": 87,
   "id": "ea3ce143",
   "metadata": {},
   "outputs": [
    {
     "name": "stdout",
     "output_type": "stream",
     "text": [
      "1\n"
     ]
    }
   ],
   "source": [
    "print(next(even_numbers()))"
   ]
  },
  {
   "cell_type": "code",
   "execution_count": null,
   "id": "c96e5a53",
   "metadata": {},
   "outputs": [],
   "source": []
  },
  {
   "cell_type": "code",
   "execution_count": null,
   "id": "d93a916e",
   "metadata": {},
   "outputs": [],
   "source": []
  }
 ],
 "metadata": {
  "kernelspec": {
   "display_name": "Python 3 (ipykernel)",
   "language": "python",
   "name": "python3"
  },
  "language_info": {
   "codemirror_mode": {
    "name": "ipython",
    "version": 3
   },
   "file_extension": ".py",
   "mimetype": "text/x-python",
   "name": "python",
   "nbconvert_exporter": "python",
   "pygments_lexer": "ipython3",
   "version": "3.10.9"
  }
 },
 "nbformat": 4,
 "nbformat_minor": 5
}

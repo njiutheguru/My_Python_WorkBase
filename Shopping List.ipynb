{
 "cells": [
  {
   "cell_type": "markdown",
   "id": "e6ce5649",
   "metadata": {},
   "source": [
    " A supermarket chain, Foodie, has asked you to create a Shoping List application to help their customers whilst shopping\n",
    " \n",
    " - This Application should allow a user to:\n",
    "     - Add items to a shopping list\n",
    "     - Remove items from a shopping list\n",
    "     - Ask for help\n",
    "     - Show the items in the shopping list\n",
    "     \n",
    "     \n",
    "The application can be broken into the following tasks:\n",
    "1. create a data structure that can store shopping list items..\n",
    "2. Create a function to show a help menu to the user\n",
    "3. Create a function to add an item to the list\n",
    "4. Create a function to delete an item from the list\n",
    "5. Create a function that displays the shopping list to the screen\n",
    "6. Create a working shopping List program using with a while loop using your functions created above!"
   ]
  },
  {
   "cell_type": "code",
   "execution_count": 1,
   "id": "a196d39e",
   "metadata": {},
   "outputs": [],
   "source": [
    "#import library\n",
    "from IPython.display import clear_output"
   ]
  },
  {
   "cell_type": "code",
   "execution_count": 2,
   "id": "f7639c39",
   "metadata": {},
   "outputs": [],
   "source": [
    "#create a dsa that can store shopping list items"
   ]
  },
  {
   "cell_type": "code",
   "execution_count": 3,
   "id": "e68f9995",
   "metadata": {},
   "outputs": [],
   "source": [
    "shopping_list=[]"
   ]
  },
  {
   "cell_type": "code",
   "execution_count": 4,
   "id": "d2a88950",
   "metadata": {},
   "outputs": [],
   "source": [
    "#create a function to show a help menu to the user\n",
    "def start_menu():\n",
    "    print(\"What do you want to add to your shopping list\")\n",
    "    print('''\n",
    "    Enter 'DONE' to stop adding items.\n",
    "    Enter 'HELP' for additional info.\n",
    "    Enter 'SHOW' to see your shopping list..\n",
    "    Enter 'REMOVE' to remove an item from your shopping list.\n",
    "    ----------------------------------------------------------\n",
    "    ''')\n"
   ]
  },
  {
   "cell_type": "code",
   "execution_count": null,
   "id": "c87dcfb4",
   "metadata": {},
   "outputs": [],
   "source": []
  },
  {
   "cell_type": "code",
   "execution_count": 5,
   "id": "ca2a515b",
   "metadata": {},
   "outputs": [],
   "source": [
    "#create a functin to add an item to the list  \n",
    "def add_to_list(item):\n",
    "    item=item.capitalize()\n",
    "    if item not in shopping_list:\n",
    "        shopping_list.append(item)\n",
    "        print(\"{} was added to your shopping list! \".format(item))\n",
    "        print(\" You have {} items on your shopping list.\".format(len(shopping_list)))\n",
    "    else:\n",
    "        print(\"You already have that item on your list...\")"
   ]
  },
  {
   "cell_type": "code",
   "execution_count": 6,
   "id": "c885ac78",
   "metadata": {},
   "outputs": [],
   "source": [
    " # Create a function to delete an item from the list"
   ]
  },
  {
   "cell_type": "code",
   "execution_count": 7,
   "id": "a1a070f5",
   "metadata": {},
   "outputs": [],
   "source": [
    "#add_to_list(\"Lenovo\")"
   ]
  },
  {
   "cell_type": "code",
   "execution_count": null,
   "id": "d9920c68",
   "metadata": {},
   "outputs": [],
   "source": []
  },
  {
   "cell_type": "code",
   "execution_count": 8,
   "id": "23fb6f8c",
   "metadata": {},
   "outputs": [],
   "source": [
    "#delete an item fro a list...\n",
    "def remove_item(item):\n",
    "    item=item.capitalize()\n",
    "    if item in shopping_list:\n",
    "        shopping_list.remove(item)\n",
    "        print(\"{} was removed from your shopping list!\".format(item))\n",
    "        print(\" You have {} items left on your shopping list.\".format(len(shopping_list)))\n",
    "    else:\n",
    "        print(\"You Don't have that item on your list...\")"
   ]
  },
  {
   "cell_type": "code",
   "execution_count": null,
   "id": "38f7102f",
   "metadata": {},
   "outputs": [],
   "source": []
  },
  {
   "cell_type": "code",
   "execution_count": null,
   "id": "cf3494bf",
   "metadata": {},
   "outputs": [],
   "source": []
  },
  {
   "cell_type": "code",
   "execution_count": 9,
   "id": "9485385c",
   "metadata": {},
   "outputs": [],
   "source": [
    "#remove_item('pearr') "
   ]
  },
  {
   "cell_type": "code",
   "execution_count": 10,
   "id": "4273a32e",
   "metadata": {},
   "outputs": [],
   "source": [
    "def show_shopping_list():\n",
    "    print(\"My shopping list:\")\n",
    "    for item in shopping_list:\n",
    "        print(item)"
   ]
  },
  {
   "cell_type": "code",
   "execution_count": 11,
   "id": "5ac45daf",
   "metadata": {},
   "outputs": [],
   "source": [
    "#show_shopping_list()\n"
   ]
  },
  {
   "cell_type": "code",
   "execution_count": null,
   "id": "d8d4290a",
   "metadata": {},
   "outputs": [],
   "source": []
  },
  {
   "cell_type": "code",
   "execution_count": 12,
   "id": "d704745c",
   "metadata": {},
   "outputs": [],
   "source": [
    "#add_to_list(\"Honey\")"
   ]
  },
  {
   "cell_type": "code",
   "execution_count": 13,
   "id": "9bc50f2e",
   "metadata": {},
   "outputs": [],
   "source": [
    "# show_shopping_list()"
   ]
  },
  {
   "cell_type": "code",
   "execution_count": 14,
   "id": "18146355",
   "metadata": {},
   "outputs": [],
   "source": [
    "# create a working shopping list program using the functions above.."
   ]
  },
  {
   "cell_type": "code",
   "execution_count": 15,
   "id": "7c0d9ae8",
   "metadata": {},
   "outputs": [
    {
     "name": "stdout",
     "output_type": "stream",
     "text": [
      "What do you want to add to your shopping list\n",
      "\n",
      "    Enter 'DONE' to stop adding items.\n",
      "    Enter 'HELP' for additional info.\n",
      "    Enter 'SHOW' to see your shopping list..\n",
      "    Enter 'REMOVE' to remove an item from your shopping list.\n",
      "    ----------------------------------------------------------\n",
      "    \n",
      "See you soon!\n",
      "My shopping list:\n",
      "Pears\n",
      "Guava\n",
      "Melon\n",
      "Rice\n",
      "Geisha\n",
      "Fry\n",
      "Ndimu\n",
      "Eggs\n"
     ]
    }
   ],
   "source": [
    "start_menu()\n",
    "while True:\n",
    "    user_input=input('> ')\n",
    "    if user_input=='DONE':\n",
    "        clear_output()\n",
    "        start_menu()\n",
    "        print(\"See you soon!\")\n",
    "        break\n",
    "    elif user_input=='HELP':\n",
    "        clear_output()\n",
    "        start_menu()\n",
    "        print('''\n",
    "        Type in an item into the box provided to add an item in your\n",
    "         shopping list!\n",
    "        \n",
    "        ''')\n",
    "        continue\n",
    "        \n",
    "                               \n",
    "    elif user_input=='SHOW':\n",
    "        clear_outPut()\n",
    "        start_menu()\n",
    "        show_shopping_list()\n",
    "        continue\n",
    "    elif user_input=='REMOVE':\n",
    "        show_shopping_list()\n",
    "        item=input(\" What do you want to remove?\")\n",
    "       \n",
    "        start_menu()\n",
    "        remove_item(item)\n",
    "        continue\n",
    "    else:\n",
    "        clear_output()\n",
    "        start_menu()\n",
    "        add_to_list(user_input)\n",
    "\n",
    "show_shopping_list()\n"
   ]
  },
  {
   "cell_type": "code",
   "execution_count": null,
   "id": "ab461a13",
   "metadata": {},
   "outputs": [],
   "source": []
  },
  {
   "cell_type": "code",
   "execution_count": null,
   "id": "5ffba5bf",
   "metadata": {},
   "outputs": [],
   "source": []
  }
 ],
 "metadata": {
  "kernelspec": {
   "display_name": "Python 3 (ipykernel)",
   "language": "python",
   "name": "python3"
  },
  "language_info": {
   "codemirror_mode": {
    "name": "ipython",
    "version": 3
   },
   "file_extension": ".py",
   "mimetype": "text/x-python",
   "name": "python",
   "nbconvert_exporter": "python",
   "pygments_lexer": "ipython3",
   "version": "3.10.9"
  }
 },
 "nbformat": 4,
 "nbformat_minor": 5
}

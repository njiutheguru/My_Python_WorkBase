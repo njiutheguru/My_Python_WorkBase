{
 "cells": [
  {
   "cell_type": "code",
   "execution_count": 1,
   "id": "c3b362e9",
   "metadata": {},
   "outputs": [
    {
     "data": {
      "text/plain": [
       "tuple"
      ]
     },
     "execution_count": 1,
     "metadata": {},
     "output_type": "execute_result"
    }
   ],
   "source": [
    "#introducing tuples in Python..\n",
    "my_tuple=()\n",
    "type(my_tuple)"
   ]
  },
  {
   "cell_type": "code",
   "execution_count": 2,
   "id": "6f5cce1a",
   "metadata": {},
   "outputs": [],
   "source": [
    "#creating a tuple---separation element is a ,"
   ]
  },
  {
   "cell_type": "code",
   "execution_count": 3,
   "id": "371ca40d",
   "metadata": {},
   "outputs": [],
   "source": [
    "my_tuple=(1,2,3,4)"
   ]
  },
  {
   "cell_type": "code",
   "execution_count": 4,
   "id": "0c167683",
   "metadata": {},
   "outputs": [
    {
     "data": {
      "text/plain": [
       "(1, 2, 3, 4)"
      ]
     },
     "execution_count": 4,
     "metadata": {},
     "output_type": "execute_result"
    }
   ],
   "source": [
    "my_tuple"
   ]
  },
  {
   "cell_type": "code",
   "execution_count": 5,
   "id": "5c044173",
   "metadata": {},
   "outputs": [],
   "source": [
    "my_tuple=(1,'hello',2.4,'world')"
   ]
  },
  {
   "cell_type": "code",
   "execution_count": 6,
   "id": "c540cbb2",
   "metadata": {},
   "outputs": [
    {
     "data": {
      "text/plain": [
       "(1, 'hello', 2.4, 'world')"
      ]
     },
     "execution_count": 6,
     "metadata": {},
     "output_type": "execute_result"
    }
   ],
   "source": [
    "my_tuple"
   ]
  },
  {
   "cell_type": "code",
   "execution_count": 7,
   "id": "85ae5108",
   "metadata": {},
   "outputs": [],
   "source": [
    "my_tuple2=('football',[1,2,4],('hello','name'),'Career',1.43)"
   ]
  },
  {
   "cell_type": "code",
   "execution_count": 8,
   "id": "06acf244",
   "metadata": {},
   "outputs": [
    {
     "name": "stdout",
     "output_type": "stream",
     "text": [
      "('football', [1, 2, 4], ('hello', 'name'), 'Career', 1.43)\n"
     ]
    }
   ],
   "source": [
    "print(my_tuple2)"
   ]
  },
  {
   "cell_type": "code",
   "execution_count": 9,
   "id": "0a917d1e",
   "metadata": {},
   "outputs": [],
   "source": [
    "#tuple packing\n",
    "my_tuple_3=1,'spain',[1,2,3]"
   ]
  },
  {
   "cell_type": "code",
   "execution_count": 10,
   "id": "3df95c08",
   "metadata": {},
   "outputs": [
    {
     "data": {
      "text/plain": [
       "(1, 'spain', [1, 2, 3])"
      ]
     },
     "execution_count": 10,
     "metadata": {},
     "output_type": "execute_result"
    }
   ],
   "source": [
    "my_tuple_3"
   ]
  },
  {
   "cell_type": "code",
   "execution_count": 11,
   "id": "0c170fd9",
   "metadata": {},
   "outputs": [
    {
     "data": {
      "text/plain": [
       "tuple"
      ]
     },
     "execution_count": 11,
     "metadata": {},
     "output_type": "execute_result"
    }
   ],
   "source": [
    "type(my_tuple_3)"
   ]
  },
  {
   "cell_type": "code",
   "execution_count": 12,
   "id": "392020c3",
   "metadata": {},
   "outputs": [],
   "source": [
    "my_tuple_4=(\"hello\") # A comma is missing for tuple recognition..."
   ]
  },
  {
   "cell_type": "code",
   "execution_count": 13,
   "id": "7a651070",
   "metadata": {},
   "outputs": [
    {
     "data": {
      "text/plain": [
       "str"
      ]
     },
     "execution_count": 13,
     "metadata": {},
     "output_type": "execute_result"
    }
   ],
   "source": [
    "type(my_tuple_4)"
   ]
  },
  {
   "cell_type": "code",
   "execution_count": 14,
   "id": "fcfa0d53",
   "metadata": {},
   "outputs": [
    {
     "data": {
      "text/plain": [
       "tuple"
      ]
     },
     "execution_count": 14,
     "metadata": {},
     "output_type": "execute_result"
    }
   ],
   "source": [
    "my_tuple_4=('hello',)\n",
    "type(my_tuple_4)"
   ]
  },
  {
   "cell_type": "code",
   "execution_count": 15,
   "id": "b6037efc",
   "metadata": {},
   "outputs": [],
   "source": [
    "#Accessing Tuple elements...The same way as in list"
   ]
  },
  {
   "cell_type": "code",
   "execution_count": 16,
   "id": "b051dd99",
   "metadata": {},
   "outputs": [
    {
     "data": {
      "text/plain": [
       "(1, 'hello', 2.4, 'world')"
      ]
     },
     "execution_count": 16,
     "metadata": {},
     "output_type": "execute_result"
    }
   ],
   "source": [
    "my_tuple"
   ]
  },
  {
   "cell_type": "code",
   "execution_count": 17,
   "id": "ad905893",
   "metadata": {},
   "outputs": [
    {
     "data": {
      "text/plain": [
       "5"
      ]
     },
     "execution_count": 17,
     "metadata": {},
     "output_type": "execute_result"
    }
   ],
   "source": [
    "my_tuple=(1,2,3,4,5,[6,7,8],9)\n",
    "my_tuple[4]"
   ]
  },
  {
   "cell_type": "code",
   "execution_count": 19,
   "id": "1b0bb7ab",
   "metadata": {},
   "outputs": [
    {
     "ename": "IndexError",
     "evalue": "tuple index out of range",
     "output_type": "error",
     "traceback": [
      "\u001b[1;31m---------------------------------------------------------------------------\u001b[0m",
      "\u001b[1;31mIndexError\u001b[0m                                Traceback (most recent call last)",
      "Cell \u001b[1;32mIn[19], line 1\u001b[0m\n\u001b[1;32m----> 1\u001b[0m \u001b[43mmy_tuple\u001b[49m\u001b[43m[\u001b[49m\u001b[38;5;241;43m7\u001b[39;49m\u001b[43m]\u001b[49m\n",
      "\u001b[1;31mIndexError\u001b[0m: tuple index out of range"
     ]
    }
   ],
   "source": [
    "my_tuple[7] #indexing starts at 0 and ends at 6"
   ]
  },
  {
   "cell_type": "code",
   "execution_count": null,
   "id": "99f3cbfe",
   "metadata": {},
   "outputs": [],
   "source": []
  },
  {
   "cell_type": "code",
   "execution_count": 20,
   "id": "7b27907c",
   "metadata": {},
   "outputs": [
    {
     "data": {
      "text/plain": [
       "[6, 7, 8]"
      ]
     },
     "execution_count": 20,
     "metadata": {},
     "output_type": "execute_result"
    }
   ],
   "source": [
    "my_tuple[5]"
   ]
  },
  {
   "cell_type": "code",
   "execution_count": 21,
   "id": "dda52c03",
   "metadata": {},
   "outputs": [
    {
     "data": {
      "text/plain": [
       "8"
      ]
     },
     "execution_count": 21,
     "metadata": {},
     "output_type": "execute_result"
    }
   ],
   "source": [
    "my_tuple[5][2]"
   ]
  },
  {
   "cell_type": "code",
   "execution_count": 22,
   "id": "09f9551b",
   "metadata": {},
   "outputs": [
    {
     "data": {
      "text/plain": [
       "9"
      ]
     },
     "execution_count": 22,
     "metadata": {},
     "output_type": "execute_result"
    }
   ],
   "source": [
    "#using negative indexing..\n",
    "my_tuple[-1]"
   ]
  },
  {
   "cell_type": "code",
   "execution_count": 24,
   "id": "861ade2b",
   "metadata": {},
   "outputs": [
    {
     "data": {
      "text/plain": [
       "6"
      ]
     },
     "execution_count": 24,
     "metadata": {},
     "output_type": "execute_result"
    }
   ],
   "source": [
    "my_tuple[-2][-3]"
   ]
  },
  {
   "cell_type": "code",
   "execution_count": 25,
   "id": "11788fe3",
   "metadata": {},
   "outputs": [
    {
     "data": {
      "text/plain": [
       "(1, 2, 3)"
      ]
     },
     "execution_count": 25,
     "metadata": {},
     "output_type": "execute_result"
    }
   ],
   "source": [
    "my_tuple[0:3]"
   ]
  },
  {
   "cell_type": "code",
   "execution_count": 26,
   "id": "822f269b",
   "metadata": {},
   "outputs": [
    {
     "data": {
      "text/plain": [
       "(1, 2, 3)"
      ]
     },
     "execution_count": 26,
     "metadata": {},
     "output_type": "execute_result"
    }
   ],
   "source": [
    "my_tuple[:3]"
   ]
  },
  {
   "cell_type": "code",
   "execution_count": 27,
   "id": "4289a9da",
   "metadata": {},
   "outputs": [
    {
     "data": {
      "text/plain": [
       "(9, [6, 7, 8], 5, 4, 3, 2, 1)"
      ]
     },
     "execution_count": 27,
     "metadata": {},
     "output_type": "execute_result"
    }
   ],
   "source": [
    "my_tuple[::-1] #reversing the tuple"
   ]
  },
  {
   "cell_type": "code",
   "execution_count": 28,
   "id": "65513a98",
   "metadata": {},
   "outputs": [],
   "source": [
    "#changing Tuple element\n",
    "#unlike list, elements of a tuple are immutable, they canot be changed once defined."
   ]
  },
  {
   "cell_type": "code",
   "execution_count": 29,
   "id": "cc6c9fcd",
   "metadata": {},
   "outputs": [
    {
     "data": {
      "text/plain": [
       "(1, 2, 3, 4, 5, [6, 7, 8], 9)"
      ]
     },
     "execution_count": 29,
     "metadata": {},
     "output_type": "execute_result"
    }
   ],
   "source": [
    "my_tuple"
   ]
  },
  {
   "cell_type": "code",
   "execution_count": 36,
   "id": "6a4d3cc3",
   "metadata": {},
   "outputs": [
    {
     "ename": "TypeError",
     "evalue": "'tuple' object does not support item assignment",
     "output_type": "error",
     "traceback": [
      "\u001b[1;31m---------------------------------------------------------------------------\u001b[0m",
      "\u001b[1;31mTypeError\u001b[0m                                 Traceback (most recent call last)",
      "Cell \u001b[1;32mIn[36], line 1\u001b[0m\n\u001b[1;32m----> 1\u001b[0m my_tuple[\u001b[38;5;241m0\u001b[39m]\u001b[38;5;241m=\u001b[39m\u001b[38;5;124m'\u001b[39m\u001b[38;5;124mhello\u001b[39m\u001b[38;5;124m'\u001b[39m\n",
      "\u001b[1;31mTypeError\u001b[0m: 'tuple' object does not support item assignment"
     ]
    }
   ],
   "source": [
    "my_tuple[0]='hello' #error Tuple object does not support item assignment.."
   ]
  },
  {
   "cell_type": "code",
   "execution_count": 35,
   "id": "07372109",
   "metadata": {},
   "outputs": [],
   "source": [
    "my_tuple[5][2]=55.4 #nested list in a tuple can be altered"
   ]
  },
  {
   "cell_type": "code",
   "execution_count": 32,
   "id": "067aa77e",
   "metadata": {},
   "outputs": [
    {
     "data": {
      "text/plain": [
       "(1, 2, 3, 4, 5, [6, 7, 55.4], 9)"
      ]
     },
     "execution_count": 32,
     "metadata": {},
     "output_type": "execute_result"
    }
   ],
   "source": [
    "my_tuple"
   ]
  },
  {
   "cell_type": "code",
   "execution_count": 38,
   "id": "54ce6fef",
   "metadata": {},
   "outputs": [
    {
     "ename": "AttributeError",
     "evalue": "'tuple' object has no attribute 'append'",
     "output_type": "error",
     "traceback": [
      "\u001b[1;31m---------------------------------------------------------------------------\u001b[0m",
      "\u001b[1;31mAttributeError\u001b[0m                            Traceback (most recent call last)",
      "Cell \u001b[1;32mIn[38], line 1\u001b[0m\n\u001b[1;32m----> 1\u001b[0m \u001b[43mmy_tuple\u001b[49m\u001b[38;5;241;43m.\u001b[39;49m\u001b[43mappend\u001b[49m(\u001b[38;5;241m100\u001b[39m)\n",
      "\u001b[1;31mAttributeError\u001b[0m: 'tuple' object has no attribute 'append'"
     ]
    }
   ],
   "source": [
    "my_tuple.append(100) #error"
   ]
  },
  {
   "cell_type": "code",
   "execution_count": null,
   "id": "2d7a0ba2",
   "metadata": {},
   "outputs": [],
   "source": []
  },
  {
   "cell_type": "code",
   "execution_count": 39,
   "id": "9def2722",
   "metadata": {},
   "outputs": [],
   "source": [
    "my_tuple[5].append(100)"
   ]
  },
  {
   "cell_type": "code",
   "execution_count": 40,
   "id": "ce2279ce",
   "metadata": {},
   "outputs": [
    {
     "data": {
      "text/plain": [
       "(1, 2, 3, 4, 5, [6, 7, 55.4, 100], 9)"
      ]
     },
     "execution_count": 40,
     "metadata": {},
     "output_type": "execute_result"
    }
   ],
   "source": [
    "my_tuple"
   ]
  },
  {
   "cell_type": "code",
   "execution_count": 41,
   "id": "1b7e5f27",
   "metadata": {},
   "outputs": [],
   "source": [
    "my_tuple=('one','two',3)"
   ]
  },
  {
   "cell_type": "code",
   "execution_count": 42,
   "id": "4edd8a4a",
   "metadata": {},
   "outputs": [
    {
     "data": {
      "text/plain": [
       "('one', 'two', 3)"
      ]
     },
     "execution_count": 42,
     "metadata": {},
     "output_type": "execute_result"
    }
   ],
   "source": [
    "my_tuple\n"
   ]
  },
  {
   "cell_type": "code",
   "execution_count": 46,
   "id": "49d781f9",
   "metadata": {},
   "outputs": [],
   "source": [
    "my_tuple_1 = my_tuple + ('four','five','six')"
   ]
  },
  {
   "cell_type": "code",
   "execution_count": 44,
   "id": "6afd0165",
   "metadata": {},
   "outputs": [
    {
     "data": {
      "text/plain": [
       "('one', 'two', 3)"
      ]
     },
     "execution_count": 44,
     "metadata": {},
     "output_type": "execute_result"
    }
   ],
   "source": [
    "my_tuple"
   ]
  },
  {
   "cell_type": "code",
   "execution_count": 47,
   "id": "fe86c12d",
   "metadata": {},
   "outputs": [
    {
     "data": {
      "text/plain": [
       "('one', 'two', 3, 'four', 'five', 'six')"
      ]
     },
     "execution_count": 47,
     "metadata": {},
     "output_type": "execute_result"
    }
   ],
   "source": [
    "my_tuple_1\n"
   ]
  },
  {
   "cell_type": "code",
   "execution_count": 49,
   "id": "7baffb0f",
   "metadata": {},
   "outputs": [],
   "source": [
    "abc = my_tuple * 3"
   ]
  },
  {
   "cell_type": "code",
   "execution_count": 50,
   "id": "066df241",
   "metadata": {},
   "outputs": [
    {
     "data": {
      "text/plain": [
       "('one', 'two', 3, 'one', 'two', 3, 'one', 'two', 3)"
      ]
     },
     "execution_count": 50,
     "metadata": {},
     "output_type": "execute_result"
    }
   ],
   "source": [
    "abc"
   ]
  },
  {
   "cell_type": "code",
   "execution_count": 51,
   "id": "388b8804",
   "metadata": {},
   "outputs": [],
   "source": [
    "#Deleting a Tuple"
   ]
  },
  {
   "cell_type": "code",
   "execution_count": 52,
   "id": "f757477e",
   "metadata": {},
   "outputs": [
    {
     "data": {
      "text/plain": [
       "('one', 'two', 3)"
      ]
     },
     "execution_count": 52,
     "metadata": {},
     "output_type": "execute_result"
    }
   ],
   "source": [
    "my_tuple"
   ]
  },
  {
   "cell_type": "code",
   "execution_count": 53,
   "id": "cd2f38e0",
   "metadata": {},
   "outputs": [],
   "source": [
    "my_tuple=(1,2,3,4,5,[6,7,8],9)\n"
   ]
  },
  {
   "cell_type": "code",
   "execution_count": 54,
   "id": "971dd0a6",
   "metadata": {},
   "outputs": [
    {
     "data": {
      "text/plain": [
       "(1, 2, 3, 4, 5, [6, 7, 8], 9)"
      ]
     },
     "execution_count": 54,
     "metadata": {},
     "output_type": "execute_result"
    }
   ],
   "source": [
    "my_tuple\n"
   ]
  },
  {
   "cell_type": "code",
   "execution_count": 56,
   "id": "3e66682a",
   "metadata": {},
   "outputs": [
    {
     "ename": "TypeError",
     "evalue": "'tuple' object doesn't support item deletion",
     "output_type": "error",
     "traceback": [
      "\u001b[1;31m---------------------------------------------------------------------------\u001b[0m",
      "\u001b[1;31mTypeError\u001b[0m                                 Traceback (most recent call last)",
      "Cell \u001b[1;32mIn[56], line 1\u001b[0m\n\u001b[1;32m----> 1\u001b[0m \u001b[38;5;28;01mdel\u001b[39;00m my_tuple[\u001b[38;5;241m3\u001b[39m]\n",
      "\u001b[1;31mTypeError\u001b[0m: 'tuple' object doesn't support item deletion"
     ]
    }
   ],
   "source": [
    "del my_tuple[3] #error...Tuple does not support deletion of elements"
   ]
  },
  {
   "cell_type": "code",
   "execution_count": null,
   "id": "d1662ee7",
   "metadata": {},
   "outputs": [],
   "source": []
  },
  {
   "cell_type": "code",
   "execution_count": 57,
   "id": "c4537962",
   "metadata": {},
   "outputs": [],
   "source": [
    "del my_tuple #the whole tuple is deleted"
   ]
  },
  {
   "cell_type": "code",
   "execution_count": 58,
   "id": "f6cf4ff6",
   "metadata": {},
   "outputs": [
    {
     "ename": "NameError",
     "evalue": "name 'my_tuple' is not defined",
     "output_type": "error",
     "traceback": [
      "\u001b[1;31m---------------------------------------------------------------------------\u001b[0m",
      "\u001b[1;31mNameError\u001b[0m                                 Traceback (most recent call last)",
      "Cell \u001b[1;32mIn[58], line 1\u001b[0m\n\u001b[1;32m----> 1\u001b[0m \u001b[43mmy_tuple\u001b[49m\n",
      "\u001b[1;31mNameError\u001b[0m: name 'my_tuple' is not defined"
     ]
    }
   ],
   "source": [
    "my_tuple #non-existing"
   ]
  },
  {
   "cell_type": "code",
   "execution_count": 59,
   "id": "56d6bf5e",
   "metadata": {},
   "outputs": [],
   "source": [
    "#tuple Methods and Operations.."
   ]
  },
  {
   "cell_type": "code",
   "execution_count": 60,
   "id": "9e4f2825",
   "metadata": {},
   "outputs": [],
   "source": [
    "my_tuple=(1,1,1,1,2,3,5,1,1)"
   ]
  },
  {
   "cell_type": "code",
   "execution_count": 61,
   "id": "d47a44d9",
   "metadata": {},
   "outputs": [
    {
     "data": {
      "text/plain": [
       "6"
      ]
     },
     "execution_count": 61,
     "metadata": {},
     "output_type": "execute_result"
    }
   ],
   "source": [
    "my_tuple.count(1)"
   ]
  },
  {
   "cell_type": "code",
   "execution_count": 62,
   "id": "d118d77e",
   "metadata": {},
   "outputs": [
    {
     "data": {
      "text/plain": [
       "5"
      ]
     },
     "execution_count": 62,
     "metadata": {},
     "output_type": "execute_result"
    }
   ],
   "source": [
    "my_tuple.index(3)"
   ]
  },
  {
   "cell_type": "code",
   "execution_count": 63,
   "id": "e84c05e1",
   "metadata": {},
   "outputs": [
    {
     "data": {
      "text/plain": [
       "7"
      ]
     },
     "execution_count": 63,
     "metadata": {},
     "output_type": "execute_result"
    }
   ],
   "source": [
    "my_tuple.index(1,4) #search starts from index 4"
   ]
  },
  {
   "cell_type": "code",
   "execution_count": 64,
   "id": "c86a9787",
   "metadata": {},
   "outputs": [
    {
     "data": {
      "text/plain": [
       "True"
      ]
     },
     "execution_count": 64,
     "metadata": {},
     "output_type": "execute_result"
    }
   ],
   "source": [
    "1 in my_tuple"
   ]
  },
  {
   "cell_type": "code",
   "execution_count": 65,
   "id": "d346db6b",
   "metadata": {},
   "outputs": [
    {
     "data": {
      "text/plain": [
       "False"
      ]
     },
     "execution_count": 65,
     "metadata": {},
     "output_type": "execute_result"
    }
   ],
   "source": [
    "1 not in my_tuple"
   ]
  },
  {
   "cell_type": "code",
   "execution_count": 66,
   "id": "99fce7c0",
   "metadata": {},
   "outputs": [],
   "source": [
    "#Introducing TUPLE PACKING"
   ]
  },
  {
   "cell_type": "code",
   "execution_count": 67,
   "id": "1f8ac661",
   "metadata": {},
   "outputs": [
    {
     "data": {
      "text/plain": [
       "(1, 2, 3, 'hello', 2.5)"
      ]
     },
     "execution_count": 67,
     "metadata": {},
     "output_type": "execute_result"
    }
   ],
   "source": [
    "    my_tuple=1,2,3,'hello',2.5\n",
    "    type(my_tuple)\n",
    "    my_tuple"
   ]
  },
  {
   "cell_type": "code",
   "execution_count": 68,
   "id": "8d99d608",
   "metadata": {},
   "outputs": [
    {
     "data": {
      "text/plain": [
       "tuple"
      ]
     },
     "execution_count": 68,
     "metadata": {},
     "output_type": "execute_result"
    }
   ],
   "source": [
    "type(my_tuple)"
   ]
  },
  {
   "cell_type": "code",
   "execution_count": 72,
   "id": "90c074d9",
   "metadata": {},
   "outputs": [],
   "source": [
    "a,b,c,d,e=my_tuple #no of variables provided must be equal to the number \n",
    "#of tuple elements"
   ]
  },
  {
   "cell_type": "code",
   "execution_count": 73,
   "id": "72a53fef",
   "metadata": {},
   "outputs": [
    {
     "data": {
      "text/plain": [
       "1"
      ]
     },
     "execution_count": 73,
     "metadata": {},
     "output_type": "execute_result"
    }
   ],
   "source": [
    "a"
   ]
  },
  {
   "cell_type": "code",
   "execution_count": 74,
   "id": "3913f680",
   "metadata": {},
   "outputs": [
    {
     "data": {
      "text/plain": [
       "2"
      ]
     },
     "execution_count": 74,
     "metadata": {},
     "output_type": "execute_result"
    }
   ],
   "source": [
    "b"
   ]
  },
  {
   "cell_type": "code",
   "execution_count": 75,
   "id": "c162eb0e",
   "metadata": {},
   "outputs": [
    {
     "data": {
      "text/plain": [
       "3"
      ]
     },
     "execution_count": 75,
     "metadata": {},
     "output_type": "execute_result"
    }
   ],
   "source": [
    "c\n"
   ]
  },
  {
   "cell_type": "code",
   "execution_count": 76,
   "id": "2f29d965",
   "metadata": {},
   "outputs": [
    {
     "data": {
      "text/plain": [
       "3"
      ]
     },
     "execution_count": 76,
     "metadata": {},
     "output_type": "execute_result"
    }
   ],
   "source": [
    "c"
   ]
  },
  {
   "cell_type": "code",
   "execution_count": 77,
   "id": "e5aeea38",
   "metadata": {},
   "outputs": [
    {
     "data": {
      "text/plain": [
       "'hello'"
      ]
     },
     "execution_count": 77,
     "metadata": {},
     "output_type": "execute_result"
    }
   ],
   "source": [
    "d"
   ]
  },
  {
   "cell_type": "code",
   "execution_count": 78,
   "id": "7614b9cb",
   "metadata": {},
   "outputs": [
    {
     "data": {
      "text/plain": [
       "2.5"
      ]
     },
     "execution_count": 78,
     "metadata": {},
     "output_type": "execute_result"
    }
   ],
   "source": [
    "e"
   ]
  },
  {
   "cell_type": "code",
   "execution_count": 79,
   "id": "e28317fd",
   "metadata": {},
   "outputs": [],
   "source": [
    "#Tuples vs Lists\n",
    "my_dict={(1,2,4):'hello'}"
   ]
  },
  {
   "cell_type": "code",
   "execution_count": 80,
   "id": "40083123",
   "metadata": {},
   "outputs": [
    {
     "data": {
      "text/plain": [
       "{(1, 2, 4): 'hello'}"
      ]
     },
     "execution_count": 80,
     "metadata": {},
     "output_type": "execute_result"
    }
   ],
   "source": [
    "my_dict"
   ]
  },
  {
   "cell_type": "code",
   "execution_count": 82,
   "id": "20f7e4b4",
   "metadata": {},
   "outputs": [
    {
     "data": {
      "text/plain": [
       "'hello'"
      ]
     },
     "execution_count": 82,
     "metadata": {},
     "output_type": "execute_result"
    }
   ],
   "source": [
    "my_dict[(1,2,4)]"
   ]
  },
  {
   "cell_type": "code",
   "execution_count": 83,
   "id": "f5600796",
   "metadata": {},
   "outputs": [
    {
     "ename": "SyntaxError",
     "evalue": "invalid syntax (759788121.py, line 1)",
     "output_type": "error",
     "traceback": [
      "\u001b[1;36m  Cell \u001b[1;32mIn[83], line 1\u001b[1;36m\u001b[0m\n\u001b[1;33m    my_dict{[1,2,4]:'hello'}#results in an error\u001b[0m\n\u001b[1;37m           ^\u001b[0m\n\u001b[1;31mSyntaxError\u001b[0m\u001b[1;31m:\u001b[0m invalid syntax\n"
     ]
    }
   ],
   "source": [
    "my_dict{[1,2,4]:'hello'}#results in an error"
   ]
  },
  {
   "cell_type": "code",
   "execution_count": null,
   "id": "072d0c44",
   "metadata": {},
   "outputs": [],
   "source": []
  }
 ],
 "metadata": {
  "kernelspec": {
   "display_name": "Python 3 (ipykernel)",
   "language": "python",
   "name": "python3"
  },
  "language_info": {
   "codemirror_mode": {
    "name": "ipython",
    "version": 3
   },
   "file_extension": ".py",
   "mimetype": "text/x-python",
   "name": "python",
   "nbconvert_exporter": "python",
   "pygments_lexer": "ipython3",
   "version": "3.10.9"
  }
 },
 "nbformat": 4,
 "nbformat_minor": 5
}

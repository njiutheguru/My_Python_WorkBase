{
 "cells": [
  {
   "cell_type": "code",
   "execution_count": 1,
   "id": "be596c7c",
   "metadata": {},
   "outputs": [],
   "source": [
    "import re"
   ]
  },
  {
   "cell_type": "code",
   "execution_count": 3,
   "id": "5f9301a9",
   "metadata": {},
   "outputs": [],
   "source": [
    "my_text=\"One day, Lucas started to learn how to code using Python\"\n",
    "\n",
    "match=re.search(r'Lucas',my_text)"
   ]
  },
  {
   "cell_type": "code",
   "execution_count": 4,
   "id": "0a186fdd",
   "metadata": {},
   "outputs": [
    {
     "name": "stdout",
     "output_type": "stream",
     "text": [
      "<re.Match object; span=(9, 14), match='Lucas'>\n"
     ]
    }
   ],
   "source": [
    "print(match)"
   ]
  },
  {
   "cell_type": "code",
   "execution_count": 5,
   "id": "29e21c5e",
   "metadata": {},
   "outputs": [
    {
     "data": {
      "text/plain": [
       "9"
      ]
     },
     "execution_count": 5,
     "metadata": {},
     "output_type": "execute_result"
    }
   ],
   "source": [
    "match.start()"
   ]
  },
  {
   "cell_type": "code",
   "execution_count": 7,
   "id": "23b38d4b",
   "metadata": {},
   "outputs": [
    {
     "data": {
      "text/plain": [
       "14"
      ]
     },
     "execution_count": 7,
     "metadata": {},
     "output_type": "execute_result"
    }
   ],
   "source": [
    "match.end()"
   ]
  },
  {
   "cell_type": "code",
   "execution_count": 8,
   "id": "aace4979",
   "metadata": {},
   "outputs": [],
   "source": [
    "# meta characters"
   ]
  },
  {
   "cell_type": "code",
   "execution_count": 9,
   "id": "a815cfeb",
   "metadata": {},
   "outputs": [],
   "source": [
    "email='python_developers123@gmail.com'"
   ]
  },
  {
   "cell_type": "code",
   "execution_count": 10,
   "id": "5fef322d",
   "metadata": {},
   "outputs": [],
   "source": [
    "match=re.search(r'.',email)"
   ]
  },
  {
   "cell_type": "code",
   "execution_count": 11,
   "id": "40e7c4e4",
   "metadata": {},
   "outputs": [
    {
     "name": "stdout",
     "output_type": "stream",
     "text": [
      "<re.Match object; span=(0, 1), match='p'>\n"
     ]
    }
   ],
   "source": [
    "print(match)"
   ]
  },
  {
   "cell_type": "code",
   "execution_count": 13,
   "id": "e6efb438",
   "metadata": {},
   "outputs": [
    {
     "name": "stdout",
     "output_type": "stream",
     "text": [
      "<re.Match object; span=(26, 27), match='.'>\n"
     ]
    }
   ],
   "source": [
    "match=re.search(r'\\.',email)\n",
    "print(match)"
   ]
  },
  {
   "cell_type": "code",
   "execution_count": 15,
   "id": "a92040ed",
   "metadata": {},
   "outputs": [
    {
     "name": "stdout",
     "output_type": "stream",
     "text": [
      "<re.Match object; span=(23, 24), match='a'>\n",
      "<re.Match object; span=(23, 24), match='a'>\n",
      "<re.Match object; span=(17, 18), match='1'>\n",
      "<re.Match object; span=(17, 18), match='1'>\n"
     ]
    }
   ],
   "source": [
    "match=re.search(r'[abc]',email)\n",
    "print(match)\n",
    "match=re.search(r'[a-c]',email)\n",
    "print(match)\n",
    "match=re.search(r'[123]',email)\n",
    "print(match)\n",
    "match=re.search(r'[1,3]',email)\n",
    "print(match)"
   ]
  },
  {
   "cell_type": "markdown",
   "id": "07f96ef9",
   "metadata": {},
   "source": [
    "match=re.search(r'[abc]',email)\n",
    "print(match)\n",
    "match=re.search(r'[a-c]',email)\n",
    "print(match)\n",
    "match=re.search(r'[123]',email)\n",
    "print(match)\n",
    "match=re.search(r'[1,3]',email)\n",
    "print(match)"
   ]
  },
  {
   "cell_type": "code",
   "execution_count": 16,
   "id": "cb5d4d76",
   "metadata": {},
   "outputs": [
    {
     "name": "stdout",
     "output_type": "stream",
     "text": [
      "<re.Match object; span=(0, 1), match='p'>\n",
      "<re.Match object; span=(0, 1), match='p'>\n",
      "<re.Match object; span=(0, 1), match='p'>\n",
      "<re.Match object; span=(0, 1), match='p'>\n"
     ]
    }
   ],
   "source": [
    "match=re.search(r'[^abc]',email)\n",
    "print(match)\n",
    "match=re.search(r'[^a-c]',email)\n",
    "print(match)\n",
    "match=re.search(r'[^123]',email)\n",
    "print(match)\n",
    "match=re.search(r'[^1,3]',email)\n",
    "print(match)"
   ]
  },
  {
   "cell_type": "code",
   "execution_count": 18,
   "id": "6086d96b",
   "metadata": {},
   "outputs": [],
   "source": [
    "# checkingif there is a match of characters at the end of the string..."
   ]
  },
  {
   "cell_type": "markdown",
   "id": "c723efd4",
   "metadata": {},
   "source": []
  },
  {
   "cell_type": "code",
   "execution_count": 19,
   "id": "48be2795",
   "metadata": {},
   "outputs": [
    {
     "name": "stdout",
     "output_type": "stream",
     "text": [
      "<re.Match object; span=(27, 30), match='com'>\n",
      "None\n"
     ]
    }
   ],
   "source": [
    "match=re.search(r'com$',email)\n",
    "print(match)\n",
    "match=re.search(r'uk$',email)\n",
    "print(match)\n"
   ]
  },
  {
   "cell_type": "code",
   "execution_count": 22,
   "id": "d0b397a9",
   "metadata": {},
   "outputs": [
    {
     "name": "stdout",
     "output_type": "stream",
     "text": [
      "<re.Match object; span=(17, 20), match='123'>\n",
      "<re.Match object; span=(0, 6), match='python'>\n"
     ]
    }
   ],
   "source": [
    "match=re.search(r'1.3',email)\n",
    "print(match)\n",
    "match=re.search(r'p....n',email)\n",
    "print(match)\n"
   ]
  },
  {
   "cell_type": "code",
   "execution_count": 23,
   "id": "a658ad0e",
   "metadata": {},
   "outputs": [
    {
     "name": "stdout",
     "output_type": "stream",
     "text": [
      "<re.Match object; span=(21, 26), match='gmail'>\n",
      "None\n"
     ]
    }
   ],
   "source": [
    "match=re.search(r'yahoo|gmail',email)\n",
    "print(match)\n",
    "match=re.search(r'z|q',email)\n",
    "print(match)\n"
   ]
  },
  {
   "cell_type": "code",
   "execution_count": 24,
   "id": "99cce5ea",
   "metadata": {},
   "outputs": [],
   "source": [
    "# Meta Characters...."
   ]
  },
  {
   "cell_type": "code",
   "execution_count": 25,
   "id": "6f0e7028",
   "metadata": {},
   "outputs": [
    {
     "name": "stdout",
     "output_type": "stream",
     "text": [
      "<re.Match object; span=(17, 21), match='123@'>\n"
     ]
    }
   ],
   "source": [
    "match=re.search(r'123?@',email)\n",
    "print(match)\n"
   ]
  },
  {
   "cell_type": "code",
   "execution_count": 26,
   "id": "30312b22",
   "metadata": {},
   "outputs": [
    {
     "name": "stdout",
     "output_type": "stream",
     "text": [
      "<re.Match object; span=(20, 21), match='@'>\n"
     ]
    }
   ],
   "source": [
    "match=re.search(r'9?@',email)\n",
    "print(match)\n"
   ]
  },
  {
   "cell_type": "code",
   "execution_count": 27,
   "id": "ff3d5f56",
   "metadata": {},
   "outputs": [],
   "source": [
    "# The star character"
   ]
  },
  {
   "cell_type": "code",
   "execution_count": 29,
   "id": "4653d5ec",
   "metadata": {},
   "outputs": [
    {
     "name": "stdout",
     "output_type": "stream",
     "text": [
      "<re.Match object; span=(0, 17), match='pyyyyyyyyyyyyyyyt'>\n",
      "<re.Match object; span=(0, 2), match='pt'>\n"
     ]
    }
   ],
   "source": [
    "email='pyyyyyyyyyyyyyyython_developer123@gmail.com'\n",
    "match=re.search(r'py*t',email)\n",
    "print(match)\n",
    "email='pthon_developer123@gmail.com'\n",
    "match=re.search(r'py*t',email)\n",
    "print(match)\n",
    "\n"
   ]
  },
  {
   "cell_type": "code",
   "execution_count": 30,
   "id": "e5ceab12",
   "metadata": {},
   "outputs": [
    {
     "name": "stdout",
     "output_type": "stream",
     "text": [
      "<re.Match object; span=(0, 17), match='pyyyyyyyyyyyyyyyt'>\n",
      "None\n"
     ]
    }
   ],
   "source": [
    "email='pyyyyyyyyyyyyyyython_developer123@gmail.com'\n",
    "match=re.search(r'py+t',email)\n",
    "print(match)\n",
    "email='pthon_developer123@gmail.com'\n",
    "match=re.search(r'py+t',email)\n",
    "print(match)\n"
   ]
  },
  {
   "cell_type": "code",
   "execution_count": 31,
   "id": "9835f146",
   "metadata": {},
   "outputs": [],
   "source": [
    "# The cali braces meta characer"
   ]
  },
  {
   "cell_type": "code",
   "execution_count": 33,
   "id": "b0ee0e2e",
   "metadata": {},
   "outputs": [
    {
     "name": "stdout",
     "output_type": "stream",
     "text": [
      "<re.Match object; span=(13, 15), match='ee'>\n",
      "<re.Match object; span=(13, 18), match='eeeee'>\n"
     ]
    }
   ],
   "source": [
    "email='pthon_developeer123@gmail.com'\n",
    "match=re.search(r'e{2,5}',email)\n",
    "print(match)\n",
    "email='pthon_developeeeeeeeeeeeer123@gmail.com'\n",
    "match=re.search(r'e{3,5}',email)\n",
    "print(match)"
   ]
  },
  {
   "cell_type": "code",
   "execution_count": 37,
   "id": "d1d791ed",
   "metadata": {},
   "outputs": [
    {
     "name": "stdout",
     "output_type": "stream",
     "text": [
      "<re.Match object; span=(0, 2), match='zy'>\n",
      "None\n"
     ]
    }
   ],
   "source": [
    "email='zython_developer123@gmail.com'\n",
    "match=re.search(r'(p|z)y',email)\n",
    "print(match)\n",
    "\n",
    "email='zython_developer123@gmail.com'\n",
    "match=re.search(r'(p|z)h',email)\n",
    "print(match)"
   ]
  },
  {
   "cell_type": "code",
   "execution_count": 38,
   "id": "4cb6f7c8",
   "metadata": {},
   "outputs": [],
   "source": [
    "# Regular Expressions"
   ]
  },
  {
   "cell_type": "code",
   "execution_count": 39,
   "id": "2a13b5a6",
   "metadata": {},
   "outputs": [],
   "source": [
    "# Special Sequences"
   ]
  },
  {
   "cell_type": "code",
   "execution_count": 40,
   "id": "796fc020",
   "metadata": {},
   "outputs": [],
   "source": [
    "sentence=\"I can't wait to see you at 3pm @ the restaurant\""
   ]
  },
  {
   "cell_type": "code",
   "execution_count": 44,
   "id": "2d93ae5f",
   "metadata": {},
   "outputs": [
    {
     "name": "stdout",
     "output_type": "stream",
     "text": [
      "<re.Match object; span=(0, 1), match='I'>\n",
      "<re.Match object; span=(0, 5), match='I can'>\n",
      "None\n"
     ]
    }
   ],
   "source": [
    "match=re.search(r'\\AI',sentence) #checks where the word starts with I\n",
    "print(match)\n",
    "\n",
    "match=re.search(r'\\AI can',sentence) #the word starts with I can\n",
    "print(match)\n",
    "match=re.search(r'\\Ac',sentence) # checks where the word starts with c\n",
    "print(match)"
   ]
  },
  {
   "cell_type": "code",
   "execution_count": 45,
   "id": "d3b41c71",
   "metadata": {},
   "outputs": [
    {
     "name": "stdout",
     "output_type": "stream",
     "text": [
      "<re.Match object; span=(0, 5), match='I can'>\n",
      "<re.Match object; span=(44, 47), match='ant'>\n"
     ]
    }
   ],
   "source": [
    "match=re.search(r'\\bI can',sentence) #the word starts with I can\n",
    "print(match)\n",
    "match=re.search(r'ant\\b',sentence) # checks where the word starts with c\n",
    "print(match)"
   ]
  },
  {
   "cell_type": "code",
   "execution_count": 46,
   "id": "28e27193",
   "metadata": {},
   "outputs": [],
   "source": [
    "# \\b"
   ]
  },
  {
   "cell_type": "code",
   "execution_count": 47,
   "id": "54dc5d12",
   "metadata": {},
   "outputs": [
    {
     "name": "stdout",
     "output_type": "stream",
     "text": [
      "<re.Match object; span=(37, 41), match='rest'>\n"
     ]
    }
   ],
   "source": [
    "match=re.search(r'rest\\B',sentence) # should not end with the given regex\n",
    "print(match)"
   ]
  },
  {
   "cell_type": "code",
   "execution_count": 49,
   "id": "c20e3659",
   "metadata": {},
   "outputs": [
    {
     "name": "stdout",
     "output_type": "stream",
     "text": [
      "<re.Match object; span=(27, 28), match='3'>\n"
     ]
    }
   ],
   "source": [
    "match=re.search(r'\\d',sentence)# match any digit character\n",
    "print(match)"
   ]
  },
  {
   "cell_type": "code",
   "execution_count": 50,
   "id": "8d65964f",
   "metadata": {},
   "outputs": [
    {
     "name": "stdout",
     "output_type": "stream",
     "text": [
      "<re.Match object; span=(0, 1), match='I'>\n"
     ]
    }
   ],
   "source": [
    "match=re.search(r'\\D',sentence) #match any non digit character\n",
    "print(match)"
   ]
  },
  {
   "cell_type": "code",
   "execution_count": 53,
   "id": "ad970fb9",
   "metadata": {},
   "outputs": [
    {
     "name": "stdout",
     "output_type": "stream",
     "text": [
      "[' ', ' ', ' ', ' ', ' ', ' ', ' ', ' ', ' ', ' ']\n",
      "['I', 'c', 'a', 'n', \"'\", 't', 'w', 'a', 'i', 't', 't', 'o', 's', 'e', 'e', 'y', 'o', 'u', 'a', 't', '3', 'p', 'm', '@', 't', 'h', 'e', 'r', 'e', 's', 't', 'a', 'u', 'r', 'a', 'n', 't']\n",
      "['I', \"can't\", 'wait', 'to', 'see', 'you', 'at', '3pm', '@', 'the', 'restaurant']\n"
     ]
    }
   ],
   "source": [
    "match=re.findall('\\s',sentence)\n",
    "print(match)\n",
    "\n",
    "match=re.findall('\\S',sentence)\n",
    "print(match)\n",
    "\n",
    "match=re.findall('\\S+',sentence)\n",
    "print(match)"
   ]
  },
  {
   "cell_type": "code",
   "execution_count": 56,
   "id": "fed7fa07",
   "metadata": {},
   "outputs": [
    {
     "name": "stdout",
     "output_type": "stream",
     "text": [
      "['I', 'c', 'a', 'n', 't', 'w', 'a', 'i', 't', 't', 'o', 's', 'e', 'e', 'y', 'o', 'u', 'a', 't', '3', 'p', 'm', 't', 'h', 'e', 'r', 'e', 's', 't', 'a', 'u', 'r', 'a', 'n', 't']\n",
      "['I', 'can', 't', 'wait', 'to', 'see', 'you', 'at', '3pm', 'the', 'restaurant']\n",
      "[' ', \"'\", ' ', ' ', ' ', ' ', ' ', ' ', ' @ ', ' ']\n"
     ]
    }
   ],
   "source": [
    "match=re.findall('\\w',sentence) # alphanumeric characters only\n",
    "print(match)\n",
    "\n",
    "match=re.findall('\\w+',sentence)\n",
    "print(match)\n",
    "\n",
    "match=re.findall('\\W+',sentence) # Non-alphanumeric characters\n",
    "print(match)"
   ]
  },
  {
   "cell_type": "code",
   "execution_count": null,
   "id": "eb8e357b",
   "metadata": {},
   "outputs": [],
   "source": []
  },
  {
   "cell_type": "code",
   "execution_count": 58,
   "id": "241564e9",
   "metadata": {},
   "outputs": [
    {
     "name": "stdout",
     "output_type": "stream",
     "text": [
      "<re.Match object; span=(44, 47), match='ant'>\n"
     ]
    }
   ],
   "source": [
    "match=re.search(r'ant\\Z',sentence)\n",
    "print(match)"
   ]
  },
  {
   "cell_type": "code",
   "execution_count": 59,
   "id": "834d47ea",
   "metadata": {},
   "outputs": [],
   "source": [
    "import re"
   ]
  },
  {
   "cell_type": "code",
   "execution_count": 66,
   "id": "3c5a9451",
   "metadata": {},
   "outputs": [
    {
     "name": "stdout",
     "output_type": "stream",
     "text": [
      "['7888577', '9900986']\n"
     ]
    }
   ],
   "source": [
    "string ='''\n",
    "Hello. You can contact me on 7888577 or you can contact my friend on \n",
    "9900986\n",
    "'''\n",
    "regex='\\d+'\n",
    "match=re.findall(regex,string)\n",
    "print(match)"
   ]
  },
  {
   "cell_type": "code",
   "execution_count": 67,
   "id": "976968b7",
   "metadata": {},
   "outputs": [
    {
     "data": {
      "text/plain": [
       "['d', 'c', 'e', 'e', 'e', 'a', 'e']"
      ]
     },
     "execution_count": 67,
     "metadata": {},
     "output_type": "execute_result"
    }
   ],
   "source": [
    "sentence=\"And this will pick out just the letters from a to e\"\n",
    "p=re.compile('[a-e]')\n",
    "p.findall(sentence)"
   ]
  },
  {
   "cell_type": "code",
   "execution_count": 68,
   "id": "2122352e",
   "metadata": {},
   "outputs": [
    {
     "data": {
      "text/plain": [
       "re.Pattern"
      ]
     },
     "execution_count": 68,
     "metadata": {},
     "output_type": "execute_result"
    }
   ],
   "source": [
    "type(p) #pattern object"
   ]
  },
  {
   "cell_type": "code",
   "execution_count": 70,
   "id": "a7c9469f",
   "metadata": {},
   "outputs": [
    {
     "name": "stdout",
     "output_type": "stream",
     "text": [
      "['1', '1', '0', '1', '9', '9', '6']\n"
     ]
    }
   ],
   "source": [
    "p=re.compile('\\d')\n",
    "print(p.findall(\"He was born at 1 A.M on the 10th July 1996\"))"
   ]
  },
  {
   "cell_type": "code",
   "execution_count": 71,
   "id": "30485336",
   "metadata": {},
   "outputs": [
    {
     "name": "stdout",
     "output_type": "stream",
     "text": [
      "['1', '10', '1996']\n"
     ]
    }
   ],
   "source": [
    "p=re.compile('\\d+')\n",
    "print(p.findall(\"He was born at 1 A.M on the 10th July 1996\"))"
   ]
  },
  {
   "cell_type": "code",
   "execution_count": 72,
   "id": "69dc22dc",
   "metadata": {},
   "outputs": [],
   "source": [
    "#split"
   ]
  },
  {
   "cell_type": "code",
   "execution_count": 75,
   "id": "64d3b4a1",
   "metadata": {},
   "outputs": [
    {
     "name": "stdout",
     "output_type": "stream",
     "text": [
      "['Hello', 'hello', 'hello']\n",
      "['', ', ', ',    ', '']\n",
      "['On ', 'st January ', ', at ', ':', ' AM']\n"
     ]
    }
   ],
   "source": [
    "print(re.split('\\W+',\"Hello, hello,    hello\"))\n",
    "print(re.split('\\w+',\"Hello, hello,    hello\"))\n",
    "print(re.split('\\d+',\"On 1st January 2022, at 09:00 AM\"))\n",
    "\n"
   ]
  },
  {
   "cell_type": "code",
   "execution_count": 79,
   "id": "e35804ed",
   "metadata": {},
   "outputs": [
    {
     "name": "stdout",
     "output_type": "stream",
     "text": [
      "I like playing the GUITAR because i love the  piano\n",
      "I like playing the  piano because i love the  piano\n",
      "I like playing the  piano because i love the guitar\n"
     ]
    }
   ],
   "source": [
    "print(re.sub('guitar',' piano','I like playing the GUITAR because i love the guitar'))\n",
    "print(re.sub('guitar',' piano',\"I like playing the GUITAR because i love the guitar\",flags=re.IGNORECASE))\n",
    "             \n",
    "             \n",
    "             \n",
    "print(re.sub('guitar',' piano','I like playing the GUITAR because i love the guitar',count=1,flags=re.IGNORECASE))"
   ]
  },
  {
   "cell_type": "code",
   "execution_count": 80,
   "id": "cc5504ca",
   "metadata": {},
   "outputs": [
    {
     "name": "stdout",
     "output_type": "stream",
     "text": [
      "<re.Match object; span=(14, 23), match='August 10'>\n"
     ]
    }
   ],
   "source": [
    "regex=r\"([a-zA-Z]+) (\\d+)\"\n",
    "match=re.search(regex,\"I was born on August 10\")\n",
    "print(match)"
   ]
  },
  {
   "cell_type": "code",
   "execution_count": 82,
   "id": "d489519a",
   "metadata": {},
   "outputs": [
    {
     "name": "stdout",
     "output_type": "stream",
     "text": [
      "match at index 14, 23\n",
      "Full match: August 10\n",
      "Month: August\n",
      "Day: 10\n"
     ]
    }
   ],
   "source": [
    "if match !=None:\n",
    "    print(\"match at index {}, {}\".format(match.start(),match.end()))\n",
    "    print(\"Full match: {}\".format(match.group(0)))\n",
    "    print(\"Month: {}\".format(match.group(1)))\n",
    "    print(\"Day: {}\".format(match.group(2)))"
   ]
  },
  {
   "cell_type": "code",
   "execution_count": null,
   "id": "d2a0aceb",
   "metadata": {},
   "outputs": [],
   "source": []
  }
 ],
 "metadata": {
  "kernelspec": {
   "display_name": "Python 3 (ipykernel)",
   "language": "python",
   "name": "python3"
  },
  "language_info": {
   "codemirror_mode": {
    "name": "ipython",
    "version": 3
   },
   "file_extension": ".py",
   "mimetype": "text/x-python",
   "name": "python",
   "nbconvert_exporter": "python",
   "pygments_lexer": "ipython3",
   "version": "3.10.9"
  }
 },
 "nbformat": 4,
 "nbformat_minor": 5
}

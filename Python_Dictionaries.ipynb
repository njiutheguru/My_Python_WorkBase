{
 "cells": [
  {
   "cell_type": "code",
   "execution_count": 1,
   "id": "b7fa643d",
   "metadata": {},
   "outputs": [],
   "source": [
    "#dictionaries introduction\n",
    "my_dict={}"
   ]
  },
  {
   "cell_type": "code",
   "execution_count": 2,
   "id": "117dd81a",
   "metadata": {},
   "outputs": [
    {
     "data": {
      "text/plain": [
       "dict"
      ]
     },
     "execution_count": 2,
     "metadata": {},
     "output_type": "execute_result"
    }
   ],
   "source": [
    "type(my_dict)"
   ]
  },
  {
   "cell_type": "code",
   "execution_count": 3,
   "id": "7f8a8626",
   "metadata": {},
   "outputs": [],
   "source": [
    "#creating a dictionary\n",
    "my_dict={1:'banana',2:'pearl'}"
   ]
  },
  {
   "cell_type": "code",
   "execution_count": 4,
   "id": "732411fa",
   "metadata": {},
   "outputs": [
    {
     "data": {
      "text/plain": [
       "{1: 'banana', 2: 'pearl'}"
      ]
     },
     "execution_count": 4,
     "metadata": {},
     "output_type": "execute_result"
    }
   ],
   "source": [
    "my_dict"
   ]
  },
  {
   "cell_type": "code",
   "execution_count": 5,
   "id": "4fa1c577",
   "metadata": {},
   "outputs": [
    {
     "name": "stdout",
     "output_type": "stream",
     "text": [
      "{1: 'banana', 2: 'pearl'}\n"
     ]
    }
   ],
   "source": [
    "print(my_dict)"
   ]
  },
  {
   "cell_type": "code",
   "execution_count": 6,
   "id": "e9cc7791",
   "metadata": {},
   "outputs": [],
   "source": [
    "my_dict_2={'apple':0.49,'guitar':4.99}"
   ]
  },
  {
   "cell_type": "code",
   "execution_count": 7,
   "id": "c31baed3",
   "metadata": {},
   "outputs": [
    {
     "data": {
      "text/plain": [
       "{'apple': 0.49, 'guitar': 4.99}"
      ]
     },
     "execution_count": 7,
     "metadata": {},
     "output_type": "execute_result"
    }
   ],
   "source": [
    "my_dict_2"
   ]
  },
  {
   "cell_type": "code",
   "execution_count": 9,
   "id": "a52acba0",
   "metadata": {},
   "outputs": [],
   "source": [
    "my_dict_3={'name':'peter',1:[2,3,4]}"
   ]
  },
  {
   "cell_type": "markdown",
   "id": "fb4f5c88",
   "metadata": {},
   "source": [
    "my_dict_3"
   ]
  },
  {
   "cell_type": "code",
   "execution_count": 10,
   "id": "9663fca1",
   "metadata": {},
   "outputs": [
    {
     "data": {
      "text/plain": [
       "{'name': 'peter', 1: [2, 3, 4]}"
      ]
     },
     "execution_count": 10,
     "metadata": {},
     "output_type": "execute_result"
    }
   ],
   "source": [
    "my_dict_3"
   ]
  },
  {
   "cell_type": "code",
   "execution_count": 11,
   "id": "f728c102",
   "metadata": {},
   "outputs": [],
   "source": [
    "names=['jane','Kim','Sam']\n",
    "ages=[24,33,55]"
   ]
  },
  {
   "cell_type": "code",
   "execution_count": 12,
   "id": "d37b83ff",
   "metadata": {},
   "outputs": [],
   "source": [
    "names_ages_list=list(zip(names,ages))"
   ]
  },
  {
   "cell_type": "code",
   "execution_count": 13,
   "id": "c3c4d2e4",
   "metadata": {},
   "outputs": [
    {
     "data": {
      "text/plain": [
       "[('jane', 24), ('Kim', 33), ('Sam', 55)]"
      ]
     },
     "execution_count": 13,
     "metadata": {},
     "output_type": "execute_result"
    }
   ],
   "source": [
    "names_ages_list"
   ]
  },
  {
   "cell_type": "code",
   "execution_count": 14,
   "id": "08fc9e7b",
   "metadata": {},
   "outputs": [],
   "source": [
    "names_ages_dict=dict(zip(names,ages))"
   ]
  },
  {
   "cell_type": "code",
   "execution_count": 15,
   "id": "00b916e2",
   "metadata": {},
   "outputs": [
    {
     "data": {
      "text/plain": [
       "{'jane': 24, 'Kim': 33, 'Sam': 55}"
      ]
     },
     "execution_count": 15,
     "metadata": {},
     "output_type": "execute_result"
    }
   ],
   "source": [
    "names_ages_dict"
   ]
  },
  {
   "cell_type": "code",
   "execution_count": 16,
   "id": "d62cd643",
   "metadata": {},
   "outputs": [],
   "source": [
    "#accessing elements from the dictionary..."
   ]
  },
  {
   "cell_type": "code",
   "execution_count": 18,
   "id": "63feffef",
   "metadata": {},
   "outputs": [
    {
     "data": {
      "text/plain": [
       "[('jane', 24), ('Kim', 33), ('Sam', 55)]"
      ]
     },
     "execution_count": 18,
     "metadata": {},
     "output_type": "execute_result"
    }
   ],
   "source": [
    "names_ages_list"
   ]
  },
  {
   "cell_type": "code",
   "execution_count": 19,
   "id": "e520cb3e",
   "metadata": {},
   "outputs": [
    {
     "data": {
      "text/plain": [
       "{'jane': 24, 'Kim': 33, 'Sam': 55}"
      ]
     },
     "execution_count": 19,
     "metadata": {},
     "output_type": "execute_result"
    }
   ],
   "source": [
    "names_ages_dict"
   ]
  },
  {
   "cell_type": "code",
   "execution_count": 20,
   "id": "3b7f810e",
   "metadata": {},
   "outputs": [
    {
     "data": {
      "text/plain": [
       "24"
      ]
     },
     "execution_count": 20,
     "metadata": {},
     "output_type": "execute_result"
    }
   ],
   "source": [
    "names_ages_dict['jane']"
   ]
  },
  {
   "cell_type": "code",
   "execution_count": 21,
   "id": "3fe45a98",
   "metadata": {},
   "outputs": [
    {
     "data": {
      "text/plain": [
       "33"
      ]
     },
     "execution_count": 21,
     "metadata": {},
     "output_type": "execute_result"
    }
   ],
   "source": [
    "names_ages_dict['Kim']"
   ]
  },
  {
   "cell_type": "code",
   "execution_count": 23,
   "id": "100c99f4",
   "metadata": {},
   "outputs": [
    {
     "ename": "KeyError",
     "evalue": "'Jaane'",
     "output_type": "error",
     "traceback": [
      "\u001b[1;31m---------------------------------------------------------------------------\u001b[0m",
      "\u001b[1;31mKeyError\u001b[0m                                  Traceback (most recent call last)",
      "Cell \u001b[1;32mIn[23], line 1\u001b[0m\n\u001b[1;32m----> 1\u001b[0m \u001b[43mnames_ages_dict\u001b[49m\u001b[43m[\u001b[49m\u001b[38;5;124;43m'\u001b[39;49m\u001b[38;5;124;43mJaane\u001b[39;49m\u001b[38;5;124;43m'\u001b[39;49m\u001b[43m]\u001b[49m\n",
      "\u001b[1;31mKeyError\u001b[0m: 'Jaane'"
     ]
    }
   ],
   "source": [
    "names_ages_dict['Jaane'] #returns an error"
   ]
  },
  {
   "cell_type": "code",
   "execution_count": 25,
   "id": "c9409101",
   "metadata": {},
   "outputs": [
    {
     "data": {
      "text/plain": [
       "55"
      ]
     },
     "execution_count": 25,
     "metadata": {},
     "output_type": "execute_result"
    }
   ],
   "source": [
    "names_ages_dict.get('Sam')"
   ]
  },
  {
   "cell_type": "code",
   "execution_count": 26,
   "id": "82943418",
   "metadata": {},
   "outputs": [
    {
     "data": {
      "text/plain": [
       "24"
      ]
     },
     "execution_count": 26,
     "metadata": {},
     "output_type": "execute_result"
    }
   ],
   "source": [
    "names_ages_dict.get('jane')"
   ]
  },
  {
   "cell_type": "code",
   "execution_count": 27,
   "id": "d3f63744",
   "metadata": {},
   "outputs": [],
   "source": [
    " #changing and adding dictionary elements.."
   ]
  },
  {
   "cell_type": "code",
   "execution_count": 28,
   "id": "742ab272",
   "metadata": {},
   "outputs": [
    {
     "data": {
      "text/plain": [
       "{1: 'banana', 2: 'pearl'}"
      ]
     },
     "execution_count": 28,
     "metadata": {},
     "output_type": "execute_result"
    }
   ],
   "source": [
    "my_dict"
   ]
  },
  {
   "cell_type": "code",
   "execution_count": 29,
   "id": "189ae013",
   "metadata": {},
   "outputs": [],
   "source": [
    "my_dict={'apple': 0.49,'banana':0.69,'bread':1.50}"
   ]
  },
  {
   "cell_type": "code",
   "execution_count": 30,
   "id": "bc5bb885",
   "metadata": {},
   "outputs": [
    {
     "data": {
      "text/plain": [
       "{'apple': 0.49, 'banana': 0.69, 'bread': 1.5}"
      ]
     },
     "execution_count": 30,
     "metadata": {},
     "output_type": "execute_result"
    }
   ],
   "source": [
    "my_dict"
   ]
  },
  {
   "cell_type": "code",
   "execution_count": 31,
   "id": "b821298c",
   "metadata": {},
   "outputs": [
    {
     "data": {
      "text/plain": [
       "{'apple': 0.49, 'banana': 0.69, 'bread': 2.5}"
      ]
     },
     "execution_count": 31,
     "metadata": {},
     "output_type": "execute_result"
    }
   ],
   "source": [
    "my_dict['bread']=2.50 #this updates the value of the dictionary\n",
    "my_dict"
   ]
  },
  {
   "cell_type": "code",
   "execution_count": 32,
   "id": "0368f79d",
   "metadata": {},
   "outputs": [],
   "source": [
    "my_dict['pear']=0.99 #pear is appended in the dictionary..."
   ]
  },
  {
   "cell_type": "code",
   "execution_count": 33,
   "id": "fcf4934a",
   "metadata": {},
   "outputs": [
    {
     "data": {
      "text/plain": [
       "{'apple': 0.49, 'banana': 0.69, 'bread': 2.5, 'pear': 0.99}"
      ]
     },
     "execution_count": 33,
     "metadata": {},
     "output_type": "execute_result"
    }
   ],
   "source": [
    "my_dict"
   ]
  },
  {
   "cell_type": "code",
   "execution_count": 35,
   "id": "d83ef785",
   "metadata": {},
   "outputs": [],
   "source": [
    "#removing elements from a dictionary..we use the pop() method\n"
   ]
  },
  {
   "cell_type": "code",
   "execution_count": 37,
   "id": "eecd0e3d",
   "metadata": {},
   "outputs": [
    {
     "data": {
      "text/plain": [
       "2.5"
      ]
     },
     "execution_count": 37,
     "metadata": {},
     "output_type": "execute_result"
    }
   ],
   "source": [
    "my_dict.pop('bread')#returns a value of the key which can be used elsewhere\n",
    "\n"
   ]
  },
  {
   "cell_type": "code",
   "execution_count": 38,
   "id": "ca72eb7e",
   "metadata": {},
   "outputs": [
    {
     "data": {
      "text/plain": [
       "0.5"
      ]
     },
     "execution_count": 38,
     "metadata": {},
     "output_type": "execute_result"
    }
   ],
   "source": [
    "my_dict.pop('butter',0.50) #returns the alternative value provided"
   ]
  },
  {
   "cell_type": "code",
   "execution_count": 39,
   "id": "a9efcd4b",
   "metadata": {},
   "outputs": [
    {
     "data": {
      "text/plain": [
       "('pear', 0.99)"
      ]
     },
     "execution_count": 39,
     "metadata": {},
     "output_type": "execute_result"
    }
   ],
   "source": [
    "my_dict.popitem()#pop items deletes the last element in the dictionary\n"
   ]
  },
  {
   "cell_type": "code",
   "execution_count": 40,
   "id": "e337b979",
   "metadata": {},
   "outputs": [
    {
     "data": {
      "text/plain": [
       "('banana', 0.69)"
      ]
     },
     "execution_count": 40,
     "metadata": {},
     "output_type": "execute_result"
    }
   ],
   "source": [
    "my_dict.popitem()"
   ]
  },
  {
   "cell_type": "code",
   "execution_count": 41,
   "id": "770a2fac",
   "metadata": {},
   "outputs": [
    {
     "data": {
      "text/plain": [
       "{'apple': 0.49}"
      ]
     },
     "execution_count": 41,
     "metadata": {},
     "output_type": "execute_result"
    }
   ],
   "source": [
    "my_dict"
   ]
  },
  {
   "cell_type": "code",
   "execution_count": 42,
   "id": "b2f5d4fc",
   "metadata": {},
   "outputs": [],
   "source": [
    "my_dict.clear()"
   ]
  },
  {
   "cell_type": "code",
   "execution_count": 43,
   "id": "5d7ddb33",
   "metadata": {},
   "outputs": [
    {
     "data": {
      "text/plain": [
       "{}"
      ]
     },
     "execution_count": 43,
     "metadata": {},
     "output_type": "execute_result"
    }
   ],
   "source": [
    "my_dict"
   ]
  },
  {
   "cell_type": "code",
   "execution_count": 44,
   "id": "efa60757",
   "metadata": {},
   "outputs": [],
   "source": [
    "  my_dict={'apple': 0.49, 'banana': 0.69, 'bread': 2.5, 'pear': 0.99}"
   ]
  },
  {
   "cell_type": "code",
   "execution_count": 45,
   "id": "0b87e6e9",
   "metadata": {},
   "outputs": [
    {
     "data": {
      "text/plain": [
       "{'apple': 0.49, 'banana': 0.69, 'bread': 2.5, 'pear': 0.99}"
      ]
     },
     "execution_count": 45,
     "metadata": {},
     "output_type": "execute_result"
    }
   ],
   "source": [
    "my_dict"
   ]
  },
  {
   "cell_type": "code",
   "execution_count": 46,
   "id": "36143b10",
   "metadata": {},
   "outputs": [],
   "source": [
    "del my_dict['apple']"
   ]
  },
  {
   "cell_type": "code",
   "execution_count": 47,
   "id": "ec319158",
   "metadata": {},
   "outputs": [
    {
     "data": {
      "text/plain": [
       "{'banana': 0.69, 'bread': 2.5, 'pear': 0.99}"
      ]
     },
     "execution_count": 47,
     "metadata": {},
     "output_type": "execute_result"
    }
   ],
   "source": [
    "my_dict"
   ]
  },
  {
   "cell_type": "code",
   "execution_count": 48,
   "id": "cf3e5aa5",
   "metadata": {},
   "outputs": [],
   "source": [
    "del my_dict"
   ]
  },
  {
   "cell_type": "code",
   "execution_count": 49,
   "id": "28ea8a8f",
   "metadata": {},
   "outputs": [
    {
     "ename": "NameError",
     "evalue": "name 'my_dict' is not defined",
     "output_type": "error",
     "traceback": [
      "\u001b[1;31m---------------------------------------------------------------------------\u001b[0m",
      "\u001b[1;31mNameError\u001b[0m                                 Traceback (most recent call last)",
      "Cell \u001b[1;32mIn[49], line 1\u001b[0m\n\u001b[1;32m----> 1\u001b[0m \u001b[43mmy_dict\u001b[49m\n",
      "\u001b[1;31mNameError\u001b[0m: name 'my_dict' is not defined"
     ]
    }
   ],
   "source": [
    "my_dict"
   ]
  },
  {
   "cell_type": "code",
   "execution_count": null,
   "id": "45dab452",
   "metadata": {},
   "outputs": [],
   "source": []
  },
  {
   "cell_type": "code",
   "execution_count": 50,
   "id": "9f58b245",
   "metadata": {},
   "outputs": [],
   "source": [
    "#introducing Dictionary Methods..\n"
   ]
  },
  {
   "cell_type": "code",
   "execution_count": 51,
   "id": "7799ab39",
   "metadata": {},
   "outputs": [],
   "source": [
    "my_dict={'apple': 0.49, 'banana': 0.69, 'bread': 2.5, 'pear': 0.99}"
   ]
  },
  {
   "cell_type": "code",
   "execution_count": 52,
   "id": "e8468570",
   "metadata": {},
   "outputs": [
    {
     "data": {
      "text/plain": [
       "{'apple': 0.49, 'banana': 0.69, 'bread': 2.5, 'pear': 0.99}"
      ]
     },
     "execution_count": 52,
     "metadata": {},
     "output_type": "execute_result"
    }
   ],
   "source": [
    "my_dict"
   ]
  },
  {
   "cell_type": "code",
   "execution_count": 53,
   "id": "aab6a113",
   "metadata": {},
   "outputs": [
    {
     "data": {
      "text/plain": [
       "dict"
      ]
     },
     "execution_count": 53,
     "metadata": {},
     "output_type": "execute_result"
    }
   ],
   "source": [
    "type(my_dict)"
   ]
  },
  {
   "cell_type": "code",
   "execution_count": 54,
   "id": "409fc3aa",
   "metadata": {},
   "outputs": [
    {
     "data": {
      "text/plain": [
       "[('apple', 0.49), ('banana', 0.69), ('bread', 2.5), ('pear', 0.99)]"
      ]
     },
     "execution_count": 54,
     "metadata": {},
     "output_type": "execute_result"
    }
   ],
   "source": [
    "list(my_dict.items())"
   ]
  },
  {
   "cell_type": "code",
   "execution_count": 55,
   "id": "c65c0814",
   "metadata": {},
   "outputs": [
    {
     "data": {
      "text/plain": [
       "dict_items"
      ]
     },
     "execution_count": 55,
     "metadata": {},
     "output_type": "execute_result"
    }
   ],
   "source": [
    "type(my_dict.items())"
   ]
  },
  {
   "cell_type": "code",
   "execution_count": 56,
   "id": "ff146b4d",
   "metadata": {},
   "outputs": [
    {
     "data": {
      "text/plain": [
       "dict_keys(['apple', 'banana', 'bread', 'pear'])"
      ]
     },
     "execution_count": 56,
     "metadata": {},
     "output_type": "execute_result"
    }
   ],
   "source": [
    "my_dict.keys()"
   ]
  },
  {
   "cell_type": "code",
   "execution_count": 57,
   "id": "6dc1b231",
   "metadata": {},
   "outputs": [
    {
     "data": {
      "text/plain": [
       "dict_keys"
      ]
     },
     "execution_count": 57,
     "metadata": {},
     "output_type": "execute_result"
    }
   ],
   "source": [
    "type(my_dict.keys())"
   ]
  },
  {
   "cell_type": "code",
   "execution_count": 58,
   "id": "4b2a51cb",
   "metadata": {},
   "outputs": [
    {
     "data": {
      "text/plain": [
       "dict_values([0.49, 0.69, 2.5, 0.99])"
      ]
     },
     "execution_count": 58,
     "metadata": {},
     "output_type": "execute_result"
    }
   ],
   "source": [
    "my_dict.values()"
   ]
  },
  {
   "cell_type": "code",
   "execution_count": 59,
   "id": "4b94d6bb",
   "metadata": {},
   "outputs": [
    {
     "name": "stdout",
     "output_type": "stream",
     "text": [
      "('apple', 0.49)\n",
      "('banana', 0.69)\n",
      "('bread', 2.5)\n",
      "('pear', 0.99)\n"
     ]
    }
   ],
   "source": [
    "for value in my_dict.items(): print (value)"
   ]
  },
  {
   "cell_type": "code",
   "execution_count": 60,
   "id": "2ac87660",
   "metadata": {},
   "outputs": [],
   "source": [
    "#introducing dictionary membership and built-in-functions"
   ]
  },
  {
   "cell_type": "code",
   "execution_count": 61,
   "id": "591c1410",
   "metadata": {},
   "outputs": [],
   "source": [
    "my_dict={'apple': 0.49, 'banana': 0.69, 'bread': 2.5, 'pear': 0.99}"
   ]
  },
  {
   "cell_type": "code",
   "execution_count": 62,
   "id": "6d7ac328",
   "metadata": {},
   "outputs": [
    {
     "data": {
      "text/plain": [
       "True"
      ]
     },
     "execution_count": 62,
     "metadata": {},
     "output_type": "execute_result"
    }
   ],
   "source": [
    "'banana' in my_dict"
   ]
  },
  {
   "cell_type": "code",
   "execution_count": 63,
   "id": "29f03413",
   "metadata": {},
   "outputs": [
    {
     "data": {
      "text/plain": [
       "False"
      ]
     },
     "execution_count": 63,
     "metadata": {},
     "output_type": "execute_result"
    }
   ],
   "source": [
    "'apple'not in my_dict"
   ]
  },
  {
   "cell_type": "code",
   "execution_count": 64,
   "id": "f2b8388b",
   "metadata": {},
   "outputs": [
    {
     "data": {
      "text/plain": [
       "4"
      ]
     },
     "execution_count": 64,
     "metadata": {},
     "output_type": "execute_result"
    }
   ],
   "source": [
    "len(my_dict)"
   ]
  },
  {
   "cell_type": "code",
   "execution_count": 65,
   "id": "36fccc05",
   "metadata": {},
   "outputs": [
    {
     "data": {
      "text/plain": [
       "['apple', 'banana', 'bread', 'pear']"
      ]
     },
     "execution_count": 65,
     "metadata": {},
     "output_type": "execute_result"
    }
   ],
   "source": [
    "sorted(my_dict)"
   ]
  },
  {
   "cell_type": "code",
   "execution_count": 66,
   "id": "73f9da52",
   "metadata": {},
   "outputs": [
    {
     "data": {
      "text/plain": [
       "True"
      ]
     },
     "execution_count": 66,
     "metadata": {},
     "output_type": "execute_result"
    }
   ],
   "source": [
    "#all-returns true is all \n",
    "all(my_dict)"
   ]
  },
  {
   "cell_type": "code",
   "execution_count": 67,
   "id": "abd25b8e",
   "metadata": {},
   "outputs": [
    {
     "data": {
      "text/plain": [
       "True"
      ]
     },
     "execution_count": 67,
     "metadata": {},
     "output_type": "execute_result"
    }
   ],
   "source": [
    "any(my_dict)"
   ]
  },
  {
   "cell_type": "code",
   "execution_count": null,
   "id": "f1026611",
   "metadata": {},
   "outputs": [],
   "source": [
    "any"
   ]
  }
 ],
 "metadata": {
  "kernelspec": {
   "display_name": "Python 3 (ipykernel)",
   "language": "python",
   "name": "python3"
  },
  "language_info": {
   "codemirror_mode": {
    "name": "ipython",
    "version": 3
   },
   "file_extension": ".py",
   "mimetype": "text/x-python",
   "name": "python",
   "nbconvert_exporter": "python",
   "pygments_lexer": "ipython3",
   "version": "3.10.9"
  }
 },
 "nbformat": 4,
 "nbformat_minor": 5
}

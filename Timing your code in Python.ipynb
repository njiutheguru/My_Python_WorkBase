{
 "cells": [
  {
   "cell_type": "code",
   "execution_count": 1,
   "id": "5f8aeac3",
   "metadata": {},
   "outputs": [],
   "source": [
    "import time\n"
   ]
  },
  {
   "cell_type": "code",
   "execution_count": 2,
   "id": "9ed66e6d",
   "metadata": {},
   "outputs": [
    {
     "name": "stdout",
     "output_type": "stream",
     "text": [
      "Hello Everyone!\n",
      "Hello? are you there?\n",
      "Code run in 3.003 seconds\n"
     ]
    }
   ],
   "source": [
    "start=time.perf_counter()\n",
    "\n",
    "print(\"Hello Everyone!\")\n",
    "time.sleep(3)\n",
    "print(\"Hello? are you there?\")\n",
    "\n",
    "end=time.perf_counter()\n",
    "\n",
    "print(f\"Code run in {end-start:0.3f} seconds\")"
   ]
  },
  {
   "cell_type": "code",
   "execution_count": 3,
   "id": "d54641fa",
   "metadata": {},
   "outputs": [],
   "source": [
    "from timeit import timeit"
   ]
  },
  {
   "cell_type": "code",
   "execution_count": 7,
   "id": "61eb094e",
   "metadata": {},
   "outputs": [
    {
     "name": "stdout",
     "output_type": "stream",
     "text": [
      "Time in seconds: 0.4315113000338897\n"
     ]
    }
   ],
   "source": [
    "def join_numbers():\n",
    "    return \",\".join(str(n) for n in range(1000000))\n",
    "result=timeit(join_numbers,number=1)\n",
    "print(\"Time in seconds:\",result)"
   ]
  },
  {
   "cell_type": "code",
   "execution_count": 8,
   "id": "c4d4f788",
   "metadata": {},
   "outputs": [
    {
     "name": "stdout",
     "output_type": "stream",
     "text": [
      "1.01 s ± 5.33 ms per loop (mean ± std. dev. of 7 runs, 1 loop each)\n"
     ]
    }
   ],
   "source": [
    "%timeit time.sleep(1)"
   ]
  },
  {
   "cell_type": "code",
   "execution_count": 9,
   "id": "6816bff3",
   "metadata": {},
   "outputs": [
    {
     "name": "stdout",
     "output_type": "stream",
     "text": [
      "4.73 ms ± 294 µs per loop (mean ± std. dev. of 7 runs, 100 loops each)\n"
     ]
    }
   ],
   "source": [
    "%timeit max(range(100000))"
   ]
  },
  {
   "cell_type": "code",
   "execution_count": 10,
   "id": "e55dba7b",
   "metadata": {},
   "outputs": [
    {
     "name": "stdout",
     "output_type": "stream",
     "text": [
      "Hello Everyone!\n",
      "Hello? are you there?\n",
      "---------\n",
      "Hello Everyone!\n",
      "Hello? are you there?\n",
      "---------\n",
      "Hello Everyone!\n",
      "Hello? are you there?\n",
      "---------\n",
      "Hello Everyone!\n",
      "Hello? are you there?\n",
      "---------\n",
      "Hello Everyone!\n",
      "Hello? are you there?\n",
      "---------\n",
      "Hello Everyone!\n",
      "Hello? are you there?\n",
      "---------\n",
      "Hello Everyone!\n",
      "Hello? are you there?\n",
      "---------\n",
      "Hello Everyone!\n",
      "Hello? are you there?\n",
      "---------\n",
      "3.01 s ± 4.48 ms per loop (mean ± std. dev. of 7 runs, 1 loop each)\n"
     ]
    }
   ],
   "source": [
    "%%timeit\n",
    "print(\"Hello Everyone!\")\n",
    "time.sleep(3)\n",
    "print(\"Hello? are you there?\")\n",
    "print (\"---------\")"
   ]
  },
  {
   "cell_type": "code",
   "execution_count": 12,
   "id": "c3ce5f29",
   "metadata": {},
   "outputs": [
    {
     "name": "stdout",
     "output_type": "stream",
     "text": [
      "Hello Everyone!\n",
      "Hello? are you there?\n",
      "_------------------\n",
      "Hello Everyone!\n",
      "Hello? are you there?\n",
      "_------------------\n",
      "Hello Everyone!\n",
      "Hello? are you there?\n",
      "_------------------\n",
      "1.01 s ± 5.44 ms per loop (mean ± std. dev. of 3 runs, 1 loop each)\n"
     ]
    }
   ],
   "source": [
    "%%timeit -r 3 -n 1\n",
    "print(\"Hello Everyone!\")\n",
    "time.sleep(1)\n",
    "print(\"Hello? are you there?\")\n",
    "print(\"_------------------\")"
   ]
  },
  {
   "cell_type": "code",
   "execution_count": 13,
   "id": "4297225c",
   "metadata": {},
   "outputs": [],
   "source": [
    "# Using decorators"
   ]
  },
  {
   "cell_type": "code",
   "execution_count": 14,
   "id": "786d1d76",
   "metadata": {},
   "outputs": [],
   "source": [
    "import functools\n",
    "\n",
    "def timefunc(func):\n",
    "    def time_closure(*args, **kwargs):\n",
    "        start =time.perf_counter()\n",
    "        result=func(*args, **kwargs)\n",
    "        time_elapsed=time.perf_counter() -start\n",
    "        print(f\"Fuction: {func.__name__},Time: {time_elapsed}\")\n",
    "        return result\n",
    "    return time_closure"
   ]
  },
  {
   "cell_type": "code",
   "execution_count": 25,
   "id": "0e0d8618",
   "metadata": {},
   "outputs": [
    {
     "name": "stdout",
     "output_type": "stream",
     "text": [
      "Hello Everyone!\n",
      "Hello? Are you there?\n",
      "Fuction: )my_func,Time: 1.0060017999494448\n"
     ]
    }
   ],
   "source": [
    "@timefunc\n",
    "def my_func():\n",
    "    print(\"Hello Everyone!\")\n",
    "    time.sleep(1)\n",
    "    print(\"Hello? Are you there?\")\n",
    "\n",
    "my_func()"
   ]
  },
  {
   "cell_type": "code",
   "execution_count": null,
   "id": "6b15fbba",
   "metadata": {},
   "outputs": [],
   "source": []
  },
  {
   "cell_type": "code",
   "execution_count": null,
   "id": "85b91507",
   "metadata": {},
   "outputs": [],
   "source": []
  }
 ],
 "metadata": {
  "kernelspec": {
   "display_name": "Python 3 (ipykernel)",
   "language": "python",
   "name": "python3"
  },
  "language_info": {
   "codemirror_mode": {
    "name": "ipython",
    "version": 3
   },
   "file_extension": ".py",
   "mimetype": "text/x-python",
   "name": "python",
   "nbconvert_exporter": "python",
   "pygments_lexer": "ipython3",
   "version": "3.10.9"
  }
 },
 "nbformat": 4,
 "nbformat_minor": 5
}

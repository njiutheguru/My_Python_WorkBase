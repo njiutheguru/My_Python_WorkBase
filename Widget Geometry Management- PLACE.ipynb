{
 "cells": [
  {
   "cell_type": "markdown",
   "id": "cd8f9ca9",
   "metadata": {},
   "source": [
    "# Widget Geometry Management\n",
    "\n",
    "### Place"
   ]
  },
  {
   "cell_type": "code",
   "execution_count": 6,
   "id": "405263a4",
   "metadata": {},
   "outputs": [],
   "source": [
    "from tkinter import *\n",
    "\n",
    "root=Tk()\n",
    "root.geometry(\"200x200\")\n",
    "button1=Button(root,text='click me!',\n",
    "              bd=5)\n",
    "button1.place(anchor = NW,\n",
    "             height=70,\n",
    "             width=70,\n",
    "             relx=1,\n",
    "             x=-70,\n",
    "             y=20)\n",
    "\n",
    "label1=Label(root,text='Top left label')\n",
    "label1.place(anchor=NW)\n",
    "\n",
    "button2=Button(root,text='Middle Button')\n",
    "button2.place(relx=0.5,\n",
    "             rely=0.5,\n",
    "              anchor=C\n",
    "             )\n",
    "root.mainloop()"
   ]
  },
  {
   "cell_type": "code",
   "execution_count": null,
   "id": "4db0de76",
   "metadata": {},
   "outputs": [],
   "source": []
  }
 ],
 "metadata": {
  "kernelspec": {
   "display_name": "Python 3 (ipykernel)",
   "language": "python",
   "name": "python3"
  },
  "language_info": {
   "codemirror_mode": {
    "name": "ipython",
    "version": 3
   },
   "file_extension": ".py",
   "mimetype": "text/x-python",
   "name": "python",
   "nbconvert_exporter": "python",
   "pygments_lexer": "ipython3",
   "version": "3.10.9"
  }
 },
 "nbformat": 4,
 "nbformat_minor": 5
}

{
 "cells": [
  {
   "cell_type": "code",
   "execution_count": 1,
   "id": "58223e01",
   "metadata": {},
   "outputs": [],
   "source": [
    "#introducing lists in python\n"
   ]
  },
  {
   "cell_type": "code",
   "execution_count": 2,
   "id": "7e7ab4e9",
   "metadata": {},
   "outputs": [],
   "source": [
    "shopping_list=[]"
   ]
  },
  {
   "cell_type": "code",
   "execution_count": 3,
   "id": "26d72073",
   "metadata": {},
   "outputs": [
    {
     "data": {
      "text/plain": [
       "list"
      ]
     },
     "execution_count": 3,
     "metadata": {},
     "output_type": "execute_result"
    }
   ],
   "source": [
    "type(shopping_list)"
   ]
  },
  {
   "cell_type": "code",
   "execution_count": 4,
   "id": "2c8f4aec",
   "metadata": {},
   "outputs": [],
   "source": [
    "shopping_list=['Apples', 'Milk', 'Bread', 'Crisps', 'Lettuce']"
   ]
  },
  {
   "cell_type": "code",
   "execution_count": 5,
   "id": "4a2b5160",
   "metadata": {},
   "outputs": [
    {
     "data": {
      "text/plain": [
       "['Apples', 'Milk', 'Bread', 'Crisps', 'Lettuce']"
      ]
     },
     "execution_count": 5,
     "metadata": {},
     "output_type": "execute_result"
    }
   ],
   "source": [
    "shopping_list"
   ]
  },
  {
   "cell_type": "code",
   "execution_count": 6,
   "id": "adf476d9",
   "metadata": {},
   "outputs": [
    {
     "data": {
      "text/plain": [
       "[3, 5, 6, 7, 33, 8]"
      ]
     },
     "execution_count": 6,
     "metadata": {},
     "output_type": "execute_result"
    }
   ],
   "source": [
    "numberlist=[3,5,6,7,33,8]\n",
    "numberlist"
   ]
  },
  {
   "cell_type": "code",
   "execution_count": 8,
   "id": "367d8b9e",
   "metadata": {},
   "outputs": [
    {
     "data": {
      "text/plain": [
       "['hello', 10, True, 0.8899]"
      ]
     },
     "execution_count": 8,
     "metadata": {},
     "output_type": "execute_result"
    }
   ],
   "source": [
    "mixed_list=['hello',10,True,0.8899]\n",
    "mixed_list"
   ]
  },
  {
   "cell_type": "code",
   "execution_count": 10,
   "id": "622381a3",
   "metadata": {},
   "outputs": [
    {
     "data": {
      "text/plain": [
       "['hello', 10, True, 0.8899, [3, 5, 6, 7, 8, 8, 9]]"
      ]
     },
     "execution_count": 10,
     "metadata": {},
     "output_type": "execute_result"
    }
   ],
   "source": [
    "#list inside a list...\n",
    "mixed_list=['hello',10,True,0.8899,[3,5,6,7,8,8,9]]\n",
    "mixed_list"
   ]
  },
  {
   "cell_type": "code",
   "execution_count": 11,
   "id": "08337bae",
   "metadata": {},
   "outputs": [],
   "source": [
    "tic_tac_toe=[\n",
    "    [\n",
    "        [\"\"],[\"\"],[\"\"],\n",
    "         [\"\"],[\"\"],[\"\"],\n",
    "         [\"\"],[\"\"],[\"\"]\n",
    "    ]\n",
    "]"
   ]
  },
  {
   "cell_type": "code",
   "execution_count": 12,
   "id": "d6ca9646",
   "metadata": {},
   "outputs": [],
   "source": [
    "empty_list=[]"
   ]
  },
  {
   "cell_type": "code",
   "execution_count": 13,
   "id": "b52664c3",
   "metadata": {},
   "outputs": [],
   "source": [
    "#accessing list elements (introduing list indexing..)\n"
   ]
  },
  {
   "cell_type": "code",
   "execution_count": 14,
   "id": "db9f973b",
   "metadata": {},
   "outputs": [],
   "source": [
    "shopping_list=['Apples', 'Milk', 'Bread', 'Crisps', 'Lettuce']"
   ]
  },
  {
   "cell_type": "code",
   "execution_count": 29,
   "id": "d44574e5",
   "metadata": {},
   "outputs": [
    {
     "data": {
      "text/plain": [
       "['Apples',\n",
       " 'Milk',\n",
       " 'Bread',\n",
       " 'Crisps',\n",
       " 'Lettuce',\n",
       " 'sweets',\n",
       " 'chocolate',\n",
       " 'crisps',\n",
       " 'soup',\n",
       " 'chapo']"
      ]
     },
     "execution_count": 29,
     "metadata": {},
     "output_type": "execute_result"
    }
   ],
   "source": [
    "shopping_list"
   ]
  },
  {
   "cell_type": "code",
   "execution_count": 17,
   "id": "d19ecdbb",
   "metadata": {},
   "outputs": [
    {
     "ename": "IndexError",
     "evalue": "list index out of range",
     "output_type": "error",
     "traceback": [
      "\u001b[1;31m---------------------------------------------------------------------------\u001b[0m",
      "\u001b[1;31mIndexError\u001b[0m                                Traceback (most recent call last)",
      "Cell \u001b[1;32mIn[17], line 1\u001b[0m\n\u001b[1;32m----> 1\u001b[0m \u001b[43mshopping_list\u001b[49m\u001b[43m[\u001b[49m\u001b[38;5;241;43m5\u001b[39;49m\u001b[43m]\u001b[49m\n",
      "\u001b[1;31mIndexError\u001b[0m: list index out of range"
     ]
    }
   ],
   "source": [
    "shopping_list[5] #indexing starts at 0 and only include integers"
   ]
  },
  {
   "cell_type": "code",
   "execution_count": 18,
   "id": "c0132fd5",
   "metadata": {},
   "outputs": [],
   "source": [
    "position=[1,2,3,4,5,[6,7,8,9]]"
   ]
  },
  {
   "cell_type": "code",
   "execution_count": 19,
   "id": "9cc85b4d",
   "metadata": {},
   "outputs": [
    {
     "data": {
      "text/plain": [
       "[6, 7, 8, 9]"
      ]
     },
     "execution_count": 19,
     "metadata": {},
     "output_type": "execute_result"
    }
   ],
   "source": [
    "position[5]"
   ]
  },
  {
   "cell_type": "code",
   "execution_count": 20,
   "id": "108d3636",
   "metadata": {},
   "outputs": [
    {
     "data": {
      "text/plain": [
       "list"
      ]
     },
     "execution_count": 20,
     "metadata": {},
     "output_type": "execute_result"
    }
   ],
   "source": [
    "type(position[5])"
   ]
  },
  {
   "cell_type": "code",
   "execution_count": 21,
   "id": "efaacfa3",
   "metadata": {},
   "outputs": [
    {
     "data": {
      "text/plain": [
       "7"
      ]
     },
     "execution_count": 21,
     "metadata": {},
     "output_type": "execute_result"
    }
   ],
   "source": [
    "position[5][1]"
   ]
  },
  {
   "cell_type": "code",
   "execution_count": 22,
   "id": "4442cf65",
   "metadata": {},
   "outputs": [],
   "source": [
    "#using negative indexing in python.."
   ]
  },
  {
   "cell_type": "code",
   "execution_count": 23,
   "id": "4f88be91",
   "metadata": {},
   "outputs": [
    {
     "data": {
      "text/plain": [
       "[6, 7, 8, 9]"
      ]
     },
     "execution_count": 23,
     "metadata": {},
     "output_type": "execute_result"
    }
   ],
   "source": [
    "position[-1]"
   ]
  },
  {
   "cell_type": "code",
   "execution_count": 24,
   "id": "f02d9004",
   "metadata": {},
   "outputs": [
    {
     "data": {
      "text/plain": [
       "8"
      ]
     },
     "execution_count": 24,
     "metadata": {},
     "output_type": "execute_result"
    }
   ],
   "source": [
    "position[-1][-2]"
   ]
  },
  {
   "cell_type": "code",
   "execution_count": 25,
   "id": "cebbfd51",
   "metadata": {},
   "outputs": [
    {
     "data": {
      "text/plain": [
       "7"
      ]
     },
     "execution_count": 25,
     "metadata": {},
     "output_type": "execute_result"
    }
   ],
   "source": [
    "position[-1][-3]"
   ]
  },
  {
   "cell_type": "code",
   "execution_count": 26,
   "id": "d3df4ce2",
   "metadata": {},
   "outputs": [],
   "source": [
    " #introducing slicing lists..."
   ]
  },
  {
   "cell_type": "code",
   "execution_count": 45,
   "id": "f39019cb",
   "metadata": {},
   "outputs": [
    {
     "data": {
      "text/plain": [
       "['apples',\n",
       " 'milk',\n",
       " 'bread',\n",
       " 'crisps',\n",
       " 'lettuce',\n",
       " 'sweets',\n",
       " 'chocolate',\n",
       " 'crisps',\n",
       " 'soup',\n",
       " 'chapo']"
      ]
     },
     "execution_count": 45,
     "metadata": {},
     "output_type": "execute_result"
    }
   ],
   "source": [
    "shopping_list=['apples', 'milk', 'bread', 'crisps', \n",
    "               'lettuce','sweets','chocolate',\n",
    "               'crisps','soup','chapo']\n",
    "shopping_list"
   ]
  },
  {
   "cell_type": "code",
   "execution_count": 30,
   "id": "e1526878",
   "metadata": {},
   "outputs": [
    {
     "data": {
      "text/plain": [
       "['Apples', 'Milk', 'Bread', 'Crisps', 'Lettuce']"
      ]
     },
     "execution_count": 30,
     "metadata": {},
     "output_type": "execute_result"
    }
   ],
   "source": [
    "shopping_list[0:5]"
   ]
  },
  {
   "cell_type": "code",
   "execution_count": 33,
   "id": "8d7250d3",
   "metadata": {},
   "outputs": [
    {
     "data": {
      "text/plain": [
       "['sweets', 'chocolate', 'crisps', 'soup', 'chapo']"
      ]
     },
     "execution_count": 33,
     "metadata": {},
     "output_type": "execute_result"
    }
   ],
   "source": [
    "shopping_list[5:10]"
   ]
  },
  {
   "cell_type": "code",
   "execution_count": 34,
   "id": "4401de98",
   "metadata": {},
   "outputs": [
    {
     "data": {
      "text/plain": [
       "['Apples', 'Milk', 'Bread', 'Crisps', 'Lettuce']"
      ]
     },
     "execution_count": 34,
     "metadata": {},
     "output_type": "execute_result"
    }
   ],
   "source": [
    "shopping_list[:5]"
   ]
  },
  {
   "cell_type": "code",
   "execution_count": 35,
   "id": "f869af42",
   "metadata": {},
   "outputs": [
    {
     "data": {
      "text/plain": [
       "['sweets', 'chocolate', 'crisps', 'soup', 'chapo']"
      ]
     },
     "execution_count": 35,
     "metadata": {},
     "output_type": "execute_result"
    }
   ],
   "source": [
    "shopping_list[5:]"
   ]
  },
  {
   "cell_type": "code",
   "execution_count": 36,
   "id": "d70cf2cd",
   "metadata": {},
   "outputs": [],
   "source": [
    "#negative indexing in slicing"
   ]
  },
  {
   "cell_type": "code",
   "execution_count": 37,
   "id": "923ceeb3",
   "metadata": {},
   "outputs": [
    {
     "data": {
      "text/plain": [
       "['crisps', 'soup', 'chapo']"
      ]
     },
     "execution_count": 37,
     "metadata": {},
     "output_type": "execute_result"
    }
   ],
   "source": [
    "shopping_list[-3:]"
   ]
  },
  {
   "cell_type": "code",
   "execution_count": 38,
   "id": "a8fce8dc",
   "metadata": {},
   "outputs": [
    {
     "data": {
      "text/plain": [
       "['Apples', 'Milk', 'Bread', 'Crisps', 'Lettuce', 'sweets', 'chocolate']"
      ]
     },
     "execution_count": 38,
     "metadata": {},
     "output_type": "execute_result"
    }
   ],
   "source": [
    "shopping_list[:-3]"
   ]
  },
  {
   "cell_type": "code",
   "execution_count": 39,
   "id": "03f2fa49",
   "metadata": {},
   "outputs": [
    {
     "data": {
      "text/plain": [
       "['Apples', 'Bread', 'Lettuce', 'chocolate', 'soup']"
      ]
     },
     "execution_count": 39,
     "metadata": {},
     "output_type": "execute_result"
    }
   ],
   "source": [
    "#printing every second item in the list\n",
    "shopping_list[::2]"
   ]
  },
  {
   "cell_type": "code",
   "execution_count": 40,
   "id": "afdd9ae2",
   "metadata": {},
   "outputs": [],
   "source": [
    "#introducing list methods..."
   ]
  },
  {
   "cell_type": "code",
   "execution_count": 41,
   "id": "18398c39",
   "metadata": {},
   "outputs": [],
   "source": [
    "greetings=['hello','Hi','Yo']"
   ]
  },
  {
   "cell_type": "code",
   "execution_count": 42,
   "id": "f3026f8f",
   "metadata": {},
   "outputs": [
    {
     "data": {
      "text/plain": [
       "['Yo', 'Hi', 'hello']"
      ]
     },
     "execution_count": 42,
     "metadata": {},
     "output_type": "execute_result"
    }
   ],
   "source": [
    "greetings.reverse()\n",
    "greetings"
   ]
  },
  {
   "cell_type": "code",
   "execution_count": 46,
   "id": "f708db8d",
   "metadata": {},
   "outputs": [
    {
     "data": {
      "text/plain": [
       "['apples',\n",
       " 'bread',\n",
       " 'chapo',\n",
       " 'chocolate',\n",
       " 'crisps',\n",
       " 'crisps',\n",
       " 'lettuce',\n",
       " 'milk',\n",
       " 'soup',\n",
       " 'sweets']"
      ]
     },
     "execution_count": 46,
     "metadata": {},
     "output_type": "execute_result"
    }
   ],
   "source": [
    "#sorting lists...\n",
    "shopping_list.sort()\n",
    "shopping_list #capital letters come first then small letters"
   ]
  },
  {
   "cell_type": "code",
   "execution_count": 49,
   "id": "1e2b4b63",
   "metadata": {},
   "outputs": [],
   "source": [
    "  shopping_list.sort(reverse=False)"
   ]
  },
  {
   "cell_type": "code",
   "execution_count": 50,
   "id": "cfaa32d0",
   "metadata": {},
   "outputs": [
    {
     "data": {
      "text/plain": [
       "['apples',\n",
       " 'bread',\n",
       " 'chapo',\n",
       " 'chocolate',\n",
       " 'crisps',\n",
       " 'crisps',\n",
       " 'lettuce',\n",
       " 'milk',\n",
       " 'soup',\n",
       " 'sweets']"
      ]
     },
     "execution_count": 50,
     "metadata": {},
     "output_type": "execute_result"
    }
   ],
   "source": [
    "shopping_list"
   ]
  },
  {
   "cell_type": "code",
   "execution_count": 54,
   "id": "d9fc9a9c",
   "metadata": {},
   "outputs": [
    {
     "name": "stdout",
     "output_type": "stream",
     "text": [
      "None\n"
     ]
    }
   ],
   "source": [
    "sorted_list=shopping_list.sort()\n",
    "print(sorted_list)"
   ]
  },
  {
   "cell_type": "code",
   "execution_count": 52,
   "id": "abe29a3c",
   "metadata": {},
   "outputs": [
    {
     "data": {
      "text/plain": [
       "NoneType"
      ]
     },
     "execution_count": 52,
     "metadata": {},
     "output_type": "execute_result"
    }
   ],
   "source": [
    "type(sorted_list)"
   ]
  },
  {
   "cell_type": "code",
   "execution_count": 56,
   "id": "bd30ad48",
   "metadata": {},
   "outputs": [],
   "source": [
    "sorted_list=sorted(shopping_list) #the correct syntax..."
   ]
  },
  {
   "cell_type": "code",
   "execution_count": 57,
   "id": "64e5fd55",
   "metadata": {},
   "outputs": [
    {
     "name": "stdout",
     "output_type": "stream",
     "text": [
      "['apples', 'bread', 'chapo', 'chocolate', 'crisps', 'crisps', 'lettuce', 'milk', 'soup', 'sweets']\n"
     ]
    }
   ],
   "source": [
    "print(sorted_list)"
   ]
  },
  {
   "cell_type": "code",
   "execution_count": 58,
   "id": "5a2d4aa4",
   "metadata": {},
   "outputs": [],
   "source": [
    "sorted_list=sorted(sorted_list,reverse=True)"
   ]
  },
  {
   "cell_type": "code",
   "execution_count": 59,
   "id": "76688413",
   "metadata": {},
   "outputs": [
    {
     "name": "stdout",
     "output_type": "stream",
     "text": [
      "['sweets', 'soup', 'milk', 'lettuce', 'crisps', 'crisps', 'chocolate', 'chapo', 'bread', 'apples']\n"
     ]
    }
   ],
   "source": [
    "print(sorted_list)"
   ]
  },
  {
   "cell_type": "code",
   "execution_count": 60,
   "id": "40cb5cf1",
   "metadata": {},
   "outputs": [
    {
     "data": {
      "text/plain": [
       "['sweets',\n",
       " 'soup',\n",
       " 'milk',\n",
       " 'lettuce',\n",
       " 'crisps',\n",
       " 'crisps',\n",
       " 'chocolate',\n",
       " 'chapo',\n",
       " 'bread',\n",
       " 'apples']"
      ]
     },
     "execution_count": 60,
     "metadata": {},
     "output_type": "execute_result"
    }
   ],
   "source": [
    "sorted_list"
   ]
  },
  {
   "cell_type": "code",
   "execution_count": 61,
   "id": "e64d9d2b",
   "metadata": {},
   "outputs": [],
   "source": [
    "sorted_list=sorted(shopping_list, reverse=False)"
   ]
  },
  {
   "cell_type": "code",
   "execution_count": 62,
   "id": "e7e69dc0",
   "metadata": {},
   "outputs": [
    {
     "name": "stdout",
     "output_type": "stream",
     "text": [
      "['apples', 'bread', 'chapo', 'chocolate', 'crisps', 'crisps', 'lettuce', 'milk', 'soup', 'sweets']\n"
     ]
    }
   ],
   "source": [
    "print(sorted_list)"
   ]
  },
  {
   "cell_type": "code",
   "execution_count": 63,
   "id": "eebb25b1",
   "metadata": {},
   "outputs": [
    {
     "data": {
      "text/plain": [
       "['apples',\n",
       " 'bread',\n",
       " 'chapo',\n",
       " 'chocolate',\n",
       " 'crisps',\n",
       " 'crisps',\n",
       " 'lettuce',\n",
       " 'milk',\n",
       " 'soup',\n",
       " 'sweets']"
      ]
     },
     "execution_count": 63,
     "metadata": {},
     "output_type": "execute_result"
    }
   ],
   "source": [
    "sorted_list"
   ]
  },
  {
   "cell_type": "code",
   "execution_count": 64,
   "id": "8ec68590",
   "metadata": {},
   "outputs": [],
   "source": [
    "#introducing changing list elements"
   ]
  },
  {
   "cell_type": "code",
   "execution_count": 65,
   "id": "492102e2",
   "metadata": {},
   "outputs": [],
   "source": [
    "shopping_list=['apples', 'milk', 'bread', \n",
    "               'lettuce','sweets','chocolate',\n",
    "               'crisps','soup','chapo']\n"
   ]
  },
  {
   "cell_type": "code",
   "execution_count": 66,
   "id": "7798c8ed",
   "metadata": {},
   "outputs": [],
   "source": [
    "shopping_list[0]='Banana'"
   ]
  },
  {
   "cell_type": "code",
   "execution_count": 67,
   "id": "c29a4d30",
   "metadata": {},
   "outputs": [
    {
     "data": {
      "text/plain": [
       "['Banana',\n",
       " 'milk',\n",
       " 'bread',\n",
       " 'lettuce',\n",
       " 'sweets',\n",
       " 'chocolate',\n",
       " 'crisps',\n",
       " 'soup',\n",
       " 'chapo']"
      ]
     },
     "execution_count": 67,
     "metadata": {},
     "output_type": "execute_result"
    }
   ],
   "source": [
    "shopping_list"
   ]
  },
  {
   "cell_type": "code",
   "execution_count": 69,
   "id": "8cf83c2c",
   "metadata": {},
   "outputs": [
    {
     "data": {
      "text/plain": [
       "['kiwi', 'Cream', 'lettuce', 'sweets', 'chocolate', 'crisps', 'soup', 'chapo']"
      ]
     },
     "execution_count": 69,
     "metadata": {},
     "output_type": "execute_result"
    }
   ],
   "source": [
    "shopping_list[0:3]=['kiwi','Cream'] #here bread is removed from the list, hence it is replaced by null\n",
    "#index 2 does not have a name to replace hence null is applied..\n",
    "shopping_list"
   ]
  },
  {
   "cell_type": "code",
   "execution_count": 70,
   "id": "631d643e",
   "metadata": {},
   "outputs": [],
   "source": [
    "#adding elements to Lists"
   ]
  },
  {
   "cell_type": "code",
   "execution_count": 71,
   "id": "360ae43b",
   "metadata": {},
   "outputs": [
    {
     "data": {
      "text/plain": [
       "['kiwi', 'Cream', 'lettuce', 'sweets', 'chocolate', 'crisps', 'soup', 'chapo']"
      ]
     },
     "execution_count": 71,
     "metadata": {},
     "output_type": "execute_result"
    }
   ],
   "source": [
    "shopping_list\n"
   ]
  },
  {
   "cell_type": "code",
   "execution_count": 72,
   "id": "3db069de",
   "metadata": {},
   "outputs": [],
   "source": [
    "tims_food=['pasta', 'carrots','Honey']"
   ]
  },
  {
   "cell_type": "code",
   "execution_count": 73,
   "id": "ad87f2f3",
   "metadata": {},
   "outputs": [
    {
     "data": {
      "text/plain": [
       "['kiwi',\n",
       " 'Cream',\n",
       " 'lettuce',\n",
       " 'sweets',\n",
       " 'chocolate',\n",
       " 'crisps',\n",
       " 'soup',\n",
       " 'chapo',\n",
       " 'pasta',\n",
       " 'carrots',\n",
       " 'Honey']"
      ]
     },
     "execution_count": 73,
     "metadata": {},
     "output_type": "execute_result"
    }
   ],
   "source": [
    "shopping_list + tims_food"
   ]
  },
  {
   "cell_type": "code",
   "execution_count": 74,
   "id": "157418b5",
   "metadata": {},
   "outputs": [],
   "source": [
    "shopping_list=shopping_list+tims_food"
   ]
  },
  {
   "cell_type": "code",
   "execution_count": 75,
   "id": "cf183eae",
   "metadata": {},
   "outputs": [
    {
     "data": {
      "text/plain": [
       "['kiwi',\n",
       " 'Cream',\n",
       " 'lettuce',\n",
       " 'sweets',\n",
       " 'chocolate',\n",
       " 'crisps',\n",
       " 'soup',\n",
       " 'chapo',\n",
       " 'pasta',\n",
       " 'carrots',\n",
       " 'Honey']"
      ]
     },
     "execution_count": 75,
     "metadata": {},
     "output_type": "execute_result"
    }
   ],
   "source": [
    "shopping_list\n"
   ]
  },
  {
   "cell_type": "code",
   "execution_count": 76,
   "id": "e936fc69",
   "metadata": {},
   "outputs": [
    {
     "data": {
      "text/plain": [
       "['kiwi',\n",
       " 'Cream',\n",
       " 'lettuce',\n",
       " 'sweets',\n",
       " 'chocolate',\n",
       " 'crisps',\n",
       " 'soup',\n",
       " 'chapo',\n",
       " 'pasta',\n",
       " 'carrots',\n",
       " 'Honey',\n",
       " 'pasta',\n",
       " 'carrots',\n",
       " 'Honey']"
      ]
     },
     "execution_count": 76,
     "metadata": {},
     "output_type": "execute_result"
    }
   ],
   "source": [
    "#e.g\n",
    "shopping_list+=tims_food #tims_good added twice\n",
    "shopping_list"
   ]
  },
  {
   "cell_type": "code",
   "execution_count": 77,
   "id": "feb47217",
   "metadata": {},
   "outputs": [],
   "source": [
    "#using the append method\n",
    "james"
   ]
  },
  {
   "cell_type": "code",
   "execution_count": 79,
   "id": "bd408b15",
   "metadata": {},
   "outputs": [],
   "source": [
    "shopping_list.append(\"cheese\")"
   ]
  },
  {
   "cell_type": "code",
   "execution_count": 80,
   "id": "677d3ea4",
   "metadata": {},
   "outputs": [
    {
     "data": {
      "text/plain": [
       "['kiwi',\n",
       " 'Cream',\n",
       " 'lettuce',\n",
       " 'sweets',\n",
       " 'chocolate',\n",
       " 'crisps',\n",
       " 'soup',\n",
       " 'chapo',\n",
       " 'pasta',\n",
       " 'carrots',\n",
       " 'Honey',\n",
       " 'pasta',\n",
       " 'carrots',\n",
       " 'Honey',\n",
       " 'cheese']"
      ]
     },
     "execution_count": 80,
     "metadata": {},
     "output_type": "execute_result"
    }
   ],
   "source": [
    "shopping_list"
   ]
  },
  {
   "cell_type": "code",
   "execution_count": 81,
   "id": "2674d505",
   "metadata": {},
   "outputs": [],
   "source": [
    "james_food=[\"peas\",'Sweetcorn','Jelly']"
   ]
  },
  {
   "cell_type": "code",
   "execution_count": 82,
   "id": "746cbf53",
   "metadata": {},
   "outputs": [],
   "source": [
    "shopping_list.append(james_food)"
   ]
  },
  {
   "cell_type": "code",
   "execution_count": 83,
   "id": "31d002d2",
   "metadata": {},
   "outputs": [
    {
     "data": {
      "text/plain": [
       "['kiwi',\n",
       " 'Cream',\n",
       " 'lettuce',\n",
       " 'sweets',\n",
       " 'chocolate',\n",
       " 'crisps',\n",
       " 'soup',\n",
       " 'chapo',\n",
       " 'pasta',\n",
       " 'carrots',\n",
       " 'Honey',\n",
       " 'pasta',\n",
       " 'carrots',\n",
       " 'Honey',\n",
       " 'cheese',\n",
       " ['peas', 'Sweetcorn', 'Jelly']]"
      ]
     },
     "execution_count": 83,
     "metadata": {},
     "output_type": "execute_result"
    }
   ],
   "source": [
    "shopping_list"
   ]
  },
  {
   "cell_type": "code",
   "execution_count": 84,
   "id": "efea64c5",
   "metadata": {},
   "outputs": [],
   "source": [
    "#introducing the dot extend method...\n",
    "shopping_list.extend(james_food)"
   ]
  },
  {
   "cell_type": "code",
   "execution_count": 85,
   "id": "29d673a5",
   "metadata": {},
   "outputs": [
    {
     "data": {
      "text/plain": [
       "['kiwi',\n",
       " 'Cream',\n",
       " 'lettuce',\n",
       " 'sweets',\n",
       " 'chocolate',\n",
       " 'crisps',\n",
       " 'soup',\n",
       " 'chapo',\n",
       " 'pasta',\n",
       " 'carrots',\n",
       " 'Honey',\n",
       " 'pasta',\n",
       " 'carrots',\n",
       " 'Honey',\n",
       " 'cheese',\n",
       " ['peas', 'Sweetcorn', 'Jelly'],\n",
       " 'peas',\n",
       " 'Sweetcorn',\n",
       " 'Jelly']"
      ]
     },
     "execution_count": 85,
     "metadata": {},
     "output_type": "execute_result"
    }
   ],
   "source": [
    "shopping_list"
   ]
  },
  {
   "cell_type": "code",
   "execution_count": 86,
   "id": "71472fd9",
   "metadata": {},
   "outputs": [],
   "source": [
    "#using insert method--gives more control"
   ]
  },
  {
   "cell_type": "code",
   "execution_count": 87,
   "id": "dc3f11be",
   "metadata": {},
   "outputs": [],
   "source": [
    "shopping_list.insert(1,\"ice cream\") #takes index and object as parameters"
   ]
  },
  {
   "cell_type": "code",
   "execution_count": 88,
   "id": "0ad5358b",
   "metadata": {},
   "outputs": [
    {
     "data": {
      "text/plain": [
       "['kiwi',\n",
       " 'ice cream',\n",
       " 'Cream',\n",
       " 'lettuce',\n",
       " 'sweets',\n",
       " 'chocolate',\n",
       " 'crisps',\n",
       " 'soup',\n",
       " 'chapo',\n",
       " 'pasta',\n",
       " 'carrots',\n",
       " 'Honey',\n",
       " 'pasta',\n",
       " 'carrots',\n",
       " 'Honey',\n",
       " 'cheese',\n",
       " ['peas', 'Sweetcorn', 'Jelly'],\n",
       " 'peas',\n",
       " 'Sweetcorn',\n",
       " 'Jelly']"
      ]
     },
     "execution_count": 88,
     "metadata": {},
     "output_type": "execute_result"
    }
   ],
   "source": [
    "shopping_list"
   ]
  },
  {
   "cell_type": "code",
   "execution_count": 89,
   "id": "f530fae4",
   "metadata": {},
   "outputs": [],
   "source": [
    "\n",
    "#removing elements from the list..."
   ]
  },
  {
   "cell_type": "code",
   "execution_count": 90,
   "id": "520afed9",
   "metadata": {},
   "outputs": [],
   "source": [
    "to_do_list=['run','eat','play','eat','sleep']"
   ]
  },
  {
   "cell_type": "code",
   "execution_count": 91,
   "id": "5ae7b9d3",
   "metadata": {},
   "outputs": [
    {
     "data": {
      "text/plain": [
       "['run', 'eat', 'play', 'eat', 'sleep']"
      ]
     },
     "execution_count": 91,
     "metadata": {},
     "output_type": "execute_result"
    }
   ],
   "source": [
    "to_do_list"
   ]
  },
  {
   "cell_type": "code",
   "execution_count": 92,
   "id": "28933037",
   "metadata": {},
   "outputs": [],
   "source": [
    "to_do_list.remove('run')"
   ]
  },
  {
   "cell_type": "code",
   "execution_count": 93,
   "id": "d4471322",
   "metadata": {},
   "outputs": [
    {
     "data": {
      "text/plain": [
       "['eat', 'play', 'eat', 'sleep']"
      ]
     },
     "execution_count": 93,
     "metadata": {},
     "output_type": "execute_result"
    }
   ],
   "source": [
    "to_do_list"
   ]
  },
  {
   "cell_type": "code",
   "execution_count": 95,
   "id": "ddbac3aa",
   "metadata": {},
   "outputs": [],
   "source": [
    "to_do_list.remove('eat')"
   ]
  },
  {
   "cell_type": "code",
   "execution_count": 96,
   "id": "8bac4529",
   "metadata": {},
   "outputs": [
    {
     "data": {
      "text/plain": [
       "['play', 'eat', 'sleep']"
      ]
     },
     "execution_count": 96,
     "metadata": {},
     "output_type": "execute_result"
    }
   ],
   "source": [
    "to_do_list"
   ]
  },
  {
   "cell_type": "code",
   "execution_count": 97,
   "id": "460debb1",
   "metadata": {},
   "outputs": [],
   "source": [
    "#using pop"
   ]
  },
  {
   "cell_type": "code",
   "execution_count": 98,
   "id": "aa0e3081",
   "metadata": {},
   "outputs": [],
   "source": [
    "coding_languages=['C++','C','ruby','python','bmw','javascript','sql','Audi']"
   ]
  },
  {
   "cell_type": "code",
   "execution_count": 99,
   "id": "e5371ef5",
   "metadata": {},
   "outputs": [
    {
     "data": {
      "text/plain": [
       "['C++', 'C', 'ruby', 'python', 'bmw', 'javascript', 'sql', 'Audi']"
      ]
     },
     "execution_count": 99,
     "metadata": {},
     "output_type": "execute_result"
    }
   ],
   "source": [
    "coding_languages\n"
   ]
  },
  {
   "cell_type": "code",
   "execution_count": 100,
   "id": "d4cf9be4",
   "metadata": {},
   "outputs": [],
   "source": [
    "removed_element=coding_languages.pop()"
   ]
  },
  {
   "cell_type": "code",
   "execution_count": 101,
   "id": "eeed9d5e",
   "metadata": {},
   "outputs": [
    {
     "data": {
      "text/plain": [
       "['C++', 'C', 'ruby', 'python', 'bmw', 'javascript', 'sql']"
      ]
     },
     "execution_count": 101,
     "metadata": {},
     "output_type": "execute_result"
    }
   ],
   "source": [
    "coding_languages\n"
   ]
  },
  {
   "cell_type": "code",
   "execution_count": 102,
   "id": "ef01608f",
   "metadata": {},
   "outputs": [
    {
     "data": {
      "text/plain": [
       "'Audi'"
      ]
     },
     "execution_count": 102,
     "metadata": {},
     "output_type": "execute_result"
    }
   ],
   "source": [
    "removed_element"
   ]
  },
  {
   "cell_type": "code",
   "execution_count": 103,
   "id": "d20d8b9a",
   "metadata": {},
   "outputs": [],
   "source": [
    "#removing bmw\n"
   ]
  },
  {
   "cell_type": "code",
   "execution_count": 106,
   "id": "71f9a162",
   "metadata": {},
   "outputs": [
    {
     "data": {
      "text/plain": [
       "'sql'"
      ]
     },
     "execution_count": 106,
     "metadata": {},
     "output_type": "execute_result"
    }
   ],
   "source": [
    "coding_languages.pop(4)"
   ]
  },
  {
   "cell_type": "code",
   "execution_count": 107,
   "id": "11a041ba",
   "metadata": {},
   "outputs": [
    {
     "data": {
      "text/plain": [
       "['C++', 'C', 'python', 'bmw']"
      ]
     },
     "execution_count": 107,
     "metadata": {},
     "output_type": "execute_result"
    }
   ],
   "source": [
    "coding_languages"
   ]
  },
  {
   "cell_type": "code",
   "execution_count": 108,
   "id": "e337dfc1",
   "metadata": {},
   "outputs": [
    {
     "data": {
      "text/plain": [
       "'python'"
      ]
     },
     "execution_count": 108,
     "metadata": {},
     "output_type": "execute_result"
    }
   ],
   "source": [
    "coding_languages.pop(2)"
   ]
  },
  {
   "cell_type": "code",
   "execution_count": 109,
   "id": "5bb9bb3b",
   "metadata": {},
   "outputs": [
    {
     "data": {
      "text/plain": [
       "['C++', 'C', 'bmw']"
      ]
     },
     "execution_count": 109,
     "metadata": {},
     "output_type": "execute_result"
    }
   ],
   "source": [
    "coding_languages"
   ]
  },
  {
   "cell_type": "code",
   "execution_count": 110,
   "id": "652e8920",
   "metadata": {},
   "outputs": [
    {
     "data": {
      "text/plain": [
       "'bmw'"
      ]
     },
     "execution_count": 110,
     "metadata": {},
     "output_type": "execute_result"
    }
   ],
   "source": [
    "coding_languages.pop()"
   ]
  },
  {
   "cell_type": "code",
   "execution_count": 111,
   "id": "4c0b73c2",
   "metadata": {},
   "outputs": [
    {
     "data": {
      "text/plain": [
       "['C++', 'C']"
      ]
     },
     "execution_count": 111,
     "metadata": {},
     "output_type": "execute_result"
    }
   ],
   "source": [
    "coding_languages"
   ]
  },
  {
   "cell_type": "code",
   "execution_count": 112,
   "id": "5aa71945",
   "metadata": {},
   "outputs": [],
   "source": [
    "coding_languages=['C++','C','ruby','python','bmw','javascript','sql','Audi']"
   ]
  },
  {
   "cell_type": "code",
   "execution_count": 113,
   "id": "17abb99b",
   "metadata": {},
   "outputs": [
    {
     "data": {
      "text/plain": [
       "['C++', 'C', 'ruby', 'python', 'bmw', 'javascript', 'sql', 'Audi']"
      ]
     },
     "execution_count": 113,
     "metadata": {},
     "output_type": "execute_result"
    }
   ],
   "source": [
    "coding_languages\n"
   ]
  },
  {
   "cell_type": "code",
   "execution_count": 114,
   "id": "46527581",
   "metadata": {},
   "outputs": [
    {
     "data": {
      "text/plain": [
       "'bmw'"
      ]
     },
     "execution_count": 114,
     "metadata": {},
     "output_type": "execute_result"
    }
   ],
   "source": [
    "coding_languages.pop(4) #passing parameter in pop tells which variable in that index should be deleted..."
   ]
  },
  {
   "cell_type": "code",
   "execution_count": 115,
   "id": "47caa349",
   "metadata": {},
   "outputs": [
    {
     "data": {
      "text/plain": [
       "['C++', 'C', 'ruby', 'python', 'javascript', 'sql', 'Audi']"
      ]
     },
     "execution_count": 115,
     "metadata": {},
     "output_type": "execute_result"
    }
   ],
   "source": [
    "coding_languages"
   ]
  },
  {
   "cell_type": "code",
   "execution_count": 116,
   "id": "9ce28d47",
   "metadata": {},
   "outputs": [
    {
     "name": "stdout",
     "output_type": "stream",
     "text": [
      "\f",
      "\n"
     ]
    }
   ],
   "source": [
    "clear\n"
   ]
  },
  {
   "cell_type": "code",
   "execution_count": 117,
   "id": "26ea3c45",
   "metadata": {},
   "outputs": [
    {
     "name": "stdout",
     "output_type": "stream",
     "text": [
      "\f",
      "\n"
     ]
    }
   ],
   "source": [
    "cls"
   ]
  },
  {
   "cell_type": "code",
   "execution_count": 119,
   "id": "dce0813f",
   "metadata": {},
   "outputs": [
    {
     "data": {
      "text/plain": [
       "'Audi'"
      ]
     },
     "execution_count": 119,
     "metadata": {},
     "output_type": "execute_result"
    }
   ],
   "source": [
    "coding_languages.pop()"
   ]
  },
  {
   "cell_type": "code",
   "execution_count": 120,
   "id": "96e4c72e",
   "metadata": {},
   "outputs": [
    {
     "data": {
      "text/plain": [
       "['C++', 'C', 'ruby', 'python', 'javascript', 'sql']"
      ]
     },
     "execution_count": 120,
     "metadata": {},
     "output_type": "execute_result"
    }
   ],
   "source": [
    "coding_languages"
   ]
  },
  {
   "cell_type": "code",
   "execution_count": 121,
   "id": "630909db",
   "metadata": {},
   "outputs": [],
   "source": [
    " #introducing deletioin in Python_lists..."
   ]
  },
  {
   "cell_type": "code",
   "execution_count": 122,
   "id": "a227ed34",
   "metadata": {},
   "outputs": [],
   "source": [
    "#we use the reserved keyword del"
   ]
  },
  {
   "cell_type": "code",
   "execution_count": 123,
   "id": "4b07c368",
   "metadata": {},
   "outputs": [
    {
     "data": {
      "text/plain": [
       "['kiwi',\n",
       " 'ice cream',\n",
       " 'Cream',\n",
       " 'lettuce',\n",
       " 'sweets',\n",
       " 'chocolate',\n",
       " 'crisps',\n",
       " 'soup',\n",
       " 'chapo',\n",
       " 'pasta',\n",
       " 'carrots',\n",
       " 'Honey',\n",
       " 'pasta',\n",
       " 'carrots',\n",
       " 'Honey',\n",
       " 'cheese',\n",
       " ['peas', 'Sweetcorn', 'Jelly'],\n",
       " 'peas',\n",
       " 'Sweetcorn',\n",
       " 'Jelly']"
      ]
     },
     "execution_count": 123,
     "metadata": {},
     "output_type": "execute_result"
    }
   ],
   "source": [
    "shopping_list\n"
   ]
  },
  {
   "cell_type": "code",
   "execution_count": 124,
   "id": "278596d5",
   "metadata": {},
   "outputs": [],
   "source": [
    "del shopping_list[1]"
   ]
  },
  {
   "cell_type": "code",
   "execution_count": 125,
   "id": "2476225d",
   "metadata": {},
   "outputs": [
    {
     "data": {
      "text/plain": [
       "['kiwi',\n",
       " 'Cream',\n",
       " 'lettuce',\n",
       " 'sweets',\n",
       " 'chocolate',\n",
       " 'crisps',\n",
       " 'soup',\n",
       " 'chapo',\n",
       " 'pasta',\n",
       " 'carrots',\n",
       " 'Honey',\n",
       " 'pasta',\n",
       " 'carrots',\n",
       " 'Honey',\n",
       " 'cheese',\n",
       " ['peas', 'Sweetcorn', 'Jelly'],\n",
       " 'peas',\n",
       " 'Sweetcorn',\n",
       " 'Jelly']"
      ]
     },
     "execution_count": 125,
     "metadata": {},
     "output_type": "execute_result"
    }
   ],
   "source": [
    "shopping_list\n"
   ]
  },
  {
   "cell_type": "code",
   "execution_count": 126,
   "id": "f614e86b",
   "metadata": {},
   "outputs": [],
   "source": [
    "del shopping_list[2:5]"
   ]
  },
  {
   "cell_type": "code",
   "execution_count": 127,
   "id": "fdccb97c",
   "metadata": {},
   "outputs": [
    {
     "data": {
      "text/plain": [
       "['kiwi',\n",
       " 'Cream',\n",
       " 'crisps',\n",
       " 'soup',\n",
       " 'chapo',\n",
       " 'pasta',\n",
       " 'carrots',\n",
       " 'Honey',\n",
       " 'pasta',\n",
       " 'carrots',\n",
       " 'Honey',\n",
       " 'cheese',\n",
       " ['peas', 'Sweetcorn', 'Jelly'],\n",
       " 'peas',\n",
       " 'Sweetcorn',\n",
       " 'Jelly']"
      ]
     },
     "execution_count": 127,
     "metadata": {},
     "output_type": "execute_result"
    }
   ],
   "source": [
    "shopping_list"
   ]
  },
  {
   "cell_type": "code",
   "execution_count": 128,
   "id": "61cfcbc4",
   "metadata": {},
   "outputs": [],
   "source": [
    "del shopping_list"
   ]
  },
  {
   "cell_type": "code",
   "execution_count": 129,
   "id": "08016038",
   "metadata": {},
   "outputs": [
    {
     "ename": "NameError",
     "evalue": "name 'shopping_list' is not defined",
     "output_type": "error",
     "traceback": [
      "\u001b[1;31m---------------------------------------------------------------------------\u001b[0m",
      "\u001b[1;31mNameError\u001b[0m                                 Traceback (most recent call last)",
      "Cell \u001b[1;32mIn[129], line 1\u001b[0m\n\u001b[1;32m----> 1\u001b[0m \u001b[43mshopping_list\u001b[49m\n",
      "\u001b[1;31mNameError\u001b[0m: name 'shopping_list' is not defined"
     ]
    }
   ],
   "source": [
    "shopping_list #this throws an error..."
   ]
  },
  {
   "cell_type": "code",
   "execution_count": 130,
   "id": "4e60f99c",
   "metadata": {},
   "outputs": [],
   "source": [
    "#difference betwee clear and delete"
   ]
  },
  {
   "cell_type": "code",
   "execution_count": 131,
   "id": "ed0c5a01",
   "metadata": {},
   "outputs": [],
   "source": [
    "shopping_list=['kiwi',\n",
    " 'Cream',\n",
    " 'lettuce',\n",
    " 'sweets',\n",
    " 'chocolate',\n",
    " 'crisps',\n",
    " 'soup',\n",
    " 'chapo',\n",
    " 'pasta',\n",
    " 'carrots',\n",
    " 'Honey',\n",
    " 'pasta',\n",
    " 'carrots',\n",
    " 'Honey',\n",
    " 'cheese',\n",
    " ['peas', 'Sweetcorn', 'Jelly'],\n",
    " 'peas',\n",
    " 'Sweetcorn',\n",
    " 'Jelly']"
   ]
  },
  {
   "cell_type": "code",
   "execution_count": 132,
   "id": "43cbe5ce",
   "metadata": {},
   "outputs": [
    {
     "data": {
      "text/plain": [
       "['kiwi',\n",
       " 'Cream',\n",
       " 'lettuce',\n",
       " 'sweets',\n",
       " 'chocolate',\n",
       " 'crisps',\n",
       " 'soup',\n",
       " 'chapo',\n",
       " 'pasta',\n",
       " 'carrots',\n",
       " 'Honey',\n",
       " 'pasta',\n",
       " 'carrots',\n",
       " 'Honey',\n",
       " 'cheese',\n",
       " ['peas', 'Sweetcorn', 'Jelly'],\n",
       " 'peas',\n",
       " 'Sweetcorn',\n",
       " 'Jelly']"
      ]
     },
     "execution_count": 132,
     "metadata": {},
     "output_type": "execute_result"
    }
   ],
   "source": [
    "shopping_list\n"
   ]
  },
  {
   "cell_type": "code",
   "execution_count": 133,
   "id": "3e57d719",
   "metadata": {},
   "outputs": [],
   "source": [
    "#clear built_in_function only removes the element of the list but does not \n",
    "#delete the list name... * clear()*"
   ]
  },
  {
   "cell_type": "code",
   "execution_count": 136,
   "id": "d3d138fb",
   "metadata": {},
   "outputs": [],
   "source": [
    "shopping_list.clear()\n"
   ]
  },
  {
   "cell_type": "code",
   "execution_count": 137,
   "id": "4c1f51a5",
   "metadata": {},
   "outputs": [
    {
     "data": {
      "text/plain": [
       "[]"
      ]
     },
     "execution_count": 137,
     "metadata": {},
     "output_type": "execute_result"
    }
   ],
   "source": [
    "shopping_list"
   ]
  },
  {
   "cell_type": "code",
   "execution_count": 138,
   "id": "0f89acdd",
   "metadata": {},
   "outputs": [],
   "source": [
    "#using list slicing to access specific element..."
   ]
  },
  {
   "cell_type": "code",
   "execution_count": 139,
   "id": "8322d5f7",
   "metadata": {},
   "outputs": [],
   "source": [
    "shopping_list[1:4]=[]"
   ]
  },
  {
   "cell_type": "code",
   "execution_count": 140,
   "id": "77b6855e",
   "metadata": {},
   "outputs": [
    {
     "data": {
      "text/plain": [
       "[]"
      ]
     },
     "execution_count": 140,
     "metadata": {},
     "output_type": "execute_result"
    }
   ],
   "source": [
    "shopping_list"
   ]
  },
  {
   "cell_type": "code",
   "execution_count": 141,
   "id": "65f49d92",
   "metadata": {},
   "outputs": [
    {
     "data": {
      "text/plain": [
       "['kiwi',\n",
       " 'Cream',\n",
       " 'lettuce',\n",
       " 'sweets',\n",
       " 'chocolate',\n",
       " 'crisps',\n",
       " 'soup',\n",
       " 'chapo',\n",
       " 'pasta',\n",
       " 'carrots',\n",
       " 'Honey',\n",
       " 'pasta',\n",
       " 'carrots',\n",
       " 'Honey',\n",
       " 'cheese',\n",
       " ['peas', 'Sweetcorn', 'Jelly'],\n",
       " 'peas',\n",
       " 'Sweetcorn',\n",
       " 'Jelly']"
      ]
     },
     "execution_count": 141,
     "metadata": {},
     "output_type": "execute_result"
    }
   ],
   "source": [
    "['kiwi',\n",
    " 'Cream',\n",
    " 'lettuce',\n",
    " 'sweets',\n",
    " 'chocolate',\n",
    " 'crisps',\n",
    " 'soup',\n",
    " 'chapo',\n",
    " 'pasta',\n",
    " 'carrots',\n",
    " 'Honey',\n",
    " 'pasta',\n",
    " 'carrots',\n",
    " 'Honey',\n",
    " 'cheese',\n",
    " ['peas', 'Sweetcorn', 'Jelly'],\n",
    " 'peas',\n",
    " 'Sweetcorn',\n",
    " 'Jelly']"
   ]
  },
  {
   "cell_type": "code",
   "execution_count": null,
   "id": "22e0a5b6",
   "metadata": {},
   "outputs": [],
   "source": []
  },
  {
   "cell_type": "code",
   "execution_count": 142,
   "id": "cab80ea9",
   "metadata": {},
   "outputs": [
    {
     "data": {
      "text/plain": [
       "[]"
      ]
     },
     "execution_count": 142,
     "metadata": {},
     "output_type": "execute_result"
    }
   ],
   "source": [
    "shopping_list"
   ]
  },
  {
   "cell_type": "code",
   "execution_count": 143,
   "id": "cac571ca",
   "metadata": {},
   "outputs": [],
   "source": [
    "shopping_list=['kiwi',\n",
    " 'Cream',\n",
    " 'lettuce',\n",
    " 'sweets',\n",
    " 'chocolate',\n",
    " 'crisps',\n",
    " 'soup',\n",
    " 'chapo',\n",
    " 'pasta',\n",
    " 'carrots',\n",
    " 'Honey',\n",
    " 'pasta',\n",
    " 'carrots',\n",
    " 'Honey',\n",
    " 'cheese',\n",
    " ['peas', 'Sweetcorn', 'Jelly'],\n",
    " 'peas',\n",
    " 'Sweetcorn',\n",
    " 'Jelly']"
   ]
  },
  {
   "cell_type": "code",
   "execution_count": 144,
   "id": "1455cb26",
   "metadata": {},
   "outputs": [
    {
     "data": {
      "text/plain": [
       "['kiwi',\n",
       " 'Cream',\n",
       " 'lettuce',\n",
       " 'sweets',\n",
       " 'chocolate',\n",
       " 'crisps',\n",
       " 'soup',\n",
       " 'chapo',\n",
       " 'pasta',\n",
       " 'carrots',\n",
       " 'Honey',\n",
       " 'pasta',\n",
       " 'carrots',\n",
       " 'Honey',\n",
       " 'cheese',\n",
       " ['peas', 'Sweetcorn', 'Jelly'],\n",
       " 'peas',\n",
       " 'Sweetcorn',\n",
       " 'Jelly']"
      ]
     },
     "execution_count": 144,
     "metadata": {},
     "output_type": "execute_result"
    }
   ],
   "source": [
    "shopping_list"
   ]
  },
  {
   "cell_type": "code",
   "execution_count": null,
   "id": "ade03c08",
   "metadata": {},
   "outputs": [],
   "source": []
  },
  {
   "cell_type": "code",
   "execution_count": 145,
   "id": "43890d27",
   "metadata": {},
   "outputs": [],
   "source": [
    "#using list slicing \n",
    "shopping_list[1:4]=[] #removes  three list elements..."
   ]
  },
  {
   "cell_type": "code",
   "execution_count": 146,
   "id": "da99038f",
   "metadata": {},
   "outputs": [
    {
     "data": {
      "text/plain": [
       "['kiwi',\n",
       " 'chocolate',\n",
       " 'crisps',\n",
       " 'soup',\n",
       " 'chapo',\n",
       " 'pasta',\n",
       " 'carrots',\n",
       " 'Honey',\n",
       " 'pasta',\n",
       " 'carrots',\n",
       " 'Honey',\n",
       " 'cheese',\n",
       " ['peas', 'Sweetcorn', 'Jelly'],\n",
       " 'peas',\n",
       " 'Sweetcorn',\n",
       " 'Jelly']"
      ]
     },
     "execution_count": 146,
     "metadata": {},
     "output_type": "execute_result"
    }
   ],
   "source": [
    "shopping_list"
   ]
  },
  {
   "cell_type": "code",
   "execution_count": null,
   "id": "2037828b",
   "metadata": {},
   "outputs": [],
   "source": []
  },
  {
   "cell_type": "code",
   "execution_count": 147,
   "id": "50cccf35",
   "metadata": {},
   "outputs": [],
   "source": [
    "#other useful list methods...\n",
    "#len\n"
   ]
  },
  {
   "cell_type": "code",
   "execution_count": 148,
   "id": "342eca07",
   "metadata": {},
   "outputs": [
    {
     "data": {
      "text/plain": [
       "16"
      ]
     },
     "execution_count": 148,
     "metadata": {},
     "output_type": "execute_result"
    }
   ],
   "source": [
    "len(shopping_list)"
   ]
  },
  {
   "cell_type": "code",
   "execution_count": 150,
   "id": "94615149",
   "metadata": {},
   "outputs": [
    {
     "data": {
      "text/plain": [
       "2"
      ]
     },
     "execution_count": 150,
     "metadata": {},
     "output_type": "execute_result"
    }
   ],
   "source": [
    "fav_numbers=[[1,3,4,5,6],[2,7,8,9]]\n",
    "len(fav_numbers)"
   ]
  },
  {
   "cell_type": "code",
   "execution_count": 152,
   "id": "d12af108",
   "metadata": {},
   "outputs": [
    {
     "data": {
      "text/plain": [
       "9"
      ]
     },
     "execution_count": 152,
     "metadata": {},
     "output_type": "execute_result"
    }
   ],
   "source": [
    "len(fav_numbers[0])+len(fav_numbers[1])"
   ]
  },
  {
   "cell_type": "code",
   "execution_count": 153,
   "id": "82fa28b7",
   "metadata": {},
   "outputs": [
    {
     "data": {
      "text/plain": [
       "[0,\n",
       " 1,\n",
       " 2,\n",
       " 3,\n",
       " 4,\n",
       " 5,\n",
       " 6,\n",
       " 7,\n",
       " 8,\n",
       " 9,\n",
       " 10,\n",
       " 11,\n",
       " 12,\n",
       " 13,\n",
       " 14,\n",
       " 15,\n",
       " 16,\n",
       " 17,\n",
       " 18,\n",
       " 19,\n",
       " 20,\n",
       " 21,\n",
       " 22,\n",
       " 23,\n",
       " 24,\n",
       " 25,\n",
       " 26,\n",
       " 27,\n",
       " 28,\n",
       " 29,\n",
       " 30,\n",
       " 31,\n",
       " 32,\n",
       " 33,\n",
       " 34,\n",
       " 35,\n",
       " 36,\n",
       " 37,\n",
       " 38,\n",
       " 39,\n",
       " 40,\n",
       " 41,\n",
       " 42,\n",
       " 43,\n",
       " 44,\n",
       " 45,\n",
       " 46,\n",
       " 47,\n",
       " 48,\n",
       " 49,\n",
       " 50,\n",
       " 51,\n",
       " 52,\n",
       " 53,\n",
       " 54,\n",
       " 55,\n",
       " 56,\n",
       " 57,\n",
       " 58,\n",
       " 59,\n",
       " 60,\n",
       " 61,\n",
       " 62,\n",
       " 63,\n",
       " 64,\n",
       " 65,\n",
       " 66,\n",
       " 67,\n",
       " 68,\n",
       " 69,\n",
       " 70,\n",
       " 71,\n",
       " 72,\n",
       " 73,\n",
       " 74,\n",
       " 75,\n",
       " 76,\n",
       " 77,\n",
       " 78,\n",
       " 79,\n",
       " 80,\n",
       " 81,\n",
       " 82,\n",
       " 83,\n",
       " 84,\n",
       " 85,\n",
       " 86,\n",
       " 87,\n",
       " 88,\n",
       " 89,\n",
       " 90,\n",
       " 91,\n",
       " 92,\n",
       " 93,\n",
       " 94,\n",
       " 95,\n",
       " 96,\n",
       " 97,\n",
       " 98,\n",
       " 99]"
      ]
     },
     "execution_count": 153,
     "metadata": {},
     "output_type": "execute_result"
    }
   ],
   "source": [
    "list(range(100))"
   ]
  },
  {
   "cell_type": "code",
   "execution_count": 154,
   "id": "2506b435",
   "metadata": {},
   "outputs": [
    {
     "data": {
      "text/plain": [
       "[5, 6, 7, 8, 9, 10, 11, 12, 13, 14, 15]"
      ]
     },
     "execution_count": 154,
     "metadata": {},
     "output_type": "execute_result"
    }
   ],
   "source": [
    "list(range(5,16))"
   ]
  },
  {
   "cell_type": "code",
   "execution_count": 155,
   "id": "59dadd2f",
   "metadata": {},
   "outputs": [
    {
     "data": {
      "text/plain": [
       "[0, 10, 20, 30, 40, 50, 60, 70, 80, 90, 100]"
      ]
     },
     "execution_count": 155,
     "metadata": {},
     "output_type": "execute_result"
    }
   ],
   "source": [
    "list(range(0,101,10))#in steps of 10"
   ]
  },
  {
   "cell_type": "code",
   "execution_count": 157,
   "id": "eec8cfa2",
   "metadata": {},
   "outputs": [],
   "source": [
    "names=[\"james\",'peter','kim','sam']\n",
    "ages=[24,43,32,18]"
   ]
  },
  {
   "cell_type": "code",
   "execution_count": 158,
   "id": "e33e524a",
   "metadata": {},
   "outputs": [],
   "source": [
    "names_and_ages=zip(names,ages)"
   ]
  },
  {
   "cell_type": "code",
   "execution_count": 159,
   "id": "233e0f14",
   "metadata": {},
   "outputs": [
    {
     "data": {
      "text/plain": [
       "<zip at 0x1f4e580fa00>"
      ]
     },
     "execution_count": 159,
     "metadata": {},
     "output_type": "execute_result"
    }
   ],
   "source": [
    "names_and_ages #prints out the address of the zipped list\n"
   ]
  },
  {
   "cell_type": "code",
   "execution_count": 160,
   "id": "850b157a",
   "metadata": {},
   "outputs": [],
   "source": [
    "names_and_ages=list(names_and_ages) #includes both names and ages combined"
   ]
  },
  {
   "cell_type": "code",
   "execution_count": 161,
   "id": "8b0fdf12",
   "metadata": {},
   "outputs": [
    {
     "data": {
      "text/plain": [
       "[('james', 24), ('peter', 43), ('kim', 32), ('sam', 18)]"
      ]
     },
     "execution_count": 161,
     "metadata": {},
     "output_type": "execute_result"
    }
   ],
   "source": [
    "names_and_ages\n"
   ]
  },
  {
   "cell_type": "code",
   "execution_count": null,
   "id": "00924e00",
   "metadata": {},
   "outputs": [],
   "source": []
  },
  {
   "cell_type": "code",
   "execution_count": 167,
   "id": "01bf51ea",
   "metadata": {},
   "outputs": [],
   "source": [
    "fav_numbers=[1,2,3,4,5,6,3,8,9]\n"
   ]
  },
  {
   "cell_type": "code",
   "execution_count": 163,
   "id": "831f3163",
   "metadata": {},
   "outputs": [
    {
     "data": {
      "text/plain": [
       "2"
      ]
     },
     "execution_count": 163,
     "metadata": {},
     "output_type": "execute_result"
    }
   ],
   "source": [
    "fav_numbers.index(3)"
   ]
  },
  {
   "cell_type": "code",
   "execution_count": 166,
   "id": "72454a81",
   "metadata": {},
   "outputs": [
    {
     "ename": "ValueError",
     "evalue": "3 is not in list",
     "output_type": "error",
     "traceback": [
      "\u001b[1;31m---------------------------------------------------------------------------\u001b[0m",
      "\u001b[1;31mValueError\u001b[0m                                Traceback (most recent call last)",
      "Cell \u001b[1;32mIn[166], line 1\u001b[0m\n\u001b[1;32m----> 1\u001b[0m \u001b[43mfav_numbers\u001b[49m\u001b[38;5;241;43m.\u001b[39;49m\u001b[43mindex\u001b[49m\u001b[43m(\u001b[49m\u001b[38;5;241;43m3\u001b[39;49m\u001b[43m,\u001b[49m\u001b[38;5;241;43m3\u001b[39;49m\u001b[43m)\u001b[49m\n",
      "\u001b[1;31mValueError\u001b[0m: 3 is not in list"
     ]
    }
   ],
   "source": [
    "fav_numbers.index(3,3)"
   ]
  },
  {
   "cell_type": "code",
   "execution_count": null,
   "id": "a09cb399",
   "metadata": {},
   "outputs": [],
   "source": []
  },
  {
   "cell_type": "code",
   "execution_count": 168,
   "id": "e63adbb1",
   "metadata": {},
   "outputs": [
    {
     "data": {
      "text/plain": [
       "6"
      ]
     },
     "execution_count": 168,
     "metadata": {},
     "output_type": "execute_result"
    }
   ],
   "source": [
    "fav_numbers.index(3,3)"
   ]
  },
  {
   "cell_type": "code",
   "execution_count": 169,
   "id": "be9bd9e2",
   "metadata": {},
   "outputs": [],
   "source": [
    "   fav_numbers=[1,1,1,2,3,4,5,6] "
   ]
  },
  {
   "cell_type": "code",
   "execution_count": 170,
   "id": "702f5767",
   "metadata": {},
   "outputs": [
    {
     "data": {
      "text/plain": [
       "3"
      ]
     },
     "execution_count": 170,
     "metadata": {},
     "output_type": "execute_result"
    }
   ],
   "source": [
    "fav_numbers.count(1)"
   ]
  },
  {
   "cell_type": "code",
   "execution_count": 171,
   "id": "fc1b0a53",
   "metadata": {},
   "outputs": [],
   "source": [
    "\n",
    "#introducing list membership....\n"
   ]
  },
  {
   "cell_type": "code",
   "execution_count": 172,
   "id": "42076189",
   "metadata": {},
   "outputs": [],
   "source": [
    "#using the in operator..."
   ]
  },
  {
   "cell_type": "code",
   "execution_count": 173,
   "id": "d1e0b691",
   "metadata": {},
   "outputs": [],
   "source": [
    "fav_artists=['Ed Sheeran','Justin Bieber','Adele','Dua Lipa','Stormzy']"
   ]
  },
  {
   "cell_type": "code",
   "execution_count": 174,
   "id": "3f266534",
   "metadata": {},
   "outputs": [
    {
     "data": {
      "text/plain": [
       "True"
      ]
     },
     "execution_count": 174,
     "metadata": {},
     "output_type": "execute_result"
    }
   ],
   "source": [
    "'Adele' in fav_artists\n"
   ]
  },
  {
   "cell_type": "code",
   "execution_count": 176,
   "id": "a80bae52",
   "metadata": {},
   "outputs": [
    {
     "data": {
      "text/plain": [
       "False"
      ]
     },
     "execution_count": 176,
     "metadata": {},
     "output_type": "execute_result"
    }
   ],
   "source": [
    "'Beyonce' in fav_artists #offcourse i don't love beyonce's songs...huh.."
   ]
  },
  {
   "cell_type": "code",
   "execution_count": 177,
   "id": "d15442cb",
   "metadata": {},
   "outputs": [
    {
     "data": {
      "text/plain": [
       "True"
      ]
     },
     "execution_count": 177,
     "metadata": {},
     "output_type": "execute_result"
    }
   ],
   "source": [
    "#use of not in\n",
    "'SIA' not in fav_artists"
   ]
  },
  {
   "cell_type": "code",
   "execution_count": 178,
   "id": "4352548e",
   "metadata": {},
   "outputs": [
    {
     "data": {
      "text/plain": [
       "False"
      ]
     },
     "execution_count": 178,
     "metadata": {},
     "output_type": "execute_result"
    }
   ],
   "source": [
    "'Ed Sheeran' not in fav_artists"
   ]
  },
  {
   "cell_type": "code",
   "execution_count": 179,
   "id": "af77e9d7",
   "metadata": {},
   "outputs": [],
   "source": [
    "#the .split() and .join()...."
   ]
  },
  {
   "cell_type": "code",
   "execution_count": 180,
   "id": "4345b81c",
   "metadata": {},
   "outputs": [
    {
     "data": {
      "text/plain": [
       "['h', 'e', 'l', 'l', 'o']"
      ]
     },
     "execution_count": 180,
     "metadata": {},
     "output_type": "execute_result"
    }
   ],
   "source": [
    "list(\"hello\")"
   ]
  },
  {
   "cell_type": "code",
   "execution_count": 182,
   "id": "5e69fe4c",
   "metadata": {},
   "outputs": [
    {
     "data": {
      "text/plain": [
       "['r', 'e', 'd', ',', 'b', 'l', 'u', 'e', ',', 'g', 'r', 'e', 'e', 'n']"
      ]
     },
     "execution_count": 182,
     "metadata": {},
     "output_type": "execute_result"
    }
   ],
   "source": [
    "list(\"red,blue,green\")"
   ]
  },
  {
   "cell_type": "code",
   "execution_count": 183,
   "id": "9ee90d52",
   "metadata": {},
   "outputs": [],
   "source": [
    "colors=\"red,blue,green\""
   ]
  },
  {
   "cell_type": "code",
   "execution_count": 186,
   "id": "24db14ba",
   "metadata": {},
   "outputs": [],
   "source": [
    "colors_list=colors.split(',')"
   ]
  },
  {
   "cell_type": "code",
   "execution_count": 187,
   "id": "7b9d465a",
   "metadata": {},
   "outputs": [],
   "source": [
    "a,b,c=colors_list #here a==red,blue==b,c==green"
   ]
  },
  {
   "cell_type": "code",
   "execution_count": 188,
   "id": "98659188",
   "metadata": {},
   "outputs": [
    {
     "data": {
      "text/plain": [
       "'red'"
      ]
     },
     "execution_count": 188,
     "metadata": {},
     "output_type": "execute_result"
    }
   ],
   "source": [
    "a"
   ]
  },
  {
   "cell_type": "code",
   "execution_count": 189,
   "id": "c6486836",
   "metadata": {},
   "outputs": [
    {
     "data": {
      "text/plain": [
       "'blue'"
      ]
     },
     "execution_count": 189,
     "metadata": {},
     "output_type": "execute_result"
    }
   ],
   "source": [
    "b"
   ]
  },
  {
   "cell_type": "code",
   "execution_count": 190,
   "id": "866cc549",
   "metadata": {},
   "outputs": [
    {
     "data": {
      "text/plain": [
       "'green'"
      ]
     },
     "execution_count": 190,
     "metadata": {},
     "output_type": "execute_result"
    }
   ],
   "source": [
    "c"
   ]
  },
  {
   "cell_type": "code",
   "execution_count": 191,
   "id": "7481654d",
   "metadata": {},
   "outputs": [],
   "source": [
    "a,b,c=colors_list"
   ]
  },
  {
   "cell_type": "code",
   "execution_count": 192,
   "id": "326f07e7",
   "metadata": {},
   "outputs": [
    {
     "data": {
      "text/plain": [
       "'red'"
      ]
     },
     "execution_count": 192,
     "metadata": {},
     "output_type": "execute_result"
    }
   ],
   "source": [
    "a"
   ]
  },
  {
   "cell_type": "code",
   "execution_count": 193,
   "id": "fee6fbbf",
   "metadata": {},
   "outputs": [
    {
     "data": {
      "text/plain": [
       "'blue'"
      ]
     },
     "execution_count": 193,
     "metadata": {},
     "output_type": "execute_result"
    }
   ],
   "source": [
    "b"
   ]
  },
  {
   "cell_type": "code",
   "execution_count": 194,
   "id": "6290fb59",
   "metadata": {},
   "outputs": [
    {
     "data": {
      "text/plain": [
       "'green'"
      ]
     },
     "execution_count": 194,
     "metadata": {},
     "output_type": "execute_result"
    }
   ],
   "source": [
    "c"
   ]
  },
  {
   "cell_type": "code",
   "execution_count": 195,
   "id": "948c4d14",
   "metadata": {},
   "outputs": [],
   "source": [
    "sentence=\"I am a random sentence and I love learning Python\""
   ]
  },
  {
   "cell_type": "code",
   "execution_count": 197,
   "id": "24a0a4a8",
   "metadata": {},
   "outputs": [],
   "source": [
    "split_sentence=sentence.split(\" \")"
   ]
  },
  {
   "cell_type": "code",
   "execution_count": 198,
   "id": "c5e3b287",
   "metadata": {},
   "outputs": [
    {
     "data": {
      "text/plain": [
       "['I',\n",
       " 'am',\n",
       " 'a',\n",
       " 'random',\n",
       " 'sentence',\n",
       " 'and',\n",
       " 'I',\n",
       " 'love',\n",
       " 'learning',\n",
       " 'Python']"
      ]
     },
     "execution_count": 198,
     "metadata": {},
     "output_type": "execute_result"
    }
   ],
   "source": [
    "split_sentence"
   ]
  },
  {
   "cell_type": "code",
   "execution_count": 199,
   "id": "230cd59f",
   "metadata": {},
   "outputs": [],
   "source": [
    "#on converting back to the sentence...\n"
   ]
  },
  {
   "cell_type": "code",
   "execution_count": 204,
   "id": "1c94f8a7",
   "metadata": {},
   "outputs": [
    {
     "data": {
      "text/plain": [
       "'I * am * a * random * sentence * and * I * love * learning * Python'"
      ]
     },
     "execution_count": 204,
     "metadata": {},
     "output_type": "execute_result"
    }
   ],
   "source": [
    "' * '.join(split_sentence) #the \" character\" must be the same as the \n",
    "#spliting character"
   ]
  },
  {
   "cell_type": "code",
   "execution_count": 201,
   "id": "d78f4c8a",
   "metadata": {},
   "outputs": [
    {
     "data": {
      "text/plain": [
       "['red', 'blue', 'green']"
      ]
     },
     "execution_count": 201,
     "metadata": {},
     "output_type": "execute_result"
    }
   ],
   "source": [
    "colors_list"
   ]
  },
  {
   "cell_type": "code",
   "execution_count": 202,
   "id": "aa653c72",
   "metadata": {},
   "outputs": [
    {
     "data": {
      "text/plain": [
       "'red and blue and green'"
      ]
     },
     "execution_count": 202,
     "metadata": {},
     "output_type": "execute_result"
    }
   ],
   "source": [
    "\" and \".join(colors_list)"
   ]
  },
  {
   "cell_type": "code",
   "execution_count": 203,
   "id": "af177290",
   "metadata": {},
   "outputs": [],
   "source": [
    "\n",
    "#a more example that includes * when splitting and joining"
   ]
  },
  {
   "cell_type": "code",
   "execution_count": null,
   "id": "e47a9da6",
   "metadata": {},
   "outputs": [],
   "source": [
    "#summary ITEMS\n",
    "# .append()\n",
    "# .extend\n",
    "# insert  remove pop clear index count reverse sort del in (not in) list len zip \n",
    "#every built_in method includes the () at the end most comes with the dot . at the start"
   ]
  }
 ],
 "metadata": {
  "kernelspec": {
   "display_name": "Python 3 (ipykernel)",
   "language": "python",
   "name": "python3"
  },
  "language_info": {
   "codemirror_mode": {
    "name": "ipython",
    "version": 3
   },
   "file_extension": ".py",
   "mimetype": "text/x-python",
   "name": "python",
   "nbconvert_exporter": "python",
   "pygments_lexer": "ipython3",
   "version": "3.10.9"
  }
 },
 "nbformat": 4,
 "nbformat_minor": 5
}

{
 "cells": [
  {
   "cell_type": "markdown",
   "id": "8d9a3806",
   "metadata": {},
   "source": [
    "Las Vegas Casino have approached you to create a new online game. They would like you to produce a version of the popular Casino game 21!\n",
    "\n",
    "The application should take into account the following game play:\n",
    "\n",
    "1. A standard deck of playing cards is required to play 21\n",
    "    - Create a deck of standard playing cards\n",
    "    - Shuffle the deck in a random order\n",
    "    \n",
    "2. Allow players of the game to bet using chips\n",
    "    - Ask the player how much they would like to bet\n",
    "    - Check to see if the Player has enough chips to continue\n",
    "\n",
    "3. Deal two cards to the Dealer and two cards to the Player\n",
    "    - <strong>show only one of the Dealer's cards. The other should remain hidden\n",
    "    - <strong>Show both of the Player's cards\n",
    "    \n",
    "4. Ask the Player if they wish to 'Hit' or 'Stand'\n",
    "    - If the Player's hand remains under 21, ask if they would like to Hit again\n",
    "    - If a player sticks, play the Dealer's hand. The dealer will always Hit until the Dealer's  value is at least 17 or more\n",
    "    \n",
    "5. Determine the winner and adjust the Player's chips accordingly \n",
    "6. Ask the Player if they'd like to play again\n",
    "\n",
    "There are many ways this can be done and The Las Vegas Casino is looking forward to seeing what you come up with!"
   ]
  },
  {
   "cell_type": "code",
   "execution_count": 1,
   "id": "0f251f55",
   "metadata": {},
   "outputs": [],
   "source": [
    "# Imports...\n",
    "import random"
   ]
  },
  {
   "cell_type": "code",
   "execution_count": 2,
   "id": "e5d1a825",
   "metadata": {},
   "outputs": [],
   "source": [
    "# Global  variables.\n",
    "suits=('Diamonds','Hearts','Clubs','Spades')\n",
    "ranks=('Two','Three','Four','Five','Six','Seven','Eight',\n",
    "      'Nine','Ten','Jack','Queen','King','Ace')"
   ]
  },
  {
   "cell_type": "code",
   "execution_count": 3,
   "id": "e8469202",
   "metadata": {},
   "outputs": [],
   "source": [
    "values={'Two': 2,'Three': 3,'Four': 4,'Five': 5,'Six': 6,'Seven': 7,'Eight': 8,\n",
    "      'Nine': 9,'Ten': 10,'Jack': 10,'Queen': 10,'King': 10,'Ace': 11}"
   ]
  },
  {
   "cell_type": "markdown",
   "id": "daf4c75b",
   "metadata": {},
   "source": [
    "# Logic to create standard playing cards"
   ]
  },
  {
   "cell_type": "code",
   "execution_count": 4,
   "id": "3fb7b931",
   "metadata": {},
   "outputs": [
    {
     "data": {
      "text/plain": [
       "{'Two': 2,\n",
       " 'Three': 3,\n",
       " 'Four': 4,\n",
       " 'Five': 5,\n",
       " 'Six': 6,\n",
       " 'Seven': 7,\n",
       " 'Eight': 8,\n",
       " 'Nine': 9,\n",
       " 'Ten': 10,\n",
       " 'Jack': 10,\n",
       " 'Queen': 10,\n",
       " 'King': 10,\n",
       " 'Ace': 11}"
      ]
     },
     "execution_count": 4,
     "metadata": {},
     "output_type": "execute_result"
    }
   ],
   "source": [
    "values"
   ]
  },
  {
   "cell_type": "code",
   "execution_count": null,
   "id": "08a0a1fe",
   "metadata": {},
   "outputs": [],
   "source": []
  },
  {
   "cell_type": "code",
   "execution_count": 5,
   "id": "24e1c3d3",
   "metadata": {},
   "outputs": [
    {
     "data": {
      "text/plain": [
       "('Diamonds', 'Hearts', 'Clubs', 'Spades')"
      ]
     },
     "execution_count": 5,
     "metadata": {},
     "output_type": "execute_result"
    }
   ],
   "source": [
    "suits"
   ]
  },
  {
   "cell_type": "code",
   "execution_count": 6,
   "id": "0c608091",
   "metadata": {},
   "outputs": [
    {
     "data": {
      "text/plain": [
       "('Two',\n",
       " 'Three',\n",
       " 'Four',\n",
       " 'Five',\n",
       " 'Six',\n",
       " 'Seven',\n",
       " 'Eight',\n",
       " 'Nine',\n",
       " 'Ten',\n",
       " 'Jack',\n",
       " 'Queen',\n",
       " 'King',\n",
       " 'Ace')"
      ]
     },
     "execution_count": 6,
     "metadata": {},
     "output_type": "execute_result"
    }
   ],
   "source": [
    "ranks"
   ]
  },
  {
   "cell_type": "code",
   "execution_count": 7,
   "id": "80c21f55",
   "metadata": {},
   "outputs": [],
   "source": [
    "class Card:\n",
    "    def __init__(self, suit, rank):\n",
    "        self.suit=suit\n",
    "        self.rank=rank\n",
    "        \n",
    "    def __str__(self):\n",
    "        return self.rank + ' of '+self.suit"
   ]
  },
  {
   "cell_type": "code",
   "execution_count": 8,
   "id": "c213343b",
   "metadata": {},
   "outputs": [],
   "source": [
    "#my_card=Card('Clubs','Two')"
   ]
  },
  {
   "cell_type": "code",
   "execution_count": 9,
   "id": "e194e88e",
   "metadata": {},
   "outputs": [],
   "source": [
    "#print(my_card)"
   ]
  },
  {
   "cell_type": "code",
   "execution_count": 10,
   "id": "599ee913",
   "metadata": {},
   "outputs": [],
   "source": [
    "class Deck:\n",
    "    \n",
    "    def __init__(self):\n",
    "        self.deck=[]\n",
    "        for suit in suits:\n",
    "            for rank in ranks:\n",
    "                self.deck.append(Card(suit,rank))\n",
    "                \n",
    "    def __str__(self):\n",
    "        deck_check=''\n",
    "        for card in self.deck:\n",
    "            deck_check+='\\n'+card.__str__()\n",
    "        return 'The deck you are using has: '+deck_check\n",
    "    \n",
    "    def shuffle(self):\n",
    "        random.shuffle(self.deck)\n",
    "        \n",
    "    def deal(self):\n",
    "        single_card=self.deck.pop()\n",
    "        return single_card\n",
    "    "
   ]
  },
  {
   "cell_type": "code",
   "execution_count": 11,
   "id": "2190e611",
   "metadata": {},
   "outputs": [],
   "source": [
    "test_deck=Deck()"
   ]
  },
  {
   "cell_type": "code",
   "execution_count": 12,
   "id": "2a6cf990",
   "metadata": {},
   "outputs": [
    {
     "name": "stdout",
     "output_type": "stream",
     "text": [
      "The deck you are using has: \n",
      "Two of Diamonds\n",
      "Three of Diamonds\n",
      "Four of Diamonds\n",
      "Five of Diamonds\n",
      "Six of Diamonds\n",
      "Seven of Diamonds\n",
      "Eight of Diamonds\n",
      "Nine of Diamonds\n",
      "Ten of Diamonds\n",
      "Jack of Diamonds\n",
      "Queen of Diamonds\n",
      "King of Diamonds\n",
      "Ace of Diamonds\n",
      "Two of Hearts\n",
      "Three of Hearts\n",
      "Four of Hearts\n",
      "Five of Hearts\n",
      "Six of Hearts\n",
      "Seven of Hearts\n",
      "Eight of Hearts\n",
      "Nine of Hearts\n",
      "Ten of Hearts\n",
      "Jack of Hearts\n",
      "Queen of Hearts\n",
      "King of Hearts\n",
      "Ace of Hearts\n",
      "Two of Clubs\n",
      "Three of Clubs\n",
      "Four of Clubs\n",
      "Five of Clubs\n",
      "Six of Clubs\n",
      "Seven of Clubs\n",
      "Eight of Clubs\n",
      "Nine of Clubs\n",
      "Ten of Clubs\n",
      "Jack of Clubs\n",
      "Queen of Clubs\n",
      "King of Clubs\n",
      "Ace of Clubs\n",
      "Two of Spades\n",
      "Three of Spades\n",
      "Four of Spades\n",
      "Five of Spades\n",
      "Six of Spades\n",
      "Seven of Spades\n",
      "Eight of Spades\n",
      "Nine of Spades\n",
      "Ten of Spades\n",
      "Jack of Spades\n",
      "Queen of Spades\n",
      "King of Spades\n",
      "Ace of Spades\n"
     ]
    }
   ],
   "source": [
    "print(test_deck)"
   ]
  },
  {
   "cell_type": "code",
   "execution_count": null,
   "id": "2f67b680",
   "metadata": {},
   "outputs": [],
   "source": []
  },
  {
   "cell_type": "code",
   "execution_count": 13,
   "id": "0381cf9a",
   "metadata": {},
   "outputs": [],
   "source": [
    "#test_deck.shuffle()"
   ]
  },
  {
   "cell_type": "code",
   "execution_count": 14,
   "id": "069625b1",
   "metadata": {},
   "outputs": [],
   "source": [
    "#print(test_deck)"
   ]
  },
  {
   "cell_type": "code",
   "execution_count": 15,
   "id": "1c6870b6",
   "metadata": {},
   "outputs": [],
   "source": [
    "class Hand:\n",
    "    \n",
    "    def __init__(self):\n",
    "        self.cards=[]\n",
    "        self.value=0\n",
    "        self.ace=0\n",
    "        \n",
    "    def add_card(self,card):\n",
    "        self.cards.append(card)\n",
    "        self.value+=values[card.rank]\n",
    "        if card.rank=='Ace':\n",
    "            self.ace +=1\n",
    "            \n",
    "    def adjust_for_ace(self):\n",
    "        while self.value>21 and self.ace:\n",
    "            self.value-= 10\n",
    "            self.ace -=1"
   ]
  },
  {
   "cell_type": "code",
   "execution_count": 16,
   "id": "792e6887",
   "metadata": {},
   "outputs": [
    {
     "name": "stdout",
     "output_type": "stream",
     "text": [
      "The deck you are using has: \n",
      "King of Hearts\n",
      "Four of Clubs\n",
      "Seven of Hearts\n",
      "Nine of Spades\n",
      "Eight of Hearts\n",
      "Queen of Clubs\n",
      "Five of Spades\n",
      "Jack of Spades\n",
      "Ace of Diamonds\n",
      "Six of Spades\n",
      "Six of Hearts\n",
      "Seven of Spades\n",
      "Ten of Hearts\n",
      "Two of Diamonds\n",
      "Three of Clubs\n",
      "Six of Diamonds\n",
      "Six of Clubs\n",
      "Three of Spades\n",
      "King of Clubs\n",
      "Eight of Diamonds\n",
      "Three of Hearts\n",
      "Seven of Clubs\n",
      "Ace of Hearts\n",
      "Ten of Diamonds\n",
      "Eight of Clubs\n",
      "Ace of Spades\n",
      "Nine of Hearts\n",
      "Four of Hearts\n",
      "Jack of Clubs\n",
      "Queen of Spades\n",
      "King of Diamonds\n",
      "Five of Clubs\n",
      "Jack of Hearts\n",
      "Four of Spades\n",
      "Two of Spades\n",
      "Five of Diamonds\n",
      "Seven of Diamonds\n",
      "Eight of Spades\n",
      "Two of Hearts\n",
      "Five of Hearts\n",
      "Two of Clubs\n",
      "Queen of Diamonds\n",
      "Jack of Diamonds\n",
      "Queen of Hearts\n",
      "King of Spades\n",
      "Ten of Spades\n",
      "Four of Diamonds\n",
      "Nine of Clubs\n",
      "Three of Diamonds\n",
      "Ten of Clubs\n",
      "Ace of Clubs\n",
      "Nine of Diamonds\n"
     ]
    },
    {
     "data": {
      "text/plain": [
       "20"
      ]
     },
     "execution_count": 16,
     "metadata": {},
     "output_type": "execute_result"
    }
   ],
   "source": [
    "test_deck=Deck()\n",
    "test_deck.shuffle()\n",
    "print(test_deck)\n",
    "test_player=Hand()\n",
    "test_player.add_card(test_deck.deal())\n",
    "test_player.add_card(test_deck.deal())\n",
    "test_player.value"
   ]
  },
  {
   "cell_type": "code",
   "execution_count": 17,
   "id": "5934647a",
   "metadata": {},
   "outputs": [],
   "source": [
    "#for card in test_player.cards:\n",
    " #   print(card)"
   ]
  },
  {
   "cell_type": "markdown",
   "id": "7dc31439",
   "metadata": {},
   "source": [
    "## Chip Account and Betting"
   ]
  },
  {
   "cell_type": "code",
   "execution_count": 18,
   "id": "b1429e81",
   "metadata": {},
   "outputs": [],
   "source": [
    "class ChipAccount:\n",
    "    \n",
    "    def __init__(self):\n",
    "        self.total = 100\n",
    "        self.bet = 0\n",
    "        \n",
    "    def win_bet(self):\n",
    "        self.total += self.bet\n",
    "        \n",
    "    def lose_bet(self):\n",
    "        self.total -= self.bet\n",
    "        "
   ]
  },
  {
   "cell_type": "code",
   "execution_count": null,
   "id": "46c3ac6e",
   "metadata": {},
   "outputs": [],
   "source": []
  },
  {
   "cell_type": "code",
   "execution_count": 19,
   "id": "63e640d0",
   "metadata": {},
   "outputs": [],
   "source": [
    "#player_chips = ChipAccount()"
   ]
  },
  {
   "cell_type": "code",
   "execution_count": 20,
   "id": "a08e0d82",
   "metadata": {},
   "outputs": [],
   "source": [
    "#player_chips.total"
   ]
  },
  {
   "cell_type": "code",
   "execution_count": 21,
   "id": "abbce42a",
   "metadata": {},
   "outputs": [],
   "source": [
    "def take_bet(chips):\n",
    "    while True:\n",
    "        \n",
    "        try:\n",
    "            chips.bet = int(input(\"Place yur bet! How many chips? \"))\n",
    "\n",
    "        except ValueError:\n",
    "            print(\"You must enter an integer!\")\n",
    "            \n",
    "        else:\n",
    "            if chips.bet > chips.total:\n",
    "                print(\"YOu don't have enough chips. You only have\", chips.total)\n",
    "                \n",
    "            else:\n",
    "                break"
   ]
  },
  {
   "cell_type": "code",
   "execution_count": 22,
   "id": "7bb31060",
   "metadata": {},
   "outputs": [],
   "source": [
    "#take_bet(player_chips)"
   ]
  },
  {
   "cell_type": "code",
   "execution_count": 23,
   "id": "f95cd0e8",
   "metadata": {},
   "outputs": [],
   "source": [
    "#player_chips.bet"
   ]
  },
  {
   "cell_type": "markdown",
   "id": "4d6fd097",
   "metadata": {},
   "source": [
    "## Implement the hit and stand logic"
   ]
  },
  {
   "cell_type": "code",
   "execution_count": 24,
   "id": "62e27675",
   "metadata": {},
   "outputs": [],
   "source": [
    "def hit(deck,hand):\n",
    "    hand.add_card(deck.deal())\n",
    "    hand.adjust_for_ace()"
   ]
  },
  {
   "cell_type": "code",
   "execution_count": 25,
   "id": "7838dd91",
   "metadata": {},
   "outputs": [],
   "source": [
    "def hit_or_stand(deck,hand):\n",
    "    \n",
    "    global playing\n",
    "    \n",
    "    \n",
    "    while True:\n",
    "        x =input(\"Would you like to hit or stand? Enter 'h' or 's' \")\n",
    "        \n",
    "        if x[0].lower()=='h':\n",
    "            hit(deck,hand)\n",
    "            \n",
    "        elif x[0].lower() =='s':\n",
    "            print(\"Player stands. Dealer is playing\")\n",
    "            playing =False\n",
    "            \n",
    "            \n",
    "        else:\n",
    "            print('sorry Try again..')\n",
    "            continue\n",
    "            \n",
    "        break\n",
    "            "
   ]
  },
  {
   "cell_type": "markdown",
   "id": "491d6748",
   "metadata": {},
   "source": [
    "## Showing the cards logic"
   ]
  },
  {
   "cell_type": "code",
   "execution_count": 26,
   "id": "2d1cf43b",
   "metadata": {},
   "outputs": [],
   "source": [
    "def show_partial_cards(player,dealer):\n",
    "    print(\"\\n Dealer's hand:\")\n",
    "    print(\" *** \")\n",
    "    print(\"\")\n",
    "    print('', dealer.cards[1])\n",
    "    print(\"\\nPlayer's hand:\", *player.cards, sep='\\n')\n",
    "    \n",
    "def show_all_cards(player,dealer):\n",
    "    print(\"\\nDealer's hand: \", *dealer.cards, sep = '\\n')\n",
    "    print(\"Dealer's hand =\",dealer.value)\n",
    "    print('\\nPlayer\\'s hand: ', *player.cards, sep='\\n')\n",
    "    print(\"Player's hand = \",player.value)"
   ]
  },
  {
   "cell_type": "code",
   "execution_count": null,
   "id": "e56b0ce5",
   "metadata": {},
   "outputs": [],
   "source": []
  },
  {
   "cell_type": "markdown",
   "id": "a83ddb15",
   "metadata": {},
   "source": [
    "## Implement logic for game outcomes"
   ]
  },
  {
   "cell_type": "code",
   "execution_count": 27,
   "id": "36ac56ac",
   "metadata": {},
   "outputs": [],
   "source": [
    "def player_busts(player,dealer,chips):\n",
    "    print(\"Player busts!\")\n",
    "    chips.lose_bet()\n",
    "    \n",
    "def player_wins(player,dealer,chips):\n",
    "    print(\"Player wins!\")\n",
    "    chips.win_bet()\n",
    "    \n",
    "    \n",
    "def dealer_busts(player,dealer,chips):\n",
    "    print(\"Dealer busts!\")\n",
    "    chips.win_bet()\n",
    "    \n",
    "def dealer_wins(player,dealer,chips):\n",
    "    print(\"Dealer wins!\")\n",
    "    chips.lose_bet()\n",
    "    \n",
    "def tie(player,dealer):\n",
    "    print(\"Dealer and player tie!\")\n",
    "    "
   ]
  },
  {
   "cell_type": "code",
   "execution_count": null,
   "id": "e956dd49",
   "metadata": {},
   "outputs": [],
   "source": []
  },
  {
   "cell_type": "markdown",
   "id": "360a606f",
   "metadata": {},
   "source": [
    "# Finaly Implemetn the Game Play Logic"
   ]
  },
  {
   "cell_type": "code",
   "execution_count": 28,
   "id": "f59a824b",
   "metadata": {},
   "outputs": [
    {
     "name": "stdout",
     "output_type": "stream",
     "text": [
      "\n",
      "    Welcome to 21! The aim of the game is to get as close to\n",
      "    21 as you can without going over! The Dealer will keep hitting untill they reach 17.\n",
      "    Aces count as 1 or 11\n",
      "    \n",
      "Place yur bet! How many chips? 100\n",
      "\n",
      " Dealer's hand:\n",
      " *** \n",
      "\n",
      " Queen of Spades\n",
      "\n",
      "Player's hand:\n",
      "Queen of Hearts\n",
      "Jack of Clubs\n",
      "Would you like to hit or stand? Enter 'h' or 's' s\n",
      "Player stands. Dealer is playing\n",
      "\n",
      " Dealer's hand:\n",
      " *** \n",
      "\n",
      " Queen of Spades\n",
      "\n",
      "Player's hand:\n",
      "Queen of Hearts\n",
      "Jack of Clubs\n",
      "\n",
      "Dealer's hand: \n",
      "Seven of Clubs\n",
      "Queen of Spades\n",
      "Dealer's hand = 17\n",
      "\n",
      "Player's hand: \n",
      "Queen of Hearts\n",
      "Jack of Clubs\n",
      "Player's hand =  20\n",
      "Player wins!\n",
      "\n",
      "Player's winnings stand at 200\n",
      "Would you like to play another hand? Enter 'y' or 'n': y\n",
      "\n",
      "    Welcome to 21! The aim of the game is to get as close to\n",
      "    21 as you can without going over! The Dealer will keep hitting untill they reach 17.\n",
      "    Aces count as 1 or 11\n",
      "    \n",
      "Place yur bet! How many chips? 100\n",
      "\n",
      " Dealer's hand:\n",
      " *** \n",
      "\n",
      " Ace of Clubs\n",
      "\n",
      "Player's hand:\n",
      "Seven of Diamonds\n",
      "King of Clubs\n",
      "Would you like to hit or stand? Enter 'h' or 's' h\n",
      "\n",
      " Dealer's hand:\n",
      " *** \n",
      "\n",
      " Ace of Clubs\n",
      "\n",
      "Player's hand:\n",
      "Seven of Diamonds\n",
      "King of Clubs\n",
      "Five of Spades\n",
      "Player busts!\n",
      "\n",
      "Player's winnings stand at 100\n",
      "Would you like to play another hand? Enter 'y' or 'n': y\n",
      "\n",
      "    Welcome to 21! The aim of the game is to get as close to\n",
      "    21 as you can without going over! The Dealer will keep hitting untill they reach 17.\n",
      "    Aces count as 1 or 11\n",
      "    \n",
      "Place yur bet! How many chips? 20\n",
      "\n",
      " Dealer's hand:\n",
      " *** \n",
      "\n",
      " Ten of Spades\n",
      "\n",
      "Player's hand:\n",
      "Jack of Spades\n",
      "King of Spades\n",
      "Would you like to hit or stand? Enter 'h' or 's' s\n",
      "Player stands. Dealer is playing\n",
      "\n",
      " Dealer's hand:\n",
      " *** \n",
      "\n",
      " Ten of Spades\n",
      "\n",
      "Player's hand:\n",
      "Jack of Spades\n",
      "King of Spades\n",
      "\n",
      "Dealer's hand: \n",
      "King of Hearts\n",
      "Ten of Spades\n",
      "Dealer's hand = 20\n",
      "\n",
      "Player's hand: \n",
      "Jack of Spades\n",
      "King of Spades\n",
      "Player's hand =  20\n",
      "Dealer and player tie!\n",
      "\n",
      "Player's winnings stand at 100\n",
      "Would you like to play another hand? Enter 'y' or 'n': y\n",
      "\n",
      "    Welcome to 21! The aim of the game is to get as close to\n",
      "    21 as you can without going over! The Dealer will keep hitting untill they reach 17.\n",
      "    Aces count as 1 or 11\n",
      "    \n",
      "Place yur bet! How many chips? 50\n",
      "\n",
      " Dealer's hand:\n",
      " *** \n",
      "\n",
      " Eight of Spades\n",
      "\n",
      "Player's hand:\n",
      "Four of Spades\n",
      "Nine of Hearts\n",
      "Would you like to hit or stand? Enter 'h' or 's' h\n",
      "\n",
      " Dealer's hand:\n",
      " *** \n",
      "\n",
      " Eight of Spades\n",
      "\n",
      "Player's hand:\n",
      "Four of Spades\n",
      "Nine of Hearts\n",
      "Four of Diamonds\n",
      "Would you like to hit or stand? Enter 'h' or 's' s\n",
      "Player stands. Dealer is playing\n",
      "\n",
      " Dealer's hand:\n",
      " *** \n",
      "\n",
      " Eight of Spades\n",
      "\n",
      "Player's hand:\n",
      "Four of Spades\n",
      "Nine of Hearts\n",
      "Four of Diamonds\n",
      "\n",
      "Dealer's hand: \n",
      "Ace of Hearts\n",
      "Eight of Spades\n",
      "Dealer's hand = 19\n",
      "\n",
      "Player's hand: \n",
      "Four of Spades\n",
      "Nine of Hearts\n",
      "Four of Diamonds\n",
      "Player's hand =  17\n",
      "Dealer wins!\n",
      "\n",
      "Player's winnings stand at 50\n",
      "Would you like to play another hand? Enter 'y' or 'n': y\n",
      "\n",
      "    Welcome to 21! The aim of the game is to get as close to\n",
      "    21 as you can without going over! The Dealer will keep hitting untill they reach 17.\n",
      "    Aces count as 1 or 11\n",
      "    \n",
      "Place yur bet! How many chips? 50\n",
      "\n",
      " Dealer's hand:\n",
      " *** \n",
      "\n",
      " King of Clubs\n",
      "\n",
      "Player's hand:\n",
      "Four of Spades\n",
      "Nine of Clubs\n",
      "Would you like to hit or stand? Enter 'h' or 's' h\n",
      "\n",
      " Dealer's hand:\n",
      " *** \n",
      "\n",
      " King of Clubs\n",
      "\n",
      "Player's hand:\n",
      "Four of Spades\n",
      "Nine of Clubs\n",
      "Queen of Diamonds\n",
      "Player busts!\n",
      "\n",
      "Player's winnings stand at 0\n",
      "Would you like to play another hand? Enter 'y' or 'n': y\n",
      "\n",
      "    Welcome to 21! The aim of the game is to get as close to\n",
      "    21 as you can without going over! The Dealer will keep hitting untill they reach 17.\n",
      "    Aces count as 1 or 11\n",
      "    \n",
      "Place yur bet! How many chips? 20\n",
      "YOu don't have enough chips. You only have 0\n",
      "Place yur bet! How many chips? 0\n",
      "\n",
      " Dealer's hand:\n",
      " *** \n",
      "\n",
      " Nine of Hearts\n",
      "\n",
      "Player's hand:\n",
      "Jack of Clubs\n",
      "King of Clubs\n",
      "Would you like to hit or stand? Enter 'h' or 's' s\n",
      "Player stands. Dealer is playing\n",
      "\n",
      " Dealer's hand:\n",
      " *** \n",
      "\n",
      " Nine of Hearts\n",
      "\n",
      "Player's hand:\n",
      "Jack of Clubs\n",
      "King of Clubs\n",
      "\n",
      "Dealer's hand: \n",
      "King of Diamonds\n",
      "Nine of Hearts\n",
      "Dealer's hand = 19\n",
      "\n",
      "Player's hand: \n",
      "Jack of Clubs\n",
      "King of Clubs\n",
      "Player's hand =  20\n",
      "Player wins!\n",
      "\n",
      "Player's winnings stand at 0\n",
      "Would you like to play another hand? Enter 'y' or 'n': n\n",
      "Thanks for playing!\n"
     ]
    }
   ],
   "source": [
    "playing= True\n",
    "player_chips=ChipAccount()\n",
    "\n",
    "while True:\n",
    "    \n",
    "    print('''\n",
    "    Welcome to 21! The aim of the game is to get as close to\n",
    "    21 as you can without going over! The Dealer will keep hitting untill they reach 17.\n",
    "    Aces count as 1 or 11\n",
    "    ''')\n",
    "    \n",
    "    deck =Deck()\n",
    "    deck.shuffle()\n",
    "    \n",
    "    player_hand=Hand()\n",
    "    player_hand.add_card(deck.deal())\n",
    "    player_hand.add_card(deck.deal())\n",
    "    \n",
    "    dealer_hand=Hand()\n",
    "    dealer_hand.add_card(deck.deal())\n",
    "    dealer_hand.add_card(deck.deal())\n",
    "    \n",
    "    take_bet(player_chips)\n",
    "    \n",
    "    show_partial_cards(player_hand,dealer_hand)\n",
    "    \n",
    "    while playing:\n",
    "        hit_or_stand(deck,player_hand)\n",
    "        show_partial_cards(player_hand, dealer_hand)\n",
    "        if player_hand.value > 21:\n",
    "            player_busts(player_hand, dealer_hand, player_chips)\n",
    "            break\n",
    "            \n",
    "    \n",
    "    if player_hand.value <=21:\n",
    "        while dealer_hand.value < 17:\n",
    "            hit(deck,dealer_hand)\n",
    "            \n",
    "        show_all_cards(player_hand, dealer_hand)\n",
    "        \n",
    "        if dealer_hand.value > 21:\n",
    "            dealer_busts(player_hand,dealer_hand, player_chips)\n",
    "            \n",
    "        elif dealer_hand.value > player_hand.value:\n",
    "            dealer_wins(player_hand, dealer_hand, player_chips)\n",
    "            \n",
    "        elif dealer_hand.value < player_hand.value:\n",
    "            player_wins(player_hand, dealer_hand, player_chips)\n",
    "            \n",
    "        else:\n",
    "            tie(player_hand, dealer_hand)\n",
    "            \n",
    "    print(\"\\nPlayer's winnings stand at\", player_chips.total)\n",
    "    new_game=input(\"Would you like to play another hand? Enter 'y' or 'n': \")\n",
    "    \n",
    "    \n",
    "    if new_game[0].lower() =='y':\n",
    "        playing= True\n",
    "        continue\n",
    "        \n",
    "    else:\n",
    "        print(\"Thanks for playing!\")\n",
    "        break\n",
    "            \n",
    "            \n",
    "        "
   ]
  },
  {
   "cell_type": "code",
   "execution_count": null,
   "id": "f083fc8c",
   "metadata": {},
   "outputs": [],
   "source": []
  },
  {
   "cell_type": "code",
   "execution_count": null,
   "id": "fac75198",
   "metadata": {},
   "outputs": [],
   "source": []
  }
 ],
 "metadata": {
  "kernelspec": {
   "display_name": "Python 3 (ipykernel)",
   "language": "python",
   "name": "python3"
  },
  "language_info": {
   "codemirror_mode": {
    "name": "ipython",
    "version": 3
   },
   "file_extension": ".py",
   "mimetype": "text/x-python",
   "name": "python",
   "nbconvert_exporter": "python",
   "pygments_lexer": "ipython3",
   "version": "3.10.9"
  }
 },
 "nbformat": 4,
 "nbformat_minor": 5
}

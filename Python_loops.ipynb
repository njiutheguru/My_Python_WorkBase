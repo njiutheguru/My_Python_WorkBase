{
 "cells": [
  {
   "cell_type": "code",
   "execution_count": 1,
   "id": "7cd70854",
   "metadata": {},
   "outputs": [],
   "source": [
    "# INTRODUCING LOOPS AND THE FizzBuzz game\n",
    "#divisible by 3=fizz!\n",
    "#divisible by 5= Buzz!\n",
    "#divisible by 3 and 5 =FizzBuzz"
   ]
  },
  {
   "cell_type": "code",
   "execution_count": 2,
   "id": "42414e7c",
   "metadata": {},
   "outputs": [],
   "source": [
    "#introducing for loops"
   ]
  },
  {
   "cell_type": "code",
   "execution_count": 3,
   "id": "908baa0e",
   "metadata": {},
   "outputs": [
    {
     "name": "stdout",
     "output_type": "stream",
     "text": [
      "1\n",
      "2\n",
      "3\n",
      "4\n",
      "5\n"
     ]
    }
   ],
   "source": [
    "for element in [1,2,3,4,5]:\n",
    "    print(element)"
   ]
  },
  {
   "cell_type": "code",
   "execution_count": 6,
   "id": "a4397f30",
   "metadata": {},
   "outputs": [],
   "source": [
    "numbers=list(range(11))"
   ]
  },
  {
   "cell_type": "code",
   "execution_count": 7,
   "id": "6e5bc65a",
   "metadata": {},
   "outputs": [
    {
     "data": {
      "text/plain": [
       "[0, 1, 2, 3, 4, 5, 6, 7, 8, 9, 10]"
      ]
     },
     "execution_count": 7,
     "metadata": {},
     "output_type": "execute_result"
    }
   ],
   "source": [
    "numbers"
   ]
  },
  {
   "cell_type": "code",
   "execution_count": 8,
   "id": "8ceba979",
   "metadata": {},
   "outputs": [
    {
     "name": "stdout",
     "output_type": "stream",
     "text": [
      "55\n"
     ]
    }
   ],
   "source": [
    "total=0;\n",
    "for num in numbers:\n",
    "    total += num\n",
    "# This space is very important\n",
    "print(total)"
   ]
  },
  {
   "cell_type": "code",
   "execution_count": 11,
   "id": "8138fa32",
   "metadata": {},
   "outputs": [],
   "source": [
    "rangeNo=list(range(0,1001,10))"
   ]
  },
  {
   "cell_type": "code",
   "execution_count": 12,
   "id": "c5ae911f",
   "metadata": {},
   "outputs": [
    {
     "data": {
      "text/plain": [
       "[0,\n",
       " 10,\n",
       " 20,\n",
       " 30,\n",
       " 40,\n",
       " 50,\n",
       " 60,\n",
       " 70,\n",
       " 80,\n",
       " 90,\n",
       " 100,\n",
       " 110,\n",
       " 120,\n",
       " 130,\n",
       " 140,\n",
       " 150,\n",
       " 160,\n",
       " 170,\n",
       " 180,\n",
       " 190,\n",
       " 200,\n",
       " 210,\n",
       " 220,\n",
       " 230,\n",
       " 240,\n",
       " 250,\n",
       " 260,\n",
       " 270,\n",
       " 280,\n",
       " 290,\n",
       " 300,\n",
       " 310,\n",
       " 320,\n",
       " 330,\n",
       " 340,\n",
       " 350,\n",
       " 360,\n",
       " 370,\n",
       " 380,\n",
       " 390,\n",
       " 400,\n",
       " 410,\n",
       " 420,\n",
       " 430,\n",
       " 440,\n",
       " 450,\n",
       " 460,\n",
       " 470,\n",
       " 480,\n",
       " 490,\n",
       " 500,\n",
       " 510,\n",
       " 520,\n",
       " 530,\n",
       " 540,\n",
       " 550,\n",
       " 560,\n",
       " 570,\n",
       " 580,\n",
       " 590,\n",
       " 600,\n",
       " 610,\n",
       " 620,\n",
       " 630,\n",
       " 640,\n",
       " 650,\n",
       " 660,\n",
       " 670,\n",
       " 680,\n",
       " 690,\n",
       " 700,\n",
       " 710,\n",
       " 720,\n",
       " 730,\n",
       " 740,\n",
       " 750,\n",
       " 760,\n",
       " 770,\n",
       " 780,\n",
       " 790,\n",
       " 800,\n",
       " 810,\n",
       " 820,\n",
       " 830,\n",
       " 840,\n",
       " 850,\n",
       " 860,\n",
       " 870,\n",
       " 880,\n",
       " 890,\n",
       " 900,\n",
       " 910,\n",
       " 920,\n",
       " 930,\n",
       " 940,\n",
       " 950,\n",
       " 960,\n",
       " 970,\n",
       " 980,\n",
       " 990,\n",
       " 1000]"
      ]
     },
     "execution_count": 12,
     "metadata": {},
     "output_type": "execute_result"
    }
   ],
   "source": [
    "rangeNo"
   ]
  },
  {
   "cell_type": "code",
   "execution_count": 13,
   "id": "8f13f759",
   "metadata": {},
   "outputs": [],
   "source": [
    "#introducing for loop and the range function."
   ]
  },
  {
   "cell_type": "code",
   "execution_count": 19,
   "id": "1ca906af",
   "metadata": {},
   "outputs": [
    {
     "name": "stdout",
     "output_type": "stream",
     "text": [
      "55\n"
     ]
    }
   ],
   "source": [
    "tot=0\n",
    "for num in range(1,11):\n",
    "    tot +=num\n",
    "\n",
    "print(tot)"
   ]
  },
  {
   "cell_type": "code",
   "execution_count": 22,
   "id": "83eb983e",
   "metadata": {},
   "outputs": [],
   "source": [
    "hobbies=['sport','music','coding']\n"
   ]
  },
  {
   "cell_type": "code",
   "execution_count": 23,
   "id": "38cea9e9",
   "metadata": {},
   "outputs": [
    {
     "name": "stdout",
     "output_type": "stream",
     "text": [
      " I enjoy sport\n",
      " I enjoy music\n",
      " I enjoy coding\n"
     ]
    }
   ],
   "source": [
    "for i in hobbies:\n",
    "    print(\" I enjoy \"+i)"
   ]
  },
  {
   "cell_type": "code",
   "execution_count": 57,
   "id": "423be85e",
   "metadata": {},
   "outputs": [
    {
     "data": {
      "text/plain": [
       "[0,\n",
       " 1,\n",
       " 2,\n",
       " 3,\n",
       " 4,\n",
       " 5,\n",
       " 6,\n",
       " 7,\n",
       " 8,\n",
       " 9,\n",
       " 10,\n",
       " 11,\n",
       " 12,\n",
       " 13,\n",
       " 14,\n",
       " 15,\n",
       " 16,\n",
       " 17,\n",
       " 18,\n",
       " 19,\n",
       " 20,\n",
       " 21,\n",
       " 22,\n",
       " 23,\n",
       " 24,\n",
       " 25,\n",
       " 26,\n",
       " 27,\n",
       " 28,\n",
       " 29,\n",
       " 30,\n",
       " 31,\n",
       " 32,\n",
       " 33,\n",
       " 34,\n",
       " 35,\n",
       " 36,\n",
       " 37,\n",
       " 38,\n",
       " 39,\n",
       " 40,\n",
       " 41,\n",
       " 42,\n",
       " 43,\n",
       " 44,\n",
       " 45,\n",
       " 46,\n",
       " 47,\n",
       " 48,\n",
       " 49,\n",
       " 50]"
      ]
     },
     "execution_count": 57,
     "metadata": {},
     "output_type": "execute_result"
    }
   ],
   "source": [
    "numbers=list(range(0,51))\n",
    "numbers"
   ]
  },
  {
   "cell_type": "code",
   "execution_count": 58,
   "id": "768f8aa3",
   "metadata": {},
   "outputs": [
    {
     "name": "stdout",
     "output_type": "stream",
     "text": [
      "0\n",
      "1\n",
      "2\n",
      "Fuzz\n",
      "4\n",
      "Buzz\n",
      "Fuzz\n",
      "7\n",
      "8\n",
      "Fuzz\n",
      "Buzz\n",
      "11\n",
      "Fuzz\n",
      "13\n",
      "14\n",
      "fuzzBuzz\n",
      "16\n",
      "17\n",
      "Fuzz\n",
      "19\n",
      "Buzz\n",
      "Fuzz\n",
      "22\n",
      "23\n",
      "Fuzz\n",
      "Buzz\n",
      "26\n",
      "Fuzz\n",
      "28\n",
      "29\n",
      "fuzzBuzz\n",
      "31\n",
      "32\n",
      "Fuzz\n",
      "34\n",
      "Buzz\n",
      "Fuzz\n",
      "37\n",
      "38\n",
      "Fuzz\n",
      "Buzz\n",
      "41\n",
      "Fuzz\n",
      "43\n",
      "44\n",
      "fuzzBuzz\n",
      "46\n",
      "47\n",
      "Fuzz\n",
      "49\n",
      "Buzz\n"
     ]
    }
   ],
   "source": [
    "#Complete implementation of the FuzzBuzz Game\n",
    "\n",
    "for i in numbers:\n",
    "    if i==0: #or (i%3>0 and i%5>0):\n",
    "        print(i)\n",
    "   # if (i%3 !=0) and (i%5!=0):\n",
    "       # print(i)\n",
    "    elif i%3==0 and i%5 !=0:\n",
    "        print(\"Fuzz\")\n",
    "    elif i%5==0 and i%3 !=0:\n",
    "        print(\"Buzz\")\n",
    "    elif i%5==0 and i%3 ==0:\n",
    "        print(\"fuzzBuzz\")\n",
    "    else:\n",
    "        print(i)\n",
    "   \n",
    "  \n",
    "\n"
   ]
  },
  {
   "cell_type": "code",
   "execution_count": 27,
   "id": "cb88acfc",
   "metadata": {},
   "outputs": [
    {
     "data": {
      "text/plain": [
       "False"
      ]
     },
     "execution_count": 27,
     "metadata": {},
     "output_type": "execute_result"
    }
   ],
   "source": []
  },
  {
   "cell_type": "code",
   "execution_count": 60,
   "id": "3044af60",
   "metadata": {},
   "outputs": [
    {
     "data": {
      "text/plain": [
       "'nohtyP htiw gnidoc evol I'"
      ]
     },
     "execution_count": 60,
     "metadata": {},
     "output_type": "execute_result"
    }
   ],
   "source": [
    "sentence='I love coding with Python'\n",
    "sentence[::-1] #string reversal"
   ]
  },
  {
   "cell_type": "code",
   "execution_count": 64,
   "id": "f7a19f8d",
   "metadata": {},
   "outputs": [
    {
     "name": "stdout",
     "output_type": "stream",
     "text": [
      "There are 3 letter 'o' in the sentence\n"
     ]
    }
   ],
   "source": [
    "count=0\n",
    "for letter in sentence:\n",
    "    if letter=='o':\n",
    "        count+=1\n",
    "        \n",
    "print(\"There are \" +str(count)+\" letter 'o' in the sentence\")\n",
    "    "
   ]
  },
  {
   "cell_type": "code",
   "execution_count": 65,
   "id": "54fd2d5f",
   "metadata": {},
   "outputs": [],
   "source": [
    "\n",
    "#FizzBuzz complete implementation using for loops..\n",
    "#we enable a user to start a starting number and finish number\n",
    "#The solution must contain for loop"
   ]
  },
  {
   "cell_type": "code",
   "execution_count": 77,
   "id": "d68810d3",
   "metadata": {},
   "outputs": [
    {
     "name": "stdout",
     "output_type": "stream",
     "text": [
      "Enter start: 0\n",
      "Enter Stop: 101\n",
      "0\n",
      "1\n",
      "2\n",
      "Fizz\n",
      "4\n",
      "Buzz\n",
      "Fizz\n",
      "7\n",
      "8\n",
      "Fizz\n",
      "Buzz\n",
      "11\n",
      "Fizz\n",
      "13\n",
      "14\n",
      "FizzBuzz\n",
      "16\n",
      "17\n",
      "Fizz\n",
      "19\n",
      "Buzz\n",
      "Fizz\n",
      "22\n",
      "23\n",
      "Fizz\n",
      "Buzz\n",
      "26\n",
      "Fizz\n",
      "28\n",
      "29\n",
      "FizzBuzz\n",
      "31\n",
      "32\n",
      "Fizz\n",
      "34\n",
      "Buzz\n",
      "Fizz\n",
      "37\n",
      "38\n",
      "Fizz\n",
      "Buzz\n",
      "41\n",
      "Fizz\n",
      "43\n",
      "44\n",
      "FizzBuzz\n",
      "46\n",
      "47\n",
      "Fizz\n",
      "49\n",
      "Buzz\n",
      "Fizz\n",
      "52\n",
      "53\n",
      "Fizz\n",
      "Buzz\n",
      "56\n",
      "Fizz\n",
      "58\n",
      "59\n",
      "FizzBuzz\n",
      "61\n",
      "62\n",
      "Fizz\n",
      "64\n",
      "Buzz\n",
      "Fizz\n",
      "67\n",
      "68\n",
      "Fizz\n",
      "Buzz\n",
      "71\n",
      "Fizz\n",
      "73\n",
      "74\n",
      "FizzBuzz\n",
      "76\n",
      "77\n",
      "Fizz\n",
      "79\n",
      "Buzz\n",
      "Fizz\n",
      "82\n",
      "83\n",
      "Fizz\n",
      "Buzz\n",
      "86\n",
      "Fizz\n",
      "88\n",
      "89\n",
      "FizzBuzz\n",
      "91\n",
      "92\n",
      "Fizz\n",
      "94\n",
      "Buzz\n",
      "Fizz\n",
      "97\n",
      "98\n",
      "Fizz\n",
      "Buzz\n"
     ]
    }
   ],
   "source": [
    "#Dynamic FizzBuzz Game..\n",
    "start=input(\"Enter start: \")\n",
    "stop=input(\"Enter Stop: \")\n",
    "for i in range(int(start),int(stop)):\n",
    "    if i%3==0 and i%5==0 and i!=0:\n",
    "        print(\"FizzBuzz\")\n",
    "    elif i%5==0 and i!=0:\n",
    "        print(\"Buzz\")\n",
    "    elif i%3==0 and i!=0:\n",
    "        print(\"Fizz\")\n",
    "    else:\n",
    "        print(i)\n",
    "    "
   ]
  },
  {
   "cell_type": "code",
   "execution_count": 78,
   "id": "f5139339",
   "metadata": {},
   "outputs": [],
   "source": [
    "#WHILE LOOPS\n"
   ]
  },
  {
   "cell_type": "code",
   "execution_count": 79,
   "id": "7c5d2784",
   "metadata": {},
   "outputs": [],
   "source": [
    "hungry=True\n"
   ]
  },
  {
   "cell_type": "code",
   "execution_count": 1,
   "id": "c2537837",
   "metadata": {},
   "outputs": [
    {
     "name": "stdout",
     "output_type": "stream",
     "text": [
      "55\n"
     ]
    }
   ],
   "source": [
    "i=1\n",
    "total=0\n",
    "while i<=10:\n",
    "    total+=i\n",
    "    i+=1\n",
    "    \n",
    "print(total)"
   ]
  },
  {
   "cell_type": "code",
   "execution_count": 2,
   "id": "0865da07",
   "metadata": {},
   "outputs": [],
   "source": [
    "hobbies=['sport','dancing','coding','painting','board games','travelling','gym','dancing']"
   ]
  },
  {
   "cell_type": "code",
   "execution_count": null,
   "id": "647eb08f",
   "metadata": {},
   "outputs": [],
   "source": []
  },
  {
   "cell_type": "code",
   "execution_count": 3,
   "id": "683f8acd",
   "metadata": {},
   "outputs": [
    {
     "name": "stdout",
     "output_type": "stream",
     "text": [
      "sport\n",
      "dancing\n",
      "coding\n",
      "painting\n",
      "board games\n",
      "travelling\n",
      "gym\n",
      "dancing\n"
     ]
    }
   ],
   "source": [
    "i=0\n",
    "while i<len(hobbies):\n",
    "    print(hobbies[i])\n",
    "    i+=1"
   ]
  },
  {
   "cell_type": "code",
   "execution_count": 8,
   "id": "e1d6679b",
   "metadata": {},
   "outputs": [
    {
     "name": "stdout",
     "output_type": "stream",
     "text": [
      "hello\n"
     ]
    }
   ],
   "source": [
    "if 88.9:\n",
    "    print('hello')"
   ]
  },
  {
   "cell_type": "code",
   "execution_count": null,
   "id": "19bf95eb",
   "metadata": {},
   "outputs": [],
   "source": []
  },
  {
   "cell_type": "code",
   "execution_count": 9,
   "id": "b1f96668",
   "metadata": {},
   "outputs": [],
   "source": [
    "#FizzBuzz Problems while using While loops..."
   ]
  },
  {
   "cell_type": "code",
   "execution_count": 3,
   "id": "ad55bccb",
   "metadata": {},
   "outputs": [
    {
     "name": "stdout",
     "output_type": "stream",
     "text": [
      "0\n",
      "1\n",
      "2\n",
      "Fizz\n",
      "4\n",
      "Buzz\n",
      "Fizz\n",
      "7\n",
      "8\n",
      "Fizz\n",
      "Buzz\n",
      "11\n",
      "Fizz\n",
      "13\n",
      "14\n",
      "fizzBuzz\n",
      "16\n"
     ]
    }
   ],
   "source": [
    "i=0\n",
    "stop=16\n",
    "while i<=stop:\n",
    "    if i==0:\n",
    "        print(i)\n",
    "    elif i%3==0 and i%5==0:\n",
    "        print(\"fizzBuzz\")\n",
    "    elif i%3==0:\n",
    "        print(\"Fizz\")\n",
    "    elif i%5==0:\n",
    "        print(\"Buzz\")\n",
    "    else:\n",
    "        print(i)\n",
    "    i+=1"
   ]
  },
  {
   "cell_type": "code",
   "execution_count": 4,
   "id": "97b8a93b",
   "metadata": {},
   "outputs": [],
   "source": [
    "\n",
    "#NESTED LOOPS"
   ]
  },
  {
   "cell_type": "code",
   "execution_count": 9,
   "id": "43e1294d",
   "metadata": {},
   "outputs": [
    {
     "name": "stdout",
     "output_type": "stream",
     "text": [
      "I play golf\n",
      "I play tennis\n",
      "I play badminton\n",
      "-------\n",
      "I watch golf\n",
      "I watch tennis\n",
      "I watch badminton\n",
      "-------\n",
      "I enjoy golf\n",
      "I enjoy tennis\n",
      "I enjoy badminton\n",
      "-------\n"
     ]
    }
   ],
   "source": [
    "for a in['I play ','I watch ','I enjoy ']:\n",
    "    for b in ['golf','tennis','badminton']:\n",
    "        print(a+b)\n",
    "    print(\"-------\")"
   ]
  },
  {
   "cell_type": "code",
   "execution_count": 12,
   "id": "f5369838",
   "metadata": {},
   "outputs": [
    {
     "name": "stdout",
     "output_type": "stream",
     "text": [
      "This is outer loop number 1\n",
      "Inner loop 1 calculates 1 * 1 = 1\n",
      "Inner loop 2 calculates 1 * 2 = 2\n",
      "Inner loop 3 calculates 1 * 3 = 3\n",
      "Inner loop 4 calculates 1 * 4 = 4\n",
      "Inner loop 5 calculates 1 * 5 = 5\n",
      "-----------\n",
      "This is outer loop number 2\n",
      "Inner loop 1 calculates 2 * 1 = 2\n",
      "Inner loop 2 calculates 2 * 2 = 4\n",
      "Inner loop 3 calculates 2 * 3 = 6\n",
      "Inner loop 4 calculates 2 * 4 = 8\n",
      "Inner loop 5 calculates 2 * 5 = 10\n",
      "-----------\n",
      "This is outer loop number 3\n",
      "Inner loop 1 calculates 3 * 1 = 3\n",
      "Inner loop 2 calculates 3 * 2 = 6\n",
      "Inner loop 3 calculates 3 * 3 = 9\n",
      "Inner loop 4 calculates 3 * 4 = 12\n",
      "Inner loop 5 calculates 3 * 5 = 15\n",
      "-----------\n"
     ]
    }
   ],
   "source": [
    "a=1\n",
    "b=1\n",
    "while a<=3:\n",
    "    print(\"This is outer loop number {}\".format(a))\n",
    "    while b<=5:\n",
    "        c=a*b\n",
    "        print(\"Inner loop {} calculates {} * {} = {}\".format(b,a,b,c))\n",
    "        b+=1\n",
    "    a+=1\n",
    "    b=1\n",
    "    print(\"-----------\")"
   ]
  },
  {
   "cell_type": "code",
   "execution_count": 14,
   "id": "8937adde",
   "metadata": {},
   "outputs": [],
   "source": [
    "\n",
    "#break, continue, and pass keywords..\n"
   ]
  },
  {
   "cell_type": "code",
   "execution_count": 17,
   "id": "4590e652",
   "metadata": {},
   "outputs": [
    {
     "name": "stdout",
     "output_type": "stream",
     "text": [
      "0\n",
      "1\n",
      "2\n",
      "3\n"
     ]
    }
   ],
   "source": [
    "for num in list(range(0,11)):\n",
    "    if num==4:\n",
    "        break\n",
    "    print(num)"
   ]
  },
  {
   "cell_type": "code",
   "execution_count": 20,
   "id": "b6fec4e5",
   "metadata": {},
   "outputs": [
    {
     "name": "stdout",
     "output_type": "stream",
     "text": [
      "K\n",
      "i\n",
      "n\n",
      "g\n",
      "__-------\n",
      "K\n",
      "i\n",
      "n\n",
      "g\n",
      "__-------\n",
      "K\n",
      "i\n",
      "n\n",
      "g\n",
      "__-------\n"
     ]
    }
   ],
   "source": [
    "for num in range(1,4):\n",
    "    for letter in 'Kingdom':\n",
    "        if letter=='d':\n",
    "            break\n",
    "        print(letter)\n",
    "    print(\"__-------\")"
   ]
  },
  {
   "cell_type": "code",
   "execution_count": 21,
   "id": "5804207a",
   "metadata": {},
   "outputs": [],
   "source": [
    "lists=[4,5,6,7,'hello','Greek',9]\n"
   ]
  },
  {
   "cell_type": "code",
   "execution_count": 22,
   "id": "83d945f1",
   "metadata": {},
   "outputs": [
    {
     "data": {
      "text/plain": [
       "list"
      ]
     },
     "execution_count": 22,
     "metadata": {},
     "output_type": "execute_result"
    }
   ],
   "source": [
    "type(lists)"
   ]
  },
  {
   "cell_type": "code",
   "execution_count": 23,
   "id": "d3d5efc4",
   "metadata": {},
   "outputs": [
    {
     "ename": "SyntaxError",
     "evalue": "invalid syntax (2725590430.py, line 1)",
     "output_type": "error",
     "traceback": [
      "\u001b[1;36m  Cell \u001b[1;32mIn[23], line 1\u001b[1;36m\u001b[0m\n\u001b[1;33m    print(lists::-1)\u001b[0m\n\u001b[1;37m               ^\u001b[0m\n\u001b[1;31mSyntaxError\u001b[0m\u001b[1;31m:\u001b[0m invalid syntax\n"
     ]
    }
   ],
   "source": [
    "print(lists::-1)"
   ]
  },
  {
   "cell_type": "code",
   "execution_count": 24,
   "id": "45f9b39c",
   "metadata": {},
   "outputs": [
    {
     "ename": "SyntaxError",
     "evalue": "invalid syntax (2552875383.py, line 1)",
     "output_type": "error",
     "traceback": [
      "\u001b[1;36m  Cell \u001b[1;32mIn[24], line 1\u001b[1;36m\u001b[0m\n\u001b[1;33m    lists::-1\u001b[0m\n\u001b[1;37m          ^\u001b[0m\n\u001b[1;31mSyntaxError\u001b[0m\u001b[1;31m:\u001b[0m invalid syntax\n"
     ]
    }
   ],
   "source": [
    "lists::-1\n",
    "        "
   ]
  },
  {
   "cell_type": "code",
   "execution_count": 25,
   "id": "65cdb5df",
   "metadata": {},
   "outputs": [
    {
     "ename": "SyntaxError",
     "evalue": "invalid syntax (1279840065.py, line 1)",
     "output_type": "error",
     "traceback": [
      "\u001b[1;36m  Cell \u001b[1;32mIn[25], line 1\u001b[1;36m\u001b[0m\n\u001b[1;33m    lists(::-1)\u001b[0m\n\u001b[1;37m          ^\u001b[0m\n\u001b[1;31mSyntaxError\u001b[0m\u001b[1;31m:\u001b[0m invalid syntax\n"
     ]
    }
   ],
   "source": [
    "lists(::-1)"
   ]
  },
  {
   "cell_type": "code",
   "execution_count": 26,
   "id": "6b205e11",
   "metadata": {},
   "outputs": [
    {
     "ename": "SyntaxError",
     "evalue": "invalid syntax (1706461142.py, line 1)",
     "output_type": "error",
     "traceback": [
      "\u001b[1;36m  Cell \u001b[1;32mIn[26], line 1\u001b[1;36m\u001b[0m\n\u001b[1;33m    lists(::)\u001b[0m\n\u001b[1;37m          ^\u001b[0m\n\u001b[1;31mSyntaxError\u001b[0m\u001b[1;31m:\u001b[0m invalid syntax\n"
     ]
    }
   ],
   "source": [
    "lists(::)"
   ]
  },
  {
   "cell_type": "code",
   "execution_count": 27,
   "id": "5a157473",
   "metadata": {},
   "outputs": [
    {
     "ename": "SyntaxError",
     "evalue": "invalid syntax (3227841186.py, line 1)",
     "output_type": "error",
     "traceback": [
      "\u001b[1;36m  Cell \u001b[1;32mIn[27], line 1\u001b[1;36m\u001b[0m\n\u001b[1;33m    lists::\u001b[0m\n\u001b[1;37m          ^\u001b[0m\n\u001b[1;31mSyntaxError\u001b[0m\u001b[1;31m:\u001b[0m invalid syntax\n"
     ]
    }
   ],
   "source": [
    "lists::"
   ]
  },
  {
   "cell_type": "code",
   "execution_count": 28,
   "id": "8b0770c5",
   "metadata": {},
   "outputs": [
    {
     "data": {
      "text/plain": [
       "[4, 5, 6, 7, 'hello', 'Greek', 9]"
      ]
     },
     "execution_count": 28,
     "metadata": {},
     "output_type": "execute_result"
    }
   ],
   "source": [
    "lists[::]"
   ]
  },
  {
   "cell_type": "code",
   "execution_count": 29,
   "id": "c446bab6",
   "metadata": {},
   "outputs": [
    {
     "data": {
      "text/plain": [
       "[9, 'Greek', 'hello', 7, 6, 5, 4]"
      ]
     },
     "execution_count": 29,
     "metadata": {},
     "output_type": "execute_result"
    }
   ],
   "source": [
    "lists[::-1]"
   ]
  },
  {
   "cell_type": "code",
   "execution_count": 30,
   "id": "8b3ef6d8",
   "metadata": {},
   "outputs": [
    {
     "name": "stdout",
     "output_type": "stream",
     "text": [
      "K\n",
      "i\n",
      "n\n",
      "g\n",
      "--------\n",
      "K\n",
      "i\n",
      "n\n",
      "g\n",
      "--------\n",
      "K\n",
      "i\n",
      "n\n",
      "g\n",
      "--------\n"
     ]
    }
   ],
   "source": [
    "for num in range(1,4):\n",
    "    for letter in \"Kingdom\":\n",
    "        if letter=='d':\n",
    "            break\n",
    "            \n",
    "        print(letter)\n",
    "    print(\"--------\")"
   ]
  },
  {
   "cell_type": "code",
   "execution_count": null,
   "id": "97dc13c9",
   "metadata": {},
   "outputs": [],
   "source": []
  },
  {
   "cell_type": "code",
   "execution_count": 32,
   "id": "f047903b",
   "metadata": {},
   "outputs": [
    {
     "name": "stdout",
     "output_type": "stream",
     "text": [
      "0\n",
      "1\n",
      "2\n",
      "3\n",
      "5\n",
      "6\n",
      "7\n",
      "8\n",
      "9\n",
      "10\n",
      "This is code after the for loop\n"
     ]
    }
   ],
   "source": [
    "#introducing the continue statement...\n",
    "for num in list(range(0,11)):\n",
    "    if num==4:\n",
    "        continue\n",
    "    print(num)\n",
    "print(\"This is code after the for loop\")"
   ]
  },
  {
   "cell_type": "code",
   "execution_count": 33,
   "id": "f28ce45e",
   "metadata": {},
   "outputs": [
    {
     "name": "stdout",
     "output_type": "stream",
     "text": [
      "S\n",
      "t\n",
      "i\n",
      "n\n",
      "g\n",
      "This is code after the for loop...successful execution\n"
     ]
    }
   ],
   "source": [
    "for letter in 'String':\n",
    "    if letter=='r':\n",
    "        continue\n",
    "    print(letter)\n",
    "print(\"This is code after the for loop...successful execution\")"
   ]
  },
  {
   "cell_type": "code",
   "execution_count": 34,
   "id": "0aaa2930",
   "metadata": {},
   "outputs": [],
   "source": [
    "for i in list(range(1,6)):\n",
    "    pass #it does nothing.."
   ]
  },
  {
   "cell_type": "code",
   "execution_count": 35,
   "id": "cc5f4925",
   "metadata": {},
   "outputs": [],
   "source": [
    "# unlike comment, a pass is not ignored.."
   ]
  },
  {
   "cell_type": "code",
   "execution_count": 36,
   "id": "ca8761c2",
   "metadata": {},
   "outputs": [],
   "source": [
    "#creating loops with the else keyword..\n",
    "#for loops and the else keyword works like if and else\n"
   ]
  },
  {
   "cell_type": "code",
   "execution_count": 37,
   "id": "4c1a2a60",
   "metadata": {},
   "outputs": [
    {
     "name": "stdout",
     "output_type": "stream",
     "text": [
      "1\n",
      "2\n",
      "3\n",
      "4\n",
      "5\n",
      "No more numbers in lists\n"
     ]
    }
   ],
   "source": [
    "for i in list(range(1,6)):\n",
    "    print(i)\n",
    "else:\n",
    "    print(\"No more numbers in lists\")"
   ]
  },
  {
   "cell_type": "code",
   "execution_count": 41,
   "id": "5834d524",
   "metadata": {},
   "outputs": [],
   "source": [
    "find_item='Appls'\n",
    "shopping_lists=['Apples','Grapes','Butter','Mustard']"
   ]
  },
  {
   "cell_type": "code",
   "execution_count": 44,
   "id": "41a64049",
   "metadata": {},
   "outputs": [
    {
     "name": "stdout",
     "output_type": "stream",
     "text": [
      " YOu don't have this item on the list\n"
     ]
    }
   ],
   "source": [
    "for item in shopping_lists:\n",
    "    if find_item==item:\n",
    "        print(item + \" is on the shopping lists!\")\n",
    "        break\n",
    "else:\n",
    "    print(\" YOu don't have this item on the list\")"
   ]
  },
  {
   "cell_type": "code",
   "execution_count": 49,
   "id": "8ef60991",
   "metadata": {},
   "outputs": [
    {
     "name": "stdout",
     "output_type": "stream",
     "text": [
      "index 0 is the letter a\n",
      "index 1 is the letter b\n",
      "index 2 is the letter c\n",
      "index 3 is the letter d\n",
      "index 4 is the letter e\n",
      "index 5 is the letter f\n",
      "index 6 is the letter g\n",
      "index 7 is the letter h\n"
     ]
    }
   ],
   "source": [
    "#Introducing Enumerate fuction\n",
    "alphabet='abcdefgh'\n",
    "index_count=0\n",
    "for letter in alphabet:\n",
    "    print(\"index {} is the letter {}\".format(index_count,letter))\n",
    "    index_count +=1"
   ]
  },
  {
   "cell_type": "code",
   "execution_count": 50,
   "id": "85558f5e",
   "metadata": {},
   "outputs": [
    {
     "name": "stdout",
     "output_type": "stream",
     "text": [
      "(0, 'a')\n",
      "(1, 'b')\n",
      "(2, 'c')\n",
      "(3, 'd')\n",
      "(4, 'e')\n",
      "(5, 'f')\n",
      "(6, 'g')\n",
      "(7, 'h')\n"
     ]
    }
   ],
   "source": [
    "for letter in enumerate(alphabet):\n",
    "    print(letter)"
   ]
  },
  {
   "cell_type": "code",
   "execution_count": null,
   "id": "20cffa2e",
   "metadata": {},
   "outputs": [],
   "source": []
  },
  {
   "cell_type": "code",
   "execution_count": 51,
   "id": "fcbb6c64",
   "metadata": {},
   "outputs": [],
   "source": [
    "my_dict={}\n",
    "for letter in enumerate(alphabet):\n",
    "    my_dict[letter[0]]=letter[1]"
   ]
  },
  {
   "cell_type": "code",
   "execution_count": 52,
   "id": "967b26ce",
   "metadata": {},
   "outputs": [
    {
     "data": {
      "text/plain": [
       "{0: 'a', 1: 'b', 2: 'c', 3: 'd', 4: 'e', 5: 'f', 6: 'g', 7: 'h'}"
      ]
     },
     "execution_count": 52,
     "metadata": {},
     "output_type": "execute_result"
    }
   ],
   "source": [
    "my_dict"
   ]
  },
  {
   "cell_type": "code",
   "execution_count": null,
   "id": "768faf20",
   "metadata": {},
   "outputs": [],
   "source": []
  },
  {
   "cell_type": "code",
   "execution_count": 54,
   "id": "eb0a619a",
   "metadata": {},
   "outputs": [],
   "source": [
    "#introducing List Comprehension\n"
   ]
  },
  {
   "cell_type": "code",
   "execution_count": 55,
   "id": "2dda734f",
   "metadata": {},
   "outputs": [],
   "source": [
    "#create a listof even numbers form 0 to 0 using a for loop"
   ]
  },
  {
   "cell_type": "code",
   "execution_count": 56,
   "id": "c9cf1a0d",
   "metadata": {},
   "outputs": [
    {
     "data": {
      "text/plain": [
       "[0, 2, 4, 6, 8, 10, 12, 14, 16, 18, 20]"
      ]
     },
     "execution_count": 56,
     "metadata": {},
     "output_type": "execute_result"
    }
   ],
   "source": [
    "evens=[]\n",
    "for x in range(11):\n",
    "    evens.append(x*2)\n",
    "evens"
   ]
  },
  {
   "cell_type": "code",
   "execution_count": 57,
   "id": "d04fbb9c",
   "metadata": {},
   "outputs": [],
   "source": [
    "#using list.."
   ]
  },
  {
   "cell_type": "code",
   "execution_count": 58,
   "id": "4b61c090",
   "metadata": {},
   "outputs": [
    {
     "data": {
      "text/plain": [
       "[0, 2, 4, 6, 8, 10, 12, 14, 16, 18, 20]"
      ]
     },
     "execution_count": 58,
     "metadata": {},
     "output_type": "execute_result"
    }
   ],
   "source": [
    "evens=[(x*2) for x in range(11)]\n",
    "evens"
   ]
  },
  {
   "cell_type": "code",
   "execution_count": 59,
   "id": "a6c5f1c0",
   "metadata": {},
   "outputs": [],
   "source": [
    "#excluding numbers divisible by 6"
   ]
  },
  {
   "cell_type": "code",
   "execution_count": 60,
   "id": "e40dfe37",
   "metadata": {},
   "outputs": [],
   "source": [
    "evens=[(x*2) for x in range(11) if x*2%6!=0]"
   ]
  },
  {
   "cell_type": "code",
   "execution_count": 61,
   "id": "93fa0dc9",
   "metadata": {},
   "outputs": [
    {
     "data": {
      "text/plain": [
       "[2, 4, 8, 10, 14, 16, 20]"
      ]
     },
     "execution_count": 61,
     "metadata": {},
     "output_type": "execute_result"
    }
   ],
   "source": [
    "evens"
   ]
  },
  {
   "cell_type": "code",
   "execution_count": 62,
   "id": "89e5f1b0",
   "metadata": {},
   "outputs": [
    {
     "data": {
      "text/plain": [
       "{0: 0, 1: 1, 2: 4, 3: 9, 4: 16, 5: 25}"
      ]
     },
     "execution_count": 62,
     "metadata": {},
     "output_type": "execute_result"
    }
   ],
   "source": [
    "#dictionary and set comprehension\n",
    "squares={}\n",
    "for x in range(6):\n",
    "    squares[x]=x*x\n",
    "    \n",
    "squares\n",
    "    "
   ]
  },
  {
   "cell_type": "code",
   "execution_count": 65,
   "id": "225ec811",
   "metadata": {},
   "outputs": [],
   "source": [
    "squares={x: x*x for x in range(11)}"
   ]
  },
  {
   "cell_type": "code",
   "execution_count": 66,
   "id": "42f2cdb8",
   "metadata": {},
   "outputs": [
    {
     "data": {
      "text/plain": [
       "{0: 0, 1: 1, 2: 4, 3: 9, 4: 16, 5: 25, 6: 36, 7: 49, 8: 64, 9: 81, 10: 100}"
      ]
     },
     "execution_count": 66,
     "metadata": {},
     "output_type": "execute_result"
    }
   ],
   "source": [
    "squares"
   ]
  },
  {
   "cell_type": "code",
   "execution_count": 67,
   "id": "67719db4",
   "metadata": {},
   "outputs": [
    {
     "data": {
      "text/plain": [
       "{0: 0, 2: 4, 4: 16, 6: 36, 8: 64, 10: 100}"
      ]
     },
     "execution_count": 67,
     "metadata": {},
     "output_type": "execute_result"
    }
   ],
   "source": [
    "even_squares={x:x*x for x in range(11) if x%2==0}\n",
    "even_squares"
   ]
  },
  {
   "cell_type": "code",
   "execution_count": 68,
   "id": "e73e3323",
   "metadata": {},
   "outputs": [
    {
     "name": "stdout",
     "output_type": "stream",
     "text": [
      "my set contains {1, 2, 3, 4, 5, 6, 7, 8, 9, 10}\n",
      "new_set contains {64, 1, 4, 36, 100, 9, 16, 49, 81, 25}\n"
     ]
    }
   ],
   "source": [
    "my_set={1,2,3,4,5,6,7,8,9,10}\n",
    "new_set=set()\n",
    "for x in my_set:\n",
    "    new_set.add(x*x)\n",
    "    \n",
    "print(\"my set contains {}\".format(my_set))\n",
    "print(\"new_set contains {}\".format(new_set))"
   ]
  },
  {
   "cell_type": "code",
   "execution_count": null,
   "id": "a3915700",
   "metadata": {},
   "outputs": [],
   "source": []
  }
 ],
 "metadata": {
  "kernelspec": {
   "display_name": "Python 3 (ipykernel)",
   "language": "python",
   "name": "python3"
  },
  "language_info": {
   "codemirror_mode": {
    "name": "ipython",
    "version": 3
   },
   "file_extension": ".py",
   "mimetype": "text/x-python",
   "name": "python",
   "nbconvert_exporter": "python",
   "pygments_lexer": "ipython3",
   "version": "3.10.9"
  }
 },
 "nbformat": 4,
 "nbformat_minor": 5
}

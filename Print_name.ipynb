{
 "cells": [
  {
   "cell_type": "code",
   "execution_count": null,
   "id": "1741304b",
   "metadata": {},
   "outputs": [],
   "source": [
    "name=input(\"What is your Name?:\")\n"
   ]
  },
  {
   "cell_type": "code",
   "execution_count": 3,
   "id": "e01071e7",
   "metadata": {},
   "outputs": [
    {
     "name": "stdout",
     "output_type": "stream",
     "text": [
      "my name is Stephen Njiu\n"
     ]
    }
   ],
   "source": [
    "print(\"my name is \"+name)"
   ]
  },
  {
   "cell_type": "code",
   "execution_count": null,
   "id": "e178e80e",
   "metadata": {},
   "outputs": [],
   "source": []
  },
  {
   "cell_type": "code",
   "execution_count": null,
   "id": "c61a1714",
   "metadata": {},
   "outputs": [],
   "source": []
  },
  {
   "cell_type": "code",
   "execution_count": null,
   "id": "0b0a554c",
   "metadata": {},
   "outputs": [],
   "source": []
  }
 ],
 "metadata": {
  "kernelspec": {
   "display_name": "Python 3 (ipykernel)",
   "language": "python",
   "name": "python3"
  },
  "language_info": {
   "codemirror_mode": {
    "name": "ipython",
    "version": 3
   },
   "file_extension": ".py",
   "mimetype": "text/x-python",
   "name": "python",
   "nbconvert_exporter": "python",
   "pygments_lexer": "ipython3",
   "version": "3.10.9"
  }
 },
 "nbformat": 4,
 "nbformat_minor": 5
}

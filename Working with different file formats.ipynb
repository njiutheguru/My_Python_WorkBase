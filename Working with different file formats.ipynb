{
 "cells": [
  {
   "cell_type": "markdown",
   "id": "8e276131",
   "metadata": {},
   "source": [
    "# Reading from CSV Files"
   ]
  },
  {
   "cell_type": "code",
   "execution_count": 1,
   "id": "1c5f574a",
   "metadata": {},
   "outputs": [
    {
     "name": "stdout",
     "output_type": "stream",
     "text": [
      "['name', 'age', 'fav_hobby']\n",
      "['ben', '24', 'golf']\n",
      "['susan', '39', 'tennis']\n",
      "['mike', '25', 'hiking']\n",
      "['stephen', '22', 'coding']\n",
      "['julie', '33', 'swimming']\n"
     ]
    }
   ],
   "source": [
    "import csv\n",
    "with open('python.csv','r') as file:\n",
    "    reader=csv.reader(file)\n",
    "    for row in reader:\n",
    "        print(row)"
   ]
  },
  {
   "cell_type": "code",
   "execution_count": 2,
   "id": "db8390dd",
   "metadata": {},
   "outputs": [
    {
     "name": "stdout",
     "output_type": "stream",
     "text": [
      "ben is 24 years old\n",
      "mike is 25 years old\n",
      "stephen is 22 years old\n"
     ]
    }
   ],
   "source": [
    "FILE_PATH='python.csv'\n",
    "\n",
    "class hobby:\n",
    "    HAS_HEADERS=True\n",
    "    NAME_COL=0\n",
    "    AGE_COL=1\n",
    "    FAV_HOBBY_COL=2\n",
    "\n",
    "with open(FILE_PATH,'r') as file:\n",
    "    reader=csv.reader(file)\n",
    "    headers=[]\n",
    "    \n",
    "    if hobby.HAS_HEADERS:\n",
    "        headers=next(reader)\n",
    "        \n",
    "    for row in reader:\n",
    "        if row and len(row)>hobby.FAV_HOBBY_COL:\n",
    "            name=row[hobby.NAME_COL]\n",
    "            age = int(row[hobby.AGE_COL])\n",
    "            \n",
    "            if age>=20 and age<=30:\n",
    "                print('{} is {} years old'.format(name,age))"
   ]
  },
  {
   "cell_type": "code",
   "execution_count": 3,
   "id": "266d3281",
   "metadata": {},
   "outputs": [],
   "source": [
    "# Writing to csv files"
   ]
  },
  {
   "cell_type": "code",
   "execution_count": 4,
   "id": "72beb30a",
   "metadata": {},
   "outputs": [],
   "source": [
    "headers=['student_name','age','fav_subject']\n",
    "rows=[\n",
    "    ['Harry',20,'Maths'],\n",
    "    ['Kim',27,'English'],\n",
    "    ['Dave',36,'Biology']\n",
    "]\n",
    "\n",
    "with open('school.csv','w',newline='') as file:\n",
    "    writer=csv.writer(file)\n",
    "    writer.writerow(headers)\n",
    "    writer.writerows(rows)"
   ]
  },
  {
   "cell_type": "code",
   "execution_count": 5,
   "id": "2781e9dd",
   "metadata": {},
   "outputs": [],
   "source": [
    "mydict=[\n",
    "    {'region':'England','name':'Fruit Store', 'sales':1000},\n",
    "    {'region':'Scotland','name':'Electronics', 'sales':2000},\n",
    "    {'region':'Ireland','name':'card Store', 'sales':15000},\n",
    "    {'region':'America','name':'sports store', 'sales':11000},\n",
    "    {'region':'Kenya','name':'Cereal store', 'sales':55000}\n",
    "    \n",
    "]"
   ]
  },
  {
   "cell_type": "code",
   "execution_count": 6,
   "id": "05688198",
   "metadata": {
    "scrolled": true
   },
   "outputs": [],
   "source": [
    "fields=['region','name','sales']\n",
    "with open('shop.csv','w',newline='')as file:\n",
    "    writer=csv.DictWriter(file,fieldnames=fields)\n",
    "    writer.writeheader()\n",
    "    writer.writerows(mydict)"
   ]
  },
  {
   "cell_type": "code",
   "execution_count": null,
   "id": "8b84ab1d",
   "metadata": {},
   "outputs": [],
   "source": []
  },
  {
   "cell_type": "code",
   "execution_count": 7,
   "id": "2a073c73",
   "metadata": {},
   "outputs": [],
   "source": [
    "# Using PANDAS"
   ]
  },
  {
   "cell_type": "code",
   "execution_count": 8,
   "id": "6045e547",
   "metadata": {},
   "outputs": [],
   "source": [
    "import pandas as pd\n",
    "data=pd.read_csv('shop.csv')"
   ]
  },
  {
   "cell_type": "code",
   "execution_count": 9,
   "id": "bd876c99",
   "metadata": {},
   "outputs": [
    {
     "data": {
      "text/html": [
       "<div>\n",
       "<style scoped>\n",
       "    .dataframe tbody tr th:only-of-type {\n",
       "        vertical-align: middle;\n",
       "    }\n",
       "\n",
       "    .dataframe tbody tr th {\n",
       "        vertical-align: top;\n",
       "    }\n",
       "\n",
       "    .dataframe thead th {\n",
       "        text-align: right;\n",
       "    }\n",
       "</style>\n",
       "<table border=\"1\" class=\"dataframe\">\n",
       "  <thead>\n",
       "    <tr style=\"text-align: right;\">\n",
       "      <th></th>\n",
       "      <th>region</th>\n",
       "      <th>name</th>\n",
       "      <th>sales</th>\n",
       "    </tr>\n",
       "  </thead>\n",
       "  <tbody>\n",
       "    <tr>\n",
       "      <th>0</th>\n",
       "      <td>England</td>\n",
       "      <td>Fruit Store</td>\n",
       "      <td>1000</td>\n",
       "    </tr>\n",
       "    <tr>\n",
       "      <th>1</th>\n",
       "      <td>Scotland</td>\n",
       "      <td>Electronics</td>\n",
       "      <td>2000</td>\n",
       "    </tr>\n",
       "    <tr>\n",
       "      <th>2</th>\n",
       "      <td>Ireland</td>\n",
       "      <td>card Store</td>\n",
       "      <td>15000</td>\n",
       "    </tr>\n",
       "    <tr>\n",
       "      <th>3</th>\n",
       "      <td>America</td>\n",
       "      <td>sports store</td>\n",
       "      <td>11000</td>\n",
       "    </tr>\n",
       "    <tr>\n",
       "      <th>4</th>\n",
       "      <td>Kenya</td>\n",
       "      <td>Cereal store</td>\n",
       "      <td>55000</td>\n",
       "    </tr>\n",
       "  </tbody>\n",
       "</table>\n",
       "</div>"
      ],
      "text/plain": [
       "     region          name  sales\n",
       "0   England   Fruit Store   1000\n",
       "1  Scotland   Electronics   2000\n",
       "2   Ireland    card Store  15000\n",
       "3   America  sports store  11000\n",
       "4     Kenya  Cereal store  55000"
      ]
     },
     "execution_count": 9,
     "metadata": {},
     "output_type": "execute_result"
    }
   ],
   "source": [
    "data.head()"
   ]
  },
  {
   "cell_type": "code",
   "execution_count": 10,
   "id": "17dd3925",
   "metadata": {},
   "outputs": [
    {
     "data": {
      "text/plain": [
       "84000"
      ]
     },
     "execution_count": 10,
     "metadata": {},
     "output_type": "execute_result"
    }
   ],
   "source": [
    "data['sales'].sum()"
   ]
  },
  {
   "cell_type": "code",
   "execution_count": 11,
   "id": "098ff0d9",
   "metadata": {},
   "outputs": [],
   "source": [
    "writedata=pd.DataFrame([['James',24],['jane',52]],columns =['name','age'])"
   ]
  },
  {
   "cell_type": "code",
   "execution_count": 12,
   "id": "9514dded",
   "metadata": {},
   "outputs": [],
   "source": [
    "writedata.to_csv('people.csv')"
   ]
  },
  {
   "cell_type": "code",
   "execution_count": 13,
   "id": "82288ee5",
   "metadata": {},
   "outputs": [],
   "source": [
    "writedata=pd.read_csv('people.csv',usecols=['name','age'])"
   ]
  },
  {
   "cell_type": "code",
   "execution_count": 14,
   "id": "24d21332",
   "metadata": {},
   "outputs": [
    {
     "data": {
      "text/html": [
       "<div>\n",
       "<style scoped>\n",
       "    .dataframe tbody tr th:only-of-type {\n",
       "        vertical-align: middle;\n",
       "    }\n",
       "\n",
       "    .dataframe tbody tr th {\n",
       "        vertical-align: top;\n",
       "    }\n",
       "\n",
       "    .dataframe thead th {\n",
       "        text-align: right;\n",
       "    }\n",
       "</style>\n",
       "<table border=\"1\" class=\"dataframe\">\n",
       "  <thead>\n",
       "    <tr style=\"text-align: right;\">\n",
       "      <th></th>\n",
       "      <th>name</th>\n",
       "      <th>age</th>\n",
       "    </tr>\n",
       "  </thead>\n",
       "  <tbody>\n",
       "    <tr>\n",
       "      <th>0</th>\n",
       "      <td>James</td>\n",
       "      <td>24</td>\n",
       "    </tr>\n",
       "    <tr>\n",
       "      <th>1</th>\n",
       "      <td>jane</td>\n",
       "      <td>52</td>\n",
       "    </tr>\n",
       "  </tbody>\n",
       "</table>\n",
       "</div>"
      ],
      "text/plain": [
       "    name  age\n",
       "0  James   24\n",
       "1   jane   52"
      ]
     },
     "execution_count": 14,
     "metadata": {},
     "output_type": "execute_result"
    }
   ],
   "source": [
    "writedata.head()"
   ]
  },
  {
   "cell_type": "markdown",
   "id": "f2dd9f26",
   "metadata": {},
   "source": [
    "# Working with PDF Files"
   ]
  },
  {
   "cell_type": "code",
   "execution_count": 15,
   "id": "8307dd6c",
   "metadata": {},
   "outputs": [],
   "source": [
    "#!pip install PyPDF2 # check internet connection... "
   ]
  },
  {
   "cell_type": "code",
   "execution_count": 16,
   "id": "52ef3abd",
   "metadata": {},
   "outputs": [
    {
     "ename": "ModuleNotFoundError",
     "evalue": "No module named 'PyPDF2'",
     "output_type": "error",
     "traceback": [
      "\u001b[1;31m---------------------------------------------------------------------------\u001b[0m",
      "\u001b[1;31mModuleNotFoundError\u001b[0m                       Traceback (most recent call last)",
      "Cell \u001b[1;32mIn[16], line 1\u001b[0m\n\u001b[1;32m----> 1\u001b[0m \u001b[38;5;28;01mimport\u001b[39;00m \u001b[38;5;21;01mPyPDF2\u001b[39;00m\n\u001b[0;32m      3\u001b[0m pdf_file_obj\u001b[38;5;241m=\u001b[39m\u001b[38;5;28mopen\u001b[39m(\u001b[38;5;124m\"\u001b[39m\u001b[38;5;124mrandom.pdf\u001b[39m\u001b[38;5;124m\"\u001b[39m,\u001b[38;5;124m'\u001b[39m\u001b[38;5;124mrb\u001b[39m\u001b[38;5;124m'\u001b[39m)\n\u001b[0;32m      4\u001b[0m pdf_reader\u001b[38;5;241m=\u001b[39mPyPDF2\u001b[38;5;241m.\u001b[39mPdfFileReader(pdf_file_obj)\n",
      "\u001b[1;31mModuleNotFoundError\u001b[0m: No module named 'PyPDF2'"
     ]
    }
   ],
   "source": [
    "import PyPDF2\n",
    "\n",
    "pdf_file_obj=open(\"random.pdf\",'rb')\n",
    "pdf_reader=PyPDF2.PdfFileReader(pdf_file_obj)\n",
    "pageobj=pdfReader.getPage(0)\n",
    "\n",
    "print(pageobj.extractText())\n",
    "pdf_file_obj.close()"
   ]
  },
  {
   "cell_type": "code",
   "execution_count": null,
   "id": "cc6da73d",
   "metadata": {},
   "outputs": [],
   "source": []
  }
 ],
 "metadata": {
  "kernelspec": {
   "display_name": "Python 3 (ipykernel)",
   "language": "python",
   "name": "python3"
  },
  "language_info": {
   "codemirror_mode": {
    "name": "ipython",
    "version": 3
   },
   "file_extension": ".py",
   "mimetype": "text/x-python",
   "name": "python",
   "nbconvert_exporter": "python",
   "pygments_lexer": "ipython3",
   "version": "3.10.9"
  }
 },
 "nbformat": 4,
 "nbformat_minor": 5
}

{
 "cells": [
  {
   "cell_type": "code",
   "execution_count": 1,
   "id": "8f53472d",
   "metadata": {},
   "outputs": [],
   "source": [
    "# observing all builtin python errors "
   ]
  },
  {
   "cell_type": "code",
   "execution_count": 2,
   "id": "859067e0",
   "metadata": {},
   "outputs": [
    {
     "data": {
      "text/plain": [
       "['ArithmeticError',\n",
       " 'AssertionError',\n",
       " 'AttributeError',\n",
       " 'BaseException',\n",
       " 'BlockingIOError',\n",
       " 'BrokenPipeError',\n",
       " 'BufferError',\n",
       " 'BytesWarning',\n",
       " 'ChildProcessError',\n",
       " 'ConnectionAbortedError',\n",
       " 'ConnectionError',\n",
       " 'ConnectionRefusedError',\n",
       " 'ConnectionResetError',\n",
       " 'DeprecationWarning',\n",
       " 'EOFError',\n",
       " 'Ellipsis',\n",
       " 'EncodingWarning',\n",
       " 'EnvironmentError',\n",
       " 'Exception',\n",
       " 'False',\n",
       " 'FileExistsError',\n",
       " 'FileNotFoundError',\n",
       " 'FloatingPointError',\n",
       " 'FutureWarning',\n",
       " 'GeneratorExit',\n",
       " 'IOError',\n",
       " 'ImportError',\n",
       " 'ImportWarning',\n",
       " 'IndentationError',\n",
       " 'IndexError',\n",
       " 'InterruptedError',\n",
       " 'IsADirectoryError',\n",
       " 'KeyError',\n",
       " 'KeyboardInterrupt',\n",
       " 'LookupError',\n",
       " 'MemoryError',\n",
       " 'ModuleNotFoundError',\n",
       " 'NameError',\n",
       " 'None',\n",
       " 'NotADirectoryError',\n",
       " 'NotImplemented',\n",
       " 'NotImplementedError',\n",
       " 'OSError',\n",
       " 'OverflowError',\n",
       " 'PendingDeprecationWarning',\n",
       " 'PermissionError',\n",
       " 'ProcessLookupError',\n",
       " 'RecursionError',\n",
       " 'ReferenceError',\n",
       " 'ResourceWarning',\n",
       " 'RuntimeError',\n",
       " 'RuntimeWarning',\n",
       " 'StopAsyncIteration',\n",
       " 'StopIteration',\n",
       " 'SyntaxError',\n",
       " 'SyntaxWarning',\n",
       " 'SystemError',\n",
       " 'SystemExit',\n",
       " 'TabError',\n",
       " 'TimeoutError',\n",
       " 'True',\n",
       " 'TypeError',\n",
       " 'UnboundLocalError',\n",
       " 'UnicodeDecodeError',\n",
       " 'UnicodeEncodeError',\n",
       " 'UnicodeError',\n",
       " 'UnicodeTranslateError',\n",
       " 'UnicodeWarning',\n",
       " 'UserWarning',\n",
       " 'ValueError',\n",
       " 'Warning',\n",
       " 'WindowsError',\n",
       " 'ZeroDivisionError',\n",
       " '__IPYTHON__',\n",
       " '__build_class__',\n",
       " '__debug__',\n",
       " '__doc__',\n",
       " '__import__',\n",
       " '__loader__',\n",
       " '__name__',\n",
       " '__package__',\n",
       " '__spec__',\n",
       " 'abs',\n",
       " 'aiter',\n",
       " 'all',\n",
       " 'anext',\n",
       " 'any',\n",
       " 'ascii',\n",
       " 'bin',\n",
       " 'bool',\n",
       " 'breakpoint',\n",
       " 'bytearray',\n",
       " 'bytes',\n",
       " 'callable',\n",
       " 'chr',\n",
       " 'classmethod',\n",
       " 'compile',\n",
       " 'complex',\n",
       " 'copyright',\n",
       " 'credits',\n",
       " 'delattr',\n",
       " 'dict',\n",
       " 'dir',\n",
       " 'display',\n",
       " 'divmod',\n",
       " 'enumerate',\n",
       " 'eval',\n",
       " 'exec',\n",
       " 'execfile',\n",
       " 'filter',\n",
       " 'float',\n",
       " 'format',\n",
       " 'frozenset',\n",
       " 'get_ipython',\n",
       " 'getattr',\n",
       " 'globals',\n",
       " 'hasattr',\n",
       " 'hash',\n",
       " 'help',\n",
       " 'hex',\n",
       " 'id',\n",
       " 'input',\n",
       " 'int',\n",
       " 'isinstance',\n",
       " 'issubclass',\n",
       " 'iter',\n",
       " 'len',\n",
       " 'license',\n",
       " 'list',\n",
       " 'locals',\n",
       " 'map',\n",
       " 'max',\n",
       " 'memoryview',\n",
       " 'min',\n",
       " 'next',\n",
       " 'object',\n",
       " 'oct',\n",
       " 'open',\n",
       " 'ord',\n",
       " 'pow',\n",
       " 'print',\n",
       " 'property',\n",
       " 'range',\n",
       " 'repr',\n",
       " 'reversed',\n",
       " 'round',\n",
       " 'runfile',\n",
       " 'set',\n",
       " 'setattr',\n",
       " 'slice',\n",
       " 'sorted',\n",
       " 'staticmethod',\n",
       " 'str',\n",
       " 'sum',\n",
       " 'super',\n",
       " 'tuple',\n",
       " 'type',\n",
       " 'vars',\n",
       " 'zip']"
      ]
     },
     "execution_count": 2,
     "metadata": {},
     "output_type": "execute_result"
    }
   ],
   "source": [
    "dir(locals()['__builtins__'])"
   ]
  },
  {
   "cell_type": "code",
   "execution_count": null,
   "id": "fb07f1c8",
   "metadata": {},
   "outputs": [],
   "source": []
  },
  {
   "cell_type": "code",
   "execution_count": 3,
   "id": "9b3e48f6",
   "metadata": {},
   "outputs": [],
   "source": [
    "# The three keywords used are the try, except, and the else keyword...\n"
   ]
  },
  {
   "cell_type": "code",
   "execution_count": 4,
   "id": "665890b6",
   "metadata": {},
   "outputs": [],
   "source": [
    "# finally keyword and the resulting block gets printed no matter what..."
   ]
  },
  {
   "cell_type": "code",
   "execution_count": 5,
   "id": "a50dbff9",
   "metadata": {},
   "outputs": [],
   "source": [
    "# Raising errors and user-defined errors...\n",
    "# built_in_ type of errors are used but redefined.."
   ]
  },
  {
   "cell_type": "code",
   "execution_count": 6,
   "id": "904d1f0a",
   "metadata": {},
   "outputs": [
    {
     "ename": "TypeError",
     "evalue": "sorry, only integers are allowed!",
     "output_type": "error",
     "traceback": [
      "\u001b[1;31m---------------------------------------------------------------------------\u001b[0m",
      "\u001b[1;31mTypeError\u001b[0m                                 Traceback (most recent call last)",
      "Cell \u001b[1;32mIn[6], line 4\u001b[0m\n\u001b[0;32m      1\u001b[0m age\u001b[38;5;241m=\u001b[39m\u001b[38;5;124m'\u001b[39m\u001b[38;5;124mthirty\u001b[39m\u001b[38;5;124m'\u001b[39m\n\u001b[0;32m      3\u001b[0m \u001b[38;5;28;01mif\u001b[39;00m \u001b[38;5;129;01mnot\u001b[39;00m \u001b[38;5;28mtype\u001b[39m(age) \u001b[38;5;129;01mis\u001b[39;00m \u001b[38;5;28mint\u001b[39m:\n\u001b[1;32m----> 4\u001b[0m     \u001b[38;5;28;01mraise\u001b[39;00m \u001b[38;5;167;01mTypeError\u001b[39;00m(\u001b[38;5;124m\"\u001b[39m\u001b[38;5;124msorry, only integers are allowed!\u001b[39m\u001b[38;5;124m\"\u001b[39m)\n",
      "\u001b[1;31mTypeError\u001b[0m: sorry, only integers are allowed!"
     ]
    }
   ],
   "source": [
    "age='thirty'\n",
    "\n",
    "if not type(age) is int:\n",
    "    raise TypeError(\"sorry, only integers are allowed!\")"
   ]
  },
  {
   "cell_type": "code",
   "execution_count": 8,
   "id": "090c1573",
   "metadata": {},
   "outputs": [],
   "source": [
    "def play_again():\n",
    "    replay=input(\"Do you want to play again?: \")\n",
    "    \n",
    "    if replay.lower() not in ['yes','no']:\n",
    "        raise ValueError(\"Enter yes or no only\")"
   ]
  },
  {
   "cell_type": "code",
   "execution_count": 11,
   "id": "d1d353b4",
   "metadata": {},
   "outputs": [
    {
     "name": "stdout",
     "output_type": "stream",
     "text": [
      "Do you want to play again?: yes\n"
     ]
    }
   ],
   "source": [
    "play_again()"
   ]
  },
  {
   "cell_type": "code",
   "execution_count": 17,
   "id": "fd4724e9",
   "metadata": {},
   "outputs": [
    {
     "name": "stdout",
     "output_type": "stream",
     "text": [
      "Do you want to play again?: yes please\n",
      "You should only enter yes or no in the input box, Please try again..\n",
      "Do you want to play again?: no please\n",
      "You should only enter yes or no in the input box, Please try again..\n",
      "Do you want to play again?: no please\n",
      "You should only enter yes or no in the input box, Please try again..\n",
      "Do you want to play again?: ok yes\n",
      "You should only enter yes or no in the input box, Please try again..\n",
      "Do you want to play again?: yes\n",
      "correct input\n"
     ]
    }
   ],
   "source": [
    "while True:\n",
    "    \n",
    "    try:\n",
    "        play_again()\n",
    "    except ValueError:\n",
    "        print(\"You should only enter yes or no in the input box, Please try again..\")\n",
    "        continue\n",
    "    else:\n",
    "        print(\"correct input\")\n",
    "        break"
   ]
  },
  {
   "cell_type": "code",
   "execution_count": null,
   "id": "36019008",
   "metadata": {},
   "outputs": [],
   "source": []
  },
  {
   "cell_type": "code",
   "execution_count": 18,
   "id": "b6f92ade",
   "metadata": {},
   "outputs": [],
   "source": [
    "class exception(Exception):\n",
    "    def __init__(self,message):\n",
    "        self.message=message"
   ]
  },
  {
   "cell_type": "code",
   "execution_count": 20,
   "id": "8cda0865",
   "metadata": {},
   "outputs": [
    {
     "name": "stdout",
     "output_type": "stream",
     "text": [
      "Your marks are 50\n"
     ]
    }
   ],
   "source": [
    "marks=50\n",
    "print('Your marks are '+ str(marks))\n",
    "\n",
    "if marks < 36:\n",
    "    raise exception(\"You didn't get enough marks!\")"
   ]
  },
  {
   "cell_type": "code",
   "execution_count": 21,
   "id": "95a96a90",
   "metadata": {},
   "outputs": [],
   "source": [
    "# Putting all of the above in a real world problem.."
   ]
  },
  {
   "cell_type": "code",
   "execution_count": 25,
   "id": "5bc5f8fe",
   "metadata": {},
   "outputs": [
    {
     "name": "stdout",
     "output_type": "stream",
     "text": [
      "How may marks did you get?: rt\n"
     ]
    },
    {
     "ename": "ValueError",
     "evalue": "invalid literal for int() with base 10: 'rt'",
     "output_type": "error",
     "traceback": [
      "\u001b[1;31m---------------------------------------------------------------------------\u001b[0m",
      "\u001b[1;31mValueError\u001b[0m                                Traceback (most recent call last)",
      "Cell \u001b[1;32mIn[25], line 2\u001b[0m\n\u001b[0;32m      1\u001b[0m \u001b[38;5;28;01mtry\u001b[39;00m:\n\u001b[1;32m----> 2\u001b[0m     marks\u001b[38;5;241m=\u001b[39m\u001b[38;5;28;43mint\u001b[39;49m\u001b[43m(\u001b[49m\u001b[38;5;28;43minput\u001b[39;49m\u001b[43m(\u001b[49m\u001b[38;5;124;43m\"\u001b[39;49m\u001b[38;5;124;43mHow may marks did you get?: \u001b[39;49m\u001b[38;5;124;43m\"\u001b[39;49m\u001b[43m)\u001b[49m\u001b[43m)\u001b[49m\n\u001b[0;32m      3\u001b[0m     \u001b[38;5;28mprint\u001b[39m(\u001b[38;5;124m\"\u001b[39m\u001b[38;5;124mYou scored \u001b[39m\u001b[38;5;124m\"\u001b[39m\u001b[38;5;241m+\u001b[39m\u001b[38;5;28mstr\u001b[39m(marks)\u001b[38;5;241m+\u001b[39m \u001b[38;5;124m\"\u001b[39m\u001b[38;5;124m marks\u001b[39m\u001b[38;5;124m\"\u001b[39m)\n\u001b[0;32m      5\u001b[0m     \u001b[38;5;28;01mif\u001b[39;00m marks \u001b[38;5;241m<\u001b[39m \u001b[38;5;241m36\u001b[39m \u001b[38;5;129;01mor\u001b[39;00m marks \u001b[38;5;129;01mis\u001b[39;00m \u001b[38;5;129;01mnot\u001b[39;00m \u001b[38;5;28mint\u001b[39m:\n",
      "\u001b[1;31mValueError\u001b[0m: invalid literal for int() with base 10: 'rt'"
     ]
    }
   ],
   "source": [
    "try:\n",
    "    marks=int(input(\"How may marks did you get?: \"))\n",
    "    print(\"You scored \"+str(marks)+ \" marks\")\n",
    "    \n",
    "    if marks < 36:\n",
    "        raise exception(\" YOu didn't get enough marks!\")\n",
    "except exception as ex:\n",
    "    print(ex.message)\n",
    "    \n",
    "else:\n",
    "    print(\"Congratulations! You passed the exam..\")"
   ]
  },
  {
   "cell_type": "code",
   "execution_count": 26,
   "id": "6700b16a",
   "metadata": {},
   "outputs": [],
   "source": [
    "# for smart python code visit \n",
    "# peps.python.org/pep-008"
   ]
  },
  {
   "cell_type": "markdown",
   "id": "4ad2a053",
   "metadata": {},
   "source": [
    "## Running tests with the  Unittest library"
   ]
  },
  {
   "cell_type": "code",
   "execution_count": 27,
   "id": "1d844e45",
   "metadata": {},
   "outputs": [],
   "source": [
    "import math"
   ]
  },
  {
   "cell_type": "code",
   "execution_count": 39,
   "id": "44d68599",
   "metadata": {},
   "outputs": [],
   "source": [
    "def square_root(num):\n",
    "    return math.sqrt(num)-1"
   ]
  },
  {
   "cell_type": "code",
   "execution_count": 40,
   "id": "e1a57436",
   "metadata": {},
   "outputs": [
    {
     "data": {
      "text/plain": [
       "4.0"
      ]
     },
     "execution_count": 40,
     "metadata": {},
     "output_type": "execute_result"
    }
   ],
   "source": [
    "square_root(25)"
   ]
  },
  {
   "cell_type": "code",
   "execution_count": 41,
   "id": "dd549147",
   "metadata": {},
   "outputs": [
    {
     "name": "stdout",
     "output_type": "stream",
     "text": [
      "The square root of 49 is  5.855654600401044\n"
     ]
    }
   ],
   "source": [
    "print(\"The square root of 49 is \", square_root(47))"
   ]
  },
  {
   "cell_type": "code",
   "execution_count": 42,
   "id": "9b28e1e9",
   "metadata": {},
   "outputs": [
    {
     "ename": "TypeError",
     "evalue": "must be real number, not str",
     "output_type": "error",
     "traceback": [
      "\u001b[1;31m---------------------------------------------------------------------------\u001b[0m",
      "\u001b[1;31mTypeError\u001b[0m                                 Traceback (most recent call last)",
      "Cell \u001b[1;32mIn[42], line 1\u001b[0m\n\u001b[1;32m----> 1\u001b[0m \u001b[38;5;28mprint\u001b[39m(\u001b[38;5;124m\"\u001b[39m\u001b[38;5;124mthe square root of 5 is \u001b[39m\u001b[38;5;124m\"\u001b[39m,\u001b[43msquare_root\u001b[49m\u001b[43m(\u001b[49m\u001b[38;5;124;43m'\u001b[39;49m\u001b[38;5;124;43mfive\u001b[39;49m\u001b[38;5;124;43m'\u001b[39;49m\u001b[43m)\u001b[49m)\n",
      "Cell \u001b[1;32mIn[39], line 2\u001b[0m, in \u001b[0;36msquare_root\u001b[1;34m(num)\u001b[0m\n\u001b[0;32m      1\u001b[0m \u001b[38;5;28;01mdef\u001b[39;00m \u001b[38;5;21msquare_root\u001b[39m(num):\n\u001b[1;32m----> 2\u001b[0m     \u001b[38;5;28;01mreturn\u001b[39;00m \u001b[43mmath\u001b[49m\u001b[38;5;241;43m.\u001b[39;49m\u001b[43msqrt\u001b[49m\u001b[43m(\u001b[49m\u001b[43mnum\u001b[49m\u001b[43m)\u001b[49m\u001b[38;5;241m-\u001b[39m\u001b[38;5;241m1\u001b[39m\n",
      "\u001b[1;31mTypeError\u001b[0m: must be real number, not str"
     ]
    }
   ],
   "source": [
    "print(\"the square root of 5 is \",square_root('five'))"
   ]
  },
  {
   "cell_type": "code",
   "execution_count": null,
   "id": "b7f63b5c",
   "metadata": {},
   "outputs": [],
   "source": []
  },
  {
   "cell_type": "code",
   "execution_count": 43,
   "id": "0a75a59e",
   "metadata": {},
   "outputs": [
    {
     "data": {
      "text/plain": [
       "False"
      ]
     },
     "execution_count": 43,
     "metadata": {},
     "output_type": "execute_result"
    }
   ],
   "source": [
    "square_root(100)==10"
   ]
  },
  {
   "cell_type": "code",
   "execution_count": 44,
   "id": "de64a168",
   "metadata": {},
   "outputs": [
    {
     "ename": "AssertionError",
     "evalue": " the result should be 10",
     "output_type": "error",
     "traceback": [
      "\u001b[1;31m---------------------------------------------------------------------------\u001b[0m",
      "\u001b[1;31mAssertionError\u001b[0m                            Traceback (most recent call last)",
      "Cell \u001b[1;32mIn[44], line 1\u001b[0m\n\u001b[1;32m----> 1\u001b[0m \u001b[38;5;28;01massert\u001b[39;00m square_root(\u001b[38;5;241m100\u001b[39m)\u001b[38;5;241m==\u001b[39m\u001b[38;5;241m10\u001b[39m, \u001b[38;5;124m\"\u001b[39m\u001b[38;5;124m the result should be 10\u001b[39m\u001b[38;5;124m\"\u001b[39m\n",
      "\u001b[1;31mAssertionError\u001b[0m:  the result should be 10"
     ]
    }
   ],
   "source": [
    "assert square_root(100)==10, \" the result should be 10\""
   ]
  },
  {
   "cell_type": "code",
   "execution_count": 45,
   "id": "7fefcb28",
   "metadata": {},
   "outputs": [
    {
     "ename": "AssertionError",
     "evalue": "The result should be a 5",
     "output_type": "error",
     "traceback": [
      "\u001b[1;31m---------------------------------------------------------------------------\u001b[0m",
      "\u001b[1;31mAssertionError\u001b[0m                            Traceback (most recent call last)",
      "Cell \u001b[1;32mIn[45], line 1\u001b[0m\n\u001b[1;32m----> 1\u001b[0m \u001b[38;5;28;01massert\u001b[39;00m square_root(\u001b[38;5;241m25\u001b[39m)\u001b[38;5;241m==\u001b[39m\u001b[38;5;241m5\u001b[39m, \u001b[38;5;124m'\u001b[39m\u001b[38;5;124mThe result should be a 5\u001b[39m\u001b[38;5;124m'\u001b[39m\n",
      "\u001b[1;31mAssertionError\u001b[0m: The result should be a 5"
     ]
    }
   ],
   "source": [
    "assert square_root(25)==5, 'The result should be a 5'"
   ]
  },
  {
   "cell_type": "code",
   "execution_count": 46,
   "id": "366c64ab",
   "metadata": {},
   "outputs": [],
   "source": [
    "def test_sqrt():\n",
    "    assert square_root(64)==8, \" he result should be 8\"\n",
    "    assert square_root(81)==9, \" he result should be 9\"\n",
    "    assert square_root(100)==10, \" he result should be 10\""
   ]
  },
  {
   "cell_type": "code",
   "execution_count": 47,
   "id": "6faa4e61",
   "metadata": {},
   "outputs": [
    {
     "ename": "AssertionError",
     "evalue": " he result should be 8",
     "output_type": "error",
     "traceback": [
      "\u001b[1;31m---------------------------------------------------------------------------\u001b[0m",
      "\u001b[1;31mAssertionError\u001b[0m                            Traceback (most recent call last)",
      "Cell \u001b[1;32mIn[47], line 2\u001b[0m\n\u001b[0;32m      1\u001b[0m \u001b[38;5;28;01mif\u001b[39;00m \u001b[38;5;18m__name__\u001b[39m \u001b[38;5;241m==\u001b[39m\u001b[38;5;124m'\u001b[39m\u001b[38;5;124m__main__\u001b[39m\u001b[38;5;124m'\u001b[39m:\n\u001b[1;32m----> 2\u001b[0m     \u001b[43mtest_sqrt\u001b[49m\u001b[43m(\u001b[49m\u001b[43m)\u001b[49m\n\u001b[0;32m      4\u001b[0m     \u001b[38;5;28mprint\u001b[39m(\u001b[38;5;124m\"\u001b[39m\u001b[38;5;124mEverything passed!\u001b[39m\u001b[38;5;124m\"\u001b[39m)\n",
      "Cell \u001b[1;32mIn[46], line 2\u001b[0m, in \u001b[0;36mtest_sqrt\u001b[1;34m()\u001b[0m\n\u001b[0;32m      1\u001b[0m \u001b[38;5;28;01mdef\u001b[39;00m \u001b[38;5;21mtest_sqrt\u001b[39m():\n\u001b[1;32m----> 2\u001b[0m     \u001b[38;5;28;01massert\u001b[39;00m square_root(\u001b[38;5;241m64\u001b[39m)\u001b[38;5;241m==\u001b[39m\u001b[38;5;241m8\u001b[39m, \u001b[38;5;124m\"\u001b[39m\u001b[38;5;124m he result should be 8\u001b[39m\u001b[38;5;124m\"\u001b[39m\n\u001b[0;32m      3\u001b[0m     \u001b[38;5;28;01massert\u001b[39;00m square_root(\u001b[38;5;241m81\u001b[39m)\u001b[38;5;241m==\u001b[39m\u001b[38;5;241m9\u001b[39m, \u001b[38;5;124m\"\u001b[39m\u001b[38;5;124m he result should be 9\u001b[39m\u001b[38;5;124m\"\u001b[39m\n\u001b[0;32m      4\u001b[0m     \u001b[38;5;28;01massert\u001b[39;00m square_root(\u001b[38;5;241m100\u001b[39m)\u001b[38;5;241m==\u001b[39m\u001b[38;5;241m10\u001b[39m, \u001b[38;5;124m\"\u001b[39m\u001b[38;5;124m he result should be 10\u001b[39m\u001b[38;5;124m\"\u001b[39m\n",
      "\u001b[1;31mAssertionError\u001b[0m:  he result should be 8"
     ]
    }
   ],
   "source": [
    "if __name__ =='__main__':\n",
    "    test_sqrt()\n",
    "    \n",
    "    print(\"Everything passed!\")"
   ]
  },
  {
   "cell_type": "code",
   "execution_count": 48,
   "id": "3fe8f46b",
   "metadata": {},
   "outputs": [],
   "source": [
    "# Introducing Test Runners ---Unittest library.."
   ]
  },
  {
   "cell_type": "code",
   "execution_count": 49,
   "id": "bef303b1",
   "metadata": {},
   "outputs": [],
   "source": [
    "# import unittest\n"
   ]
  },
  {
   "cell_type": "code",
   "execution_count": null,
   "id": "1e4a794b",
   "metadata": {},
   "outputs": [],
   "source": [
    "# if __name__=='__main__':\n",
    "#     unittest.main()"
   ]
  }
 ],
 "metadata": {
  "kernelspec": {
   "display_name": "Python 3 (ipykernel)",
   "language": "python",
   "name": "python3"
  },
  "language_info": {
   "codemirror_mode": {
    "name": "ipython",
    "version": 3
   },
   "file_extension": ".py",
   "mimetype": "text/x-python",
   "name": "python",
   "nbconvert_exporter": "python",
   "pygments_lexer": "ipython3",
   "version": "3.10.9"
  }
 },
 "nbformat": 4,
 "nbformat_minor": 5
}

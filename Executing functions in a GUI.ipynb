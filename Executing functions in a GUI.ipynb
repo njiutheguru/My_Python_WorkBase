{
 "cells": [
  {
   "cell_type": "code",
   "execution_count": 1,
   "id": "b41d0dbf",
   "metadata": {},
   "outputs": [],
   "source": [
    "from tkinter import *"
   ]
  },
  {
   "cell_type": "code",
   "execution_count": 3,
   "id": "cfcffcc3",
   "metadata": {},
   "outputs": [],
   "source": [
    "from tkinter import messagebox\n",
    "root=Tk()\n",
    "\n",
    "root.geometry('200x200')\n",
    "\n",
    "def showMsg():\n",
    "    messagebox.showinfo('Message','Nicely Clicked!')\n",
    "\n",
    "button=Button(root,text=\"click\",command = showMsg)\n",
    "button.pack()\n",
    "\n",
    "root.mainloop()"
   ]
  },
  {
   "cell_type": "code",
   "execution_count": 4,
   "id": "5a29de27",
   "metadata": {},
   "outputs": [],
   "source": [
    "# Creating a counter application.."
   ]
  },
  {
   "cell_type": "code",
   "execution_count": 9,
   "id": "a0a58234",
   "metadata": {},
   "outputs": [],
   "source": [
    "from tkinter import *\n",
    "root=Tk()\n",
    "root.geometry('200x100')\n",
    "\n",
    "text_Input=StringVar()\n",
    "total='0'\n",
    "def btnclick():\n",
    "    global total\n",
    "    total=int(total)+1\n",
    "    text_Input.set(str(total))\n",
    "\n",
    "txtDisplay= Entry(root,justify ='right',textvariable=text_Input).pack()  \n",
    "counter=Button(root,text='count',command=btnclick).pack()\n",
    "\n",
    "root.mainloop()"
   ]
  },
  {
   "cell_type": "code",
   "execution_count": null,
   "id": "40e46442",
   "metadata": {},
   "outputs": [],
   "source": []
  }
 ],
 "metadata": {
  "kernelspec": {
   "display_name": "Python 3 (ipykernel)",
   "language": "python",
   "name": "python3"
  },
  "language_info": {
   "codemirror_mode": {
    "name": "ipython",
    "version": 3
   },
   "file_extension": ".py",
   "mimetype": "text/x-python",
   "name": "python",
   "nbconvert_exporter": "python",
   "pygments_lexer": "ipython3",
   "version": "3.10.9"
  }
 },
 "nbformat": 4,
 "nbformat_minor": 5
}
